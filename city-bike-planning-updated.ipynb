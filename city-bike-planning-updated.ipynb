{
 "cells": [
  {
   "cell_type": "markdown",
   "id": "bb332e31-6e9d-44b6-849e-5400e1337701",
   "metadata": {},
   "source": [
    "<center><img src=https://www.toronto.ca/wp-content/uploads/2023/10/9744-Cycling-Network-graphic-2023-10-31-1024x338.png /></center>"
   ]
  },
  {
   "attachments": {},
   "cell_type": "markdown",
   "id": "a9652a98-beaf-49f3-8cfd-5f167542f2fa",
   "metadata": {},
   "source": [
    "<center><h1>City Bike Planning</h1></center>\n",
    "<center>Collaborators: Ankith Bachhu, Shaunak Roy, Dominick Cardone, Daniel Lu</center>"
   ]
  },
  {
   "cell_type": "markdown",
   "id": "49b7659e-fa41-4227-8d73-6636668087ff",
   "metadata": {},
   "source": [
    "## Table of Contents\n",
    "1. [Introduction](#Introduction) <br> \n",
    "2. [Part 1: Data Collection](#Part-1:-Data-Collection) <br>\n",
    "3. [Part 2: Data Cleaning & Exploratory Analysis](#Part-2:-Data-Cleaning-&-Exploratory-Analysis) <br>\n",
    "4. [Part 3: Model Training and Testing](#Part-3:-Model-training-and-testing) <br>\n",
    "5. [Part 4: Interpretation of Results](#Part-4:-Interpretation-of-Results) <br>\n",
    "6. [Conclusion](#Conclusion) <br>\n",
    "7. [References](#References)"
   ]
  },
  {
   "cell_type": "markdown",
   "id": "7ce6d023-0784-4da6-b536-fb026ccf56a7",
   "metadata": {},
   "source": [
    "## Introduction\n",
    "The purpose of this tutorial is to walk you through the data science lifecycle, introducing you to many different data science concepts. The data science lifecycle goes as follows: \n",
    "1. Data collection\n",
    "3. Data processing\n",
    "4. Exploratory analysis and Data visualization\n",
    "5. Model analysis and testing\n",
    "6. Interpretation of results\n",
    "\n",
    "The whole purpose of the data science lifecycle is to identify trends or patterns, investigate or answer a question, or solve a problem. In this tutorial, we will be looking to answer the question: SOMETHING SOMETHING SOMETHING. By coming up with a answer, we will be able to SOMETHING SOMETHING SOMETHING. \n",
    "\n",
    "**IMPORTANT** \n",
    "<br>For this tutorial there may be some key terms you need to be familiar with:\n",
    "- Observation: Refers to a row...\n",
    "**May not need this section, if there are no other key terms, cuz I can refer to observations as just bike rides instead**\n",
    "\n",
    "**We will dive into the purpose behind each step as we continue on deeper later, and then we talk about the importance of this tutorial in terms of city bike planning, maybe something related to enviromental friendly etc.**"
   ]
  },
  {
   "cell_type": "markdown",
   "id": "28765325-ece6-416e-ae41-2c271f9ca181",
   "metadata": {},
   "source": [
    "## Part 1: Data Collection\n",
    "In order to reach our end goal and finding OUR GOAL FOR QUESTION OR PROBLEM OR SOMETHING SOMETHING, we must first begin by collecting the data necessary to answer our question. It is important to find the appropriate dataset for your situation, as later on, your machine learning model is as good as the data you feed into it. And since your machine learning model is the tool that will be used to find the answer to your question, then essentially your answer is reliant on the dataset you use. Therefore, it is important to collect the appropriate dataset.\n",
    "\n",
    "Usually, a company may have to conduct their own experiments or studies to collect the necessary data they need. However, oftentimes, these tasks are already done by other companies, and avaialble to use for the public. For our tutorial, we will be using a dataset provided by Capital Bike Share.\n",
    "\n",
    "**MAYBE talk about the creidbilty behind Capital Bike Share a little bit.**\n"
   ]
  },
  {
   "cell_type": "markdown",
   "id": "0f95f31a-4511-4863-b119-8879f446e149",
   "metadata": {},
   "source": [
    "<center><img src=\"https://www.jotform.com/blog/wp-content/uploads/2019/10/Quantitative-data-collection-methods-1-700x545.png\"></center>"
   ]
  },
  {
   "cell_type": "markdown",
   "id": "47eb4cc0-fc02-4da3-91d1-089d5eadb063",
   "metadata": {},
   "source": [
    "### Import Python Libraries\n",
    "To begin this tutorial, we first need to import the necessary Python libraries (as shown below), which will be used for this tutorial. You should use Jupyter Notebook, as most of the code provided is run in Jupyter Notebook. Jupyter Notebook is also widely used by data scientists, as it allows us to better visualize our data and other analysis. We will dive more in detail about the use of each of these libraries as we encounter and use each one."
   ]
  },
  {
   "cell_type": "code",
   "execution_count": 1,
   "id": "8014ae04",
   "metadata": {},
   "outputs": [],
   "source": [
    "# Import necessary libraries\n",
    "import numpy as np\n",
    "import pandas as pd\n",
    "import matplotlib.pyplot as plt\n",
    "from datetime import datetime as dt\n",
    "import seaborn as sns\n",
    "\n",
    "# Filter out the warnings\n",
    "import warnings\n",
    "warnings.filterwarnings(\"ignore\")"
   ]
  },
  {
   "cell_type": "markdown",
   "id": "1f648c25-6a7b-4fcf-a6bc-671067f97957",
   "metadata": {},
   "source": [
    "### Download and import the data\n",
    "Navigate to https://s3.amazonaws.com/capitalbikeshare-data/index.html and download any of the zip files. Extract the csv file from the zip file, and **make sure you move it to the same folder** as the one in which you are running your python program or Jupyter Notebook. For the purpose of this tutorial, it would be helpful to download the same zip file we did, if you want to compare your results with the tutorial's."
   ]
  },
  {
   "cell_type": "code",
   "execution_count": 23,
   "id": "ff66f00e",
   "metadata": {},
   "outputs": [],
   "source": [
    "# Read in the csv file\n",
    "df = pd.read_csv(r\"202402-capitalbikeshare-tripdata.csv\")"
   ]
  },
  {
   "cell_type": "markdown",
   "id": "7289fa87-cda2-497c-a32c-9e32740fbb5c",
   "metadata": {},
   "source": [
    "If you downloaded the same csv file, run the code below, and compare your results, it should be the same."
   ]
  },
  {
   "cell_type": "code",
   "execution_count": 24,
   "id": "ed34fd71",
   "metadata": {},
   "outputs": [
    {
     "data": {
      "text/html": [
       "<div>\n",
       "<style scoped>\n",
       "    .dataframe tbody tr th:only-of-type {\n",
       "        vertical-align: middle;\n",
       "    }\n",
       "\n",
       "    .dataframe tbody tr th {\n",
       "        vertical-align: top;\n",
       "    }\n",
       "\n",
       "    .dataframe thead th {\n",
       "        text-align: right;\n",
       "    }\n",
       "</style>\n",
       "<table border=\"1\" class=\"dataframe\">\n",
       "  <thead>\n",
       "    <tr style=\"text-align: right;\">\n",
       "      <th></th>\n",
       "      <th>ride_id</th>\n",
       "      <th>rideable_type</th>\n",
       "      <th>started_at</th>\n",
       "      <th>ended_at</th>\n",
       "      <th>start_station_name</th>\n",
       "      <th>start_station_id</th>\n",
       "      <th>end_station_name</th>\n",
       "      <th>end_station_id</th>\n",
       "      <th>start_lat</th>\n",
       "      <th>start_lng</th>\n",
       "      <th>end_lat</th>\n",
       "      <th>end_lng</th>\n",
       "      <th>member_casual</th>\n",
       "    </tr>\n",
       "  </thead>\n",
       "  <tbody>\n",
       "    <tr>\n",
       "      <th>0</th>\n",
       "      <td>24DBACC298E33BF6</td>\n",
       "      <td>electric_bike</td>\n",
       "      <td>2024-02-01 21:18:50</td>\n",
       "      <td>2024-02-01 21:27:36</td>\n",
       "      <td>Eckington Pl &amp; Q St NE</td>\n",
       "      <td>31505.0</td>\n",
       "      <td>5th &amp; K St NW</td>\n",
       "      <td>31600.0</td>\n",
       "      <td>38.910893</td>\n",
       "      <td>-77.005023</td>\n",
       "      <td>38.90304</td>\n",
       "      <td>-77.019027</td>\n",
       "      <td>member</td>\n",
       "    </tr>\n",
       "    <tr>\n",
       "      <th>1</th>\n",
       "      <td>FE1067800A18BC56</td>\n",
       "      <td>electric_bike</td>\n",
       "      <td>2024-02-06 17:15:33</td>\n",
       "      <td>2024-02-06 17:30:33</td>\n",
       "      <td>4th &amp; C St SW</td>\n",
       "      <td>31243.0</td>\n",
       "      <td>NaN</td>\n",
       "      <td>NaN</td>\n",
       "      <td>38.886443</td>\n",
       "      <td>-77.017388</td>\n",
       "      <td>38.91000</td>\n",
       "      <td>-76.980000</td>\n",
       "      <td>member</td>\n",
       "    </tr>\n",
       "    <tr>\n",
       "      <th>2</th>\n",
       "      <td>AD1962B215B5879D</td>\n",
       "      <td>electric_bike</td>\n",
       "      <td>2024-02-26 13:19:42</td>\n",
       "      <td>2024-02-26 13:30:44</td>\n",
       "      <td>North Capitol St &amp; F St NW</td>\n",
       "      <td>31624.0</td>\n",
       "      <td>NaN</td>\n",
       "      <td>NaN</td>\n",
       "      <td>38.896907</td>\n",
       "      <td>-77.009684</td>\n",
       "      <td>38.90000</td>\n",
       "      <td>-77.010000</td>\n",
       "      <td>member</td>\n",
       "    </tr>\n",
       "    <tr>\n",
       "      <th>3</th>\n",
       "      <td>3F8352E6D9EC4F85</td>\n",
       "      <td>electric_bike</td>\n",
       "      <td>2024-02-02 11:01:22</td>\n",
       "      <td>2024-02-02 11:05:14</td>\n",
       "      <td>1st &amp; K St NE</td>\n",
       "      <td>31662.0</td>\n",
       "      <td>NaN</td>\n",
       "      <td>NaN</td>\n",
       "      <td>38.902394</td>\n",
       "      <td>-77.005614</td>\n",
       "      <td>38.90000</td>\n",
       "      <td>-77.010000</td>\n",
       "      <td>member</td>\n",
       "    </tr>\n",
       "    <tr>\n",
       "      <th>4</th>\n",
       "      <td>D656DA87FA915F14</td>\n",
       "      <td>electric_bike</td>\n",
       "      <td>2024-02-25 08:28:18</td>\n",
       "      <td>2024-02-25 08:48:44</td>\n",
       "      <td>Virginia Ave &amp; 25th St NW</td>\n",
       "      <td>31297.0</td>\n",
       "      <td>NaN</td>\n",
       "      <td>NaN</td>\n",
       "      <td>38.898456</td>\n",
       "      <td>-77.053075</td>\n",
       "      <td>38.91000</td>\n",
       "      <td>-77.060000</td>\n",
       "      <td>member</td>\n",
       "    </tr>\n",
       "  </tbody>\n",
       "</table>\n",
       "</div>"
      ],
      "text/plain": [
       "            ride_id  rideable_type           started_at             ended_at  \\\n",
       "0  24DBACC298E33BF6  electric_bike  2024-02-01 21:18:50  2024-02-01 21:27:36   \n",
       "1  FE1067800A18BC56  electric_bike  2024-02-06 17:15:33  2024-02-06 17:30:33   \n",
       "2  AD1962B215B5879D  electric_bike  2024-02-26 13:19:42  2024-02-26 13:30:44   \n",
       "3  3F8352E6D9EC4F85  electric_bike  2024-02-02 11:01:22  2024-02-02 11:05:14   \n",
       "4  D656DA87FA915F14  electric_bike  2024-02-25 08:28:18  2024-02-25 08:48:44   \n",
       "\n",
       "           start_station_name  start_station_id end_station_name  \\\n",
       "0      Eckington Pl & Q St NE           31505.0    5th & K St NW   \n",
       "1               4th & C St SW           31243.0              NaN   \n",
       "2  North Capitol St & F St NW           31624.0              NaN   \n",
       "3               1st & K St NE           31662.0              NaN   \n",
       "4   Virginia Ave & 25th St NW           31297.0              NaN   \n",
       "\n",
       "   end_station_id  start_lat  start_lng   end_lat    end_lng member_casual  \n",
       "0         31600.0  38.910893 -77.005023  38.90304 -77.019027        member  \n",
       "1             NaN  38.886443 -77.017388  38.91000 -76.980000        member  \n",
       "2             NaN  38.896907 -77.009684  38.90000 -77.010000        member  \n",
       "3             NaN  38.902394 -77.005614  38.90000 -77.010000        member  \n",
       "4             NaN  38.898456 -77.053075  38.91000 -77.060000        member  "
      ]
     },
     "execution_count": 24,
     "metadata": {},
     "output_type": "execute_result"
    }
   ],
   "source": [
    "# Print out the head of the table imported\n",
    "df.head()"
   ]
  },
  {
   "cell_type": "markdown",
   "id": "7b0144b3-adaa-4d01-bc7f-1d98d04c8c49",
   "metadata": {},
   "source": [
    "## Part 2: Data Cleaning & Exploratory Analysis\n",
    "Now that we have our data, the next step is to clean our data. *What does it mean to clean our data?* It is exactly how it sounds, we will need to make changes to our data in order to make it ready to be processed by our machine learning model or just easier for us to analyze. This process may involve many different things, some examples are:\n",
    "* Deleting unnecessary data\n",
    "* Filling in missing data\n",
    "* Changing the values or metrics/measurements of our data\n",
    "* Calculating new data point from existing data\n",
    "* Reordering data in a new way that makes it easier to read or work with machine learning model???<br>\n",
    "\n",
    "Now, you may have noticed we combined two steps of the data science lifecycle: Data cleaning & Exploratory Analysis. We've combined these two steps, because sometimes it is helpful to perform exploratory analysis on our dataset, in order to help determine what things we need to clean. For example, we may plot a graph of two data points, in order to see if there any noticeable trends, which may prompt us to create a new data point, that we may believe to be useful for the machine learning model to use.\n",
    "\n",
    "In simple terms, exploratory analysis, is performing any sort of analysis on your dataset before we pass it into the machine learning model. This process may involve creating graphs or plotting values of a certain data point. Essentially, we may be trying to answer the question before passing it into the machine learning model, making any predictions or identifying any trends, which may prove useful in interpreting our results later on after the machine learning model. This analysis may also help guide our question or research, as mentioned earlier, where we may notice one data point is significant in some sort of way.\n",
    "\n",
    "**PLEASE FACT CHECK WHAT IM WRITING**"
   ]
  },
  {
   "cell_type": "markdown",
   "id": "92d6095e-ce62-40a7-9826-c8f7d1d33fc9",
   "metadata": {},
   "source": [
    "<center><img src=\"https://www.jotform.com/blog/wp-content/uploads/2019/10/data-collection-methods-700x545.png\"></center>"
   ]
  },
  {
   "cell_type": "markdown",
   "id": "9c68f0fe-aa62-4f5d-bf40-951f8b17e783",
   "metadata": {},
   "source": [
    "First let's list out some information about each column (aka our data points). This step will help us see if there are any data types which we may need to change for the purpose of being able to calculate additonal data points and be used in our machine learning model."
   ]
  },
  {
   "cell_type": "code",
   "execution_count": 25,
   "id": "10ec67f3",
   "metadata": {},
   "outputs": [
    {
     "name": "stdout",
     "output_type": "stream",
     "text": [
      "<class 'pandas.core.frame.DataFrame'>\n",
      "RangeIndex: 318688 entries, 0 to 318687\n",
      "Data columns (total 13 columns):\n",
      " #   Column              Non-Null Count   Dtype  \n",
      "---  ------              --------------   -----  \n",
      " 0   ride_id             318688 non-null  object \n",
      " 1   rideable_type       318688 non-null  object \n",
      " 2   started_at          318688 non-null  object \n",
      " 3   ended_at            318688 non-null  object \n",
      " 4   start_station_name  270637 non-null  object \n",
      " 5   start_station_id    270637 non-null  float64\n",
      " 6   end_station_name    267827 non-null  object \n",
      " 7   end_station_id      267824 non-null  float64\n",
      " 8   start_lat           318688 non-null  float64\n",
      " 9   start_lng           318688 non-null  float64\n",
      " 10  end_lat             318444 non-null  float64\n",
      " 11  end_lng             318444 non-null  float64\n",
      " 12  member_casual       318688 non-null  object \n",
      "dtypes: float64(6), object(7)\n",
      "memory usage: 31.6+ MB\n"
     ]
    }
   ],
   "source": [
    "# List out information about each of the entries of the table\n",
    "df.info()"
   ]
  },
  {
   "cell_type": "markdown",
   "id": "d41d3e8d-b69c-4b2d-ace1-c5755f6fd665",
   "metadata": {},
   "source": [
    "### Drop Some Unnecessary Data\n",
    "Next, let's drop some unnecessary data. *How did we determine that this data was unnecessary?* AND THEN SOME VALID REASON ABOUT THAT"
   ]
  },
  {
   "cell_type": "code",
   "execution_count": 26,
   "id": "ebed8b78",
   "metadata": {},
   "outputs": [],
   "source": [
    "# Drop start and end station id columns\n",
    "df.drop([\"start_station_id\", \"end_station_id\"], axis=1, inplace=True)\n",
    "\n",
    "# Drop ride id column\n",
    "df.drop([\"ride_id\"], axis=1, inplace=True)"
   ]
  },
  {
   "cell_type": "code",
   "execution_count": 27,
   "id": "52ee7114",
   "metadata": {},
   "outputs": [
    {
     "data": {
      "text/plain": [
       "array(['electric_bike', 'classic_bike'], dtype=object)"
      ]
     },
     "execution_count": 27,
     "metadata": {},
     "output_type": "execute_result"
    }
   ],
   "source": [
    "# List out unique bike types\n",
    "df[\"rideable_type\"].unique()"
   ]
  },
  {
   "cell_type": "markdown",
   "id": "5a90ea90-e039-42eb-9f66-a9fdc0192bbb",
   "metadata": {},
   "source": [
    "Let's drop some of the observations which are missing entries or data points. This step is important, as having observations with missing data points may lead to errors when running code later. It also doesn't make sense to incldue them, since if our machine learning model relies on data points to make predictions, if a datapoint has no value, it could interefere or screw with our predictions."
   ]
  },
  {
   "cell_type": "code",
   "execution_count": 28,
   "id": "fa4244e2",
   "metadata": {},
   "outputs": [],
   "source": [
    "# Drop any observations, where there are missing entries or data points\n",
    "df.dropna(axis=0, inplace=True)"
   ]
  },
  {
   "cell_type": "code",
   "execution_count": 29,
   "id": "19f216cc",
   "metadata": {},
   "outputs": [
    {
     "name": "stdout",
     "output_type": "stream",
     "text": [
      "<class 'pandas.core.frame.DataFrame'>\n",
      "Index: 246639 entries, 0 to 318687\n",
      "Data columns (total 10 columns):\n",
      " #   Column              Non-Null Count   Dtype  \n",
      "---  ------              --------------   -----  \n",
      " 0   rideable_type       246639 non-null  object \n",
      " 1   started_at          246639 non-null  object \n",
      " 2   ended_at            246639 non-null  object \n",
      " 3   start_station_name  246639 non-null  object \n",
      " 4   end_station_name    246639 non-null  object \n",
      " 5   start_lat           246639 non-null  float64\n",
      " 6   start_lng           246639 non-null  float64\n",
      " 7   end_lat             246639 non-null  float64\n",
      " 8   end_lng             246639 non-null  float64\n",
      " 9   member_casual       246639 non-null  object \n",
      "dtypes: float64(4), object(6)\n",
      "memory usage: 20.7+ MB\n"
     ]
    }
   ],
   "source": [
    "# List out info of columns again\n",
    "df.info()"
   ]
  },
  {
   "cell_type": "code",
   "execution_count": 30,
   "id": "8e709c81",
   "metadata": {},
   "outputs": [
    {
     "data": {
      "text/html": [
       "<div>\n",
       "<style scoped>\n",
       "    .dataframe tbody tr th:only-of-type {\n",
       "        vertical-align: middle;\n",
       "    }\n",
       "\n",
       "    .dataframe tbody tr th {\n",
       "        vertical-align: top;\n",
       "    }\n",
       "\n",
       "    .dataframe thead th {\n",
       "        text-align: right;\n",
       "    }\n",
       "</style>\n",
       "<table border=\"1\" class=\"dataframe\">\n",
       "  <thead>\n",
       "    <tr style=\"text-align: right;\">\n",
       "      <th></th>\n",
       "      <th>rideable_type</th>\n",
       "      <th>started_at</th>\n",
       "      <th>ended_at</th>\n",
       "      <th>start_station_name</th>\n",
       "      <th>end_station_name</th>\n",
       "      <th>start_lat</th>\n",
       "      <th>start_lng</th>\n",
       "      <th>end_lat</th>\n",
       "      <th>end_lng</th>\n",
       "      <th>member_casual</th>\n",
       "    </tr>\n",
       "  </thead>\n",
       "  <tbody>\n",
       "    <tr>\n",
       "      <th>0</th>\n",
       "      <td>electric_bike</td>\n",
       "      <td>2024-02-01 21:18:50</td>\n",
       "      <td>2024-02-01 21:27:36</td>\n",
       "      <td>Eckington Pl &amp; Q St NE</td>\n",
       "      <td>5th &amp; K St NW</td>\n",
       "      <td>38.910893</td>\n",
       "      <td>-77.005023</td>\n",
       "      <td>38.903040</td>\n",
       "      <td>-77.019027</td>\n",
       "      <td>member</td>\n",
       "    </tr>\n",
       "    <tr>\n",
       "      <th>16</th>\n",
       "      <td>electric_bike</td>\n",
       "      <td>2024-02-15 16:46:51</td>\n",
       "      <td>2024-02-15 16:59:44</td>\n",
       "      <td>Metro Center / 12th &amp; G St NW</td>\n",
       "      <td>Columbia Rd &amp; Georgia Ave NW</td>\n",
       "      <td>38.898400</td>\n",
       "      <td>-77.027643</td>\n",
       "      <td>38.928121</td>\n",
       "      <td>-77.023795</td>\n",
       "      <td>member</td>\n",
       "    </tr>\n",
       "    <tr>\n",
       "      <th>17</th>\n",
       "      <td>classic_bike</td>\n",
       "      <td>2024-02-07 17:42:09</td>\n",
       "      <td>2024-02-07 18:12:20</td>\n",
       "      <td>4th &amp; C St SW</td>\n",
       "      <td>Columbia Rd &amp; Georgia Ave NW</td>\n",
       "      <td>38.886372</td>\n",
       "      <td>-77.017701</td>\n",
       "      <td>38.928121</td>\n",
       "      <td>-77.023795</td>\n",
       "      <td>member</td>\n",
       "    </tr>\n",
       "    <tr>\n",
       "      <th>18</th>\n",
       "      <td>classic_bike</td>\n",
       "      <td>2024-02-22 16:43:35</td>\n",
       "      <td>2024-02-22 16:56:25</td>\n",
       "      <td>4th &amp; M St SE</td>\n",
       "      <td>Columbus Circle / Union Station</td>\n",
       "      <td>38.876751</td>\n",
       "      <td>-77.000736</td>\n",
       "      <td>38.896960</td>\n",
       "      <td>-77.004930</td>\n",
       "      <td>member</td>\n",
       "    </tr>\n",
       "    <tr>\n",
       "      <th>19</th>\n",
       "      <td>classic_bike</td>\n",
       "      <td>2024-02-10 01:11:14</td>\n",
       "      <td>2024-02-10 01:23:52</td>\n",
       "      <td>Virginia Ave &amp; 25th St NW</td>\n",
       "      <td>20th &amp; O St NW / Dupont South</td>\n",
       "      <td>38.898460</td>\n",
       "      <td>-77.053052</td>\n",
       "      <td>38.908905</td>\n",
       "      <td>-77.044780</td>\n",
       "      <td>casual</td>\n",
       "    </tr>\n",
       "  </tbody>\n",
       "</table>\n",
       "</div>"
      ],
      "text/plain": [
       "    rideable_type           started_at             ended_at  \\\n",
       "0   electric_bike  2024-02-01 21:18:50  2024-02-01 21:27:36   \n",
       "16  electric_bike  2024-02-15 16:46:51  2024-02-15 16:59:44   \n",
       "17   classic_bike  2024-02-07 17:42:09  2024-02-07 18:12:20   \n",
       "18   classic_bike  2024-02-22 16:43:35  2024-02-22 16:56:25   \n",
       "19   classic_bike  2024-02-10 01:11:14  2024-02-10 01:23:52   \n",
       "\n",
       "               start_station_name                 end_station_name  start_lat  \\\n",
       "0          Eckington Pl & Q St NE                    5th & K St NW  38.910893   \n",
       "16  Metro Center / 12th & G St NW     Columbia Rd & Georgia Ave NW  38.898400   \n",
       "17                  4th & C St SW     Columbia Rd & Georgia Ave NW  38.886372   \n",
       "18                  4th & M St SE  Columbus Circle / Union Station  38.876751   \n",
       "19      Virginia Ave & 25th St NW    20th & O St NW / Dupont South  38.898460   \n",
       "\n",
       "    start_lng    end_lat    end_lng member_casual  \n",
       "0  -77.005023  38.903040 -77.019027        member  \n",
       "16 -77.027643  38.928121 -77.023795        member  \n",
       "17 -77.017701  38.928121 -77.023795        member  \n",
       "18 -77.000736  38.896960 -77.004930        member  \n",
       "19 -77.053052  38.908905 -77.044780        casual  "
      ]
     },
     "execution_count": 30,
     "metadata": {},
     "output_type": "execute_result"
    }
   ],
   "source": [
    "# Print out table again to check it\n",
    "df.head()"
   ]
  },
  {
   "cell_type": "markdown",
   "id": "800f5dbe-2057-4e19-89d4-2266348616d1",
   "metadata": {},
   "source": [
    "This step is more specific for pandas Dataframe, but nonetheless important. It resets our indices to be in order from 0,1,..., some integer. As we can see above, the indices are scattered, skipping from 0 to 16. These indices may prevent us from performing other data cleaning later on, as well as causing potential errors."
   ]
  },
  {
   "cell_type": "code",
   "execution_count": 31,
   "id": "7b0b0bca",
   "metadata": {},
   "outputs": [
    {
     "data": {
      "text/html": [
       "<div>\n",
       "<style scoped>\n",
       "    .dataframe tbody tr th:only-of-type {\n",
       "        vertical-align: middle;\n",
       "    }\n",
       "\n",
       "    .dataframe tbody tr th {\n",
       "        vertical-align: top;\n",
       "    }\n",
       "\n",
       "    .dataframe thead th {\n",
       "        text-align: right;\n",
       "    }\n",
       "</style>\n",
       "<table border=\"1\" class=\"dataframe\">\n",
       "  <thead>\n",
       "    <tr style=\"text-align: right;\">\n",
       "      <th></th>\n",
       "      <th>rideable_type</th>\n",
       "      <th>started_at</th>\n",
       "      <th>ended_at</th>\n",
       "      <th>start_station_name</th>\n",
       "      <th>end_station_name</th>\n",
       "      <th>start_lat</th>\n",
       "      <th>start_lng</th>\n",
       "      <th>end_lat</th>\n",
       "      <th>end_lng</th>\n",
       "      <th>member_casual</th>\n",
       "    </tr>\n",
       "  </thead>\n",
       "  <tbody>\n",
       "    <tr>\n",
       "      <th>0</th>\n",
       "      <td>electric_bike</td>\n",
       "      <td>2024-02-01 21:18:50</td>\n",
       "      <td>2024-02-01 21:27:36</td>\n",
       "      <td>Eckington Pl &amp; Q St NE</td>\n",
       "      <td>5th &amp; K St NW</td>\n",
       "      <td>38.910893</td>\n",
       "      <td>-77.005023</td>\n",
       "      <td>38.903040</td>\n",
       "      <td>-77.019027</td>\n",
       "      <td>member</td>\n",
       "    </tr>\n",
       "    <tr>\n",
       "      <th>1</th>\n",
       "      <td>electric_bike</td>\n",
       "      <td>2024-02-15 16:46:51</td>\n",
       "      <td>2024-02-15 16:59:44</td>\n",
       "      <td>Metro Center / 12th &amp; G St NW</td>\n",
       "      <td>Columbia Rd &amp; Georgia Ave NW</td>\n",
       "      <td>38.898400</td>\n",
       "      <td>-77.027643</td>\n",
       "      <td>38.928121</td>\n",
       "      <td>-77.023795</td>\n",
       "      <td>member</td>\n",
       "    </tr>\n",
       "    <tr>\n",
       "      <th>2</th>\n",
       "      <td>classic_bike</td>\n",
       "      <td>2024-02-07 17:42:09</td>\n",
       "      <td>2024-02-07 18:12:20</td>\n",
       "      <td>4th &amp; C St SW</td>\n",
       "      <td>Columbia Rd &amp; Georgia Ave NW</td>\n",
       "      <td>38.886372</td>\n",
       "      <td>-77.017701</td>\n",
       "      <td>38.928121</td>\n",
       "      <td>-77.023795</td>\n",
       "      <td>member</td>\n",
       "    </tr>\n",
       "    <tr>\n",
       "      <th>3</th>\n",
       "      <td>classic_bike</td>\n",
       "      <td>2024-02-22 16:43:35</td>\n",
       "      <td>2024-02-22 16:56:25</td>\n",
       "      <td>4th &amp; M St SE</td>\n",
       "      <td>Columbus Circle / Union Station</td>\n",
       "      <td>38.876751</td>\n",
       "      <td>-77.000736</td>\n",
       "      <td>38.896960</td>\n",
       "      <td>-77.004930</td>\n",
       "      <td>member</td>\n",
       "    </tr>\n",
       "    <tr>\n",
       "      <th>4</th>\n",
       "      <td>classic_bike</td>\n",
       "      <td>2024-02-10 01:11:14</td>\n",
       "      <td>2024-02-10 01:23:52</td>\n",
       "      <td>Virginia Ave &amp; 25th St NW</td>\n",
       "      <td>20th &amp; O St NW / Dupont South</td>\n",
       "      <td>38.898460</td>\n",
       "      <td>-77.053052</td>\n",
       "      <td>38.908905</td>\n",
       "      <td>-77.044780</td>\n",
       "      <td>casual</td>\n",
       "    </tr>\n",
       "  </tbody>\n",
       "</table>\n",
       "</div>"
      ],
      "text/plain": [
       "   rideable_type           started_at             ended_at  \\\n",
       "0  electric_bike  2024-02-01 21:18:50  2024-02-01 21:27:36   \n",
       "1  electric_bike  2024-02-15 16:46:51  2024-02-15 16:59:44   \n",
       "2   classic_bike  2024-02-07 17:42:09  2024-02-07 18:12:20   \n",
       "3   classic_bike  2024-02-22 16:43:35  2024-02-22 16:56:25   \n",
       "4   classic_bike  2024-02-10 01:11:14  2024-02-10 01:23:52   \n",
       "\n",
       "              start_station_name                 end_station_name  start_lat  \\\n",
       "0         Eckington Pl & Q St NE                    5th & K St NW  38.910893   \n",
       "1  Metro Center / 12th & G St NW     Columbia Rd & Georgia Ave NW  38.898400   \n",
       "2                  4th & C St SW     Columbia Rd & Georgia Ave NW  38.886372   \n",
       "3                  4th & M St SE  Columbus Circle / Union Station  38.876751   \n",
       "4      Virginia Ave & 25th St NW    20th & O St NW / Dupont South  38.898460   \n",
       "\n",
       "   start_lng    end_lat    end_lng member_casual  \n",
       "0 -77.005023  38.903040 -77.019027        member  \n",
       "1 -77.027643  38.928121 -77.023795        member  \n",
       "2 -77.017701  38.928121 -77.023795        member  \n",
       "3 -77.000736  38.896960 -77.004930        member  \n",
       "4 -77.053052  38.908905 -77.044780        casual  "
      ]
     },
     "execution_count": 31,
     "metadata": {},
     "output_type": "execute_result"
    }
   ],
   "source": [
    "# Reset indices of table and print out table again to check it\n",
    "df.reset_index(drop=True, inplace=True)\n",
    "df.head()"
   ]
  },
  {
   "cell_type": "markdown",
   "id": "fad8c4a1-b5e1-40b0-aa98-62880d613955",
   "metadata": {},
   "source": [
    "Next, let's convert the data types of our data points. Specifically in this case, we are converting our strings to be datetime objects, as converting it to datetime objects will allow us to perform necessary operations or arithmetic later."
   ]
  },
  {
   "cell_type": "code",
   "execution_count": 32,
   "id": "deeaca55",
   "metadata": {},
   "outputs": [
    {
     "name": "stdout",
     "output_type": "stream",
     "text": [
      "<class 'pandas.core.frame.DataFrame'>\n",
      "RangeIndex: 246639 entries, 0 to 246638\n",
      "Data columns (total 10 columns):\n",
      " #   Column              Non-Null Count   Dtype         \n",
      "---  ------              --------------   -----         \n",
      " 0   rideable_type       246639 non-null  object        \n",
      " 1   started_at          246639 non-null  datetime64[ns]\n",
      " 2   ended_at            246639 non-null  datetime64[ns]\n",
      " 3   start_station_name  246639 non-null  object        \n",
      " 4   end_station_name    246639 non-null  object        \n",
      " 5   start_lat           246639 non-null  float64       \n",
      " 6   start_lng           246639 non-null  float64       \n",
      " 7   end_lat             246639 non-null  float64       \n",
      " 8   end_lng             246639 non-null  float64       \n",
      " 9   member_casual       246639 non-null  object        \n",
      "dtypes: datetime64[ns](2), float64(4), object(4)\n",
      "memory usage: 18.8+ MB\n"
     ]
    }
   ],
   "source": [
    "# Convert datatypes to datetime objects\n",
    "df[\"started_at\"] = pd.to_datetime(df[\"started_at\"])\n",
    "df[\"ended_at\"] = pd.to_datetime(df[\"ended_at\"])\n",
    "\n",
    "# List out columns\n",
    "df.info()"
   ]
  },
  {
   "cell_type": "code",
   "execution_count": 33,
   "id": "1af4d3d1",
   "metadata": {},
   "outputs": [
    {
     "data": {
      "text/html": [
       "<div>\n",
       "<style scoped>\n",
       "    .dataframe tbody tr th:only-of-type {\n",
       "        vertical-align: middle;\n",
       "    }\n",
       "\n",
       "    .dataframe tbody tr th {\n",
       "        vertical-align: top;\n",
       "    }\n",
       "\n",
       "    .dataframe thead th {\n",
       "        text-align: right;\n",
       "    }\n",
       "</style>\n",
       "<table border=\"1\" class=\"dataframe\">\n",
       "  <thead>\n",
       "    <tr style=\"text-align: right;\">\n",
       "      <th></th>\n",
       "      <th>rideable_type</th>\n",
       "      <th>started_at</th>\n",
       "      <th>ended_at</th>\n",
       "      <th>start_station_name</th>\n",
       "      <th>end_station_name</th>\n",
       "      <th>start_lat</th>\n",
       "      <th>start_lng</th>\n",
       "      <th>end_lat</th>\n",
       "      <th>end_lng</th>\n",
       "      <th>member_casual</th>\n",
       "    </tr>\n",
       "  </thead>\n",
       "  <tbody>\n",
       "    <tr>\n",
       "      <th>0</th>\n",
       "      <td>electric_bike</td>\n",
       "      <td>2024-02-01 21:18:50</td>\n",
       "      <td>2024-02-01 21:27:36</td>\n",
       "      <td>Eckington Pl &amp; Q St NE</td>\n",
       "      <td>5th &amp; K St NW</td>\n",
       "      <td>38.910893</td>\n",
       "      <td>-77.005023</td>\n",
       "      <td>38.903040</td>\n",
       "      <td>-77.019027</td>\n",
       "      <td>member</td>\n",
       "    </tr>\n",
       "    <tr>\n",
       "      <th>1</th>\n",
       "      <td>electric_bike</td>\n",
       "      <td>2024-02-15 16:46:51</td>\n",
       "      <td>2024-02-15 16:59:44</td>\n",
       "      <td>Metro Center / 12th &amp; G St NW</td>\n",
       "      <td>Columbia Rd &amp; Georgia Ave NW</td>\n",
       "      <td>38.898400</td>\n",
       "      <td>-77.027643</td>\n",
       "      <td>38.928121</td>\n",
       "      <td>-77.023795</td>\n",
       "      <td>member</td>\n",
       "    </tr>\n",
       "    <tr>\n",
       "      <th>2</th>\n",
       "      <td>classic_bike</td>\n",
       "      <td>2024-02-07 17:42:09</td>\n",
       "      <td>2024-02-07 18:12:20</td>\n",
       "      <td>4th &amp; C St SW</td>\n",
       "      <td>Columbia Rd &amp; Georgia Ave NW</td>\n",
       "      <td>38.886372</td>\n",
       "      <td>-77.017701</td>\n",
       "      <td>38.928121</td>\n",
       "      <td>-77.023795</td>\n",
       "      <td>member</td>\n",
       "    </tr>\n",
       "    <tr>\n",
       "      <th>3</th>\n",
       "      <td>classic_bike</td>\n",
       "      <td>2024-02-22 16:43:35</td>\n",
       "      <td>2024-02-22 16:56:25</td>\n",
       "      <td>4th &amp; M St SE</td>\n",
       "      <td>Columbus Circle / Union Station</td>\n",
       "      <td>38.876751</td>\n",
       "      <td>-77.000736</td>\n",
       "      <td>38.896960</td>\n",
       "      <td>-77.004930</td>\n",
       "      <td>member</td>\n",
       "    </tr>\n",
       "    <tr>\n",
       "      <th>4</th>\n",
       "      <td>classic_bike</td>\n",
       "      <td>2024-02-10 01:11:14</td>\n",
       "      <td>2024-02-10 01:23:52</td>\n",
       "      <td>Virginia Ave &amp; 25th St NW</td>\n",
       "      <td>20th &amp; O St NW / Dupont South</td>\n",
       "      <td>38.898460</td>\n",
       "      <td>-77.053052</td>\n",
       "      <td>38.908905</td>\n",
       "      <td>-77.044780</td>\n",
       "      <td>casual</td>\n",
       "    </tr>\n",
       "  </tbody>\n",
       "</table>\n",
       "</div>"
      ],
      "text/plain": [
       "   rideable_type          started_at            ended_at  \\\n",
       "0  electric_bike 2024-02-01 21:18:50 2024-02-01 21:27:36   \n",
       "1  electric_bike 2024-02-15 16:46:51 2024-02-15 16:59:44   \n",
       "2   classic_bike 2024-02-07 17:42:09 2024-02-07 18:12:20   \n",
       "3   classic_bike 2024-02-22 16:43:35 2024-02-22 16:56:25   \n",
       "4   classic_bike 2024-02-10 01:11:14 2024-02-10 01:23:52   \n",
       "\n",
       "              start_station_name                 end_station_name  start_lat  \\\n",
       "0         Eckington Pl & Q St NE                    5th & K St NW  38.910893   \n",
       "1  Metro Center / 12th & G St NW     Columbia Rd & Georgia Ave NW  38.898400   \n",
       "2                  4th & C St SW     Columbia Rd & Georgia Ave NW  38.886372   \n",
       "3                  4th & M St SE  Columbus Circle / Union Station  38.876751   \n",
       "4      Virginia Ave & 25th St NW    20th & O St NW / Dupont South  38.898460   \n",
       "\n",
       "   start_lng    end_lat    end_lng member_casual  \n",
       "0 -77.005023  38.903040 -77.019027        member  \n",
       "1 -77.027643  38.928121 -77.023795        member  \n",
       "2 -77.017701  38.928121 -77.023795        member  \n",
       "3 -77.000736  38.896960 -77.004930        member  \n",
       "4 -77.053052  38.908905 -77.044780        casual  "
      ]
     },
     "execution_count": 33,
     "metadata": {},
     "output_type": "execute_result"
    }
   ],
   "source": [
    "# Print out top of table to check\n",
    "df.head()"
   ]
  },
  {
   "cell_type": "markdown",
   "id": "b3d608fa-b7b5-4adc-a315-3ae5c391f10a",
   "metadata": {},
   "source": [
    "Let's perform some arithemtic with our datetime objects we converted earlier. We are subtracting the start and end times, in order to calculate a new data point, which is the duration of the bike ride. We then need to convert it into total number of minutes."
   ]
  },
  {
   "cell_type": "code",
   "execution_count": 34,
   "id": "8da7abc2",
   "metadata": {},
   "outputs": [
    {
     "data": {
      "text/html": [
       "<div>\n",
       "<style scoped>\n",
       "    .dataframe tbody tr th:only-of-type {\n",
       "        vertical-align: middle;\n",
       "    }\n",
       "\n",
       "    .dataframe tbody tr th {\n",
       "        vertical-align: top;\n",
       "    }\n",
       "\n",
       "    .dataframe thead th {\n",
       "        text-align: right;\n",
       "    }\n",
       "</style>\n",
       "<table border=\"1\" class=\"dataframe\">\n",
       "  <thead>\n",
       "    <tr style=\"text-align: right;\">\n",
       "      <th></th>\n",
       "      <th>rideable_type</th>\n",
       "      <th>started_at</th>\n",
       "      <th>ended_at</th>\n",
       "      <th>start_station_name</th>\n",
       "      <th>end_station_name</th>\n",
       "      <th>start_lat</th>\n",
       "      <th>start_lng</th>\n",
       "      <th>end_lat</th>\n",
       "      <th>end_lng</th>\n",
       "      <th>member_casual</th>\n",
       "      <th>time_duration</th>\n",
       "    </tr>\n",
       "  </thead>\n",
       "  <tbody>\n",
       "    <tr>\n",
       "      <th>0</th>\n",
       "      <td>electric_bike</td>\n",
       "      <td>2024-02-01 21:18:50</td>\n",
       "      <td>2024-02-01 21:27:36</td>\n",
       "      <td>Eckington Pl &amp; Q St NE</td>\n",
       "      <td>5th &amp; K St NW</td>\n",
       "      <td>38.910893</td>\n",
       "      <td>-77.005023</td>\n",
       "      <td>38.903040</td>\n",
       "      <td>-77.019027</td>\n",
       "      <td>member</td>\n",
       "      <td>8.766667</td>\n",
       "    </tr>\n",
       "    <tr>\n",
       "      <th>1</th>\n",
       "      <td>electric_bike</td>\n",
       "      <td>2024-02-15 16:46:51</td>\n",
       "      <td>2024-02-15 16:59:44</td>\n",
       "      <td>Metro Center / 12th &amp; G St NW</td>\n",
       "      <td>Columbia Rd &amp; Georgia Ave NW</td>\n",
       "      <td>38.898400</td>\n",
       "      <td>-77.027643</td>\n",
       "      <td>38.928121</td>\n",
       "      <td>-77.023795</td>\n",
       "      <td>member</td>\n",
       "      <td>12.883333</td>\n",
       "    </tr>\n",
       "    <tr>\n",
       "      <th>2</th>\n",
       "      <td>classic_bike</td>\n",
       "      <td>2024-02-07 17:42:09</td>\n",
       "      <td>2024-02-07 18:12:20</td>\n",
       "      <td>4th &amp; C St SW</td>\n",
       "      <td>Columbia Rd &amp; Georgia Ave NW</td>\n",
       "      <td>38.886372</td>\n",
       "      <td>-77.017701</td>\n",
       "      <td>38.928121</td>\n",
       "      <td>-77.023795</td>\n",
       "      <td>member</td>\n",
       "      <td>30.183333</td>\n",
       "    </tr>\n",
       "    <tr>\n",
       "      <th>3</th>\n",
       "      <td>classic_bike</td>\n",
       "      <td>2024-02-22 16:43:35</td>\n",
       "      <td>2024-02-22 16:56:25</td>\n",
       "      <td>4th &amp; M St SE</td>\n",
       "      <td>Columbus Circle / Union Station</td>\n",
       "      <td>38.876751</td>\n",
       "      <td>-77.000736</td>\n",
       "      <td>38.896960</td>\n",
       "      <td>-77.004930</td>\n",
       "      <td>member</td>\n",
       "      <td>12.833333</td>\n",
       "    </tr>\n",
       "    <tr>\n",
       "      <th>4</th>\n",
       "      <td>classic_bike</td>\n",
       "      <td>2024-02-10 01:11:14</td>\n",
       "      <td>2024-02-10 01:23:52</td>\n",
       "      <td>Virginia Ave &amp; 25th St NW</td>\n",
       "      <td>20th &amp; O St NW / Dupont South</td>\n",
       "      <td>38.898460</td>\n",
       "      <td>-77.053052</td>\n",
       "      <td>38.908905</td>\n",
       "      <td>-77.044780</td>\n",
       "      <td>casual</td>\n",
       "      <td>12.633333</td>\n",
       "    </tr>\n",
       "  </tbody>\n",
       "</table>\n",
       "</div>"
      ],
      "text/plain": [
       "   rideable_type          started_at            ended_at  \\\n",
       "0  electric_bike 2024-02-01 21:18:50 2024-02-01 21:27:36   \n",
       "1  electric_bike 2024-02-15 16:46:51 2024-02-15 16:59:44   \n",
       "2   classic_bike 2024-02-07 17:42:09 2024-02-07 18:12:20   \n",
       "3   classic_bike 2024-02-22 16:43:35 2024-02-22 16:56:25   \n",
       "4   classic_bike 2024-02-10 01:11:14 2024-02-10 01:23:52   \n",
       "\n",
       "              start_station_name                 end_station_name  start_lat  \\\n",
       "0         Eckington Pl & Q St NE                    5th & K St NW  38.910893   \n",
       "1  Metro Center / 12th & G St NW     Columbia Rd & Georgia Ave NW  38.898400   \n",
       "2                  4th & C St SW     Columbia Rd & Georgia Ave NW  38.886372   \n",
       "3                  4th & M St SE  Columbus Circle / Union Station  38.876751   \n",
       "4      Virginia Ave & 25th St NW    20th & O St NW / Dupont South  38.898460   \n",
       "\n",
       "   start_lng    end_lat    end_lng member_casual  time_duration  \n",
       "0 -77.005023  38.903040 -77.019027        member       8.766667  \n",
       "1 -77.027643  38.928121 -77.023795        member      12.883333  \n",
       "2 -77.017701  38.928121 -77.023795        member      30.183333  \n",
       "3 -77.000736  38.896960 -77.004930        member      12.833333  \n",
       "4 -77.053052  38.908905 -77.044780        casual      12.633333  "
      ]
     },
     "execution_count": 34,
     "metadata": {},
     "output_type": "execute_result"
    }
   ],
   "source": [
    "# Create new column and data point time duration\n",
    "df[\"time_duration\"] = (df[\"ended_at\"] - df[\"started_at\"]).dt.total_seconds()/60\n",
    "\n",
    "# Print out top of table to check again\n",
    "df.head()"
   ]
  },
  {
   "cell_type": "code",
   "execution_count": 35,
   "id": "09618c57",
   "metadata": {},
   "outputs": [
    {
     "name": "stdout",
     "output_type": "stream",
     "text": [
      "<class 'pandas.core.frame.DataFrame'>\n",
      "RangeIndex: 246639 entries, 0 to 246638\n",
      "Data columns (total 11 columns):\n",
      " #   Column              Non-Null Count   Dtype         \n",
      "---  ------              --------------   -----         \n",
      " 0   rideable_type       246639 non-null  object        \n",
      " 1   started_at          246639 non-null  datetime64[ns]\n",
      " 2   ended_at            246639 non-null  datetime64[ns]\n",
      " 3   start_station_name  246639 non-null  object        \n",
      " 4   end_station_name    246639 non-null  object        \n",
      " 5   start_lat           246639 non-null  float64       \n",
      " 6   start_lng           246639 non-null  float64       \n",
      " 7   end_lat             246639 non-null  float64       \n",
      " 8   end_lng             246639 non-null  float64       \n",
      " 9   member_casual       246639 non-null  object        \n",
      " 10  time_duration       246639 non-null  float64       \n",
      "dtypes: datetime64[ns](2), float64(5), object(4)\n",
      "memory usage: 20.7+ MB\n"
     ]
    }
   ],
   "source": [
    "# List out column infos\n",
    "df.info()"
   ]
  },
  {
   "cell_type": "markdown",
   "id": "18fdc4cf-e08d-49cd-9b3e-562378b72240",
   "metadata": {},
   "source": [
    "### Some Exploratory Analysis #1\n",
    "Let's perform some exploratory analysis. Let's create countplot of the type of bike: electric or regular. *Why do you think we are doing this?* \n",
    "THEN PROVIDE SOME REASON"
   ]
  },
  {
   "cell_type": "code",
   "execution_count": 36,
   "id": "c29579df",
   "metadata": {},
   "outputs": [
    {
     "ename": "ValueError",
     "evalue": "could not convert string to float: 'electric_bike'",
     "output_type": "error",
     "traceback": [
      "\u001b[0;31m---------------------------------------------------------------------------\u001b[0m",
      "\u001b[0;31mValueError\u001b[0m                                Traceback (most recent call last)",
      "Cell \u001b[0;32mIn[36], line 3\u001b[0m\n\u001b[1;32m      1\u001b[0m \u001b[38;5;66;03m# Create a countplot for the type of bikes\u001b[39;00m\n\u001b[1;32m      2\u001b[0m plt\u001b[38;5;241m.\u001b[39mfigure(figsize\u001b[38;5;241m=\u001b[39m(\u001b[38;5;241m12\u001b[39m,\u001b[38;5;241m10\u001b[39m))\n\u001b[0;32m----> 3\u001b[0m sns\u001b[38;5;241m.\u001b[39mcountplot(df[\u001b[38;5;124m\"\u001b[39m\u001b[38;5;124mrideable_type\u001b[39m\u001b[38;5;124m\"\u001b[39m])\n",
      "File \u001b[0;32m~/anaconda3/lib/python3.11/site-packages/seaborn/categorical.py:2943\u001b[0m, in \u001b[0;36mcountplot\u001b[0;34m(data, x, y, hue, order, hue_order, orient, color, palette, saturation, width, dodge, ax, **kwargs)\u001b[0m\n\u001b[1;32m   2940\u001b[0m \u001b[38;5;28;01melif\u001b[39;00m x \u001b[38;5;129;01mis\u001b[39;00m \u001b[38;5;129;01mnot\u001b[39;00m \u001b[38;5;28;01mNone\u001b[39;00m \u001b[38;5;129;01mand\u001b[39;00m y \u001b[38;5;129;01mis\u001b[39;00m \u001b[38;5;129;01mnot\u001b[39;00m \u001b[38;5;28;01mNone\u001b[39;00m:\n\u001b[1;32m   2941\u001b[0m     \u001b[38;5;28;01mraise\u001b[39;00m \u001b[38;5;167;01mValueError\u001b[39;00m(\u001b[38;5;124m\"\u001b[39m\u001b[38;5;124mCannot pass values for both `x` and `y`\u001b[39m\u001b[38;5;124m\"\u001b[39m)\n\u001b[0;32m-> 2943\u001b[0m plotter \u001b[38;5;241m=\u001b[39m _CountPlotter(\n\u001b[1;32m   2944\u001b[0m     x, y, hue, data, order, hue_order,\n\u001b[1;32m   2945\u001b[0m     estimator, errorbar, n_boot, units, seed,\n\u001b[1;32m   2946\u001b[0m     orient, color, palette, saturation,\n\u001b[1;32m   2947\u001b[0m     width, errcolor, errwidth, capsize, dodge\n\u001b[1;32m   2948\u001b[0m )\n\u001b[1;32m   2950\u001b[0m plotter\u001b[38;5;241m.\u001b[39mvalue_label \u001b[38;5;241m=\u001b[39m \u001b[38;5;124m\"\u001b[39m\u001b[38;5;124mcount\u001b[39m\u001b[38;5;124m\"\u001b[39m\n\u001b[1;32m   2952\u001b[0m \u001b[38;5;28;01mif\u001b[39;00m ax \u001b[38;5;129;01mis\u001b[39;00m \u001b[38;5;28;01mNone\u001b[39;00m:\n",
      "File \u001b[0;32m~/anaconda3/lib/python3.11/site-packages/seaborn/categorical.py:1530\u001b[0m, in \u001b[0;36m_BarPlotter.__init__\u001b[0;34m(self, x, y, hue, data, order, hue_order, estimator, errorbar, n_boot, units, seed, orient, color, palette, saturation, width, errcolor, errwidth, capsize, dodge)\u001b[0m\n\u001b[1;32m   1525\u001b[0m \u001b[38;5;28;01mdef\u001b[39;00m \u001b[38;5;21m__init__\u001b[39m(\u001b[38;5;28mself\u001b[39m, x, y, hue, data, order, hue_order,\n\u001b[1;32m   1526\u001b[0m              estimator, errorbar, n_boot, units, seed,\n\u001b[1;32m   1527\u001b[0m              orient, color, palette, saturation, width,\n\u001b[1;32m   1528\u001b[0m              errcolor, errwidth, capsize, dodge):\n\u001b[1;32m   1529\u001b[0m \u001b[38;5;250m    \u001b[39m\u001b[38;5;124;03m\"\"\"Initialize the plotter.\"\"\"\u001b[39;00m\n\u001b[0;32m-> 1530\u001b[0m     \u001b[38;5;28mself\u001b[39m\u001b[38;5;241m.\u001b[39mestablish_variables(x, y, hue, data, orient,\n\u001b[1;32m   1531\u001b[0m                              order, hue_order, units)\n\u001b[1;32m   1532\u001b[0m     \u001b[38;5;28mself\u001b[39m\u001b[38;5;241m.\u001b[39mestablish_colors(color, palette, saturation)\n\u001b[1;32m   1533\u001b[0m     \u001b[38;5;28mself\u001b[39m\u001b[38;5;241m.\u001b[39mestimate_statistic(estimator, errorbar, n_boot, seed)\n",
      "File \u001b[0;32m~/anaconda3/lib/python3.11/site-packages/seaborn/categorical.py:516\u001b[0m, in \u001b[0;36m_CategoricalPlotter.establish_variables\u001b[0;34m(self, x, y, hue, data, orient, order, hue_order, units)\u001b[0m\n\u001b[1;32m    513\u001b[0m     plot_data \u001b[38;5;241m=\u001b[39m data\n\u001b[1;32m    515\u001b[0m \u001b[38;5;66;03m# Convert to a list of arrays, the common representation\u001b[39;00m\n\u001b[0;32m--> 516\u001b[0m plot_data \u001b[38;5;241m=\u001b[39m [np\u001b[38;5;241m.\u001b[39masarray(d, \u001b[38;5;28mfloat\u001b[39m) \u001b[38;5;28;01mfor\u001b[39;00m d \u001b[38;5;129;01min\u001b[39;00m plot_data]\n\u001b[1;32m    518\u001b[0m \u001b[38;5;66;03m# The group names will just be numeric indices\u001b[39;00m\n\u001b[1;32m    519\u001b[0m group_names \u001b[38;5;241m=\u001b[39m \u001b[38;5;28mlist\u001b[39m(\u001b[38;5;28mrange\u001b[39m(\u001b[38;5;28mlen\u001b[39m(plot_data)))\n",
      "File \u001b[0;32m~/anaconda3/lib/python3.11/site-packages/seaborn/categorical.py:516\u001b[0m, in \u001b[0;36m<listcomp>\u001b[0;34m(.0)\u001b[0m\n\u001b[1;32m    513\u001b[0m     plot_data \u001b[38;5;241m=\u001b[39m data\n\u001b[1;32m    515\u001b[0m \u001b[38;5;66;03m# Convert to a list of arrays, the common representation\u001b[39;00m\n\u001b[0;32m--> 516\u001b[0m plot_data \u001b[38;5;241m=\u001b[39m [np\u001b[38;5;241m.\u001b[39masarray(d, \u001b[38;5;28mfloat\u001b[39m) \u001b[38;5;28;01mfor\u001b[39;00m d \u001b[38;5;129;01min\u001b[39;00m plot_data]\n\u001b[1;32m    518\u001b[0m \u001b[38;5;66;03m# The group names will just be numeric indices\u001b[39;00m\n\u001b[1;32m    519\u001b[0m group_names \u001b[38;5;241m=\u001b[39m \u001b[38;5;28mlist\u001b[39m(\u001b[38;5;28mrange\u001b[39m(\u001b[38;5;28mlen\u001b[39m(plot_data)))\n",
      "File \u001b[0;32m~/anaconda3/lib/python3.11/site-packages/pandas/core/series.py:953\u001b[0m, in \u001b[0;36mSeries.__array__\u001b[0;34m(self, dtype)\u001b[0m\n\u001b[1;32m    906\u001b[0m \u001b[38;5;250m\u001b[39m\u001b[38;5;124;03m\"\"\"\u001b[39;00m\n\u001b[1;32m    907\u001b[0m \u001b[38;5;124;03mReturn the values as a NumPy array.\u001b[39;00m\n\u001b[1;32m    908\u001b[0m \n\u001b[0;32m   (...)\u001b[0m\n\u001b[1;32m    950\u001b[0m \u001b[38;5;124;03m      dtype='datetime64[ns]')\u001b[39;00m\n\u001b[1;32m    951\u001b[0m \u001b[38;5;124;03m\"\"\"\u001b[39;00m\n\u001b[1;32m    952\u001b[0m values \u001b[38;5;241m=\u001b[39m \u001b[38;5;28mself\u001b[39m\u001b[38;5;241m.\u001b[39m_values\n\u001b[0;32m--> 953\u001b[0m arr \u001b[38;5;241m=\u001b[39m np\u001b[38;5;241m.\u001b[39masarray(values, dtype\u001b[38;5;241m=\u001b[39mdtype)\n\u001b[1;32m    954\u001b[0m \u001b[38;5;28;01mif\u001b[39;00m using_copy_on_write() \u001b[38;5;129;01mand\u001b[39;00m astype_is_view(values\u001b[38;5;241m.\u001b[39mdtype, arr\u001b[38;5;241m.\u001b[39mdtype):\n\u001b[1;32m    955\u001b[0m     arr \u001b[38;5;241m=\u001b[39m arr\u001b[38;5;241m.\u001b[39mview()\n",
      "\u001b[0;31mValueError\u001b[0m: could not convert string to float: 'electric_bike'"
     ]
    },
    {
     "data": {
      "text/plain": [
       "<Figure size 1200x1000 with 0 Axes>"
      ]
     },
     "metadata": {},
     "output_type": "display_data"
    }
   ],
   "source": [
    "# Create a countplot for the type of bikes\n",
    "plt.figure(figsize=(12,10))\n",
    "sns.countplot(df[\"rideable_type\"])"
   ]
  },
  {
   "cell_type": "markdown",
   "id": "e8dadc3d-e684-424e-94d9-610c1ae59e4b",
   "metadata": {},
   "source": [
    "### One Hot Encoding\n",
    "Now, one hot encoding is an important method for data scientists. It is used to represent multiple classes. Usually, when representing just two classes, we would use 0 for one class and 1 for the other class. \n",
    "\n",
    "*But, what do we do for multiple classes?* <br>\n",
    "\n",
    "Many people may initally think we can just use 1 for one class, 2 for the next class, 3 for the next class, and so on. However, these values may influence our machine learning algorithms, potentially giving more weight to one class compared to the others **IDK WHAT IM SAYING**. This is where one hot encoding is useful. With one hot encoding...WE CAN SOMETHING SOMETHING"
   ]
  },
  {
   "cell_type": "code",
   "execution_count": 37,
   "id": "4988d7bc",
   "metadata": {},
   "outputs": [
    {
     "data": {
      "text/html": [
       "<div>\n",
       "<style scoped>\n",
       "    .dataframe tbody tr th:only-of-type {\n",
       "        vertical-align: middle;\n",
       "    }\n",
       "\n",
       "    .dataframe tbody tr th {\n",
       "        vertical-align: top;\n",
       "    }\n",
       "\n",
       "    .dataframe thead th {\n",
       "        text-align: right;\n",
       "    }\n",
       "</style>\n",
       "<table border=\"1\" class=\"dataframe\">\n",
       "  <thead>\n",
       "    <tr style=\"text-align: right;\">\n",
       "      <th></th>\n",
       "      <th>started_at</th>\n",
       "      <th>ended_at</th>\n",
       "      <th>start_station_name</th>\n",
       "      <th>end_station_name</th>\n",
       "      <th>start_lat</th>\n",
       "      <th>start_lng</th>\n",
       "      <th>end_lat</th>\n",
       "      <th>end_lng</th>\n",
       "      <th>time_duration</th>\n",
       "      <th>rideable_type_electric_bike</th>\n",
       "      <th>member_casual_member</th>\n",
       "    </tr>\n",
       "  </thead>\n",
       "  <tbody>\n",
       "    <tr>\n",
       "      <th>0</th>\n",
       "      <td>2024-02-01 21:18:50</td>\n",
       "      <td>2024-02-01 21:27:36</td>\n",
       "      <td>Eckington Pl &amp; Q St NE</td>\n",
       "      <td>5th &amp; K St NW</td>\n",
       "      <td>38.910893</td>\n",
       "      <td>-77.005023</td>\n",
       "      <td>38.903040</td>\n",
       "      <td>-77.019027</td>\n",
       "      <td>8.766667</td>\n",
       "      <td>True</td>\n",
       "      <td>True</td>\n",
       "    </tr>\n",
       "    <tr>\n",
       "      <th>1</th>\n",
       "      <td>2024-02-15 16:46:51</td>\n",
       "      <td>2024-02-15 16:59:44</td>\n",
       "      <td>Metro Center / 12th &amp; G St NW</td>\n",
       "      <td>Columbia Rd &amp; Georgia Ave NW</td>\n",
       "      <td>38.898400</td>\n",
       "      <td>-77.027643</td>\n",
       "      <td>38.928121</td>\n",
       "      <td>-77.023795</td>\n",
       "      <td>12.883333</td>\n",
       "      <td>True</td>\n",
       "      <td>True</td>\n",
       "    </tr>\n",
       "    <tr>\n",
       "      <th>2</th>\n",
       "      <td>2024-02-07 17:42:09</td>\n",
       "      <td>2024-02-07 18:12:20</td>\n",
       "      <td>4th &amp; C St SW</td>\n",
       "      <td>Columbia Rd &amp; Georgia Ave NW</td>\n",
       "      <td>38.886372</td>\n",
       "      <td>-77.017701</td>\n",
       "      <td>38.928121</td>\n",
       "      <td>-77.023795</td>\n",
       "      <td>30.183333</td>\n",
       "      <td>False</td>\n",
       "      <td>True</td>\n",
       "    </tr>\n",
       "    <tr>\n",
       "      <th>3</th>\n",
       "      <td>2024-02-22 16:43:35</td>\n",
       "      <td>2024-02-22 16:56:25</td>\n",
       "      <td>4th &amp; M St SE</td>\n",
       "      <td>Columbus Circle / Union Station</td>\n",
       "      <td>38.876751</td>\n",
       "      <td>-77.000736</td>\n",
       "      <td>38.896960</td>\n",
       "      <td>-77.004930</td>\n",
       "      <td>12.833333</td>\n",
       "      <td>False</td>\n",
       "      <td>True</td>\n",
       "    </tr>\n",
       "    <tr>\n",
       "      <th>4</th>\n",
       "      <td>2024-02-10 01:11:14</td>\n",
       "      <td>2024-02-10 01:23:52</td>\n",
       "      <td>Virginia Ave &amp; 25th St NW</td>\n",
       "      <td>20th &amp; O St NW / Dupont South</td>\n",
       "      <td>38.898460</td>\n",
       "      <td>-77.053052</td>\n",
       "      <td>38.908905</td>\n",
       "      <td>-77.044780</td>\n",
       "      <td>12.633333</td>\n",
       "      <td>False</td>\n",
       "      <td>False</td>\n",
       "    </tr>\n",
       "  </tbody>\n",
       "</table>\n",
       "</div>"
      ],
      "text/plain": [
       "           started_at            ended_at             start_station_name  \\\n",
       "0 2024-02-01 21:18:50 2024-02-01 21:27:36         Eckington Pl & Q St NE   \n",
       "1 2024-02-15 16:46:51 2024-02-15 16:59:44  Metro Center / 12th & G St NW   \n",
       "2 2024-02-07 17:42:09 2024-02-07 18:12:20                  4th & C St SW   \n",
       "3 2024-02-22 16:43:35 2024-02-22 16:56:25                  4th & M St SE   \n",
       "4 2024-02-10 01:11:14 2024-02-10 01:23:52      Virginia Ave & 25th St NW   \n",
       "\n",
       "                  end_station_name  start_lat  start_lng    end_lat  \\\n",
       "0                    5th & K St NW  38.910893 -77.005023  38.903040   \n",
       "1     Columbia Rd & Georgia Ave NW  38.898400 -77.027643  38.928121   \n",
       "2     Columbia Rd & Georgia Ave NW  38.886372 -77.017701  38.928121   \n",
       "3  Columbus Circle / Union Station  38.876751 -77.000736  38.896960   \n",
       "4    20th & O St NW / Dupont South  38.898460 -77.053052  38.908905   \n",
       "\n",
       "     end_lng  time_duration  rideable_type_electric_bike  member_casual_member  \n",
       "0 -77.019027       8.766667                         True                  True  \n",
       "1 -77.023795      12.883333                         True                  True  \n",
       "2 -77.023795      30.183333                        False                  True  \n",
       "3 -77.004930      12.833333                        False                  True  \n",
       "4 -77.044780      12.633333                        False                 False  "
      ]
     },
     "execution_count": 37,
     "metadata": {},
     "output_type": "execute_result"
    }
   ],
   "source": [
    "# Create one hot encodings for the rideable_type and member_casual\n",
    "df = pd.get_dummies(df, columns=['rideable_type', 'member_casual'], drop_first=True)\n",
    "\n",
    "# Print out top of table to check\n",
    "df.head()"
   ]
  },
  {
   "cell_type": "markdown",
   "id": "ad99e976-91d4-4696-a731-313b1b2a8c7a",
   "metadata": {},
   "source": [
    "Let's perform some arithmetic using some of the data we already have. More specifically, we are calculating a new data point, the distance for each ride. In order to accomplish this task, we are using the Haversine Distance formula, which allows us to calculate the distacne between two ponts given their latitude and longitude coordinates. This is really helpful in the real world, as we live on a spherical ball. **MAYBE MORE FUN FACTS ABOUT HAVERSINE AND ITS USE CASES?**"
   ]
  },
  {
   "cell_type": "code",
   "execution_count": 38,
   "id": "54226601",
   "metadata": {},
   "outputs": [],
   "source": [
    "# Create function for Haversine Distance formula\n",
    "def haversine_distance(lat1, lon1, lat2, lon2):\n",
    "    \"\"\"\n",
    "    Calculate the Haversine distance between two points given their latitude and longitude coordinates.\n",
    "    \"\"\"\n",
    "    R = 6371  # Radius of the Earth in kilometers\n",
    "    \n",
    "    # Convert latitude and longitude from degrees to radians\n",
    "    lat1, lon1, lat2, lon2 = map(np.radians, [lat1, lon1, lat2, lon2])\n",
    "    \n",
    "    # Haversine formula\n",
    "    dlat = lat2 - lat1\n",
    "    dlon = lon2 - lon1\n",
    "    a = np.sin(dlat/2)**2 + np.cos(lat1) * np.cos(lat2) * np.sin(dlon/2)**2\n",
    "    c = 2 * np.arcsin(np.sqrt(a))\n",
    "    distance = R * c\n",
    "    \n",
    "    return distance"
   ]
  },
  {
   "cell_type": "code",
   "execution_count": 39,
   "id": "db1855bc",
   "metadata": {},
   "outputs": [
    {
     "data": {
      "text/html": [
       "<div>\n",
       "<style scoped>\n",
       "    .dataframe tbody tr th:only-of-type {\n",
       "        vertical-align: middle;\n",
       "    }\n",
       "\n",
       "    .dataframe tbody tr th {\n",
       "        vertical-align: top;\n",
       "    }\n",
       "\n",
       "    .dataframe thead th {\n",
       "        text-align: right;\n",
       "    }\n",
       "</style>\n",
       "<table border=\"1\" class=\"dataframe\">\n",
       "  <thead>\n",
       "    <tr style=\"text-align: right;\">\n",
       "      <th></th>\n",
       "      <th>started_at</th>\n",
       "      <th>ended_at</th>\n",
       "      <th>start_station_name</th>\n",
       "      <th>end_station_name</th>\n",
       "      <th>start_lat</th>\n",
       "      <th>start_lng</th>\n",
       "      <th>end_lat</th>\n",
       "      <th>end_lng</th>\n",
       "      <th>time_duration</th>\n",
       "      <th>rideable_type_electric_bike</th>\n",
       "      <th>member_casual_member</th>\n",
       "      <th>distance_km</th>\n",
       "    </tr>\n",
       "  </thead>\n",
       "  <tbody>\n",
       "    <tr>\n",
       "      <th>0</th>\n",
       "      <td>2024-02-01 21:18:50</td>\n",
       "      <td>2024-02-01 21:27:36</td>\n",
       "      <td>Eckington Pl &amp; Q St NE</td>\n",
       "      <td>5th &amp; K St NW</td>\n",
       "      <td>38.910893</td>\n",
       "      <td>-77.005023</td>\n",
       "      <td>38.903040</td>\n",
       "      <td>-77.019027</td>\n",
       "      <td>8.766667</td>\n",
       "      <td>True</td>\n",
       "      <td>True</td>\n",
       "      <td>1.493573</td>\n",
       "    </tr>\n",
       "    <tr>\n",
       "      <th>1</th>\n",
       "      <td>2024-02-15 16:46:51</td>\n",
       "      <td>2024-02-15 16:59:44</td>\n",
       "      <td>Metro Center / 12th &amp; G St NW</td>\n",
       "      <td>Columbia Rd &amp; Georgia Ave NW</td>\n",
       "      <td>38.898400</td>\n",
       "      <td>-77.027643</td>\n",
       "      <td>38.928121</td>\n",
       "      <td>-77.023795</td>\n",
       "      <td>12.883333</td>\n",
       "      <td>True</td>\n",
       "      <td>True</td>\n",
       "      <td>3.321546</td>\n",
       "    </tr>\n",
       "    <tr>\n",
       "      <th>2</th>\n",
       "      <td>2024-02-07 17:42:09</td>\n",
       "      <td>2024-02-07 18:12:20</td>\n",
       "      <td>4th &amp; C St SW</td>\n",
       "      <td>Columbia Rd &amp; Georgia Ave NW</td>\n",
       "      <td>38.886372</td>\n",
       "      <td>-77.017701</td>\n",
       "      <td>38.928121</td>\n",
       "      <td>-77.023795</td>\n",
       "      <td>30.183333</td>\n",
       "      <td>False</td>\n",
       "      <td>True</td>\n",
       "      <td>4.672147</td>\n",
       "    </tr>\n",
       "    <tr>\n",
       "      <th>3</th>\n",
       "      <td>2024-02-22 16:43:35</td>\n",
       "      <td>2024-02-22 16:56:25</td>\n",
       "      <td>4th &amp; M St SE</td>\n",
       "      <td>Columbus Circle / Union Station</td>\n",
       "      <td>38.876751</td>\n",
       "      <td>-77.000736</td>\n",
       "      <td>38.896960</td>\n",
       "      <td>-77.004930</td>\n",
       "      <td>12.833333</td>\n",
       "      <td>False</td>\n",
       "      <td>True</td>\n",
       "      <td>2.276269</td>\n",
       "    </tr>\n",
       "    <tr>\n",
       "      <th>4</th>\n",
       "      <td>2024-02-10 01:11:14</td>\n",
       "      <td>2024-02-10 01:23:52</td>\n",
       "      <td>Virginia Ave &amp; 25th St NW</td>\n",
       "      <td>20th &amp; O St NW / Dupont South</td>\n",
       "      <td>38.898460</td>\n",
       "      <td>-77.053052</td>\n",
       "      <td>38.908905</td>\n",
       "      <td>-77.044780</td>\n",
       "      <td>12.633333</td>\n",
       "      <td>False</td>\n",
       "      <td>False</td>\n",
       "      <td>1.364261</td>\n",
       "    </tr>\n",
       "  </tbody>\n",
       "</table>\n",
       "</div>"
      ],
      "text/plain": [
       "           started_at            ended_at             start_station_name  \\\n",
       "0 2024-02-01 21:18:50 2024-02-01 21:27:36         Eckington Pl & Q St NE   \n",
       "1 2024-02-15 16:46:51 2024-02-15 16:59:44  Metro Center / 12th & G St NW   \n",
       "2 2024-02-07 17:42:09 2024-02-07 18:12:20                  4th & C St SW   \n",
       "3 2024-02-22 16:43:35 2024-02-22 16:56:25                  4th & M St SE   \n",
       "4 2024-02-10 01:11:14 2024-02-10 01:23:52      Virginia Ave & 25th St NW   \n",
       "\n",
       "                  end_station_name  start_lat  start_lng    end_lat  \\\n",
       "0                    5th & K St NW  38.910893 -77.005023  38.903040   \n",
       "1     Columbia Rd & Georgia Ave NW  38.898400 -77.027643  38.928121   \n",
       "2     Columbia Rd & Georgia Ave NW  38.886372 -77.017701  38.928121   \n",
       "3  Columbus Circle / Union Station  38.876751 -77.000736  38.896960   \n",
       "4    20th & O St NW / Dupont South  38.898460 -77.053052  38.908905   \n",
       "\n",
       "     end_lng  time_duration  rideable_type_electric_bike  \\\n",
       "0 -77.019027       8.766667                         True   \n",
       "1 -77.023795      12.883333                         True   \n",
       "2 -77.023795      30.183333                        False   \n",
       "3 -77.004930      12.833333                        False   \n",
       "4 -77.044780      12.633333                        False   \n",
       "\n",
       "   member_casual_member  distance_km  \n",
       "0                  True     1.493573  \n",
       "1                  True     3.321546  \n",
       "2                  True     4.672147  \n",
       "3                  True     2.276269  \n",
       "4                 False     1.364261  "
      ]
     },
     "execution_count": 39,
     "metadata": {},
     "output_type": "execute_result"
    }
   ],
   "source": [
    "# Create new distance column calculating the haversine distance for each observation\n",
    "df['distance_km'] = haversine_distance(df['start_lat'], df['start_lng'], df['end_lat'], df['end_lng'])\n",
    "\n",
    "# Print out top of table to check\n",
    "df.head()"
   ]
  },
  {
   "cell_type": "code",
   "execution_count": 40,
   "id": "d900d2a2",
   "metadata": {},
   "outputs": [
    {
     "data": {
      "text/plain": [
       "764"
      ]
     },
     "execution_count": 40,
     "metadata": {},
     "output_type": "execute_result"
    }
   ],
   "source": [
    "# Print out number of unique start stations\n",
    "df[\"start_station_name\"].nunique()"
   ]
  },
  {
   "cell_type": "code",
   "execution_count": 41,
   "id": "320f40f2",
   "metadata": {},
   "outputs": [
    {
     "data": {
      "text/plain": [
       "start_station_name\n",
       "Columbus Circle / Union Station                        3566\n",
       "New Hampshire Ave & T St NW                            3023\n",
       "15th & P St NW                                         2489\n",
       "Eastern Market Metro / Pennsylvania Ave & 8th St SE    2256\n",
       "5th & K St NW                                          2188\n",
       "                                                       ... \n",
       "Oak Leaf & Lockwood                                       1\n",
       "Layton Hall Dr & University Dr                            1\n",
       "Dennis Ave & Amherst Ave                                  1\n",
       "Stewart & April                                           1\n",
       "Mission Square Dr & Miranda Ct                            1\n",
       "Name: count, Length: 764, dtype: int64"
      ]
     },
     "execution_count": 41,
     "metadata": {},
     "output_type": "execute_result"
    }
   ],
   "source": [
    "# Print out count for each station name\n",
    "df[\"start_station_name\"].value_counts()"
   ]
  },
  {
   "cell_type": "markdown",
   "id": "c1b6cf5c-917f-4d4f-933a-0e29567f86cf",
   "metadata": {},
   "source": [
    "Let's calculate another new data point. In this case, we are calculating average speed, as we believe this may be another metric which could give us valuable insight into our goal. **WHAT IS OUR GOAL?**"
   ]
  },
  {
   "cell_type": "code",
   "execution_count": 42,
   "id": "1ff2d12f",
   "metadata": {},
   "outputs": [
    {
     "data": {
      "text/html": [
       "<div>\n",
       "<style scoped>\n",
       "    .dataframe tbody tr th:only-of-type {\n",
       "        vertical-align: middle;\n",
       "    }\n",
       "\n",
       "    .dataframe tbody tr th {\n",
       "        vertical-align: top;\n",
       "    }\n",
       "\n",
       "    .dataframe thead th {\n",
       "        text-align: right;\n",
       "    }\n",
       "</style>\n",
       "<table border=\"1\" class=\"dataframe\">\n",
       "  <thead>\n",
       "    <tr style=\"text-align: right;\">\n",
       "      <th></th>\n",
       "      <th>started_at</th>\n",
       "      <th>ended_at</th>\n",
       "      <th>start_station_name</th>\n",
       "      <th>end_station_name</th>\n",
       "      <th>start_lat</th>\n",
       "      <th>start_lng</th>\n",
       "      <th>end_lat</th>\n",
       "      <th>end_lng</th>\n",
       "      <th>time_duration</th>\n",
       "      <th>rideable_type_electric_bike</th>\n",
       "      <th>member_casual_member</th>\n",
       "      <th>distance_km</th>\n",
       "      <th>average_speed</th>\n",
       "    </tr>\n",
       "  </thead>\n",
       "  <tbody>\n",
       "    <tr>\n",
       "      <th>0</th>\n",
       "      <td>2024-02-01 21:18:50</td>\n",
       "      <td>2024-02-01 21:27:36</td>\n",
       "      <td>Eckington Pl &amp; Q St NE</td>\n",
       "      <td>5th &amp; K St NW</td>\n",
       "      <td>38.910893</td>\n",
       "      <td>-77.005023</td>\n",
       "      <td>38.903040</td>\n",
       "      <td>-77.019027</td>\n",
       "      <td>8.766667</td>\n",
       "      <td>True</td>\n",
       "      <td>True</td>\n",
       "      <td>1.493573</td>\n",
       "      <td>10.222169</td>\n",
       "    </tr>\n",
       "    <tr>\n",
       "      <th>1</th>\n",
       "      <td>2024-02-15 16:46:51</td>\n",
       "      <td>2024-02-15 16:59:44</td>\n",
       "      <td>Metro Center / 12th &amp; G St NW</td>\n",
       "      <td>Columbia Rd &amp; Georgia Ave NW</td>\n",
       "      <td>38.898400</td>\n",
       "      <td>-77.027643</td>\n",
       "      <td>38.928121</td>\n",
       "      <td>-77.023795</td>\n",
       "      <td>12.883333</td>\n",
       "      <td>True</td>\n",
       "      <td>True</td>\n",
       "      <td>3.321546</td>\n",
       "      <td>15.469038</td>\n",
       "    </tr>\n",
       "    <tr>\n",
       "      <th>2</th>\n",
       "      <td>2024-02-07 17:42:09</td>\n",
       "      <td>2024-02-07 18:12:20</td>\n",
       "      <td>4th &amp; C St SW</td>\n",
       "      <td>Columbia Rd &amp; Georgia Ave NW</td>\n",
       "      <td>38.886372</td>\n",
       "      <td>-77.017701</td>\n",
       "      <td>38.928121</td>\n",
       "      <td>-77.023795</td>\n",
       "      <td>30.183333</td>\n",
       "      <td>False</td>\n",
       "      <td>True</td>\n",
       "      <td>4.672147</td>\n",
       "      <td>9.287537</td>\n",
       "    </tr>\n",
       "    <tr>\n",
       "      <th>3</th>\n",
       "      <td>2024-02-22 16:43:35</td>\n",
       "      <td>2024-02-22 16:56:25</td>\n",
       "      <td>4th &amp; M St SE</td>\n",
       "      <td>Columbus Circle / Union Station</td>\n",
       "      <td>38.876751</td>\n",
       "      <td>-77.000736</td>\n",
       "      <td>38.896960</td>\n",
       "      <td>-77.004930</td>\n",
       "      <td>12.833333</td>\n",
       "      <td>False</td>\n",
       "      <td>True</td>\n",
       "      <td>2.276269</td>\n",
       "      <td>10.642297</td>\n",
       "    </tr>\n",
       "    <tr>\n",
       "      <th>4</th>\n",
       "      <td>2024-02-10 01:11:14</td>\n",
       "      <td>2024-02-10 01:23:52</td>\n",
       "      <td>Virginia Ave &amp; 25th St NW</td>\n",
       "      <td>20th &amp; O St NW / Dupont South</td>\n",
       "      <td>38.898460</td>\n",
       "      <td>-77.053052</td>\n",
       "      <td>38.908905</td>\n",
       "      <td>-77.044780</td>\n",
       "      <td>12.633333</td>\n",
       "      <td>False</td>\n",
       "      <td>False</td>\n",
       "      <td>1.364261</td>\n",
       "      <td>6.479339</td>\n",
       "    </tr>\n",
       "  </tbody>\n",
       "</table>\n",
       "</div>"
      ],
      "text/plain": [
       "           started_at            ended_at             start_station_name  \\\n",
       "0 2024-02-01 21:18:50 2024-02-01 21:27:36         Eckington Pl & Q St NE   \n",
       "1 2024-02-15 16:46:51 2024-02-15 16:59:44  Metro Center / 12th & G St NW   \n",
       "2 2024-02-07 17:42:09 2024-02-07 18:12:20                  4th & C St SW   \n",
       "3 2024-02-22 16:43:35 2024-02-22 16:56:25                  4th & M St SE   \n",
       "4 2024-02-10 01:11:14 2024-02-10 01:23:52      Virginia Ave & 25th St NW   \n",
       "\n",
       "                  end_station_name  start_lat  start_lng    end_lat  \\\n",
       "0                    5th & K St NW  38.910893 -77.005023  38.903040   \n",
       "1     Columbia Rd & Georgia Ave NW  38.898400 -77.027643  38.928121   \n",
       "2     Columbia Rd & Georgia Ave NW  38.886372 -77.017701  38.928121   \n",
       "3  Columbus Circle / Union Station  38.876751 -77.000736  38.896960   \n",
       "4    20th & O St NW / Dupont South  38.898460 -77.053052  38.908905   \n",
       "\n",
       "     end_lng  time_duration  rideable_type_electric_bike  \\\n",
       "0 -77.019027       8.766667                         True   \n",
       "1 -77.023795      12.883333                         True   \n",
       "2 -77.023795      30.183333                        False   \n",
       "3 -77.004930      12.833333                        False   \n",
       "4 -77.044780      12.633333                        False   \n",
       "\n",
       "   member_casual_member  distance_km  average_speed  \n",
       "0                  True     1.493573      10.222169  \n",
       "1                  True     3.321546      15.469038  \n",
       "2                  True     4.672147       9.287537  \n",
       "3                  True     2.276269      10.642297  \n",
       "4                 False     1.364261       6.479339  "
      ]
     },
     "execution_count": 42,
     "metadata": {},
     "output_type": "execute_result"
    }
   ],
   "source": [
    "# Calculate new column average speed\n",
    "df[\"average_speed\"] = df[\"distance_km\"] / df[\"time_duration\"] * 60\n",
    "\n",
    "# Print out top of table to check\n",
    "df.head()"
   ]
  },
  {
   "cell_type": "code",
   "execution_count": 77,
   "id": "c1479616",
   "metadata": {},
   "outputs": [
    {
     "data": {
      "text/plain": [
       "time_duration\n",
       "5.700000      350\n",
       "4.966667      349\n",
       "4.900000      348\n",
       "4.483333      342\n",
       "5.800000      341\n",
       "             ... \n",
       "183.033333      1\n",
       "68.850000       1\n",
       "58.816667       1\n",
       "154.016667      1\n",
       "68.700000       1\n",
       "Name: count, Length: 6628, dtype: int64"
      ]
     },
     "execution_count": 77,
     "metadata": {},
     "output_type": "execute_result"
    }
   ],
   "source": [
    "# Print out count for different values of time duration\n",
    "df[\"time_duration\"].value_counts()"
   ]
  },
  {
   "cell_type": "markdown",
   "id": "18c45781-a741-496e-b07b-cf64968dccdf",
   "metadata": {},
   "source": [
    "### Some Exploratory Analysis #2\n",
    "Now, let's perform some exploratory analysis. We are trying to see the frequency of observations, which fall within the variety of time durations. As we can see from the graph, we know that a large majority of the data points lie below 200 minutes. Therefore, we have the choice of removing any data points above 200 minutes, as they may be outliers. WHY HISTOGRAM?"
   ]
  },
  {
   "cell_type": "code",
   "execution_count": 78,
   "id": "51828786",
   "metadata": {},
   "outputs": [
    {
     "data": {
      "text/plain": [
       "(array([2.45939e+05, 4.83000e+02, 4.90000e+01, 2.60000e+01, 1.70000e+01,\n",
       "        2.50000e+01, 2.70000e+01, 2.80000e+01, 2.60000e+01, 1.90000e+01]),\n",
       " array([   0.        ,  149.62333333,  299.24666667,  448.87      ,\n",
       "         598.49333333,  748.11666667,  897.74      , 1047.36333333,\n",
       "        1196.98666667, 1346.61      , 1496.23333333]),\n",
       " <BarContainer object of 10 artists>)"
      ]
     },
     "execution_count": 78,
     "metadata": {},
     "output_type": "execute_result"
    },
    {
     "data": {
      "image/png": "[encoded data removed]",
      "text/plain": [
       "<Figure size 1500x800 with 1 Axes>"
      ]
     },
     "metadata": {},
     "output_type": "display_data"
    }
   ],
   "source": [
    "# Plot a histogram of time duration\n",
    "plt.figure(figsize=(15,8))\n",
    "plt.hist(df[\"time_duration\"])"
   ]
  },
  {
   "cell_type": "code",
   "execution_count": 79,
   "id": "fd275792",
   "metadata": {},
   "outputs": [
    {
     "name": "stdout",
     "output_type": "stream",
     "text": [
      "<class 'pandas.core.frame.DataFrame'>\n",
      "RangeIndex: 246639 entries, 0 to 246638\n",
      "Data columns (total 13 columns):\n",
      " #   Column                       Non-Null Count   Dtype         \n",
      "---  ------                       --------------   -----         \n",
      " 0   started_at                   246639 non-null  datetime64[ns]\n",
      " 1   ended_at                     246639 non-null  datetime64[ns]\n",
      " 2   start_station_name           246639 non-null  object        \n",
      " 3   end_station_name             246639 non-null  object        \n",
      " 4   start_lat                    246639 non-null  float64       \n",
      " 5   start_lng                    246639 non-null  float64       \n",
      " 6   end_lat                      246639 non-null  float64       \n",
      " 7   end_lng                      246639 non-null  float64       \n",
      " 8   time_duration                246639 non-null  float64       \n",
      " 9   rideable_type_electric_bike  246639 non-null  bool          \n",
      " 10  member_casual_member         246639 non-null  bool          \n",
      " 11  distance_km                  246639 non-null  float64       \n",
      " 12  average_speed                246627 non-null  float64       \n",
      "dtypes: bool(2), datetime64[ns](2), float64(7), object(2)\n",
      "memory usage: 21.2+ MB\n"
     ]
    }
   ],
   "source": [
    "# List out columns\n",
    "df.info()"
   ]
  },
  {
   "cell_type": "markdown",
   "id": "979ea39c-3f95-4f41-88c6-1cfe4caa1a5c",
   "metadata": {},
   "source": [
    "Next, let's drop some unreasonable data points. In this code, we'll drop any time durations below 0 minutes, as such a bike ride is too short. WHAT MIGHT THIS DO TO OUR DATA?"
   ]
  },
  {
   "cell_type": "code",
   "execution_count": 80,
   "id": "b0e04dd3",
   "metadata": {},
   "outputs": [],
   "source": [
    "# Drop time durations under 0 minutes, too short\n",
    "df.drop(df[df[\"time_duration\"] <= 0].index, axis = 0, inplace=True)\n",
    "\n",
    "# Print top of table to check\n",
    "df.head()"
   ]
  },
  {
   "cell_type": "code",
   "execution_count": 82,
   "id": "9cc1bf71",
   "metadata": {},
   "outputs": [
    {
     "name": "stdout",
     "output_type": "stream",
     "text": [
      "<class 'pandas.core.frame.DataFrame'>\n",
      "Index: 246611 entries, 0 to 246638\n",
      "Data columns (total 13 columns):\n",
      " #   Column                       Non-Null Count   Dtype         \n",
      "---  ------                       --------------   -----         \n",
      " 0   started_at                   246611 non-null  datetime64[ns]\n",
      " 1   ended_at                     246611 non-null  datetime64[ns]\n",
      " 2   start_station_name           246611 non-null  object        \n",
      " 3   end_station_name             246611 non-null  object        \n",
      " 4   start_lat                    246611 non-null  float64       \n",
      " 5   start_lng                    246611 non-null  float64       \n",
      " 6   end_lat                      246611 non-null  float64       \n",
      " 7   end_lng                      246611 non-null  float64       \n",
      " 8   time_duration                246611 non-null  float64       \n",
      " 9   rideable_type_electric_bike  246611 non-null  bool          \n",
      " 10  member_casual_member         246611 non-null  bool          \n",
      " 11  distance_km                  246611 non-null  float64       \n",
      " 12  average_speed                246611 non-null  float64       \n",
      "dtypes: bool(2), datetime64[ns](2), float64(7), object(2)\n",
      "memory usage: 23.0+ MB\n"
     ]
    }
   ],
   "source": [
    "# List out columns\n",
    "df.info()"
   ]
  },
  {
   "cell_type": "markdown",
   "id": "0ecde046-677a-45ae-9ffd-d8a6fca06a2a",
   "metadata": {},
   "source": [
    "### Some Exploratory Analysis #3\n",
    "Let's perform some more exploratory analysis. From outputting our data table early on, did you notice some peculiar data points, specifically for our 'time duration' and 'average speed' data points? Some of the values seemed a little to unrealistic, for example, a person was riding for a total of 1400 minutes, which is about 24 hours??? On the other hand for average speed, some people were traveling at 2500 km/min DOUBLE CHECK THIS VALUE?? Sometimes, unrealistic data points may have been a result of an error or mistake in the data collection phase. Therefore, it is important to identify these points, and eliminate any points, which may seem incorrect. The graph below serves to compare these potential outliers, and identify any other ones. WHY WE PLOT AVERGAE SPEED VS TIME DURATION? MAYBE MENTION SCATTER PLOT ALSO GOOD FOR SEEING RELATIONSHIPS BETWEEN TWO VARIABLES?"
   ]
  },
  {
   "cell_type": "code",
   "execution_count": 83,
   "id": "b47a053a",
   "metadata": {},
   "outputs": [
    {
     "data": {
      "text/plain": [
       "<matplotlib.collections.PathCollection at 0x30ca88610>"
      ]
     },
     "execution_count": 83,
     "metadata": {},
     "output_type": "execute_result"
    },
    {
     "data": {
      "image/png": "[encoded data removed]",
      "text/plain": [
       "<Figure size 1500x800 with 1 Axes>"
      ]
     },
     "metadata": {},
     "output_type": "display_data"
    }
   ],
   "source": [
    "# Create scatter plot for average speed vs time duration\n",
    "plt.figure(figsize=(15,8))\n",
    "plt.scatter(df[\"time_duration\"], df[\"average_speed\"])"
   ]
  },
  {
   "cell_type": "markdown",
   "id": "29cb0eed-525b-44ff-adc9-33785bf75b01",
   "metadata": {},
   "source": [
    "After examining the graph, do you see anything worth noticing? If you look carefully, we notice that most of the average speeds lie under a certain value of about 35 km/min (METRIC IS CORRET OR NAH). Therefore, let's only include data points which lie below this value. Let's also sort our observations based on these values, so that it is easier to see our minimum and maximum average speeds. \n",
    "\n",
    "Note: We are creating a new dataframe so that we don't change any of the values in our original dataframe. MORE REASONING?"
   ]
  },
  {
   "cell_type": "code",
   "execution_count": 84,
   "id": "c61ee699",
   "metadata": {},
   "outputs": [],
   "source": [
    "# Keep observations with average speed below 35, and sort them\n",
    "filtered_df = df[df['average_speed'] <= 35].sort_values(by='average_speed')\n",
    "\n",
    "# Print out top of table to check\n",
    "filtered_df.head()"
   ]
  },
  {
   "cell_type": "markdown",
   "id": "72a4515a-acb0-4963-8dd3-8770f5108b0a",
   "metadata": {},
   "source": [
    "Now, we will eliminate some more data points, in which seem unreaasonable. First, let's get rid of any bike rides where the start and end destination were the exact same. It is most likely these individuals barely moved, therefore, leading to inaccurate data. "
   ]
  },
  {
   "cell_type": "code",
   "execution_count": 86,
   "id": "9e3dde14",
   "metadata": {},
   "outputs": [],
   "source": [
    "# Drop same start and end stations\n",
    "filtered_df.drop(filtered_df[filtered_df[\"start_station_name\"] == filtered_df[\"end_station_name\"]].index, inplace=True)"
   ]
  },
  {
   "cell_type": "markdown",
   "id": "339fb109-3a03-4595-acf1-a8151ad22d02",
   "metadata": {},
   "source": [
    "Now, let's drop data points, where an individual was traveling below 0.2 km, as this only 200 meters. Some of the fastest people in the world run this distance in less than 20 seconds. Therefore, this bike ride would be incredibly short."
   ]
  },
  {
   "cell_type": "code",
   "execution_count": 87,
   "id": "0ef828ba",
   "metadata": {},
   "outputs": [],
   "source": [
    "# Drop observations with distance under 0.2 km\n",
    "filtered_df.drop(filtered_df[filtered_df[\"distance_km\"] <= .2].index, inplace=True)"
   ]
  },
  {
   "cell_type": "markdown",
   "id": "e9f526e5-6f84-41eb-b8c1-60769429a2b9",
   "metadata": {},
   "source": [
    "Now, let's drop data points, where the time spent riding the bike was greater than 300 minutes. Sometimes, data scientists will eliminate data points based on personal intuition, rather than relying on research. It is usually safer to rely on research or logic to back up your actions. However, for the purpose of this tutorial, we can agree that riding on a bike for more than 5 hours may be too long/unreasonable."
   ]
  },
  {
   "cell_type": "code",
   "execution_count": 88,
   "id": "dcf39bdc",
   "metadata": {},
   "outputs": [],
   "source": [
    "# Drop time durations longer than 300 minutes\n",
    "filtered_df.drop(filtered_df[filtered_df[\"time_duration\"] >= 300].index, inplace=True)"
   ]
  },
  {
   "cell_type": "markdown",
   "id": "88cea24d-818f-4546-aadb-a8631347de13",
   "metadata": {},
   "source": [
    "### Some Exploratory Analysis #4\n",
    "Let's perform some more exploratory analysis. Let's plot the distance traveled vs the average speed. *Why do you think we are doing this?* \n",
    "THEN PROVIDE SOME REASON"
   ]
  },
  {
   "cell_type": "code",
   "execution_count": 89,
   "id": "b6d4c454",
   "metadata": {},
   "outputs": [
    {
     "data": {
      "text/plain": [
       "<matplotlib.collections.PathCollection at 0x3138c8610>"
      ]
     },
     "execution_count": 89,
     "metadata": {},
     "output_type": "execute_result"
    },
    {
     "data": {
      "image/png": "[encoded data removed]",
      "text/plain": [
       "<Figure size 1500x800 with 1 Axes>"
      ]
     },
     "metadata": {},
     "output_type": "display_data"
    }
   ],
   "source": [
    "# Create scatter plot for average speed vs distance\n",
    "plt.figure(figsize=(15,8))\n",
    "plt.scatter(filtered_df[\"distance_km\"], filtered_df[\"average_speed\"])"
   ]
  },
  {
   "cell_type": "markdown",
   "id": "30527306-db8e-41e1-bef6-f76dbe39333a",
   "metadata": {},
   "source": [
    "### Some Exploratory Analysis #5\n",
    "Let's perform some more exploratory analysis. This time, let's do something similar, but instead plot the time duration vs the average speed. *Why do you think we are doing this?* \n",
    "THEN PROVIDE SOME REASON"
   ]
  },
  {
   "cell_type": "code",
   "execution_count": 90,
   "id": "a1ac436a",
   "metadata": {},
   "outputs": [
    {
     "data": {
      "text/plain": [
       "<matplotlib.collections.PathCollection at 0x30ccb04d0>"
      ]
     },
     "execution_count": 90,
     "metadata": {},
     "output_type": "execute_result"
    },
    {
     "data": {
      "image/png": "[encoded data removed]",
      "text/plain": [
       "<Figure size 1500x800 with 1 Axes>"
      ]
     },
     "metadata": {},
     "output_type": "display_data"
    }
   ],
   "source": [
    "# Plot scatter plot for average speed vs time duration\n",
    "plt.figure(figsize=(15,8))\n",
    "plt.scatter(filtered_df[\"time_duration\"], filtered_df[\"average_speed\"])"
   ]
  },
  {
   "cell_type": "markdown",
   "id": "2cbde8e7-5e30-4088-9070-2203de1a0887",
   "metadata": {},
   "source": [
    "Let's sort the values of our distance traveled to once again better view the minimum and maxiumum value of our distance traveled data point. "
   ]
  },
  {
   "cell_type": "code",
   "execution_count": 91,
   "id": "2b555f54",
   "metadata": {},
   "outputs": [
    {
     "data": {
      "text/html": [
       "<div>\n",
       "<style scoped>\n",
       "    .dataframe tbody tr th:only-of-type {\n",
       "        vertical-align: middle;\n",
       "    }\n",
       "\n",
       "    .dataframe tbody tr th {\n",
       "        vertical-align: top;\n",
       "    }\n",
       "\n",
       "    .dataframe thead th {\n",
       "        text-align: right;\n",
       "    }\n",
       "</style>\n",
       "<table border=\"1\" class=\"dataframe\">\n",
       "  <thead>\n",
       "    <tr style=\"text-align: right;\">\n",
       "      <th></th>\n",
       "      <th>started_at</th>\n",
       "      <th>ended_at</th>\n",
       "      <th>start_station_name</th>\n",
       "      <th>end_station_name</th>\n",
       "      <th>start_lat</th>\n",
       "      <th>start_lng</th>\n",
       "      <th>end_lat</th>\n",
       "      <th>end_lng</th>\n",
       "      <th>time_duration</th>\n",
       "      <th>rideable_type_electric_bike</th>\n",
       "      <th>member_casual_member</th>\n",
       "      <th>distance_km</th>\n",
       "      <th>average_speed</th>\n",
       "    </tr>\n",
       "  </thead>\n",
       "  <tbody>\n",
       "    <tr>\n",
       "      <th>208772</th>\n",
       "      <td>2024-02-10 07:11:23</td>\n",
       "      <td>2024-02-10 07:13:39</td>\n",
       "      <td>Rhode Island Ave Metro</td>\n",
       "      <td>MBT &amp; Bryant St NE</td>\n",
       "      <td>38.920606</td>\n",
       "      <td>-76.995917</td>\n",
       "      <td>38.922404</td>\n",
       "      <td>-76.996023</td>\n",
       "      <td>2.266667</td>\n",
       "      <td>True</td>\n",
       "      <td>False</td>\n",
       "      <td>0.200085</td>\n",
       "      <td>5.296356</td>\n",
       "    </tr>\n",
       "    <tr>\n",
       "      <th>52290</th>\n",
       "      <td>2024-02-07 18:01:10</td>\n",
       "      <td>2024-02-07 18:02:53</td>\n",
       "      <td>19th &amp; G St NW</td>\n",
       "      <td>18th St &amp; Pennsylvania Ave NW</td>\n",
       "      <td>38.898412</td>\n",
       "      <td>-77.043182</td>\n",
       "      <td>38.899680</td>\n",
       "      <td>-77.041539</td>\n",
       "      <td>1.716667</td>\n",
       "      <td>False</td>\n",
       "      <td>True</td>\n",
       "      <td>0.200238</td>\n",
       "      <td>6.998611</td>\n",
       "    </tr>\n",
       "    <tr>\n",
       "      <th>142630</th>\n",
       "      <td>2024-02-05 20:27:41</td>\n",
       "      <td>2024-02-05 20:28:44</td>\n",
       "      <td>19th &amp; G St NW</td>\n",
       "      <td>18th St &amp; Pennsylvania Ave NW</td>\n",
       "      <td>38.898412</td>\n",
       "      <td>-77.043182</td>\n",
       "      <td>38.899680</td>\n",
       "      <td>-77.041539</td>\n",
       "      <td>1.050000</td>\n",
       "      <td>False</td>\n",
       "      <td>True</td>\n",
       "      <td>0.200238</td>\n",
       "      <td>11.442173</td>\n",
       "    </tr>\n",
       "    <tr>\n",
       "      <th>146385</th>\n",
       "      <td>2024-02-14 13:38:16</td>\n",
       "      <td>2024-02-14 14:05:01</td>\n",
       "      <td>18th St &amp; Pennsylvania Ave NW</td>\n",
       "      <td>19th &amp; G St NW</td>\n",
       "      <td>38.899680</td>\n",
       "      <td>-77.041539</td>\n",
       "      <td>38.898412</td>\n",
       "      <td>-77.043182</td>\n",
       "      <td>26.750000</td>\n",
       "      <td>False</td>\n",
       "      <td>True</td>\n",
       "      <td>0.200238</td>\n",
       "      <td>0.449132</td>\n",
       "    </tr>\n",
       "    <tr>\n",
       "      <th>97494</th>\n",
       "      <td>2024-02-27 18:33:58</td>\n",
       "      <td>2024-02-27 18:35:29</td>\n",
       "      <td>18th St &amp; Pennsylvania Ave NW</td>\n",
       "      <td>19th &amp; G St NW</td>\n",
       "      <td>38.899680</td>\n",
       "      <td>-77.041539</td>\n",
       "      <td>38.898412</td>\n",
       "      <td>-77.043182</td>\n",
       "      <td>1.516667</td>\n",
       "      <td>False</td>\n",
       "      <td>True</td>\n",
       "      <td>0.200238</td>\n",
       "      <td>7.921505</td>\n",
       "    </tr>\n",
       "    <tr>\n",
       "      <th>...</th>\n",
       "      <td>...</td>\n",
       "      <td>...</td>\n",
       "      <td>...</td>\n",
       "      <td>...</td>\n",
       "      <td>...</td>\n",
       "      <td>...</td>\n",
       "      <td>...</td>\n",
       "      <td>...</td>\n",
       "      <td>...</td>\n",
       "      <td>...</td>\n",
       "      <td>...</td>\n",
       "      <td>...</td>\n",
       "      <td>...</td>\n",
       "    </tr>\n",
       "    <tr>\n",
       "      <th>179319</th>\n",
       "      <td>2024-02-17 16:35:13</td>\n",
       "      <td>2024-02-17 18:18:44</td>\n",
       "      <td>Blenheim Blvd &amp; North St</td>\n",
       "      <td>New Hampshire Ave &amp; T St NW</td>\n",
       "      <td>38.846972</td>\n",
       "      <td>-77.303349</td>\n",
       "      <td>38.915544</td>\n",
       "      <td>-77.038252</td>\n",
       "      <td>103.516667</td>\n",
       "      <td>False</td>\n",
       "      <td>True</td>\n",
       "      <td>24.180314</td>\n",
       "      <td>14.015317</td>\n",
       "    </tr>\n",
       "    <tr>\n",
       "      <th>116960</th>\n",
       "      <td>2024-02-18 11:30:08</td>\n",
       "      <td>2024-02-18 15:00:58</td>\n",
       "      <td>Monroe St &amp; Monroe Pl</td>\n",
       "      <td>Columbus Circle / Union Station</td>\n",
       "      <td>39.083673</td>\n",
       "      <td>-77.149162</td>\n",
       "      <td>38.896960</td>\n",
       "      <td>-77.004930</td>\n",
       "      <td>210.833333</td>\n",
       "      <td>False</td>\n",
       "      <td>False</td>\n",
       "      <td>24.216295</td>\n",
       "      <td>6.891594</td>\n",
       "    </tr>\n",
       "    <tr>\n",
       "      <th>121869</th>\n",
       "      <td>2024-02-03 09:58:54</td>\n",
       "      <td>2024-02-03 11:57:54</td>\n",
       "      <td>Reston Town Center Metro North</td>\n",
       "      <td>34th &amp; Water St NW</td>\n",
       "      <td>38.953618</td>\n",
       "      <td>-77.359698</td>\n",
       "      <td>38.903731</td>\n",
       "      <td>-77.067528</td>\n",
       "      <td>119.000000</td>\n",
       "      <td>True</td>\n",
       "      <td>False</td>\n",
       "      <td>25.874758</td>\n",
       "      <td>13.046097</td>\n",
       "    </tr>\n",
       "    <tr>\n",
       "      <th>19418</th>\n",
       "      <td>2024-02-24 07:15:11</td>\n",
       "      <td>2024-02-24 09:15:29</td>\n",
       "      <td>North Shore &amp; Cameron Crescent Dr/Crescent Apa...</td>\n",
       "      <td>Harvard St &amp; Adams Mill Rd NW</td>\n",
       "      <td>38.970145</td>\n",
       "      <td>-77.338663</td>\n",
       "      <td>38.927872</td>\n",
       "      <td>-77.043358</td>\n",
       "      <td>120.300000</td>\n",
       "      <td>True</td>\n",
       "      <td>False</td>\n",
       "      <td>25.966048</td>\n",
       "      <td>12.950648</td>\n",
       "    </tr>\n",
       "    <tr>\n",
       "      <th>165110</th>\n",
       "      <td>2024-02-24 15:32:26</td>\n",
       "      <td>2024-02-24 17:44:31</td>\n",
       "      <td>20th &amp; O St NW / Dupont South</td>\n",
       "      <td>North Shore &amp; Cameron Crescent Dr/Crescent Apa...</td>\n",
       "      <td>38.908705</td>\n",
       "      <td>-77.044971</td>\n",
       "      <td>38.970046</td>\n",
       "      <td>-77.338686</td>\n",
       "      <td>132.083333</td>\n",
       "      <td>True</td>\n",
       "      <td>False</td>\n",
       "      <td>26.302805</td>\n",
       "      <td>11.948277</td>\n",
       "    </tr>\n",
       "  </tbody>\n",
       "</table>\n",
       "<p>235600 rows × 13 columns</p>\n",
       "</div>"
      ],
      "text/plain": [
       "                started_at            ended_at  \\\n",
       "208772 2024-02-10 07:11:23 2024-02-10 07:13:39   \n",
       "52290  2024-02-07 18:01:10 2024-02-07 18:02:53   \n",
       "142630 2024-02-05 20:27:41 2024-02-05 20:28:44   \n",
       "146385 2024-02-14 13:38:16 2024-02-14 14:05:01   \n",
       "97494  2024-02-27 18:33:58 2024-02-27 18:35:29   \n",
       "...                    ...                 ...   \n",
       "179319 2024-02-17 16:35:13 2024-02-17 18:18:44   \n",
       "116960 2024-02-18 11:30:08 2024-02-18 15:00:58   \n",
       "121869 2024-02-03 09:58:54 2024-02-03 11:57:54   \n",
       "19418  2024-02-24 07:15:11 2024-02-24 09:15:29   \n",
       "165110 2024-02-24 15:32:26 2024-02-24 17:44:31   \n",
       "\n",
       "                                       start_station_name  \\\n",
       "208772                             Rhode Island Ave Metro   \n",
       "52290                                      19th & G St NW   \n",
       "142630                                     19th & G St NW   \n",
       "146385                      18th St & Pennsylvania Ave NW   \n",
       "97494                       18th St & Pennsylvania Ave NW   \n",
       "...                                                   ...   \n",
       "179319                           Blenheim Blvd & North St   \n",
       "116960                              Monroe St & Monroe Pl   \n",
       "121869                     Reston Town Center Metro North   \n",
       "19418   North Shore & Cameron Crescent Dr/Crescent Apa...   \n",
       "165110                      20th & O St NW / Dupont South   \n",
       "\n",
       "                                         end_station_name  start_lat  \\\n",
       "208772                                 MBT & Bryant St NE  38.920606   \n",
       "52290                       18th St & Pennsylvania Ave NW  38.898412   \n",
       "142630                      18th St & Pennsylvania Ave NW  38.898412   \n",
       "146385                                     19th & G St NW  38.899680   \n",
       "97494                                      19th & G St NW  38.899680   \n",
       "...                                                   ...        ...   \n",
       "179319                        New Hampshire Ave & T St NW  38.846972   \n",
       "116960                    Columbus Circle / Union Station  39.083673   \n",
       "121869                                 34th & Water St NW  38.953618   \n",
       "19418                       Harvard St & Adams Mill Rd NW  38.970145   \n",
       "165110  North Shore & Cameron Crescent Dr/Crescent Apa...  38.908705   \n",
       "\n",
       "        start_lng    end_lat    end_lng  time_duration  \\\n",
       "208772 -76.995917  38.922404 -76.996023       2.266667   \n",
       "52290  -77.043182  38.899680 -77.041539       1.716667   \n",
       "142630 -77.043182  38.899680 -77.041539       1.050000   \n",
       "146385 -77.041539  38.898412 -77.043182      26.750000   \n",
       "97494  -77.041539  38.898412 -77.043182       1.516667   \n",
       "...           ...        ...        ...            ...   \n",
       "179319 -77.303349  38.915544 -77.038252     103.516667   \n",
       "116960 -77.149162  38.896960 -77.004930     210.833333   \n",
       "121869 -77.359698  38.903731 -77.067528     119.000000   \n",
       "19418  -77.338663  38.927872 -77.043358     120.300000   \n",
       "165110 -77.044971  38.970046 -77.338686     132.083333   \n",
       "\n",
       "        rideable_type_electric_bike  member_casual_member  distance_km  \\\n",
       "208772                         True                 False     0.200085   \n",
       "52290                         False                  True     0.200238   \n",
       "142630                        False                  True     0.200238   \n",
       "146385                        False                  True     0.200238   \n",
       "97494                         False                  True     0.200238   \n",
       "...                             ...                   ...          ...   \n",
       "179319                        False                  True    24.180314   \n",
       "116960                        False                 False    24.216295   \n",
       "121869                         True                 False    25.874758   \n",
       "19418                          True                 False    25.966048   \n",
       "165110                         True                 False    26.302805   \n",
       "\n",
       "        average_speed  \n",
       "208772       5.296356  \n",
       "52290        6.998611  \n",
       "142630      11.442173  \n",
       "146385       0.449132  \n",
       "97494        7.921505  \n",
       "...               ...  \n",
       "179319      14.015317  \n",
       "116960       6.891594  \n",
       "121869      13.046097  \n",
       "19418       12.950648  \n",
       "165110      11.948277  \n",
       "\n",
       "[235600 rows x 13 columns]"
      ]
     },
     "execution_count": 91,
     "metadata": {},
     "output_type": "execute_result"
    }
   ],
   "source": [
    "# Sort observations by distances\n",
    "filtered_df.sort_values(by='distance_km')"
   ]
  },
  {
   "cell_type": "code",
   "execution_count": 92,
   "id": "8813d4f4",
   "metadata": {},
   "outputs": [
    {
     "data": {
      "text/plain": [
       "9.133333333333333"
      ]
     },
     "execution_count": 92,
     "metadata": {},
     "output_type": "execute_result"
    }
   ],
   "source": [
    "# Calculate median of time duration data points\n",
    "filtered_df[\"time_duration\"].median()"
   ]
  },
  {
   "cell_type": "code",
   "execution_count": 93,
   "id": "9b1ac299",
   "metadata": {},
   "outputs": [],
   "source": [
    "# Reset indices\n",
    "filtered_df.reset_index(drop=True, inplace=True)"
   ]
  },
  {
   "cell_type": "code",
   "execution_count": 94,
   "id": "b8f66459",
   "metadata": {},
   "outputs": [
    {
     "data": {
      "text/plain": [
       "18900     0.200085\n",
       "35682     0.200238\n",
       "139530    0.200238\n",
       "747       0.200238\n",
       "51195     0.200238\n",
       "126341    0.200238\n",
       "14959     0.200238\n",
       "47        0.200238\n",
       "70748     0.200692\n",
       "17166     0.200692\n",
       "192859    0.200692\n",
       "135723    0.200692\n",
       "2291      0.200692\n",
       "14464     0.200822\n",
       "110637    0.200850\n",
       "63651     0.200859\n",
       "34083     0.200859\n",
       "18501     0.200859\n",
       "513       0.200859\n",
       "16992     0.200859\n",
       "50028     0.200859\n",
       "38037     0.200859\n",
       "216       0.200863\n",
       "106780    0.200863\n",
       "9866      0.200863\n",
       "45        0.200863\n",
       "215       0.200946\n",
       "103104    0.200946\n",
       "71008     0.200946\n",
       "18305     0.200946\n",
       "9189      0.200946\n",
       "66036     0.200946\n",
       "44133     0.200946\n",
       "88778     0.200946\n",
       "88777     0.200946\n",
       "85539     0.200946\n",
       "45525     0.200946\n",
       "63733     0.200946\n",
       "149627    0.201076\n",
       "57516     0.201290\n",
       "89196     0.201290\n",
       "51994     0.201290\n",
       "79742     0.201290\n",
       "145868    0.201565\n",
       "86344     0.201589\n",
       "107927    0.201703\n",
       "7079      0.202580\n",
       "60881     0.202655\n",
       "63108     0.202655\n",
       "105399    0.202655\n",
       "Name: distance_km, dtype: float64"
      ]
     },
     "execution_count": 94,
     "metadata": {},
     "output_type": "execute_result"
    }
   ],
   "source": [
    "# Sort the distances, and print out first 50\n",
    "filtered_df[\"distance_km\"].sort_values()[:50]"
   ]
  },
  {
   "cell_type": "code",
   "execution_count": 95,
   "id": "138dfd41",
   "metadata": {},
   "outputs": [
    {
     "data": {
      "text/plain": [
       "started_at                     2024-02-16 12:32:00\n",
       "ended_at                       2024-02-16 12:48:59\n",
       "start_station_name                   1st & N St SE\n",
       "end_station_name                     1st & I St SE\n",
       "start_lat                                38.875023\n",
       "start_lng                               -77.005754\n",
       "end_lat                                  38.878854\n",
       "end_lng                                 -77.005727\n",
       "time_duration                            16.983333\n",
       "rideable_type_electric_bike                  False\n",
       "member_casual_member                         False\n",
       "distance_km                               0.426066\n",
       "average_speed                             1.505236\n",
       "Name: 3830, dtype: object"
      ]
     },
     "execution_count": 95,
     "metadata": {},
     "output_type": "execute_result"
    }
   ],
   "source": [
    "# Locating one specific observation\n",
    "filtered_df.iloc[3830]"
   ]
  },
  {
   "cell_type": "code",
   "execution_count": 96,
   "id": "d1bedb92",
   "metadata": {},
   "outputs": [
    {
     "data": {
      "text/html": [
       "<div>\n",
       "<style scoped>\n",
       "    .dataframe tbody tr th:only-of-type {\n",
       "        vertical-align: middle;\n",
       "    }\n",
       "\n",
       "    .dataframe tbody tr th {\n",
       "        vertical-align: top;\n",
       "    }\n",
       "\n",
       "    .dataframe thead th {\n",
       "        text-align: right;\n",
       "    }\n",
       "</style>\n",
       "<table border=\"1\" class=\"dataframe\">\n",
       "  <thead>\n",
       "    <tr style=\"text-align: right;\">\n",
       "      <th></th>\n",
       "      <th>started_at</th>\n",
       "      <th>ended_at</th>\n",
       "      <th>start_station_name</th>\n",
       "      <th>end_station_name</th>\n",
       "      <th>start_lat</th>\n",
       "      <th>start_lng</th>\n",
       "      <th>end_lat</th>\n",
       "      <th>end_lng</th>\n",
       "      <th>time_duration</th>\n",
       "      <th>rideable_type_electric_bike</th>\n",
       "      <th>member_casual_member</th>\n",
       "      <th>distance_km</th>\n",
       "      <th>average_speed</th>\n",
       "    </tr>\n",
       "  </thead>\n",
       "  <tbody>\n",
       "    <tr>\n",
       "      <th>0</th>\n",
       "      <td>2024-02-01 21:18:50</td>\n",
       "      <td>2024-02-01 21:27:36</td>\n",
       "      <td>Eckington Pl &amp; Q St NE</td>\n",
       "      <td>5th &amp; K St NW</td>\n",
       "      <td>38.910893</td>\n",
       "      <td>-77.005023</td>\n",
       "      <td>38.903040</td>\n",
       "      <td>-77.019027</td>\n",
       "      <td>8.766667</td>\n",
       "      <td>True</td>\n",
       "      <td>True</td>\n",
       "      <td>1.493573</td>\n",
       "      <td>10.222169</td>\n",
       "    </tr>\n",
       "    <tr>\n",
       "      <th>1</th>\n",
       "      <td>2024-02-15 16:46:51</td>\n",
       "      <td>2024-02-15 16:59:44</td>\n",
       "      <td>Metro Center / 12th &amp; G St NW</td>\n",
       "      <td>Columbia Rd &amp; Georgia Ave NW</td>\n",
       "      <td>38.898400</td>\n",
       "      <td>-77.027643</td>\n",
       "      <td>38.928121</td>\n",
       "      <td>-77.023795</td>\n",
       "      <td>12.883333</td>\n",
       "      <td>True</td>\n",
       "      <td>True</td>\n",
       "      <td>3.321546</td>\n",
       "      <td>15.469038</td>\n",
       "    </tr>\n",
       "    <tr>\n",
       "      <th>2</th>\n",
       "      <td>2024-02-07 17:42:09</td>\n",
       "      <td>2024-02-07 18:12:20</td>\n",
       "      <td>4th &amp; C St SW</td>\n",
       "      <td>Columbia Rd &amp; Georgia Ave NW</td>\n",
       "      <td>38.886372</td>\n",
       "      <td>-77.017701</td>\n",
       "      <td>38.928121</td>\n",
       "      <td>-77.023795</td>\n",
       "      <td>30.183333</td>\n",
       "      <td>False</td>\n",
       "      <td>True</td>\n",
       "      <td>4.672147</td>\n",
       "      <td>9.287537</td>\n",
       "    </tr>\n",
       "    <tr>\n",
       "      <th>3</th>\n",
       "      <td>2024-02-22 16:43:35</td>\n",
       "      <td>2024-02-22 16:56:25</td>\n",
       "      <td>4th &amp; M St SE</td>\n",
       "      <td>Columbus Circle / Union Station</td>\n",
       "      <td>38.876751</td>\n",
       "      <td>-77.000736</td>\n",
       "      <td>38.896960</td>\n",
       "      <td>-77.004930</td>\n",
       "      <td>12.833333</td>\n",
       "      <td>False</td>\n",
       "      <td>True</td>\n",
       "      <td>2.276269</td>\n",
       "      <td>10.642297</td>\n",
       "    </tr>\n",
       "    <tr>\n",
       "      <th>4</th>\n",
       "      <td>2024-02-10 01:11:14</td>\n",
       "      <td>2024-02-10 01:23:52</td>\n",
       "      <td>Virginia Ave &amp; 25th St NW</td>\n",
       "      <td>20th &amp; O St NW / Dupont South</td>\n",
       "      <td>38.898460</td>\n",
       "      <td>-77.053052</td>\n",
       "      <td>38.908905</td>\n",
       "      <td>-77.044780</td>\n",
       "      <td>12.633333</td>\n",
       "      <td>False</td>\n",
       "      <td>False</td>\n",
       "      <td>1.364261</td>\n",
       "      <td>6.479339</td>\n",
       "    </tr>\n",
       "  </tbody>\n",
       "</table>\n",
       "</div>"
      ],
      "text/plain": [
       "           started_at            ended_at             start_station_name  \\\n",
       "0 2024-02-01 21:18:50 2024-02-01 21:27:36         Eckington Pl & Q St NE   \n",
       "1 2024-02-15 16:46:51 2024-02-15 16:59:44  Metro Center / 12th & G St NW   \n",
       "2 2024-02-07 17:42:09 2024-02-07 18:12:20                  4th & C St SW   \n",
       "3 2024-02-22 16:43:35 2024-02-22 16:56:25                  4th & M St SE   \n",
       "4 2024-02-10 01:11:14 2024-02-10 01:23:52      Virginia Ave & 25th St NW   \n",
       "\n",
       "                  end_station_name  start_lat  start_lng    end_lat  \\\n",
       "0                    5th & K St NW  38.910893 -77.005023  38.903040   \n",
       "1     Columbia Rd & Georgia Ave NW  38.898400 -77.027643  38.928121   \n",
       "2     Columbia Rd & Georgia Ave NW  38.886372 -77.017701  38.928121   \n",
       "3  Columbus Circle / Union Station  38.876751 -77.000736  38.896960   \n",
       "4    20th & O St NW / Dupont South  38.898460 -77.053052  38.908905   \n",
       "\n",
       "     end_lng  time_duration  rideable_type_electric_bike  \\\n",
       "0 -77.019027       8.766667                         True   \n",
       "1 -77.023795      12.883333                         True   \n",
       "2 -77.023795      30.183333                        False   \n",
       "3 -77.004930      12.833333                        False   \n",
       "4 -77.044780      12.633333                        False   \n",
       "\n",
       "   member_casual_member  distance_km  average_speed  \n",
       "0                  True     1.493573      10.222169  \n",
       "1                  True     3.321546      15.469038  \n",
       "2                  True     4.672147       9.287537  \n",
       "3                  True     2.276269      10.642297  \n",
       "4                 False     1.364261       6.479339  "
      ]
     },
     "execution_count": 96,
     "metadata": {},
     "output_type": "execute_result"
    }
   ],
   "source": [
    "# Print out top of table to check\n",
    "df.head()"
   ]
  },
  {
   "cell_type": "code",
   "execution_count": 97,
   "id": "b92a2a74",
   "metadata": {},
   "outputs": [
    {
     "data": {
      "text/plain": [
       "12.899207440468947"
      ]
     },
     "execution_count": 97,
     "metadata": {},
     "output_type": "execute_result"
    }
   ],
   "source": [
    "# Calculate mean of average speed for electric bikes\n",
    "filtered_df[filtered_df[\"rideable_type_electric_bike\"] == 1][\"average_speed\"].mean()"
   ]
  },
  {
   "cell_type": "code",
   "execution_count": 98,
   "id": "3daf4274",
   "metadata": {},
   "outputs": [
    {
     "data": {
      "text/html": [
       "<div>\n",
       "<style scoped>\n",
       "    .dataframe tbody tr th:only-of-type {\n",
       "        vertical-align: middle;\n",
       "    }\n",
       "\n",
       "    .dataframe tbody tr th {\n",
       "        vertical-align: top;\n",
       "    }\n",
       "\n",
       "    .dataframe thead th {\n",
       "        text-align: right;\n",
       "    }\n",
       "</style>\n",
       "<table border=\"1\" class=\"dataframe\">\n",
       "  <thead>\n",
       "    <tr style=\"text-align: right;\">\n",
       "      <th></th>\n",
       "      <th>started_at</th>\n",
       "      <th>ended_at</th>\n",
       "      <th>start_station_name</th>\n",
       "      <th>end_station_name</th>\n",
       "      <th>start_lat</th>\n",
       "      <th>start_lng</th>\n",
       "      <th>end_lat</th>\n",
       "      <th>end_lng</th>\n",
       "      <th>time_duration</th>\n",
       "      <th>rideable_type_electric_bike</th>\n",
       "      <th>member_casual_member</th>\n",
       "      <th>distance_km</th>\n",
       "      <th>average_speed</th>\n",
       "    </tr>\n",
       "  </thead>\n",
       "  <tbody>\n",
       "    <tr>\n",
       "      <th>0</th>\n",
       "      <td>2024-02-25 19:14:16</td>\n",
       "      <td>2024-02-26 00:00:50</td>\n",
       "      <td>14th &amp; V St NW</td>\n",
       "      <td>13th &amp; U St NW</td>\n",
       "      <td>38.917709</td>\n",
       "      <td>-77.031844</td>\n",
       "      <td>38.916936</td>\n",
       "      <td>-77.029631</td>\n",
       "      <td>286.566667</td>\n",
       "      <td>True</td>\n",
       "      <td>False</td>\n",
       "      <td>0.209854</td>\n",
       "      <td>0.043938</td>\n",
       "    </tr>\n",
       "    <tr>\n",
       "      <th>1</th>\n",
       "      <td>2024-02-10 13:55:29</td>\n",
       "      <td>2024-02-10 18:53:54</td>\n",
       "      <td>13th &amp; O St NW/ Logan Circle</td>\n",
       "      <td>14th &amp; Q St NW</td>\n",
       "      <td>38.908735</td>\n",
       "      <td>-77.029779</td>\n",
       "      <td>38.910674</td>\n",
       "      <td>-77.031880</td>\n",
       "      <td>298.416667</td>\n",
       "      <td>False</td>\n",
       "      <td>False</td>\n",
       "      <td>0.282017</td>\n",
       "      <td>0.056703</td>\n",
       "    </tr>\n",
       "    <tr>\n",
       "      <th>2</th>\n",
       "      <td>2024-02-26 09:58:42</td>\n",
       "      <td>2024-02-26 14:27:35</td>\n",
       "      <td>Prince St &amp; Union St</td>\n",
       "      <td>Market Square / King St &amp; Royal St</td>\n",
       "      <td>38.803124</td>\n",
       "      <td>-77.040363</td>\n",
       "      <td>38.804718</td>\n",
       "      <td>-77.043363</td>\n",
       "      <td>268.883333</td>\n",
       "      <td>False</td>\n",
       "      <td>False</td>\n",
       "      <td>0.314635</td>\n",
       "      <td>0.070209</td>\n",
       "    </tr>\n",
       "    <tr>\n",
       "      <th>3</th>\n",
       "      <td>2024-02-09 07:44:06</td>\n",
       "      <td>2024-02-09 10:45:01</td>\n",
       "      <td>1st &amp; M St SE</td>\n",
       "      <td>1st &amp; I St SE</td>\n",
       "      <td>38.876893</td>\n",
       "      <td>-77.006072</td>\n",
       "      <td>38.878854</td>\n",
       "      <td>-77.005727</td>\n",
       "      <td>180.916667</td>\n",
       "      <td>False</td>\n",
       "      <td>False</td>\n",
       "      <td>0.220127</td>\n",
       "      <td>0.073004</td>\n",
       "    </tr>\n",
       "    <tr>\n",
       "      <th>4</th>\n",
       "      <td>2024-02-03 21:26:55</td>\n",
       "      <td>2024-02-04 00:21:16</td>\n",
       "      <td>21st &amp; I St NW</td>\n",
       "      <td>22nd &amp; I St NW / Foggy Bottom</td>\n",
       "      <td>38.900722</td>\n",
       "      <td>-77.046442</td>\n",
       "      <td>38.900880</td>\n",
       "      <td>-77.048911</td>\n",
       "      <td>174.350000</td>\n",
       "      <td>True</td>\n",
       "      <td>False</td>\n",
       "      <td>0.214356</td>\n",
       "      <td>0.073768</td>\n",
       "    </tr>\n",
       "  </tbody>\n",
       "</table>\n",
       "</div>"
      ],
      "text/plain": [
       "           started_at            ended_at            start_station_name  \\\n",
       "0 2024-02-25 19:14:16 2024-02-26 00:00:50                14th & V St NW   \n",
       "1 2024-02-10 13:55:29 2024-02-10 18:53:54  13th & O St NW/ Logan Circle   \n",
       "2 2024-02-26 09:58:42 2024-02-26 14:27:35          Prince St & Union St   \n",
       "3 2024-02-09 07:44:06 2024-02-09 10:45:01                 1st & M St SE   \n",
       "4 2024-02-03 21:26:55 2024-02-04 00:21:16                21st & I St NW   \n",
       "\n",
       "                     end_station_name  start_lat  start_lng    end_lat  \\\n",
       "0                      13th & U St NW  38.917709 -77.031844  38.916936   \n",
       "1                      14th & Q St NW  38.908735 -77.029779  38.910674   \n",
       "2  Market Square / King St & Royal St  38.803124 -77.040363  38.804718   \n",
       "3                       1st & I St SE  38.876893 -77.006072  38.878854   \n",
       "4       22nd & I St NW / Foggy Bottom  38.900722 -77.046442  38.900880   \n",
       "\n",
       "     end_lng  time_duration  rideable_type_electric_bike  \\\n",
       "0 -77.029631     286.566667                         True   \n",
       "1 -77.031880     298.416667                        False   \n",
       "2 -77.043363     268.883333                        False   \n",
       "3 -77.005727     180.916667                        False   \n",
       "4 -77.048911     174.350000                         True   \n",
       "\n",
       "   member_casual_member  distance_km  average_speed  \n",
       "0                 False     0.209854       0.043938  \n",
       "1                 False     0.282017       0.056703  \n",
       "2                 False     0.314635       0.070209  \n",
       "3                 False     0.220127       0.073004  \n",
       "4                 False     0.214356       0.073768  "
      ]
     },
     "execution_count": 98,
     "metadata": {},
     "output_type": "execute_result"
    }
   ],
   "source": [
    "# Print top of table to check\n",
    "filtered_df.head()"
   ]
  },
  {
   "cell_type": "code",
   "execution_count": 99,
   "id": "ecf34353",
   "metadata": {},
   "outputs": [
    {
     "data": {
      "text/plain": [
       "1.537074951718592"
      ]
     },
     "execution_count": 99,
     "metadata": {},
     "output_type": "execute_result"
    }
   ],
   "source": [
    "# Calculate median of distance column\n",
    "filtered_df[\"distance_km\"].median()"
   ]
  },
  {
   "cell_type": "markdown",
   "id": "522d9ffc-9c7d-42ad-8e94-33bac93c37a9",
   "metadata": {},
   "source": [
    "### Some Exploratory Analysis #6\n",
    "Let's perform some more exploratory analysis. Let's plot a histogram of the frequency of observations for our distances. *Why do you think we are doing this?* THEN PROVIDE SOME REASON."
   ]
  },
  {
   "cell_type": "code",
   "execution_count": 100,
   "id": "43478a48",
   "metadata": {},
   "outputs": [
    {
     "data": {
      "text/plain": [
       "(array([1.93578e+05, 3.67050e+04, 4.27900e+03, 8.12000e+02, 1.75000e+02,\n",
       "        2.70000e+01, 1.30000e+01, 2.00000e+00, 2.00000e+00, 7.00000e+00]),\n",
       " array([ 0.20008456,  2.81035662,  5.42062868,  8.03090074, 10.6411728 ,\n",
       "        13.25144487, 15.86171693, 18.47198899, 21.08226105, 23.69253311,\n",
       "        26.30280517]),\n",
       " <BarContainer object of 10 artists>)"
      ]
     },
     "execution_count": 100,
     "metadata": {},
     "output_type": "execute_result"
    },
    {
     "data": {
      "image/png": "[encoded data removed]",
      "text/plain": [
       "<Figure size 640x480 with 1 Axes>"
      ]
     },
     "metadata": {},
     "output_type": "display_data"
    }
   ],
   "source": [
    "# Create histogram for distances\n",
    "plt.hist(filtered_df[\"distance_km\"])"
   ]
  },
  {
   "cell_type": "markdown",
   "id": "01c9ef5c-8266-4b3d-a78d-42829ffbc9fe",
   "metadata": {},
   "source": [
    "### Some Interesting Data Cleaning: Ranking\n",
    "Let's now create a new column, data point, called rank. This data point will represent the frequency of a start or end station being the destination across all observations. So, a higher rank for a start station indicates more people start at that station then others, while low rank means less people begin at that station. The same applies for the end station. This rank system is an example of modifying our data to be a data point that is usable. We can't really pass in string values, such as the station names, into the machine learning model. Therefore, transforming it into an integer value, such as rank, can help make it useful."
   ]
  },
  {
   "cell_type": "code",
   "execution_count": 54,
   "id": "77a04961",
   "metadata": {},
   "outputs": [],
   "source": [
    "# Rank start stations based on occurrences\n",
    "start_station_rank = filtered_df['start_station_name'].value_counts().rank(ascending=False, method='min')\n",
    "\n",
    "# Rank stop stations based on occurrences\n",
    "end_station_rank = filtered_df['end_station_name'].value_counts().rank(ascending=False, method='min')\n",
    "\n",
    "# Assign ranks to start and stop stations\n",
    "filtered_df['start_station_rank'] = filtered_df['start_station_name'].map(start_station_rank)\n",
    "filtered_df['end_station_rank'] = filtered_df['end_station_name'].map(end_station_rank)"
   ]
  },
  {
   "cell_type": "code",
   "execution_count": 55,
   "id": "7753bb4d",
   "metadata": {},
   "outputs": [
    {
     "data": {
      "text/html": [
       "<div>\n",
       "<style scoped>\n",
       "    .dataframe tbody tr th:only-of-type {\n",
       "        vertical-align: middle;\n",
       "    }\n",
       "\n",
       "    .dataframe tbody tr th {\n",
       "        vertical-align: top;\n",
       "    }\n",
       "\n",
       "    .dataframe thead th {\n",
       "        text-align: right;\n",
       "    }\n",
       "</style>\n",
       "<table border=\"1\" class=\"dataframe\">\n",
       "  <thead>\n",
       "    <tr style=\"text-align: right;\">\n",
       "      <th></th>\n",
       "      <th>started_at</th>\n",
       "      <th>ended_at</th>\n",
       "      <th>start_station_name</th>\n",
       "      <th>end_station_name</th>\n",
       "      <th>start_lat</th>\n",
       "      <th>start_lng</th>\n",
       "      <th>end_lat</th>\n",
       "      <th>end_lng</th>\n",
       "      <th>time_duration</th>\n",
       "      <th>rideable_type_electric_bike</th>\n",
       "      <th>member_casual_member</th>\n",
       "      <th>distance_km</th>\n",
       "      <th>average_speed</th>\n",
       "      <th>start_station_rank</th>\n",
       "      <th>end_station_rank</th>\n",
       "    </tr>\n",
       "  </thead>\n",
       "  <tbody>\n",
       "    <tr>\n",
       "      <th>0</th>\n",
       "      <td>2024-02-25 19:14:00</td>\n",
       "      <td>2024-02-26 00:00:00</td>\n",
       "      <td>14th &amp; V St NW</td>\n",
       "      <td>13th &amp; U St NW</td>\n",
       "      <td>38.917709</td>\n",
       "      <td>-77.031845</td>\n",
       "      <td>38.916936</td>\n",
       "      <td>-77.029631</td>\n",
       "      <td>286.0</td>\n",
       "      <td>1</td>\n",
       "      <td>0</td>\n",
       "      <td>0.209854</td>\n",
       "      <td>0.044025</td>\n",
       "      <td>6.0</td>\n",
       "      <td>54.0</td>\n",
       "    </tr>\n",
       "    <tr>\n",
       "      <th>1</th>\n",
       "      <td>2024-02-10 13:55:00</td>\n",
       "      <td>2024-02-10 18:53:00</td>\n",
       "      <td>13th &amp; O St NW/ Logan Circle</td>\n",
       "      <td>14th &amp; Q St NW</td>\n",
       "      <td>38.908735</td>\n",
       "      <td>-77.029779</td>\n",
       "      <td>38.910674</td>\n",
       "      <td>-77.031880</td>\n",
       "      <td>298.0</td>\n",
       "      <td>0</td>\n",
       "      <td>0</td>\n",
       "      <td>0.282017</td>\n",
       "      <td>0.056782</td>\n",
       "      <td>45.0</td>\n",
       "      <td>46.0</td>\n",
       "    </tr>\n",
       "    <tr>\n",
       "      <th>2</th>\n",
       "      <td>2024-02-26 09:58:00</td>\n",
       "      <td>2024-02-26 14:27:00</td>\n",
       "      <td>Prince St &amp; Union St</td>\n",
       "      <td>Market Square / King St &amp; Royal St</td>\n",
       "      <td>38.803124</td>\n",
       "      <td>-77.040363</td>\n",
       "      <td>38.804718</td>\n",
       "      <td>-77.043363</td>\n",
       "      <td>269.0</td>\n",
       "      <td>0</td>\n",
       "      <td>0</td>\n",
       "      <td>0.314635</td>\n",
       "      <td>0.070179</td>\n",
       "      <td>369.0</td>\n",
       "      <td>322.0</td>\n",
       "    </tr>\n",
       "    <tr>\n",
       "      <th>3</th>\n",
       "      <td>2024-02-09 07:44:00</td>\n",
       "      <td>2024-02-09 10:45:00</td>\n",
       "      <td>1st &amp; M St SE</td>\n",
       "      <td>1st &amp; I St SE</td>\n",
       "      <td>38.876893</td>\n",
       "      <td>-77.006072</td>\n",
       "      <td>38.878854</td>\n",
       "      <td>-77.005727</td>\n",
       "      <td>181.0</td>\n",
       "      <td>0</td>\n",
       "      <td>0</td>\n",
       "      <td>0.220127</td>\n",
       "      <td>0.072970</td>\n",
       "      <td>137.0</td>\n",
       "      <td>40.0</td>\n",
       "    </tr>\n",
       "    <tr>\n",
       "      <th>4</th>\n",
       "      <td>2024-02-03 21:26:00</td>\n",
       "      <td>2024-02-04 00:21:00</td>\n",
       "      <td>21st &amp; I St NW</td>\n",
       "      <td>22nd &amp; I St NW / Foggy Bottom</td>\n",
       "      <td>38.900722</td>\n",
       "      <td>-77.046442</td>\n",
       "      <td>38.900880</td>\n",
       "      <td>-77.048911</td>\n",
       "      <td>175.0</td>\n",
       "      <td>1</td>\n",
       "      <td>0</td>\n",
       "      <td>0.214356</td>\n",
       "      <td>0.073494</td>\n",
       "      <td>42.0</td>\n",
       "      <td>57.0</td>\n",
       "    </tr>\n",
       "  </tbody>\n",
       "</table>\n",
       "</div>"
      ],
      "text/plain": [
       "           started_at            ended_at            start_station_name  \\\n",
       "0 2024-02-25 19:14:00 2024-02-26 00:00:00                14th & V St NW   \n",
       "1 2024-02-10 13:55:00 2024-02-10 18:53:00  13th & O St NW/ Logan Circle   \n",
       "2 2024-02-26 09:58:00 2024-02-26 14:27:00          Prince St & Union St   \n",
       "3 2024-02-09 07:44:00 2024-02-09 10:45:00                 1st & M St SE   \n",
       "4 2024-02-03 21:26:00 2024-02-04 00:21:00                21st & I St NW   \n",
       "\n",
       "                     end_station_name  start_lat  start_lng    end_lat  \\\n",
       "0                      13th & U St NW  38.917709 -77.031845  38.916936   \n",
       "1                      14th & Q St NW  38.908735 -77.029779  38.910674   \n",
       "2  Market Square / King St & Royal St  38.803124 -77.040363  38.804718   \n",
       "3                       1st & I St SE  38.876893 -77.006072  38.878854   \n",
       "4       22nd & I St NW / Foggy Bottom  38.900722 -77.046442  38.900880   \n",
       "\n",
       "     end_lng  time_duration  rideable_type_electric_bike  \\\n",
       "0 -77.029631          286.0                            1   \n",
       "1 -77.031880          298.0                            0   \n",
       "2 -77.043363          269.0                            0   \n",
       "3 -77.005727          181.0                            0   \n",
       "4 -77.048911          175.0                            1   \n",
       "\n",
       "   member_casual_member  distance_km  average_speed  start_station_rank  \\\n",
       "0                     0     0.209854       0.044025                 6.0   \n",
       "1                     0     0.282017       0.056782                45.0   \n",
       "2                     0     0.314635       0.070179               369.0   \n",
       "3                     0     0.220127       0.072970               137.0   \n",
       "4                     0     0.214356       0.073494                42.0   \n",
       "\n",
       "   end_station_rank  \n",
       "0              54.0  \n",
       "1              46.0  \n",
       "2             322.0  \n",
       "3              40.0  \n",
       "4              57.0  "
      ]
     },
     "execution_count": 55,
     "metadata": {},
     "output_type": "execute_result"
    }
   ],
   "source": [
    "# Print top of table to check\n",
    "filtered_df.head()"
   ]
  },
  {
   "cell_type": "markdown",
   "id": "f5fb5ab9-b890-40af-94d8-eb305cc16418",
   "metadata": {},
   "source": [
    "### Using MinMaxScaler to Scale Ranks\n",
    "Talk about the reasoning behind minmaxscaler"
   ]
  },
  {
   "cell_type": "code",
   "execution_count": 56,
   "id": "d8b320e8",
   "metadata": {},
   "outputs": [],
   "source": [
    "from sklearn.preprocessing import MinMaxScaler\n",
    "\n",
    "# Initialize MinMaxScaler\n",
    "scaler = MinMaxScaler()\n",
    "\n",
    "# Reshape ranks to a 2D array for scaling\n",
    "start_station_rank_scaled = scaler.fit_transform(filtered_df['start_station_rank'].values.reshape(-1, 1))\n",
    "end_station_rank_scaled = scaler.fit_transform(filtered_df['end_station_rank'].values.reshape(-1, 1))\n",
    "\n",
    "# Assign scaled ranks to DataFrame\n",
    "filtered_df['start_station_rank_scaled'] = start_station_rank_scaled\n",
    "filtered_df['end_station_rank_scaled'] = end_station_rank_scaled"
   ]
  },
  {
   "cell_type": "code",
   "execution_count": 57,
   "id": "ce687cfa",
   "metadata": {},
   "outputs": [
    {
     "data": {
      "text/html": [
       "<div>\n",
       "<style scoped>\n",
       "    .dataframe tbody tr th:only-of-type {\n",
       "        vertical-align: middle;\n",
       "    }\n",
       "\n",
       "    .dataframe tbody tr th {\n",
       "        vertical-align: top;\n",
       "    }\n",
       "\n",
       "    .dataframe thead th {\n",
       "        text-align: right;\n",
       "    }\n",
       "</style>\n",
       "<table border=\"1\" class=\"dataframe\">\n",
       "  <thead>\n",
       "    <tr style=\"text-align: right;\">\n",
       "      <th></th>\n",
       "      <th>started_at</th>\n",
       "      <th>ended_at</th>\n",
       "      <th>start_station_name</th>\n",
       "      <th>end_station_name</th>\n",
       "      <th>start_lat</th>\n",
       "      <th>start_lng</th>\n",
       "      <th>end_lat</th>\n",
       "      <th>end_lng</th>\n",
       "      <th>time_duration</th>\n",
       "      <th>rideable_type_electric_bike</th>\n",
       "      <th>member_casual_member</th>\n",
       "      <th>distance_km</th>\n",
       "      <th>average_speed</th>\n",
       "      <th>start_station_rank</th>\n",
       "      <th>end_station_rank</th>\n",
       "      <th>start_station_rank_scaled</th>\n",
       "      <th>end_station_rank_scaled</th>\n",
       "    </tr>\n",
       "  </thead>\n",
       "  <tbody>\n",
       "    <tr>\n",
       "      <th>0</th>\n",
       "      <td>2024-02-25 19:14:00</td>\n",
       "      <td>2024-02-26 00:00:00</td>\n",
       "      <td>14th &amp; V St NW</td>\n",
       "      <td>13th &amp; U St NW</td>\n",
       "      <td>38.917709</td>\n",
       "      <td>-77.031845</td>\n",
       "      <td>38.916936</td>\n",
       "      <td>-77.029631</td>\n",
       "      <td>286.0</td>\n",
       "      <td>1</td>\n",
       "      <td>0</td>\n",
       "      <td>0.209854</td>\n",
       "      <td>0.044025</td>\n",
       "      <td>6.0</td>\n",
       "      <td>54.0</td>\n",
       "      <td>0.006748</td>\n",
       "      <td>0.071816</td>\n",
       "    </tr>\n",
       "    <tr>\n",
       "      <th>1</th>\n",
       "      <td>2024-02-10 13:55:00</td>\n",
       "      <td>2024-02-10 18:53:00</td>\n",
       "      <td>13th &amp; O St NW/ Logan Circle</td>\n",
       "      <td>14th &amp; Q St NW</td>\n",
       "      <td>38.908735</td>\n",
       "      <td>-77.029779</td>\n",
       "      <td>38.910674</td>\n",
       "      <td>-77.031880</td>\n",
       "      <td>298.0</td>\n",
       "      <td>0</td>\n",
       "      <td>0</td>\n",
       "      <td>0.282017</td>\n",
       "      <td>0.056782</td>\n",
       "      <td>45.0</td>\n",
       "      <td>46.0</td>\n",
       "      <td>0.059379</td>\n",
       "      <td>0.060976</td>\n",
       "    </tr>\n",
       "    <tr>\n",
       "      <th>2</th>\n",
       "      <td>2024-02-26 09:58:00</td>\n",
       "      <td>2024-02-26 14:27:00</td>\n",
       "      <td>Prince St &amp; Union St</td>\n",
       "      <td>Market Square / King St &amp; Royal St</td>\n",
       "      <td>38.803124</td>\n",
       "      <td>-77.040363</td>\n",
       "      <td>38.804718</td>\n",
       "      <td>-77.043363</td>\n",
       "      <td>269.0</td>\n",
       "      <td>0</td>\n",
       "      <td>0</td>\n",
       "      <td>0.314635</td>\n",
       "      <td>0.070179</td>\n",
       "      <td>369.0</td>\n",
       "      <td>322.0</td>\n",
       "      <td>0.496626</td>\n",
       "      <td>0.434959</td>\n",
       "    </tr>\n",
       "    <tr>\n",
       "      <th>3</th>\n",
       "      <td>2024-02-09 07:44:00</td>\n",
       "      <td>2024-02-09 10:45:00</td>\n",
       "      <td>1st &amp; M St SE</td>\n",
       "      <td>1st &amp; I St SE</td>\n",
       "      <td>38.876893</td>\n",
       "      <td>-77.006072</td>\n",
       "      <td>38.878854</td>\n",
       "      <td>-77.005727</td>\n",
       "      <td>181.0</td>\n",
       "      <td>0</td>\n",
       "      <td>0</td>\n",
       "      <td>0.220127</td>\n",
       "      <td>0.072970</td>\n",
       "      <td>137.0</td>\n",
       "      <td>40.0</td>\n",
       "      <td>0.183536</td>\n",
       "      <td>0.052846</td>\n",
       "    </tr>\n",
       "    <tr>\n",
       "      <th>4</th>\n",
       "      <td>2024-02-03 21:26:00</td>\n",
       "      <td>2024-02-04 00:21:00</td>\n",
       "      <td>21st &amp; I St NW</td>\n",
       "      <td>22nd &amp; I St NW / Foggy Bottom</td>\n",
       "      <td>38.900722</td>\n",
       "      <td>-77.046442</td>\n",
       "      <td>38.900880</td>\n",
       "      <td>-77.048911</td>\n",
       "      <td>175.0</td>\n",
       "      <td>1</td>\n",
       "      <td>0</td>\n",
       "      <td>0.214356</td>\n",
       "      <td>0.073494</td>\n",
       "      <td>42.0</td>\n",
       "      <td>57.0</td>\n",
       "      <td>0.055331</td>\n",
       "      <td>0.075881</td>\n",
       "    </tr>\n",
       "  </tbody>\n",
       "</table>\n",
       "</div>"
      ],
      "text/plain": [
       "           started_at            ended_at            start_station_name  \\\n",
       "0 2024-02-25 19:14:00 2024-02-26 00:00:00                14th & V St NW   \n",
       "1 2024-02-10 13:55:00 2024-02-10 18:53:00  13th & O St NW/ Logan Circle   \n",
       "2 2024-02-26 09:58:00 2024-02-26 14:27:00          Prince St & Union St   \n",
       "3 2024-02-09 07:44:00 2024-02-09 10:45:00                 1st & M St SE   \n",
       "4 2024-02-03 21:26:00 2024-02-04 00:21:00                21st & I St NW   \n",
       "\n",
       "                     end_station_name  start_lat  start_lng    end_lat  \\\n",
       "0                      13th & U St NW  38.917709 -77.031845  38.916936   \n",
       "1                      14th & Q St NW  38.908735 -77.029779  38.910674   \n",
       "2  Market Square / King St & Royal St  38.803124 -77.040363  38.804718   \n",
       "3                       1st & I St SE  38.876893 -77.006072  38.878854   \n",
       "4       22nd & I St NW / Foggy Bottom  38.900722 -77.046442  38.900880   \n",
       "\n",
       "     end_lng  time_duration  rideable_type_electric_bike  \\\n",
       "0 -77.029631          286.0                            1   \n",
       "1 -77.031880          298.0                            0   \n",
       "2 -77.043363          269.0                            0   \n",
       "3 -77.005727          181.0                            0   \n",
       "4 -77.048911          175.0                            1   \n",
       "\n",
       "   member_casual_member  distance_km  average_speed  start_station_rank  \\\n",
       "0                     0     0.209854       0.044025                 6.0   \n",
       "1                     0     0.282017       0.056782                45.0   \n",
       "2                     0     0.314635       0.070179               369.0   \n",
       "3                     0     0.220127       0.072970               137.0   \n",
       "4                     0     0.214356       0.073494                42.0   \n",
       "\n",
       "   end_station_rank  start_station_rank_scaled  end_station_rank_scaled  \n",
       "0              54.0                   0.006748                 0.071816  \n",
       "1              46.0                   0.059379                 0.060976  \n",
       "2             322.0                   0.496626                 0.434959  \n",
       "3              40.0                   0.183536                 0.052846  \n",
       "4              57.0                   0.055331                 0.075881  "
      ]
     },
     "execution_count": 57,
     "metadata": {},
     "output_type": "execute_result"
    }
   ],
   "source": [
    "# Print top of table to check\n",
    "filtered_df.head()"
   ]
  },
  {
   "cell_type": "markdown",
   "id": "4dff377d-0d8b-4e18-9a00-e77d31f391d5",
   "metadata": {},
   "source": [
    "After creating new columns for data points, based off of some the existing data, we can drop the columns which cannot really be used for our machine learning model."
   ]
  },
  {
   "cell_type": "code",
   "execution_count": 58,
   "id": "2ffbba3b",
   "metadata": {},
   "outputs": [],
   "source": [
    "# Drop the start and end station columns\n",
    "filtered_df.drop([\"start_station_name\", \"end_station_name\"], axis=1, inplace=True)"
   ]
  },
  {
   "cell_type": "code",
   "execution_count": 59,
   "id": "8b999148",
   "metadata": {},
   "outputs": [
    {
     "data": {
      "text/html": [
       "<div>\n",
       "<style scoped>\n",
       "    .dataframe tbody tr th:only-of-type {\n",
       "        vertical-align: middle;\n",
       "    }\n",
       "\n",
       "    .dataframe tbody tr th {\n",
       "        vertical-align: top;\n",
       "    }\n",
       "\n",
       "    .dataframe thead th {\n",
       "        text-align: right;\n",
       "    }\n",
       "</style>\n",
       "<table border=\"1\" class=\"dataframe\">\n",
       "  <thead>\n",
       "    <tr style=\"text-align: right;\">\n",
       "      <th></th>\n",
       "      <th>started_at</th>\n",
       "      <th>ended_at</th>\n",
       "      <th>start_lat</th>\n",
       "      <th>start_lng</th>\n",
       "      <th>end_lat</th>\n",
       "      <th>end_lng</th>\n",
       "      <th>time_duration</th>\n",
       "      <th>rideable_type_electric_bike</th>\n",
       "      <th>member_casual_member</th>\n",
       "      <th>distance_km</th>\n",
       "      <th>average_speed</th>\n",
       "      <th>start_station_rank</th>\n",
       "      <th>end_station_rank</th>\n",
       "      <th>start_station_rank_scaled</th>\n",
       "      <th>end_station_rank_scaled</th>\n",
       "    </tr>\n",
       "  </thead>\n",
       "  <tbody>\n",
       "    <tr>\n",
       "      <th>0</th>\n",
       "      <td>2024-02-25 19:14:00</td>\n",
       "      <td>2024-02-26 00:00:00</td>\n",
       "      <td>38.917709</td>\n",
       "      <td>-77.031845</td>\n",
       "      <td>38.916936</td>\n",
       "      <td>-77.029631</td>\n",
       "      <td>286.0</td>\n",
       "      <td>1</td>\n",
       "      <td>0</td>\n",
       "      <td>0.209854</td>\n",
       "      <td>0.044025</td>\n",
       "      <td>6.0</td>\n",
       "      <td>54.0</td>\n",
       "      <td>0.006748</td>\n",
       "      <td>0.071816</td>\n",
       "    </tr>\n",
       "    <tr>\n",
       "      <th>1</th>\n",
       "      <td>2024-02-10 13:55:00</td>\n",
       "      <td>2024-02-10 18:53:00</td>\n",
       "      <td>38.908735</td>\n",
       "      <td>-77.029779</td>\n",
       "      <td>38.910674</td>\n",
       "      <td>-77.031880</td>\n",
       "      <td>298.0</td>\n",
       "      <td>0</td>\n",
       "      <td>0</td>\n",
       "      <td>0.282017</td>\n",
       "      <td>0.056782</td>\n",
       "      <td>45.0</td>\n",
       "      <td>46.0</td>\n",
       "      <td>0.059379</td>\n",
       "      <td>0.060976</td>\n",
       "    </tr>\n",
       "    <tr>\n",
       "      <th>2</th>\n",
       "      <td>2024-02-26 09:58:00</td>\n",
       "      <td>2024-02-26 14:27:00</td>\n",
       "      <td>38.803124</td>\n",
       "      <td>-77.040363</td>\n",
       "      <td>38.804718</td>\n",
       "      <td>-77.043363</td>\n",
       "      <td>269.0</td>\n",
       "      <td>0</td>\n",
       "      <td>0</td>\n",
       "      <td>0.314635</td>\n",
       "      <td>0.070179</td>\n",
       "      <td>369.0</td>\n",
       "      <td>322.0</td>\n",
       "      <td>0.496626</td>\n",
       "      <td>0.434959</td>\n",
       "    </tr>\n",
       "    <tr>\n",
       "      <th>3</th>\n",
       "      <td>2024-02-09 07:44:00</td>\n",
       "      <td>2024-02-09 10:45:00</td>\n",
       "      <td>38.876893</td>\n",
       "      <td>-77.006072</td>\n",
       "      <td>38.878854</td>\n",
       "      <td>-77.005727</td>\n",
       "      <td>181.0</td>\n",
       "      <td>0</td>\n",
       "      <td>0</td>\n",
       "      <td>0.220127</td>\n",
       "      <td>0.072970</td>\n",
       "      <td>137.0</td>\n",
       "      <td>40.0</td>\n",
       "      <td>0.183536</td>\n",
       "      <td>0.052846</td>\n",
       "    </tr>\n",
       "    <tr>\n",
       "      <th>4</th>\n",
       "      <td>2024-02-03 21:26:00</td>\n",
       "      <td>2024-02-04 00:21:00</td>\n",
       "      <td>38.900722</td>\n",
       "      <td>-77.046442</td>\n",
       "      <td>38.900880</td>\n",
       "      <td>-77.048911</td>\n",
       "      <td>175.0</td>\n",
       "      <td>1</td>\n",
       "      <td>0</td>\n",
       "      <td>0.214356</td>\n",
       "      <td>0.073494</td>\n",
       "      <td>42.0</td>\n",
       "      <td>57.0</td>\n",
       "      <td>0.055331</td>\n",
       "      <td>0.075881</td>\n",
       "    </tr>\n",
       "  </tbody>\n",
       "</table>\n",
       "</div>"
      ],
      "text/plain": [
       "           started_at            ended_at  start_lat  start_lng    end_lat  \\\n",
       "0 2024-02-25 19:14:00 2024-02-26 00:00:00  38.917709 -77.031845  38.916936   \n",
       "1 2024-02-10 13:55:00 2024-02-10 18:53:00  38.908735 -77.029779  38.910674   \n",
       "2 2024-02-26 09:58:00 2024-02-26 14:27:00  38.803124 -77.040363  38.804718   \n",
       "3 2024-02-09 07:44:00 2024-02-09 10:45:00  38.876893 -77.006072  38.878854   \n",
       "4 2024-02-03 21:26:00 2024-02-04 00:21:00  38.900722 -77.046442  38.900880   \n",
       "\n",
       "     end_lng  time_duration  rideable_type_electric_bike  \\\n",
       "0 -77.029631          286.0                            1   \n",
       "1 -77.031880          298.0                            0   \n",
       "2 -77.043363          269.0                            0   \n",
       "3 -77.005727          181.0                            0   \n",
       "4 -77.048911          175.0                            1   \n",
       "\n",
       "   member_casual_member  distance_km  average_speed  start_station_rank  \\\n",
       "0                     0     0.209854       0.044025                 6.0   \n",
       "1                     0     0.282017       0.056782                45.0   \n",
       "2                     0     0.314635       0.070179               369.0   \n",
       "3                     0     0.220127       0.072970               137.0   \n",
       "4                     0     0.214356       0.073494                42.0   \n",
       "\n",
       "   end_station_rank  start_station_rank_scaled  end_station_rank_scaled  \n",
       "0              54.0                   0.006748                 0.071816  \n",
       "1              46.0                   0.059379                 0.060976  \n",
       "2             322.0                   0.496626                 0.434959  \n",
       "3              40.0                   0.183536                 0.052846  \n",
       "4              57.0                   0.055331                 0.075881  "
      ]
     },
     "execution_count": 59,
     "metadata": {},
     "output_type": "execute_result"
    }
   ],
   "source": [
    "# Print top of table to check\n",
    "filtered_df.head()"
   ]
  },
  {
   "cell_type": "code",
   "execution_count": 60,
   "id": "697c24ff",
   "metadata": {},
   "outputs": [],
   "source": [
    "# Drop time columns as we already have the calculated time duration column\n",
    "filtered_df.drop([\"started_at\", \"ended_at\"], axis = 1, inplace=True)\n",
    "\n",
    "# Drop the longitude and latitude measurements since we have our calculated distance column\n",
    "filtered_df.drop([\"start_lat\", \"start_lng\", \"end_lat\", \"end_lng\"], axis = 1, inplace=True)\n",
    "\n",
    "# Print out top of table to check\n",
    "filtered_df.head()"
   ]
  },
  {
   "cell_type": "markdown",
   "id": "a382a109-b4ff-4f32-a2a1-5d6166c297a8",
   "metadata": {},
   "source": [
    "## Part 3: Model training and testing\n",
    "Finally, we've reached the fun part of the tutorial, the part where we actually do the interesting stuff: model training and testing. Now, there are so many different machine learning models, how do we decide which one to use?\n",
    "\n",
    "First, we need to decide if our problem is a regression or classfication problem. In our case... Based off of your problem, there are different algorithms you can use. In order to decide from here, you need to understand the algorithms, as each one has its advantages and disadvantages. But, this process may just be trial and error, testing a number of different machine learning algorithms. \n",
    "\n",
    "To truely understand each algorithm would be overwhelming for this tutorial, however, we will provide external links for if you want to learn more. What's important is that you get a basic understanding of each algorithm that we use in this tutorial, as well as, how we are analyzing or scoring its performance for predicting the metric we want. \n",
    "\n",
    "The goal of model training and testing is..."
   ]
  },
  {
   "cell_type": "markdown",
   "id": "87522515-d97f-4bf8-b916-659d10be8721",
   "metadata": {},
   "source": [
    "<center><img src=\"https://imgs.xkcd.com/comics/machine_learning.png\"></center>"
   ]
  },
  {
   "cell_type": "markdown",
   "id": "37336c8c-8089-4ee3-b8f4-0dfeb0703a78",
   "metadata": {},
   "source": [
    "### Standard Scaler?"
   ]
  },
  {
   "cell_type": "code",
   "execution_count": 63,
   "id": "b7e00b55",
   "metadata": {},
   "outputs": [],
   "source": [
    "from sklearn.model_selection import train_test_split\n",
    "\n",
    "X = filtered_df.drop([\"rideable_type_electric_bike\", \"average_speed\"], axis=1)\n",
    "y = filtered_df['rideable_type_electric_bike']\n",
    "\n",
    "# Split the dataset into training and testing sets (80% train, 20% test)\n",
    "X_train, X_test, y_train, y_test = train_test_split(X, y, test_size=0.2, random_state=42)"
   ]
  },
  {
   "cell_type": "code",
   "execution_count": 64,
   "id": "199fbf1f",
   "metadata": {},
   "outputs": [],
   "source": [
    "from sklearn.preprocessing import StandardScaler\n",
    "\n",
    "# Initialize StandardScaler\n",
    "scaler = StandardScaler()\n",
    "\n",
    "# Fit scaler on training data and transform both training and testing data\n",
    "X_train_scaled = scaler.fit_transform(X_train)\n",
    "X_test_scaled = scaler.transform(X_test)"
   ]
  },
  {
   "cell_type": "markdown",
   "id": "feb14d3f-76f8-417f-8c05-15623553a3a0",
   "metadata": {},
   "source": [
    "### Random Forest"
   ]
  },
  {
   "cell_type": "code",
   "execution_count": 65,
   "id": "13e98413",
   "metadata": {},
   "outputs": [],
   "source": [
    "from sklearn.ensemble import RandomForestClassifier"
   ]
  },
  {
   "cell_type": "code",
   "execution_count": 66,
   "id": "ecf8b8a4",
   "metadata": {},
   "outputs": [],
   "source": [
    "rf = RandomForestClassifier()"
   ]
  },
  {
   "cell_type": "code",
   "execution_count": 67,
   "id": "258b0b46",
   "metadata": {},
   "outputs": [
    {
     "data": {
      "text/plain": [
       "RandomForestClassifier()"
      ]
     },
     "execution_count": 67,
     "metadata": {},
     "output_type": "execute_result"
    }
   ],
   "source": [
    "rf.fit(X_train_scaled, y_train)"
   ]
  },
  {
   "cell_type": "code",
   "execution_count": 68,
   "id": "aa87ff84",
   "metadata": {},
   "outputs": [],
   "source": [
    "predictions = rf.predict(X_test_scaled)"
   ]
  },
  {
   "cell_type": "markdown",
   "id": "e83c9eed-838a-4791-bcd5-88d9fe4e0027",
   "metadata": {},
   "source": [
    "### Classification Report and Confusion Matrix"
   ]
  },
  {
   "cell_type": "code",
   "execution_count": 69,
   "id": "527e5f11",
   "metadata": {},
   "outputs": [],
   "source": [
    "from sklearn.metrics import classification_report, confusion_matrix"
   ]
  },
  {
   "cell_type": "code",
   "execution_count": 70,
   "id": "979baa83",
   "metadata": {},
   "outputs": [
    {
     "name": "stdout",
     "output_type": "stream",
     "text": [
      "              precision    recall  f1-score   support\n",
      "\n",
      "           0       0.81      0.90      0.85     29815\n",
      "           1       0.78      0.64      0.71     17299\n",
      "\n",
      "    accuracy                           0.80     47114\n",
      "   macro avg       0.80      0.77      0.78     47114\n",
      "weighted avg       0.80      0.80      0.80     47114\n",
      "\n"
     ]
    }
   ],
   "source": [
    "print(classification_report(y_test, predictions))"
   ]
  },
  {
   "cell_type": "code",
   "execution_count": 71,
   "id": "09005a68",
   "metadata": {},
   "outputs": [
    {
     "name": "stdout",
     "output_type": "stream",
     "text": [
      "[[26688  3127]\n",
      " [ 6178 11121]]\n"
     ]
    }
   ],
   "source": [
    "print(confusion_matrix(y_test, predictions))"
   ]
  },
  {
   "cell_type": "markdown",
   "id": "7f4d63b7-e966-4205-bd71-ad65180857d5",
   "metadata": {},
   "source": [
    "### Grid Search CV w/ Random Forest"
   ]
  },
  {
   "cell_type": "code",
   "execution_count": 72,
   "id": "ee699434",
   "metadata": {},
   "outputs": [],
   "source": [
    "from sklearn.model_selection import GridSearchCV"
   ]
  },
  {
   "cell_type": "code",
   "execution_count": 73,
   "id": "92292104",
   "metadata": {},
   "outputs": [
    {
     "ename": "NameError",
     "evalue": "name 'RandomForestRegressor' is not defined",
     "output_type": "error",
     "traceback": [
      "\u001b[0;31m---------------------------------------------------------------------------\u001b[0m",
      "\u001b[0;31mNameError\u001b[0m                                 Traceback (most recent call last)",
      "Input \u001b[0;32mIn [73]\u001b[0m, in \u001b[0;36m<cell line: 10>\u001b[0;34m()\u001b[0m\n\u001b[1;32m      2\u001b[0m param_grid \u001b[38;5;241m=\u001b[39m {\n\u001b[1;32m      3\u001b[0m     \u001b[38;5;124m'\u001b[39m\u001b[38;5;124mn_estimators\u001b[39m\u001b[38;5;124m'\u001b[39m: [\u001b[38;5;241m50\u001b[39m, \u001b[38;5;241m100\u001b[39m, \u001b[38;5;241m200\u001b[39m],\n\u001b[1;32m      4\u001b[0m     \u001b[38;5;124m'\u001b[39m\u001b[38;5;124mmax_depth\u001b[39m\u001b[38;5;124m'\u001b[39m: [\u001b[38;5;28;01mNone\u001b[39;00m, \u001b[38;5;241m10\u001b[39m, \u001b[38;5;241m20\u001b[39m],\n\u001b[1;32m      5\u001b[0m     \u001b[38;5;124m'\u001b[39m\u001b[38;5;124mmin_samples_split\u001b[39m\u001b[38;5;124m'\u001b[39m: [\u001b[38;5;241m2\u001b[39m, \u001b[38;5;241m5\u001b[39m, \u001b[38;5;241m10\u001b[39m],\n\u001b[1;32m      6\u001b[0m     \u001b[38;5;124m'\u001b[39m\u001b[38;5;124mmin_samples_leaf\u001b[39m\u001b[38;5;124m'\u001b[39m: [\u001b[38;5;241m1\u001b[39m, \u001b[38;5;241m2\u001b[39m, \u001b[38;5;241m4\u001b[39m]\n\u001b[1;32m      7\u001b[0m }\n\u001b[1;32m      9\u001b[0m \u001b[38;5;66;03m# Create a RandomForestRegressor instance\u001b[39;00m\n\u001b[0;32m---> 10\u001b[0m rf \u001b[38;5;241m=\u001b[39m \u001b[43mRandomForestRegressor\u001b[49m()\n\u001b[1;32m     12\u001b[0m \u001b[38;5;66;03m# Initialize GridSearchCV with the parameter grid and RandomForestRegressor\u001b[39;00m\n\u001b[1;32m     13\u001b[0m grid_search \u001b[38;5;241m=\u001b[39m GridSearchCV(estimator\u001b[38;5;241m=\u001b[39mrf, param_grid\u001b[38;5;241m=\u001b[39mparam_grid, cv\u001b[38;5;241m=\u001b[39m\u001b[38;5;241m5\u001b[39m, n_jobs\u001b[38;5;241m=\u001b[39m\u001b[38;5;241m-\u001b[39m\u001b[38;5;241m1\u001b[39m)\n",
      "\u001b[0;31mNameError\u001b[0m: name 'RandomForestRegressor' is not defined"
     ]
    }
   ],
   "source": [
    "# Define the parameter grid you want to search over\n",
    "param_grid = {\n",
    "    'n_estimators': [50, 100, 200],\n",
    "    'max_depth': [None, 10, 20],\n",
    "    'min_samples_split': [2, 5, 10],\n",
    "    'min_samples_leaf': [1, 2, 4]\n",
    "}\n",
    "\n",
    "# Create a RandomForestRegressor instance\n",
    "rf = RandomForestClassifier()\n",
    "\n",
    "# Initialize GridSearchCV with the parameter grid and RandomForestClassifier\n",
    "grid_search = GridSearchCV(estimator=rf, param_grid=param_grid, cv=5, n_jobs=-1)\n",
    "\n",
    "# Fit the grid search to your data\n",
    "grid_search.fit(X_train_scaled, y_train)\n",
    "\n",
    "# Print the best parameters found\n",
    "print(\"Best parameters:\", grid_search.best_params_)\n",
    "\n",
    "# Print the best score found\n",
    "print(\"Best score:\", grid_search.best_score_)\n",
    "\n",
    "predictions = grid_search.predict(X_test)\n",
    "\n",
    "mse = mean_squared_error(y_test, predictions)"
   ]
  },
  {
   "cell_type": "code",
   "execution_count": null,
   "id": "8735a0b8",
   "metadata": {},
   "outputs": [],
   "source": []
  },
  {
   "cell_type": "code",
   "execution_count": null,
   "id": "1b89d711",
   "metadata": {},
   "outputs": [],
   "source": [
    "# start_station_rank\tend_station_rank remove these columns"
   ]
  },
  {
   "cell_type": "markdown",
   "id": "623d79cf-a0e2-49b9-85e6-5d65af82bd4d",
   "metadata": {},
   "source": [
    "### Linear Regression"
   ]
  },
  {
   "cell_type": "code",
   "execution_count": null,
   "id": "65cdbb72",
   "metadata": {},
   "outputs": [],
   "source": [
    "from sklearn.linear_model import LinearRegression"
   ]
  },
  {
   "cell_type": "code",
   "execution_count": null,
   "id": "e945a1b2",
   "metadata": {},
   "outputs": [],
   "source": [
    "lr = LinearRegression()"
   ]
  },
  {
   "cell_type": "code",
   "execution_count": null,
   "id": "df45337e",
   "metadata": {},
   "outputs": [],
   "source": [
    "lr.fit(X_train_scaled, y_train)"
   ]
  },
  {
   "cell_type": "code",
   "execution_count": null,
   "id": "4bf5ebcf",
   "metadata": {},
   "outputs": [],
   "source": [
    "y_pred = lr.predict(X_test_scaled)"
   ]
  },
  {
   "cell_type": "code",
   "execution_count": null,
   "id": "6e07c596",
   "metadata": {},
   "outputs": [],
   "source": [
    "mse = mean_squared_error(y_test, y_pred)"
   ]
  },
  {
   "cell_type": "code",
   "execution_count": null,
   "id": "494f261b",
   "metadata": {},
   "outputs": [],
   "source": [
    "mse"
   ]
  },
  {
   "cell_type": "markdown",
   "id": "b3ba3954-9566-4e01-bf00-4fbcd1e85f7c",
   "metadata": {},
   "source": [
    "### K-Fold Cross Validation"
   ]
  },
  {
   "cell_type": "code",
   "execution_count": null,
   "id": "1789120d",
   "metadata": {},
   "outputs": [],
   "source": [
    "X = filtered_df.drop([\"distance_km\", \"average_speed\"], axis=1)\n",
    "y = filtered_df['distance_km']\n",
    "\n",
    "# Split the dataset into training and testing sets (80% train, 20% test)\n",
    "X_train, X_test, y_train, y_test = train_test_split(X, y, test_size=0.2, random_state=42)"
   ]
  },
  {
   "cell_type": "code",
   "execution_count": null,
   "id": "f2991f94",
   "metadata": {},
   "outputs": [],
   "source": [
    "scaler = MinMaxScaler()\n",
    "X_train = scaler.fit_transform(X_train)\n",
    "X_test = scaler.transform(X_test)"
   ]
  },
  {
   "cell_type": "code",
   "execution_count": null,
   "id": "b2010ac3",
   "metadata": {},
   "outputs": [],
   "source": [
    "import tensorflow as tf\n",
    "from tensorflow.keras.models import Sequential\n",
    "from tensorflow.keras.layers import Dense, Activation,Dropout"
   ]
  },
  {
   "cell_type": "markdown",
   "id": "ca9a58a2-a8e7-4386-93bc-aeca21cd2886",
   "metadata": {},
   "source": [
    "### Sequential?"
   ]
  },
  {
   "cell_type": "code",
   "execution_count": null,
   "id": "78d7d22d",
   "metadata": {},
   "outputs": [],
   "source": [
    "model = Sequential()\n",
    "\n",
    "model.add(Dense(units = 20, activation = 'relu'))\n",
    "model.add(Dropout(.1))\n",
    "model.add(Dense(units = 10, activation = 'relu'))\n",
    "model.add(Dropout(.1))\n",
    "model.add(Dense(units = 10, activation = 'relu'))\n",
    "model.add(Dropout(.1))\n",
    "model.add(Dense(units = 5, activation = 'relu'))\n",
    "model.add(Dropout(.1))\n",
    "model.add(Dense(units = 1, activation = 'linear'))\n",
    "\n",
    "model.compile(loss = 'mean_squared_error', optimizer = 'adam')"
   ]
  },
  {
   "cell_type": "code",
   "execution_count": null,
   "id": "6f2e5027",
   "metadata": {},
   "outputs": [],
   "source": [
    "model.summary()"
   ]
  },
  {
   "cell_type": "markdown",
   "id": "c78b85bd-9c16-406a-9e56-6c57aec47add",
   "metadata": {},
   "source": [
    "### Early Stopping?"
   ]
  },
  {
   "cell_type": "code",
   "execution_count": null,
   "id": "43e3333e",
   "metadata": {},
   "outputs": [],
   "source": [
    "from tensorflow.keras.callbacks import EarlyStopping"
   ]
  },
  {
   "cell_type": "code",
   "execution_count": null,
   "id": "c3011803",
   "metadata": {},
   "outputs": [],
   "source": [
    "#stops when validation loss is not dropping for 3 epochs\n",
    "early_stop = EarlyStopping(monitor = 'val_loss', mode = 'min', patience = 15, verbose = 1)"
   ]
  },
  {
   "cell_type": "code",
   "execution_count": null,
   "id": "37d2e976",
   "metadata": {},
   "outputs": [],
   "source": [
    "#Fitting model\n",
    "model.fit(X_train, y_train, \n",
    "          epochs = 800,\n",
    "         validation_data=(X_test, y_test),\n",
    "         verbose = 1, \n",
    "         callbacks=[early_stop])"
   ]
  },
  {
   "cell_type": "code",
   "execution_count": null,
   "id": "56cfea54",
   "metadata": {},
   "outputs": [],
   "source": [
    "model_loss = pd.DataFrame(model.history.history)\n",
    "model_loss.plot()"
   ]
  },
  {
   "cell_type": "code",
   "execution_count": null,
   "id": "f7377b1c",
   "metadata": {},
   "outputs": [],
   "source": [
    "prediction = model.predict(X_test)"
   ]
  },
  {
   "cell_type": "code",
   "execution_count": null,
   "id": "a3fdb36c",
   "metadata": {},
   "outputs": [],
   "source": [
    "mse = mean_squared_error(y_test, prediction)"
   ]
  },
  {
   "cell_type": "code",
   "execution_count": null,
   "id": "180f5071",
   "metadata": {},
   "outputs": [],
   "source": [
    "mse"
   ]
  },
  {
   "cell_type": "markdown",
   "id": "840eddae-f7c8-4113-b2be-7fc94866b984",
   "metadata": {},
   "source": [
    "## Part 4: Interpretation of Results\n",
    "Interpret the results, and explain intuition behind it. Assume person does not have greatest knowledge of Data Science."
   ]
  },
  {
   "cell_type": "markdown",
   "id": "47874513-0353-442f-8889-ed5219b51631",
   "metadata": {},
   "source": [
    "<center><img src=\"https://www.jotform.com/blog/wp-content/uploads/2019/10/Top-6-data-collection-methods-700x545.png\"></center>"
   ]
  },
  {
   "cell_type": "markdown",
   "id": "6ad71403-b81f-4c6f-9c1c-59673134b03c",
   "metadata": {},
   "source": [
    "## Conclusion\n",
    "Restate importance of our tutorial, and takeaways."
   ]
  },
  {
   "cell_type": "markdown",
   "id": "e52eef04-da87-437c-a0e9-8b47a84714c3",
   "metadata": {},
   "source": [
    "<center><img src=\"https://www.jotform.com/blog/wp-content/uploads/2019/10/Data-collection-and-lead-generation-700x545.png\"></center>"
   ]
  },
  {
   "cell_type": "markdown",
   "id": "d030ae65-e940-4b05-a905-7794191e0c89",
   "metadata": {},
   "source": [
    "## References\n",
    "Include links to external sources or other info for more learning"
   ]
  },
  {
   "cell_type": "code",
   "execution_count": null,
   "id": "d7f19683-577b-4dce-ab74-80b002164775",
   "metadata": {},
   "outputs": [],
   "source": []
  }
 ],
 "metadata": {
  "kernelspec": {
   "display_name": "Python 3 (ipykernel)",
   "language": "python",
   "name": "python3"
  },
  "language_info": {
   "codemirror_mode": {
    "name": "ipython",
    "version": 3
   },
   "file_extension": ".py",
   "mimetype": "text/x-python",
   "name": "python",
   "nbconvert_exporter": "python",
   "pygments_lexer": "ipython3",
   "version": "3.11.8"
  }
 },
 "nbformat": 4,
 "nbformat_minor": 5
}
