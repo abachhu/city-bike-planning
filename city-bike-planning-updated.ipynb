{
 "cells": [
  {
   "cell_type": "markdown",
   "id": "bb332e31-6e9d-44b6-849e-5400e1337701",
   "metadata": {},
   "source": [
    "<center><img src=https://www.toronto.ca/wp-content/uploads/2023/10/9744-Cycling-Network-graphic-2023-10-31-1024x338.png /></center>"
   ]
  },
  {
   "cell_type": "markdown",
   "id": "a9652a98-beaf-49f3-8cfd-5f167542f2fa",
   "metadata": {},
   "source": [
    "<center><h1>City Bike Planning</h1></center>\n",
    "<center>Collaborators: Ankith Bachhu, Shaunak Roy, Dominick Cardone, Daniel Lu</center>"
   ]
  },
  {
   "cell_type": "markdown",
   "id": "49b7659e-fa41-4227-8d73-6636668087ff",
   "metadata": {},
   "source": [
    "## Table of Contents\n",
    "1. [Introduction](#Introduction) <br> \n",
    "2. [Part 1: Data Collection](#Part-1:-Data-Collection) <br>\n",
    "3. [Part 2: Data Cleaning & Exploratory Analysis](#Part-2:-Data-Cleaning-&-Exploratory-Analysis) <br>\n",
    "4. [Part 3: Model Training and Testing](#Part-3:-Model-training-and-testing) <br>\n",
    "5. [Part 4: Interpretation of Results](#Part-4:-Interpretation-of-Results) <br>\n",
    "6. [Conclusion](#Conclusion) <br>\n",
    "7. [References](#References)"
   ]
  },
  {
   "cell_type": "markdown",
   "id": "7ce6d023-0784-4da6-b536-fb026ccf56a7",
   "metadata": {},
   "source": [
    "## Introduction\n",
    "The purpose of this tutorial is to walk you through the data science lifecycle, introducing you to many different data science concepts. The data science lifecycle goes as follows: \n",
    "1. Data collection\n",
    "3. Data processing\n",
    "4. Exploratory analysis and Data visualization\n",
    "5. Model analysis and testing\n",
    "6. Interpretation of results\n",
    "\n",
    "The whole purpose of the data science lifecycle is to identify trends or patterns, investigate or answer a question, or solve a problem. In this tutorial, we will be looking to answer the question: SOMETHING SOMETHING SOMETHING. By coming up with a answer, we will be able to SOMETHING SOMETHING SOMETHING. \n",
    "\n",
    "**IMPORTANT** \n",
    "<br>For this tutorial there may be some key terms you need to be familiar with:\n",
    "- Observation: Refers to a row...\n",
    "**May not need this section, if there are no other key terms, cuz I can refer to observations as just bike rides instead**\n",
    "\n",
    "**We will dive into the purpose behind each step as we continue on deeper later, and then we talk about the importance of this tutorial in terms of city bike planning, maybe something related to enviromental friendly etc.**"
   ]
  },
  {
   "cell_type": "markdown",
   "id": "28765325-ece6-416e-ae41-2c271f9ca181",
   "metadata": {},
   "source": [
    "## Part 1: Data Collection\n",
    "In order to reach our end goal and finding OUR GOAL FOR QUESTION OR PROBLEM OR SOMETHING SOMETHING, we must first begin by collecting the data necessary to answer our question. It is important to find the appropriate dataset for your situation, as later on, your machine learning model is as good as the data you feed into it. And since your machine learning model is the tool that will be used to find the answer to your question, then essentially your answer is reliant on the dataset you use. Therefore, it is important to collect the appropriate dataset.\n",
    "\n",
    "Usually, a company may have to conduct their own experiments or studies to collect the necessary data they need. However, oftentimes, these tasks are already done by other companies, and avaialble to use for the public. For our tutorial, we will be using a dataset provided by Capital Bike Share.\n",
    "\n",
    "**MAYBE talk about the creidbilty behind Capital Bike Share a little bit.**\n"
   ]
  },
  {
   "cell_type": "markdown",
   "id": "0f95f31a-4511-4863-b119-8879f446e149",
   "metadata": {},
   "source": [
    "<center><img src=\"https://www.jotform.com/blog/wp-content/uploads/2019/10/Quantitative-data-collection-methods-1-700x545.png\"></center>"
   ]
  },
  {
   "cell_type": "markdown",
   "id": "47eb4cc0-fc02-4da3-91d1-089d5eadb063",
   "metadata": {},
   "source": [
    "### Import Python Libraries\n",
    "To begin this tutorial, we first need to import the necessary Python libraries (as shown below), which will be used for this tutorial. You should use Jupyter Notebook, as most of the code provided is run in Jupyter Notebook. Jupyter Notebook is also widely used by data scientists, as it allows us to better visualize our data and other analysis. We will dive more in detail about the use of each of these libraries as we encounter and use each one."
   ]
  },
  {
   "cell_type": "code",
   "execution_count": 1,
   "id": "8014ae04",
   "metadata": {},
   "outputs": [
    {
     "name": "stderr",
     "output_type": "stream",
     "text": [
      "/Users/ankithb/opt/anaconda3/lib/python3.9/site-packages/scipy/__init__.py:146: UserWarning: A NumPy version >=1.16.5 and <1.23.0 is required for this version of SciPy (detected version 1.26.4\n",
      "  warnings.warn(f\"A NumPy version >={np_minversion} and <{np_maxversion}\"\n"
     ]
    }
   ],
   "source": [
    "# Import necessary libraries\n",
    "import numpy as np\n",
    "import pandas as pd\n",
    "import matplotlib.pyplot as plt\n",
    "from datetime import datetime as dt\n",
    "import seaborn as sns\n",
    "\n",
    "# Filter out the warnings\n",
    "import warnings\n",
    "warnings.filterwarnings(\"ignore\")"
   ]
  },
  {
   "cell_type": "markdown",
   "id": "1f648c25-6a7b-4fcf-a6bc-671067f97957",
   "metadata": {},
   "source": [
    "### Download and import the data\n",
    "Navigate to https://s3.amazonaws.com/capitalbikeshare-data/index.html and download any of the zip files. Extract the csv file from the zip file, and **make sure you move it to the same folder** as the one in which you are running your python program or Jupyter Notebook. For the purpose of this tutorial, it would be helpful to download the same zip file we did, if you want to compare your results with the tutorial's."
   ]
  },
  {
   "cell_type": "code",
   "execution_count": 101,
   "id": "ff66f00e",
   "metadata": {},
   "outputs": [],
   "source": [
    "# Read in the csv file\n",
    "df = pd.read_csv(r\"202402-capitalbikeshare-tripdata.csv\")"
   ]
  },
  {
   "cell_type": "markdown",
   "id": "7289fa87-cda2-497c-a32c-9e32740fbb5c",
   "metadata": {},
   "source": [
    "If you downloaded the same csv file, run the code below, and compare your results, it should be the same."
   ]
  },
  {
   "cell_type": "code",
   "execution_count": 102,
   "id": "ed34fd71",
   "metadata": {},
   "outputs": [
    {
     "data": {
      "text/html": [
       "<div>\n",
       "<style scoped>\n",
       "    .dataframe tbody tr th:only-of-type {\n",
       "        vertical-align: middle;\n",
       "    }\n",
       "\n",
       "    .dataframe tbody tr th {\n",
       "        vertical-align: top;\n",
       "    }\n",
       "\n",
       "    .dataframe thead th {\n",
       "        text-align: right;\n",
       "    }\n",
       "</style>\n",
       "<table border=\"1\" class=\"dataframe\">\n",
       "  <thead>\n",
       "    <tr style=\"text-align: right;\">\n",
       "      <th></th>\n",
       "      <th>ride_id</th>\n",
       "      <th>rideable_type</th>\n",
       "      <th>started_at</th>\n",
       "      <th>ended_at</th>\n",
       "      <th>start_station_name</th>\n",
       "      <th>start_station_id</th>\n",
       "      <th>end_station_name</th>\n",
       "      <th>end_station_id</th>\n",
       "      <th>start_lat</th>\n",
       "      <th>start_lng</th>\n",
       "      <th>end_lat</th>\n",
       "      <th>end_lng</th>\n",
       "      <th>member_casual</th>\n",
       "    </tr>\n",
       "  </thead>\n",
       "  <tbody>\n",
       "    <tr>\n",
       "      <th>0</th>\n",
       "      <td>24DBACC298E33BF6</td>\n",
       "      <td>electric_bike</td>\n",
       "      <td>2/1/24 21:18</td>\n",
       "      <td>2/1/24 21:27</td>\n",
       "      <td>Eckington Pl &amp; Q St NE</td>\n",
       "      <td>31505.0</td>\n",
       "      <td>5th &amp; K St NW</td>\n",
       "      <td>31600.0</td>\n",
       "      <td>38.910893</td>\n",
       "      <td>-77.005023</td>\n",
       "      <td>38.90304</td>\n",
       "      <td>-77.019027</td>\n",
       "      <td>member</td>\n",
       "    </tr>\n",
       "    <tr>\n",
       "      <th>1</th>\n",
       "      <td>FE1067800A18BC56</td>\n",
       "      <td>electric_bike</td>\n",
       "      <td>2/6/24 17:15</td>\n",
       "      <td>2/6/24 17:30</td>\n",
       "      <td>4th &amp; C St SW</td>\n",
       "      <td>31243.0</td>\n",
       "      <td>NaN</td>\n",
       "      <td>NaN</td>\n",
       "      <td>38.886443</td>\n",
       "      <td>-77.017388</td>\n",
       "      <td>38.91000</td>\n",
       "      <td>-76.980000</td>\n",
       "      <td>member</td>\n",
       "    </tr>\n",
       "    <tr>\n",
       "      <th>2</th>\n",
       "      <td>AD1962B215B5879D</td>\n",
       "      <td>electric_bike</td>\n",
       "      <td>2/26/24 13:19</td>\n",
       "      <td>2/26/24 13:30</td>\n",
       "      <td>North Capitol St &amp; F St NW</td>\n",
       "      <td>31624.0</td>\n",
       "      <td>NaN</td>\n",
       "      <td>NaN</td>\n",
       "      <td>38.896907</td>\n",
       "      <td>-77.009684</td>\n",
       "      <td>38.90000</td>\n",
       "      <td>-77.010000</td>\n",
       "      <td>member</td>\n",
       "    </tr>\n",
       "    <tr>\n",
       "      <th>3</th>\n",
       "      <td>3F8352E6D9EC4F85</td>\n",
       "      <td>electric_bike</td>\n",
       "      <td>2/2/24 11:01</td>\n",
       "      <td>2/2/24 11:05</td>\n",
       "      <td>1st &amp; K St NE</td>\n",
       "      <td>31662.0</td>\n",
       "      <td>NaN</td>\n",
       "      <td>NaN</td>\n",
       "      <td>38.902394</td>\n",
       "      <td>-77.005614</td>\n",
       "      <td>38.90000</td>\n",
       "      <td>-77.010000</td>\n",
       "      <td>member</td>\n",
       "    </tr>\n",
       "    <tr>\n",
       "      <th>4</th>\n",
       "      <td>D656DA87FA915F14</td>\n",
       "      <td>electric_bike</td>\n",
       "      <td>2/25/24 8:28</td>\n",
       "      <td>2/25/24 8:48</td>\n",
       "      <td>Virginia Ave &amp; 25th St NW</td>\n",
       "      <td>31297.0</td>\n",
       "      <td>NaN</td>\n",
       "      <td>NaN</td>\n",
       "      <td>38.898456</td>\n",
       "      <td>-77.053075</td>\n",
       "      <td>38.91000</td>\n",
       "      <td>-77.060000</td>\n",
       "      <td>member</td>\n",
       "    </tr>\n",
       "  </tbody>\n",
       "</table>\n",
       "</div>"
      ],
      "text/plain": [
       "            ride_id  rideable_type     started_at       ended_at  \\\n",
       "0  24DBACC298E33BF6  electric_bike   2/1/24 21:18   2/1/24 21:27   \n",
       "1  FE1067800A18BC56  electric_bike   2/6/24 17:15   2/6/24 17:30   \n",
       "2  AD1962B215B5879D  electric_bike  2/26/24 13:19  2/26/24 13:30   \n",
       "3  3F8352E6D9EC4F85  electric_bike   2/2/24 11:01   2/2/24 11:05   \n",
       "4  D656DA87FA915F14  electric_bike   2/25/24 8:28   2/25/24 8:48   \n",
       "\n",
       "           start_station_name  start_station_id end_station_name  \\\n",
       "0      Eckington Pl & Q St NE           31505.0    5th & K St NW   \n",
       "1               4th & C St SW           31243.0              NaN   \n",
       "2  North Capitol St & F St NW           31624.0              NaN   \n",
       "3               1st & K St NE           31662.0              NaN   \n",
       "4   Virginia Ave & 25th St NW           31297.0              NaN   \n",
       "\n",
       "   end_station_id  start_lat  start_lng   end_lat    end_lng member_casual  \n",
       "0         31600.0  38.910893 -77.005023  38.90304 -77.019027        member  \n",
       "1             NaN  38.886443 -77.017388  38.91000 -76.980000        member  \n",
       "2             NaN  38.896907 -77.009684  38.90000 -77.010000        member  \n",
       "3             NaN  38.902394 -77.005614  38.90000 -77.010000        member  \n",
       "4             NaN  38.898456 -77.053075  38.91000 -77.060000        member  "
      ]
     },
     "execution_count": 102,
     "metadata": {},
     "output_type": "execute_result"
    }
   ],
   "source": [
    "# Print out the head of the table imported\n",
    "df.head()"
   ]
  },
  {
   "cell_type": "markdown",
   "id": "7b0144b3-adaa-4d01-bc7f-1d98d04c8c49",
   "metadata": {},
   "source": [
    "## Part 2: Data Cleaning & Exploratory Data Analysis\n",
    "Now that we have our data, the next step is to clean our data. *What does it mean to clean our data?* It is exactly how it sounds, we will need to make changes to our data in order to make it ready to be processed by our machine learning model or just easier for us to analyze. This process may involve many different things, some examples are:\n",
    "* Deleting unnecessary data\n",
    "* Filling in missing data\n",
    "* Changing the values or metrics/measurements of our data\n",
    "* Calculating new data point from existing data\n",
    "* Reordering data in a new way that makes it easier to read or work with machine learning model???<br>\n",
    "\n",
    "Now, you may have noticed we combined two steps of the data science lifecycle: Data cleaning & Exploratory Analysis. We've combined these two steps, because sometimes it is helpful to perform exploratory analysis on our dataset, in order to help determine what things we need to clean. For example, we may plot a graph of two data points, in order to see if there any noticeable trends, which may prompt us to create a new data point, that we may believe to be useful for the machine learning model to use.\n",
    "\n",
    "In simple terms, exploratory analysis, is performing any sort of analysis on your dataset before we pass it into the machine learning model. This process may involve creating graphs or plotting values of a certain data point. Essentially, we may be trying to answer the question before passing it into the machine learning model, making any predictions or identifying any trends, which may prove useful in interpreting our results later on after the machine learning model. This analysis may also help guide our question or research, as mentioned earlier, where we may notice one data point is significant in some sort of way.\n",
    "\n",
    "**PLEASE FACT CHECK WHAT IM WRITING**"
   ]
  },
  {
   "cell_type": "markdown",
   "id": "92d6095e-ce62-40a7-9826-c8f7d1d33fc9",
   "metadata": {},
   "source": [
    "<center><img src=\"https://www.jotform.com/blog/wp-content/uploads/2019/10/data-collection-methods-700x545.png\"></center>"
   ]
  },
  {
   "cell_type": "markdown",
   "id": "9c68f0fe-aa62-4f5d-bf40-951f8b17e783",
   "metadata": {},
   "source": [
    "First let's list out some information about each column (aka our data points). This step will help us see if there are any data types which we may need to change for the purpose of being able to calculate additonal data points and be used in our machine learning model."
   ]
  },
  {
   "cell_type": "code",
   "execution_count": 103,
   "id": "10ec67f3",
   "metadata": {},
   "outputs": [
    {
     "name": "stdout",
     "output_type": "stream",
     "text": [
      "<class 'pandas.core.frame.DataFrame'>\n",
      "RangeIndex: 318688 entries, 0 to 318687\n",
      "Data columns (total 13 columns):\n",
      " #   Column              Non-Null Count   Dtype  \n",
      "---  ------              --------------   -----  \n",
      " 0   ride_id             318688 non-null  object \n",
      " 1   rideable_type       318688 non-null  object \n",
      " 2   started_at          318688 non-null  object \n",
      " 3   ended_at            318688 non-null  object \n",
      " 4   start_station_name  270637 non-null  object \n",
      " 5   start_station_id    270637 non-null  float64\n",
      " 6   end_station_name    267827 non-null  object \n",
      " 7   end_station_id      267824 non-null  float64\n",
      " 8   start_lat           318688 non-null  float64\n",
      " 9   start_lng           318688 non-null  float64\n",
      " 10  end_lat             318444 non-null  float64\n",
      " 11  end_lng             318444 non-null  float64\n",
      " 12  member_casual       318688 non-null  object \n",
      "dtypes: float64(6), object(7)\n",
      "memory usage: 31.6+ MB\n"
     ]
    }
   ],
   "source": [
    "# List out information about each of the entries of the table\n",
    "df.info()"
   ]
  },
  {
   "cell_type": "markdown",
   "id": "d41d3e8d-b69c-4b2d-ace1-c5755f6fd665",
   "metadata": {},
   "source": [
    "### Drop Some Unnecessary Data\n",
    "Next, let's drop some unnecessary data. *How did we determine that this data was unnecessary?* We dropped the IDs because they are random and essentially function the same as indexes, providing no meaningful information."
   ]
  },
  {
   "cell_type": "code",
   "execution_count": 104,
   "id": "ebed8b78",
   "metadata": {},
   "outputs": [],
   "source": [
    "# Drop start and end station id columns\n",
    "df.drop([\"start_station_id\", \"end_station_id\"], axis=1, inplace=True)\n",
    "\n",
    "# Drop ride id column\n",
    "df.drop([\"ride_id\"], axis=1, inplace=True)"
   ]
  },
  {
   "cell_type": "code",
   "execution_count": 105,
   "id": "52ee7114",
   "metadata": {},
   "outputs": [
    {
     "data": {
      "text/plain": [
       "array(['electric_bike', 'classic_bike'], dtype=object)"
      ]
     },
     "execution_count": 105,
     "metadata": {},
     "output_type": "execute_result"
    }
   ],
   "source": [
    "# List out unique bike types\n",
    "df[\"rideable_type\"].unique()"
   ]
  },
  {
   "cell_type": "markdown",
   "id": "5a90ea90-e039-42eb-9f66-a9fdc0192bbb",
   "metadata": {},
   "source": [
    "Let's drop some of the observations which are missing entries or data points. This step is important, as having observations with missing data points may lead to errors when running code later. It also doesn't make sense to incldue them, since if our machine learning model relies on data points to make predictions, if a datapoint has no value, it could interefere or screw with our predictions. Our dataset is large enough and the amount of missing data is small enough that we can safely ignore it without hindering out predictions."
   ]
  },
  {
   "cell_type": "code",
   "execution_count": 106,
   "id": "fa4244e2",
   "metadata": {},
   "outputs": [],
   "source": [
    "# Drop any observations, where there are missing entries or data points\n",
    "df.dropna(axis=0, inplace=True)"
   ]
  },
  {
   "cell_type": "code",
   "execution_count": 107,
   "id": "19f216cc",
   "metadata": {},
   "outputs": [
    {
     "name": "stdout",
     "output_type": "stream",
     "text": [
      "<class 'pandas.core.frame.DataFrame'>\n",
      "Int64Index: 246639 entries, 0 to 318687\n",
      "Data columns (total 10 columns):\n",
      " #   Column              Non-Null Count   Dtype  \n",
      "---  ------              --------------   -----  \n",
      " 0   rideable_type       246639 non-null  object \n",
      " 1   started_at          246639 non-null  object \n",
      " 2   ended_at            246639 non-null  object \n",
      " 3   start_station_name  246639 non-null  object \n",
      " 4   end_station_name    246639 non-null  object \n",
      " 5   start_lat           246639 non-null  float64\n",
      " 6   start_lng           246639 non-null  float64\n",
      " 7   end_lat             246639 non-null  float64\n",
      " 8   end_lng             246639 non-null  float64\n",
      " 9   member_casual       246639 non-null  object \n",
      "dtypes: float64(4), object(6)\n",
      "memory usage: 20.7+ MB\n"
     ]
    }
   ],
   "source": [
    "# List out info of columns again\n",
    "df.info()"
   ]
  },
  {
   "cell_type": "code",
   "execution_count": 108,
   "id": "8e709c81",
   "metadata": {},
   "outputs": [
    {
     "data": {
      "text/html": [
       "<div>\n",
       "<style scoped>\n",
       "    .dataframe tbody tr th:only-of-type {\n",
       "        vertical-align: middle;\n",
       "    }\n",
       "\n",
       "    .dataframe tbody tr th {\n",
       "        vertical-align: top;\n",
       "    }\n",
       "\n",
       "    .dataframe thead th {\n",
       "        text-align: right;\n",
       "    }\n",
       "</style>\n",
       "<table border=\"1\" class=\"dataframe\">\n",
       "  <thead>\n",
       "    <tr style=\"text-align: right;\">\n",
       "      <th></th>\n",
       "      <th>rideable_type</th>\n",
       "      <th>started_at</th>\n",
       "      <th>ended_at</th>\n",
       "      <th>start_station_name</th>\n",
       "      <th>end_station_name</th>\n",
       "      <th>start_lat</th>\n",
       "      <th>start_lng</th>\n",
       "      <th>end_lat</th>\n",
       "      <th>end_lng</th>\n",
       "      <th>member_casual</th>\n",
       "    </tr>\n",
       "  </thead>\n",
       "  <tbody>\n",
       "    <tr>\n",
       "      <th>0</th>\n",
       "      <td>electric_bike</td>\n",
       "      <td>2/1/24 21:18</td>\n",
       "      <td>2/1/24 21:27</td>\n",
       "      <td>Eckington Pl &amp; Q St NE</td>\n",
       "      <td>5th &amp; K St NW</td>\n",
       "      <td>38.910893</td>\n",
       "      <td>-77.005023</td>\n",
       "      <td>38.903040</td>\n",
       "      <td>-77.019027</td>\n",
       "      <td>member</td>\n",
       "    </tr>\n",
       "    <tr>\n",
       "      <th>16</th>\n",
       "      <td>electric_bike</td>\n",
       "      <td>2/15/24 16:46</td>\n",
       "      <td>2/15/24 16:59</td>\n",
       "      <td>Metro Center / 12th &amp; G St NW</td>\n",
       "      <td>Columbia Rd &amp; Georgia Ave NW</td>\n",
       "      <td>38.898400</td>\n",
       "      <td>-77.027643</td>\n",
       "      <td>38.928121</td>\n",
       "      <td>-77.023795</td>\n",
       "      <td>member</td>\n",
       "    </tr>\n",
       "    <tr>\n",
       "      <th>17</th>\n",
       "      <td>classic_bike</td>\n",
       "      <td>2/7/24 17:42</td>\n",
       "      <td>2/7/24 18:12</td>\n",
       "      <td>4th &amp; C St SW</td>\n",
       "      <td>Columbia Rd &amp; Georgia Ave NW</td>\n",
       "      <td>38.886372</td>\n",
       "      <td>-77.017701</td>\n",
       "      <td>38.928121</td>\n",
       "      <td>-77.023795</td>\n",
       "      <td>member</td>\n",
       "    </tr>\n",
       "    <tr>\n",
       "      <th>18</th>\n",
       "      <td>classic_bike</td>\n",
       "      <td>2/22/24 16:43</td>\n",
       "      <td>2/22/24 16:56</td>\n",
       "      <td>4th &amp; M St SE</td>\n",
       "      <td>Columbus Circle / Union Station</td>\n",
       "      <td>38.876751</td>\n",
       "      <td>-77.000736</td>\n",
       "      <td>38.896960</td>\n",
       "      <td>-77.004930</td>\n",
       "      <td>member</td>\n",
       "    </tr>\n",
       "    <tr>\n",
       "      <th>19</th>\n",
       "      <td>classic_bike</td>\n",
       "      <td>2/10/24 1:11</td>\n",
       "      <td>2/10/24 1:23</td>\n",
       "      <td>Virginia Ave &amp; 25th St NW</td>\n",
       "      <td>20th &amp; O St NW / Dupont South</td>\n",
       "      <td>38.898460</td>\n",
       "      <td>-77.053052</td>\n",
       "      <td>38.908905</td>\n",
       "      <td>-77.044780</td>\n",
       "      <td>casual</td>\n",
       "    </tr>\n",
       "  </tbody>\n",
       "</table>\n",
       "</div>"
      ],
      "text/plain": [
       "    rideable_type     started_at       ended_at  \\\n",
       "0   electric_bike   2/1/24 21:18   2/1/24 21:27   \n",
       "16  electric_bike  2/15/24 16:46  2/15/24 16:59   \n",
       "17   classic_bike   2/7/24 17:42   2/7/24 18:12   \n",
       "18   classic_bike  2/22/24 16:43  2/22/24 16:56   \n",
       "19   classic_bike   2/10/24 1:11   2/10/24 1:23   \n",
       "\n",
       "               start_station_name                 end_station_name  start_lat  \\\n",
       "0          Eckington Pl & Q St NE                    5th & K St NW  38.910893   \n",
       "16  Metro Center / 12th & G St NW     Columbia Rd & Georgia Ave NW  38.898400   \n",
       "17                  4th & C St SW     Columbia Rd & Georgia Ave NW  38.886372   \n",
       "18                  4th & M St SE  Columbus Circle / Union Station  38.876751   \n",
       "19      Virginia Ave & 25th St NW    20th & O St NW / Dupont South  38.898460   \n",
       "\n",
       "    start_lng    end_lat    end_lng member_casual  \n",
       "0  -77.005023  38.903040 -77.019027        member  \n",
       "16 -77.027643  38.928121 -77.023795        member  \n",
       "17 -77.017701  38.928121 -77.023795        member  \n",
       "18 -77.000736  38.896960 -77.004930        member  \n",
       "19 -77.053052  38.908905 -77.044780        casual  "
      ]
     },
     "execution_count": 108,
     "metadata": {},
     "output_type": "execute_result"
    }
   ],
   "source": [
    "# Print out table again to check it\n",
    "df.head()"
   ]
  },
  {
   "cell_type": "markdown",
   "id": "800f5dbe-2057-4e19-89d4-2266348616d1",
   "metadata": {},
   "source": [
    "This step is more specific for pandas Dataframe, but nonetheless important. It resets our indices to be in order from 0,1,..., some integer. As we can see above, the indices are scattered, skipping from 0 to 16. These indices may prevent us from performing other data cleaning later on, as well as causing potential errors."
   ]
  },
  {
   "cell_type": "code",
   "execution_count": 109,
   "id": "7b0b0bca",
   "metadata": {},
   "outputs": [
    {
     "data": {
      "text/html": [
       "<div>\n",
       "<style scoped>\n",
       "    .dataframe tbody tr th:only-of-type {\n",
       "        vertical-align: middle;\n",
       "    }\n",
       "\n",
       "    .dataframe tbody tr th {\n",
       "        vertical-align: top;\n",
       "    }\n",
       "\n",
       "    .dataframe thead th {\n",
       "        text-align: right;\n",
       "    }\n",
       "</style>\n",
       "<table border=\"1\" class=\"dataframe\">\n",
       "  <thead>\n",
       "    <tr style=\"text-align: right;\">\n",
       "      <th></th>\n",
       "      <th>rideable_type</th>\n",
       "      <th>started_at</th>\n",
       "      <th>ended_at</th>\n",
       "      <th>start_station_name</th>\n",
       "      <th>end_station_name</th>\n",
       "      <th>start_lat</th>\n",
       "      <th>start_lng</th>\n",
       "      <th>end_lat</th>\n",
       "      <th>end_lng</th>\n",
       "      <th>member_casual</th>\n",
       "    </tr>\n",
       "  </thead>\n",
       "  <tbody>\n",
       "    <tr>\n",
       "      <th>0</th>\n",
       "      <td>electric_bike</td>\n",
       "      <td>2/1/24 21:18</td>\n",
       "      <td>2/1/24 21:27</td>\n",
       "      <td>Eckington Pl &amp; Q St NE</td>\n",
       "      <td>5th &amp; K St NW</td>\n",
       "      <td>38.910893</td>\n",
       "      <td>-77.005023</td>\n",
       "      <td>38.903040</td>\n",
       "      <td>-77.019027</td>\n",
       "      <td>member</td>\n",
       "    </tr>\n",
       "    <tr>\n",
       "      <th>1</th>\n",
       "      <td>electric_bike</td>\n",
       "      <td>2/15/24 16:46</td>\n",
       "      <td>2/15/24 16:59</td>\n",
       "      <td>Metro Center / 12th &amp; G St NW</td>\n",
       "      <td>Columbia Rd &amp; Georgia Ave NW</td>\n",
       "      <td>38.898400</td>\n",
       "      <td>-77.027643</td>\n",
       "      <td>38.928121</td>\n",
       "      <td>-77.023795</td>\n",
       "      <td>member</td>\n",
       "    </tr>\n",
       "    <tr>\n",
       "      <th>2</th>\n",
       "      <td>classic_bike</td>\n",
       "      <td>2/7/24 17:42</td>\n",
       "      <td>2/7/24 18:12</td>\n",
       "      <td>4th &amp; C St SW</td>\n",
       "      <td>Columbia Rd &amp; Georgia Ave NW</td>\n",
       "      <td>38.886372</td>\n",
       "      <td>-77.017701</td>\n",
       "      <td>38.928121</td>\n",
       "      <td>-77.023795</td>\n",
       "      <td>member</td>\n",
       "    </tr>\n",
       "    <tr>\n",
       "      <th>3</th>\n",
       "      <td>classic_bike</td>\n",
       "      <td>2/22/24 16:43</td>\n",
       "      <td>2/22/24 16:56</td>\n",
       "      <td>4th &amp; M St SE</td>\n",
       "      <td>Columbus Circle / Union Station</td>\n",
       "      <td>38.876751</td>\n",
       "      <td>-77.000736</td>\n",
       "      <td>38.896960</td>\n",
       "      <td>-77.004930</td>\n",
       "      <td>member</td>\n",
       "    </tr>\n",
       "    <tr>\n",
       "      <th>4</th>\n",
       "      <td>classic_bike</td>\n",
       "      <td>2/10/24 1:11</td>\n",
       "      <td>2/10/24 1:23</td>\n",
       "      <td>Virginia Ave &amp; 25th St NW</td>\n",
       "      <td>20th &amp; O St NW / Dupont South</td>\n",
       "      <td>38.898460</td>\n",
       "      <td>-77.053052</td>\n",
       "      <td>38.908905</td>\n",
       "      <td>-77.044780</td>\n",
       "      <td>casual</td>\n",
       "    </tr>\n",
       "  </tbody>\n",
       "</table>\n",
       "</div>"
      ],
      "text/plain": [
       "   rideable_type     started_at       ended_at             start_station_name  \\\n",
       "0  electric_bike   2/1/24 21:18   2/1/24 21:27         Eckington Pl & Q St NE   \n",
       "1  electric_bike  2/15/24 16:46  2/15/24 16:59  Metro Center / 12th & G St NW   \n",
       "2   classic_bike   2/7/24 17:42   2/7/24 18:12                  4th & C St SW   \n",
       "3   classic_bike  2/22/24 16:43  2/22/24 16:56                  4th & M St SE   \n",
       "4   classic_bike   2/10/24 1:11   2/10/24 1:23      Virginia Ave & 25th St NW   \n",
       "\n",
       "                  end_station_name  start_lat  start_lng    end_lat  \\\n",
       "0                    5th & K St NW  38.910893 -77.005023  38.903040   \n",
       "1     Columbia Rd & Georgia Ave NW  38.898400 -77.027643  38.928121   \n",
       "2     Columbia Rd & Georgia Ave NW  38.886372 -77.017701  38.928121   \n",
       "3  Columbus Circle / Union Station  38.876751 -77.000736  38.896960   \n",
       "4    20th & O St NW / Dupont South  38.898460 -77.053052  38.908905   \n",
       "\n",
       "     end_lng member_casual  \n",
       "0 -77.019027        member  \n",
       "1 -77.023795        member  \n",
       "2 -77.023795        member  \n",
       "3 -77.004930        member  \n",
       "4 -77.044780        casual  "
      ]
     },
     "execution_count": 109,
     "metadata": {},
     "output_type": "execute_result"
    }
   ],
   "source": [
    "# Reset indices of table and print out table again to check it\n",
    "df.reset_index(drop=True, inplace=True)\n",
    "df.head()"
   ]
  },
  {
   "cell_type": "markdown",
   "id": "fad8c4a1-b5e1-40b0-aa98-62880d613955",
   "metadata": {},
   "source": [
    "Next, let's convert the data types of our data points. Specifically in this case, we are converting our strings to be datetime objects, as converting it to datetime objects will allow us to perform necessary operations or arithmetic later."
   ]
  },
  {
   "cell_type": "code",
   "execution_count": 110,
   "id": "deeaca55",
   "metadata": {},
   "outputs": [
    {
     "name": "stdout",
     "output_type": "stream",
     "text": [
      "<class 'pandas.core.frame.DataFrame'>\n",
      "RangeIndex: 246639 entries, 0 to 246638\n",
      "Data columns (total 10 columns):\n",
      " #   Column              Non-Null Count   Dtype         \n",
      "---  ------              --------------   -----         \n",
      " 0   rideable_type       246639 non-null  object        \n",
      " 1   started_at          246639 non-null  datetime64[ns]\n",
      " 2   ended_at            246639 non-null  datetime64[ns]\n",
      " 3   start_station_name  246639 non-null  object        \n",
      " 4   end_station_name    246639 non-null  object        \n",
      " 5   start_lat           246639 non-null  float64       \n",
      " 6   start_lng           246639 non-null  float64       \n",
      " 7   end_lat             246639 non-null  float64       \n",
      " 8   end_lng             246639 non-null  float64       \n",
      " 9   member_casual       246639 non-null  object        \n",
      "dtypes: datetime64[ns](2), float64(4), object(4)\n",
      "memory usage: 18.8+ MB\n"
     ]
    }
   ],
   "source": [
    "# Convert datatypes to datetime objects\n",
    "df[\"started_at\"] = pd.to_datetime(df[\"started_at\"])\n",
    "df[\"ended_at\"] = pd.to_datetime(df[\"ended_at\"])\n",
    "\n",
    "# List out columns\n",
    "df.info()"
   ]
  },
  {
   "cell_type": "code",
   "execution_count": 111,
   "id": "1af4d3d1",
   "metadata": {},
   "outputs": [
    {
     "data": {
      "text/html": [
       "<div>\n",
       "<style scoped>\n",
       "    .dataframe tbody tr th:only-of-type {\n",
       "        vertical-align: middle;\n",
       "    }\n",
       "\n",
       "    .dataframe tbody tr th {\n",
       "        vertical-align: top;\n",
       "    }\n",
       "\n",
       "    .dataframe thead th {\n",
       "        text-align: right;\n",
       "    }\n",
       "</style>\n",
       "<table border=\"1\" class=\"dataframe\">\n",
       "  <thead>\n",
       "    <tr style=\"text-align: right;\">\n",
       "      <th></th>\n",
       "      <th>rideable_type</th>\n",
       "      <th>started_at</th>\n",
       "      <th>ended_at</th>\n",
       "      <th>start_station_name</th>\n",
       "      <th>end_station_name</th>\n",
       "      <th>start_lat</th>\n",
       "      <th>start_lng</th>\n",
       "      <th>end_lat</th>\n",
       "      <th>end_lng</th>\n",
       "      <th>member_casual</th>\n",
       "    </tr>\n",
       "  </thead>\n",
       "  <tbody>\n",
       "    <tr>\n",
       "      <th>0</th>\n",
       "      <td>electric_bike</td>\n",
       "      <td>2024-02-01 21:18:00</td>\n",
       "      <td>2024-02-01 21:27:00</td>\n",
       "      <td>Eckington Pl &amp; Q St NE</td>\n",
       "      <td>5th &amp; K St NW</td>\n",
       "      <td>38.910893</td>\n",
       "      <td>-77.005023</td>\n",
       "      <td>38.903040</td>\n",
       "      <td>-77.019027</td>\n",
       "      <td>member</td>\n",
       "    </tr>\n",
       "    <tr>\n",
       "      <th>1</th>\n",
       "      <td>electric_bike</td>\n",
       "      <td>2024-02-15 16:46:00</td>\n",
       "      <td>2024-02-15 16:59:00</td>\n",
       "      <td>Metro Center / 12th &amp; G St NW</td>\n",
       "      <td>Columbia Rd &amp; Georgia Ave NW</td>\n",
       "      <td>38.898400</td>\n",
       "      <td>-77.027643</td>\n",
       "      <td>38.928121</td>\n",
       "      <td>-77.023795</td>\n",
       "      <td>member</td>\n",
       "    </tr>\n",
       "    <tr>\n",
       "      <th>2</th>\n",
       "      <td>classic_bike</td>\n",
       "      <td>2024-02-07 17:42:00</td>\n",
       "      <td>2024-02-07 18:12:00</td>\n",
       "      <td>4th &amp; C St SW</td>\n",
       "      <td>Columbia Rd &amp; Georgia Ave NW</td>\n",
       "      <td>38.886372</td>\n",
       "      <td>-77.017701</td>\n",
       "      <td>38.928121</td>\n",
       "      <td>-77.023795</td>\n",
       "      <td>member</td>\n",
       "    </tr>\n",
       "    <tr>\n",
       "      <th>3</th>\n",
       "      <td>classic_bike</td>\n",
       "      <td>2024-02-22 16:43:00</td>\n",
       "      <td>2024-02-22 16:56:00</td>\n",
       "      <td>4th &amp; M St SE</td>\n",
       "      <td>Columbus Circle / Union Station</td>\n",
       "      <td>38.876751</td>\n",
       "      <td>-77.000736</td>\n",
       "      <td>38.896960</td>\n",
       "      <td>-77.004930</td>\n",
       "      <td>member</td>\n",
       "    </tr>\n",
       "    <tr>\n",
       "      <th>4</th>\n",
       "      <td>classic_bike</td>\n",
       "      <td>2024-02-10 01:11:00</td>\n",
       "      <td>2024-02-10 01:23:00</td>\n",
       "      <td>Virginia Ave &amp; 25th St NW</td>\n",
       "      <td>20th &amp; O St NW / Dupont South</td>\n",
       "      <td>38.898460</td>\n",
       "      <td>-77.053052</td>\n",
       "      <td>38.908905</td>\n",
       "      <td>-77.044780</td>\n",
       "      <td>casual</td>\n",
       "    </tr>\n",
       "  </tbody>\n",
       "</table>\n",
       "</div>"
      ],
      "text/plain": [
       "   rideable_type          started_at            ended_at  \\\n",
       "0  electric_bike 2024-02-01 21:18:00 2024-02-01 21:27:00   \n",
       "1  electric_bike 2024-02-15 16:46:00 2024-02-15 16:59:00   \n",
       "2   classic_bike 2024-02-07 17:42:00 2024-02-07 18:12:00   \n",
       "3   classic_bike 2024-02-22 16:43:00 2024-02-22 16:56:00   \n",
       "4   classic_bike 2024-02-10 01:11:00 2024-02-10 01:23:00   \n",
       "\n",
       "              start_station_name                 end_station_name  start_lat  \\\n",
       "0         Eckington Pl & Q St NE                    5th & K St NW  38.910893   \n",
       "1  Metro Center / 12th & G St NW     Columbia Rd & Georgia Ave NW  38.898400   \n",
       "2                  4th & C St SW     Columbia Rd & Georgia Ave NW  38.886372   \n",
       "3                  4th & M St SE  Columbus Circle / Union Station  38.876751   \n",
       "4      Virginia Ave & 25th St NW    20th & O St NW / Dupont South  38.898460   \n",
       "\n",
       "   start_lng    end_lat    end_lng member_casual  \n",
       "0 -77.005023  38.903040 -77.019027        member  \n",
       "1 -77.027643  38.928121 -77.023795        member  \n",
       "2 -77.017701  38.928121 -77.023795        member  \n",
       "3 -77.000736  38.896960 -77.004930        member  \n",
       "4 -77.053052  38.908905 -77.044780        casual  "
      ]
     },
     "execution_count": 111,
     "metadata": {},
     "output_type": "execute_result"
    }
   ],
   "source": [
    "# Print out top of table to check\n",
    "df.head()"
   ]
  },
  {
   "cell_type": "markdown",
   "id": "b3d608fa-b7b5-4adc-a315-3ae5c391f10a",
   "metadata": {},
   "source": [
    "Let's perform some arithemtic with our datetime objects we converted earlier. We are subtracting the start and end times, in order to calculate a new data point, which is the duration of the bike ride. We then need to convert it into total number of minutes."
   ]
  },
  {
   "cell_type": "code",
   "execution_count": 112,
   "id": "8da7abc2",
   "metadata": {},
   "outputs": [
    {
     "data": {
      "text/html": [
       "<div>\n",
       "<style scoped>\n",
       "    .dataframe tbody tr th:only-of-type {\n",
       "        vertical-align: middle;\n",
       "    }\n",
       "\n",
       "    .dataframe tbody tr th {\n",
       "        vertical-align: top;\n",
       "    }\n",
       "\n",
       "    .dataframe thead th {\n",
       "        text-align: right;\n",
       "    }\n",
       "</style>\n",
       "<table border=\"1\" class=\"dataframe\">\n",
       "  <thead>\n",
       "    <tr style=\"text-align: right;\">\n",
       "      <th></th>\n",
       "      <th>rideable_type</th>\n",
       "      <th>started_at</th>\n",
       "      <th>ended_at</th>\n",
       "      <th>start_station_name</th>\n",
       "      <th>end_station_name</th>\n",
       "      <th>start_lat</th>\n",
       "      <th>start_lng</th>\n",
       "      <th>end_lat</th>\n",
       "      <th>end_lng</th>\n",
       "      <th>member_casual</th>\n",
       "      <th>time_duration</th>\n",
       "    </tr>\n",
       "  </thead>\n",
       "  <tbody>\n",
       "    <tr>\n",
       "      <th>0</th>\n",
       "      <td>electric_bike</td>\n",
       "      <td>2024-02-01 21:18:00</td>\n",
       "      <td>2024-02-01 21:27:00</td>\n",
       "      <td>Eckington Pl &amp; Q St NE</td>\n",
       "      <td>5th &amp; K St NW</td>\n",
       "      <td>38.910893</td>\n",
       "      <td>-77.005023</td>\n",
       "      <td>38.903040</td>\n",
       "      <td>-77.019027</td>\n",
       "      <td>member</td>\n",
       "      <td>9.0</td>\n",
       "    </tr>\n",
       "    <tr>\n",
       "      <th>1</th>\n",
       "      <td>electric_bike</td>\n",
       "      <td>2024-02-15 16:46:00</td>\n",
       "      <td>2024-02-15 16:59:00</td>\n",
       "      <td>Metro Center / 12th &amp; G St NW</td>\n",
       "      <td>Columbia Rd &amp; Georgia Ave NW</td>\n",
       "      <td>38.898400</td>\n",
       "      <td>-77.027643</td>\n",
       "      <td>38.928121</td>\n",
       "      <td>-77.023795</td>\n",
       "      <td>member</td>\n",
       "      <td>13.0</td>\n",
       "    </tr>\n",
       "    <tr>\n",
       "      <th>2</th>\n",
       "      <td>classic_bike</td>\n",
       "      <td>2024-02-07 17:42:00</td>\n",
       "      <td>2024-02-07 18:12:00</td>\n",
       "      <td>4th &amp; C St SW</td>\n",
       "      <td>Columbia Rd &amp; Georgia Ave NW</td>\n",
       "      <td>38.886372</td>\n",
       "      <td>-77.017701</td>\n",
       "      <td>38.928121</td>\n",
       "      <td>-77.023795</td>\n",
       "      <td>member</td>\n",
       "      <td>30.0</td>\n",
       "    </tr>\n",
       "    <tr>\n",
       "      <th>3</th>\n",
       "      <td>classic_bike</td>\n",
       "      <td>2024-02-22 16:43:00</td>\n",
       "      <td>2024-02-22 16:56:00</td>\n",
       "      <td>4th &amp; M St SE</td>\n",
       "      <td>Columbus Circle / Union Station</td>\n",
       "      <td>38.876751</td>\n",
       "      <td>-77.000736</td>\n",
       "      <td>38.896960</td>\n",
       "      <td>-77.004930</td>\n",
       "      <td>member</td>\n",
       "      <td>13.0</td>\n",
       "    </tr>\n",
       "    <tr>\n",
       "      <th>4</th>\n",
       "      <td>classic_bike</td>\n",
       "      <td>2024-02-10 01:11:00</td>\n",
       "      <td>2024-02-10 01:23:00</td>\n",
       "      <td>Virginia Ave &amp; 25th St NW</td>\n",
       "      <td>20th &amp; O St NW / Dupont South</td>\n",
       "      <td>38.898460</td>\n",
       "      <td>-77.053052</td>\n",
       "      <td>38.908905</td>\n",
       "      <td>-77.044780</td>\n",
       "      <td>casual</td>\n",
       "      <td>12.0</td>\n",
       "    </tr>\n",
       "  </tbody>\n",
       "</table>\n",
       "</div>"
      ],
      "text/plain": [
       "   rideable_type          started_at            ended_at  \\\n",
       "0  electric_bike 2024-02-01 21:18:00 2024-02-01 21:27:00   \n",
       "1  electric_bike 2024-02-15 16:46:00 2024-02-15 16:59:00   \n",
       "2   classic_bike 2024-02-07 17:42:00 2024-02-07 18:12:00   \n",
       "3   classic_bike 2024-02-22 16:43:00 2024-02-22 16:56:00   \n",
       "4   classic_bike 2024-02-10 01:11:00 2024-02-10 01:23:00   \n",
       "\n",
       "              start_station_name                 end_station_name  start_lat  \\\n",
       "0         Eckington Pl & Q St NE                    5th & K St NW  38.910893   \n",
       "1  Metro Center / 12th & G St NW     Columbia Rd & Georgia Ave NW  38.898400   \n",
       "2                  4th & C St SW     Columbia Rd & Georgia Ave NW  38.886372   \n",
       "3                  4th & M St SE  Columbus Circle / Union Station  38.876751   \n",
       "4      Virginia Ave & 25th St NW    20th & O St NW / Dupont South  38.898460   \n",
       "\n",
       "   start_lng    end_lat    end_lng member_casual  time_duration  \n",
       "0 -77.005023  38.903040 -77.019027        member            9.0  \n",
       "1 -77.027643  38.928121 -77.023795        member           13.0  \n",
       "2 -77.017701  38.928121 -77.023795        member           30.0  \n",
       "3 -77.000736  38.896960 -77.004930        member           13.0  \n",
       "4 -77.053052  38.908905 -77.044780        casual           12.0  "
      ]
     },
     "execution_count": 112,
     "metadata": {},
     "output_type": "execute_result"
    }
   ],
   "source": [
    "# Create new column and data point time duration\n",
    "df[\"time_duration\"] = (df[\"ended_at\"] - df[\"started_at\"]).dt.total_seconds()/60\n",
    "\n",
    "# Print out top of table to check again\n",
    "df.head()"
   ]
  },
  {
   "cell_type": "code",
   "execution_count": 113,
   "id": "09618c57",
   "metadata": {},
   "outputs": [
    {
     "name": "stdout",
     "output_type": "stream",
     "text": [
      "<class 'pandas.core.frame.DataFrame'>\n",
      "RangeIndex: 246639 entries, 0 to 246638\n",
      "Data columns (total 11 columns):\n",
      " #   Column              Non-Null Count   Dtype         \n",
      "---  ------              --------------   -----         \n",
      " 0   rideable_type       246639 non-null  object        \n",
      " 1   started_at          246639 non-null  datetime64[ns]\n",
      " 2   ended_at            246639 non-null  datetime64[ns]\n",
      " 3   start_station_name  246639 non-null  object        \n",
      " 4   end_station_name    246639 non-null  object        \n",
      " 5   start_lat           246639 non-null  float64       \n",
      " 6   start_lng           246639 non-null  float64       \n",
      " 7   end_lat             246639 non-null  float64       \n",
      " 8   end_lng             246639 non-null  float64       \n",
      " 9   member_casual       246639 non-null  object        \n",
      " 10  time_duration       246639 non-null  float64       \n",
      "dtypes: datetime64[ns](2), float64(5), object(4)\n",
      "memory usage: 20.7+ MB\n"
     ]
    }
   ],
   "source": [
    "# List out column infos\n",
    "df.info()"
   ]
  },
  {
   "cell_type": "markdown",
   "id": "18fdc4cf-e08d-49cd-9b3e-562378b72240",
   "metadata": {},
   "source": [
    "### Some Exploratory Analysis #1\n",
    "Let's conduct some exploratory analysis by creating a countplot for the type of bike: electric or regular. Since we're using the type of bike ridden in a trip as our dependent variable, we want to check for any skew in the frequency of each class. If there is a significant imbalance in classes, we would take a subsample of the excess class to match the number of the smaller class."
   ]
  },
  {
   "cell_type": "code",
   "execution_count": 114,
   "id": "c29579df",
   "metadata": {},
   "outputs": [
    {
     "data": {
      "text/plain": [
       "<AxesSubplot:xlabel='rideable_type', ylabel='count'>"
      ]
     },
     "execution_count": 114,
     "metadata": {},
     "output_type": "execute_result"
    },
    {
     "data": {
      "image/png": "[encoded data removed]",
      "text/plain": [
       "<Figure size 864x720 with 1 Axes>"
      ]
     },
     "metadata": {
      "needs_background": "light"
     },
     "output_type": "display_data"
    }
   ],
   "source": [
    "# Create a countplot for the type of bikes\n",
    "plt.figure(figsize=(12,10))\n",
    "sns.countplot(df[\"rideable_type\"])"
   ]
  },
  {
   "cell_type": "markdown",
   "id": "05d4fac4",
   "metadata": {},
   "source": [
    "In this case the balance between classic bike and electric bike is around 2:1 (slightly imbalanced resample)"
   ]
  },
  {
   "cell_type": "code",
   "execution_count": 115,
   "id": "d85d1170",
   "metadata": {},
   "outputs": [
    {
     "data": {
      "text/plain": [
       "classic_bike     156535\n",
       "electric_bike     90104\n",
       "Name: rideable_type, dtype: int64"
      ]
     },
     "execution_count": 115,
     "metadata": {},
     "output_type": "execute_result"
    }
   ],
   "source": [
    "df[\"rideable_type\"].value_counts()"
   ]
  },
  {
   "cell_type": "code",
   "execution_count": 120,
   "id": "36719567",
   "metadata": {},
   "outputs": [],
   "source": [
    "classic_bike_sample = df[df[\"rideable_type\"] == \"classic_bike\"].sample(n=electric_bike_count, random_state=42)\n",
    "\n",
    "# Concatenate the electric bike sample and the sampled classic bikes to create the balanced DataFrame\n",
    "balanced_df = pd.concat([electric_bike_sample, classic_bike_sample])"
   ]
  },
  {
   "cell_type": "code",
   "execution_count": 122,
   "id": "f11980b6",
   "metadata": {},
   "outputs": [
    {
     "data": {
      "text/plain": [
       "classic_bike     90104\n",
       "electric_bike    78267\n",
       "Name: rideable_type, dtype: int64"
      ]
     },
     "execution_count": 122,
     "metadata": {},
     "output_type": "execute_result"
    }
   ],
   "source": [
    "balanced_df[\"rideable_type\"].value_counts()"
   ]
  },
  {
   "cell_type": "code",
   "execution_count": 123,
   "id": "85ddf64a",
   "metadata": {},
   "outputs": [
    {
     "data": {
      "text/plain": [
       "<AxesSubplot:xlabel='rideable_type', ylabel='count'>"
      ]
     },
     "execution_count": 123,
     "metadata": {},
     "output_type": "execute_result"
    },
    {
     "data": {
      "image/png": "[encoded data removed]",
      "text/plain": [
       "<Figure size 864x720 with 1 Axes>"
      ]
     },
     "metadata": {
      "needs_background": "light"
     },
     "output_type": "display_data"
    }
   ],
   "source": [
    "plt.figure(figsize=(12,10))\n",
    "sns.countplot(balanced_df[\"rideable_type\"])"
   ]
  },
  {
   "cell_type": "code",
   "execution_count": 124,
   "id": "4210f21d",
   "metadata": {},
   "outputs": [],
   "source": [
    "df = balanced_df"
   ]
  },
  {
   "cell_type": "markdown",
   "id": "e8dadc3d-e684-424e-94d9-610c1ae59e4b",
   "metadata": {},
   "source": [
    "### One Hot Encoding\n",
    "One-hot encoding is an essential technique for data scientists, used to convert multiclass categorical data into integer representations. For binary classification, we typically represent one class as 0 and the other as 1. However, for multiclass scenarios, we break the data into multiple columns, each representing a class. Importantly, we only need \\( n-1 \\) columns for \\( n \\) classes. This is because if all the other columns are 0, we can infer that the remaining class must be 1. Essentially, one class is dependent on the others.\n",
    "\n",
    "Many people might initially think that we can simply use 1 for one class, 2 for the next class, 3 for the following class, and so on. However, this approach can bias our machine learning algorithms, as it may inadvertently assign more importance to higher numerical values. Instead, we use one-hot encoding to avoid this issue. For example, with four classes, one-hot encoding would represent them as (1,0,0,0), (0,1,0,0), (0,0,1,0), and (0,0,0,1). This way, each class is treated equally, and no unintended hierarchical relationship is introduced. We can drop one of the columns listed to reduce the number of features."
   ]
  },
  {
   "cell_type": "code",
   "execution_count": 125,
   "id": "4988d7bc",
   "metadata": {},
   "outputs": [
    {
     "data": {
      "text/html": [
       "<div>\n",
       "<style scoped>\n",
       "    .dataframe tbody tr th:only-of-type {\n",
       "        vertical-align: middle;\n",
       "    }\n",
       "\n",
       "    .dataframe tbody tr th {\n",
       "        vertical-align: top;\n",
       "    }\n",
       "\n",
       "    .dataframe thead th {\n",
       "        text-align: right;\n",
       "    }\n",
       "</style>\n",
       "<table border=\"1\" class=\"dataframe\">\n",
       "  <thead>\n",
       "    <tr style=\"text-align: right;\">\n",
       "      <th></th>\n",
       "      <th>started_at</th>\n",
       "      <th>ended_at</th>\n",
       "      <th>start_station_name</th>\n",
       "      <th>end_station_name</th>\n",
       "      <th>start_lat</th>\n",
       "      <th>start_lng</th>\n",
       "      <th>end_lat</th>\n",
       "      <th>end_lng</th>\n",
       "      <th>time_duration</th>\n",
       "      <th>rideable_type_electric_bike</th>\n",
       "      <th>member_casual_member</th>\n",
       "    </tr>\n",
       "  </thead>\n",
       "  <tbody>\n",
       "    <tr>\n",
       "      <th>233924</th>\n",
       "      <td>2024-02-20 17:08:00</td>\n",
       "      <td>2024-02-20 17:29:00</td>\n",
       "      <td>15th St &amp; Massachusetts Ave SE</td>\n",
       "      <td>7th &amp; Monroe St NE</td>\n",
       "      <td>38.887321</td>\n",
       "      <td>-76.983589</td>\n",
       "      <td>38.932243</td>\n",
       "      <td>-76.996133</td>\n",
       "      <td>21.0</td>\n",
       "      <td>1</td>\n",
       "      <td>0</td>\n",
       "    </tr>\n",
       "    <tr>\n",
       "      <th>124737</th>\n",
       "      <td>2024-02-19 13:22:00</td>\n",
       "      <td>2024-02-19 13:29:00</td>\n",
       "      <td>14th &amp; R St NW</td>\n",
       "      <td>17th &amp; P St NW</td>\n",
       "      <td>38.912985</td>\n",
       "      <td>-77.031796</td>\n",
       "      <td>38.909858</td>\n",
       "      <td>-77.038566</td>\n",
       "      <td>7.0</td>\n",
       "      <td>1</td>\n",
       "      <td>1</td>\n",
       "    </tr>\n",
       "    <tr>\n",
       "      <th>165629</th>\n",
       "      <td>2024-02-25 10:54:00</td>\n",
       "      <td>2024-02-25 11:03:00</td>\n",
       "      <td>New Hampshire Ave &amp; T St NW</td>\n",
       "      <td>Vermont Ave &amp; I St NW</td>\n",
       "      <td>38.915577</td>\n",
       "      <td>-77.038187</td>\n",
       "      <td>38.901136</td>\n",
       "      <td>-77.034451</td>\n",
       "      <td>9.0</td>\n",
       "      <td>1</td>\n",
       "      <td>1</td>\n",
       "    </tr>\n",
       "    <tr>\n",
       "      <th>12679</th>\n",
       "      <td>2024-02-09 23:10:00</td>\n",
       "      <td>2024-02-09 23:17:00</td>\n",
       "      <td>Tanner Park</td>\n",
       "      <td>5th &amp; K St NW</td>\n",
       "      <td>38.911348</td>\n",
       "      <td>-77.002243</td>\n",
       "      <td>38.903040</td>\n",
       "      <td>-77.019027</td>\n",
       "      <td>7.0</td>\n",
       "      <td>1</td>\n",
       "      <td>1</td>\n",
       "    </tr>\n",
       "    <tr>\n",
       "      <th>145683</th>\n",
       "      <td>2024-02-07 11:08:00</td>\n",
       "      <td>2024-02-07 11:14:00</td>\n",
       "      <td>Fenton St &amp; New York Ave</td>\n",
       "      <td>Silver Spring Metro / Colesville Rd &amp; Wayne Ave</td>\n",
       "      <td>38.985336</td>\n",
       "      <td>-77.023129</td>\n",
       "      <td>38.995256</td>\n",
       "      <td>-77.029124</td>\n",
       "      <td>6.0</td>\n",
       "      <td>1</td>\n",
       "      <td>0</td>\n",
       "    </tr>\n",
       "  </tbody>\n",
       "</table>\n",
       "</div>"
      ],
      "text/plain": [
       "                started_at            ended_at  \\\n",
       "233924 2024-02-20 17:08:00 2024-02-20 17:29:00   \n",
       "124737 2024-02-19 13:22:00 2024-02-19 13:29:00   \n",
       "165629 2024-02-25 10:54:00 2024-02-25 11:03:00   \n",
       "12679  2024-02-09 23:10:00 2024-02-09 23:17:00   \n",
       "145683 2024-02-07 11:08:00 2024-02-07 11:14:00   \n",
       "\n",
       "                    start_station_name  \\\n",
       "233924  15th St & Massachusetts Ave SE   \n",
       "124737                  14th & R St NW   \n",
       "165629     New Hampshire Ave & T St NW   \n",
       "12679                      Tanner Park   \n",
       "145683       Fenton St & New York Ave    \n",
       "\n",
       "                                       end_station_name  start_lat  start_lng  \\\n",
       "233924                               7th & Monroe St NE  38.887321 -76.983589   \n",
       "124737                                   17th & P St NW  38.912985 -77.031796   \n",
       "165629                            Vermont Ave & I St NW  38.915577 -77.038187   \n",
       "12679                                     5th & K St NW  38.911348 -77.002243   \n",
       "145683  Silver Spring Metro / Colesville Rd & Wayne Ave  38.985336 -77.023129   \n",
       "\n",
       "          end_lat    end_lng  time_duration  rideable_type_electric_bike  \\\n",
       "233924  38.932243 -76.996133           21.0                            1   \n",
       "124737  38.909858 -77.038566            7.0                            1   \n",
       "165629  38.901136 -77.034451            9.0                            1   \n",
       "12679   38.903040 -77.019027            7.0                            1   \n",
       "145683  38.995256 -77.029124            6.0                            1   \n",
       "\n",
       "        member_casual_member  \n",
       "233924                     0  \n",
       "124737                     1  \n",
       "165629                     1  \n",
       "12679                      1  \n",
       "145683                     0  "
      ]
     },
     "execution_count": 125,
     "metadata": {},
     "output_type": "execute_result"
    }
   ],
   "source": [
    "# Create one hot encodings for the rideable_type and member_casual\n",
    "df = pd.get_dummies(df, columns=['rideable_type', 'member_casual'], drop_first=True)\n",
    "\n",
    "# Print out top of table to check\n",
    "df.head()"
   ]
  },
  {
   "cell_type": "markdown",
   "id": "ad99e976-91d4-4696-a731-313b1b2a8c7a",
   "metadata": {},
   "source": [
    "Let's perform some arithmetic using some of the data we already have. More specifically, we are calculating a new data point, the distance for each ride. In order to accomplish this task, we are using the Haversine Distance formula, which allows us to calculate the distacne between two ponts given their latitude and longitude coordinates. This is really helpful in the real world, as we live on a spherical ball. **MAYBE MORE FUN FACTS ABOUT HAVERSINE AND ITS USE CASES?**"
   ]
  },
  {
   "cell_type": "code",
   "execution_count": 126,
   "id": "54226601",
   "metadata": {},
   "outputs": [],
   "source": [
    "# Create function for Haversine Distance formula\n",
    "def haversine_distance(lat1, lon1, lat2, lon2):\n",
    "    \"\"\"\n",
    "    Calculate the Haversine distance between two points given their latitude and longitude coordinates.\n",
    "    \"\"\"\n",
    "    R = 6371  # Radius of the Earth in kilometers\n",
    "    \n",
    "    # Convert latitude and longitude from degrees to radians\n",
    "    lat1, lon1, lat2, lon2 = map(np.radians, [lat1, lon1, lat2, lon2])\n",
    "    \n",
    "    # Haversine formula\n",
    "    dlat = lat2 - lat1\n",
    "    dlon = lon2 - lon1\n",
    "    a = np.sin(dlat/2)**2 + np.cos(lat1) * np.cos(lat2) * np.sin(dlon/2)**2\n",
    "    c = 2 * np.arcsin(np.sqrt(a))\n",
    "    distance = R * c\n",
    "    \n",
    "    return distance"
   ]
  },
  {
   "cell_type": "code",
   "execution_count": 127,
   "id": "db1855bc",
   "metadata": {},
   "outputs": [
    {
     "data": {
      "text/html": [
       "<div>\n",
       "<style scoped>\n",
       "    .dataframe tbody tr th:only-of-type {\n",
       "        vertical-align: middle;\n",
       "    }\n",
       "\n",
       "    .dataframe tbody tr th {\n",
       "        vertical-align: top;\n",
       "    }\n",
       "\n",
       "    .dataframe thead th {\n",
       "        text-align: right;\n",
       "    }\n",
       "</style>\n",
       "<table border=\"1\" class=\"dataframe\">\n",
       "  <thead>\n",
       "    <tr style=\"text-align: right;\">\n",
       "      <th></th>\n",
       "      <th>started_at</th>\n",
       "      <th>ended_at</th>\n",
       "      <th>start_station_name</th>\n",
       "      <th>end_station_name</th>\n",
       "      <th>start_lat</th>\n",
       "      <th>start_lng</th>\n",
       "      <th>end_lat</th>\n",
       "      <th>end_lng</th>\n",
       "      <th>time_duration</th>\n",
       "      <th>rideable_type_electric_bike</th>\n",
       "      <th>member_casual_member</th>\n",
       "      <th>distance_km</th>\n",
       "    </tr>\n",
       "  </thead>\n",
       "  <tbody>\n",
       "    <tr>\n",
       "      <th>233924</th>\n",
       "      <td>2024-02-20 17:08:00</td>\n",
       "      <td>2024-02-20 17:29:00</td>\n",
       "      <td>15th St &amp; Massachusetts Ave SE</td>\n",
       "      <td>7th &amp; Monroe St NE</td>\n",
       "      <td>38.887321</td>\n",
       "      <td>-76.983589</td>\n",
       "      <td>38.932243</td>\n",
       "      <td>-76.996133</td>\n",
       "      <td>21.0</td>\n",
       "      <td>1</td>\n",
       "      <td>0</td>\n",
       "      <td>5.111630</td>\n",
       "    </tr>\n",
       "    <tr>\n",
       "      <th>124737</th>\n",
       "      <td>2024-02-19 13:22:00</td>\n",
       "      <td>2024-02-19 13:29:00</td>\n",
       "      <td>14th &amp; R St NW</td>\n",
       "      <td>17th &amp; P St NW</td>\n",
       "      <td>38.912985</td>\n",
       "      <td>-77.031796</td>\n",
       "      <td>38.909858</td>\n",
       "      <td>-77.038566</td>\n",
       "      <td>7.0</td>\n",
       "      <td>1</td>\n",
       "      <td>1</td>\n",
       "      <td>0.681198</td>\n",
       "    </tr>\n",
       "    <tr>\n",
       "      <th>165629</th>\n",
       "      <td>2024-02-25 10:54:00</td>\n",
       "      <td>2024-02-25 11:03:00</td>\n",
       "      <td>New Hampshire Ave &amp; T St NW</td>\n",
       "      <td>Vermont Ave &amp; I St NW</td>\n",
       "      <td>38.915577</td>\n",
       "      <td>-77.038187</td>\n",
       "      <td>38.901136</td>\n",
       "      <td>-77.034451</td>\n",
       "      <td>9.0</td>\n",
       "      <td>1</td>\n",
       "      <td>1</td>\n",
       "      <td>1.637918</td>\n",
       "    </tr>\n",
       "    <tr>\n",
       "      <th>12679</th>\n",
       "      <td>2024-02-09 23:10:00</td>\n",
       "      <td>2024-02-09 23:17:00</td>\n",
       "      <td>Tanner Park</td>\n",
       "      <td>5th &amp; K St NW</td>\n",
       "      <td>38.911348</td>\n",
       "      <td>-77.002243</td>\n",
       "      <td>38.903040</td>\n",
       "      <td>-77.019027</td>\n",
       "      <td>7.0</td>\n",
       "      <td>1</td>\n",
       "      <td>1</td>\n",
       "      <td>1.721211</td>\n",
       "    </tr>\n",
       "    <tr>\n",
       "      <th>145683</th>\n",
       "      <td>2024-02-07 11:08:00</td>\n",
       "      <td>2024-02-07 11:14:00</td>\n",
       "      <td>Fenton St &amp; New York Ave</td>\n",
       "      <td>Silver Spring Metro / Colesville Rd &amp; Wayne Ave</td>\n",
       "      <td>38.985336</td>\n",
       "      <td>-77.023129</td>\n",
       "      <td>38.995256</td>\n",
       "      <td>-77.029124</td>\n",
       "      <td>6.0</td>\n",
       "      <td>1</td>\n",
       "      <td>0</td>\n",
       "      <td>1.218757</td>\n",
       "    </tr>\n",
       "  </tbody>\n",
       "</table>\n",
       "</div>"
      ],
      "text/plain": [
       "                started_at            ended_at  \\\n",
       "233924 2024-02-20 17:08:00 2024-02-20 17:29:00   \n",
       "124737 2024-02-19 13:22:00 2024-02-19 13:29:00   \n",
       "165629 2024-02-25 10:54:00 2024-02-25 11:03:00   \n",
       "12679  2024-02-09 23:10:00 2024-02-09 23:17:00   \n",
       "145683 2024-02-07 11:08:00 2024-02-07 11:14:00   \n",
       "\n",
       "                    start_station_name  \\\n",
       "233924  15th St & Massachusetts Ave SE   \n",
       "124737                  14th & R St NW   \n",
       "165629     New Hampshire Ave & T St NW   \n",
       "12679                      Tanner Park   \n",
       "145683       Fenton St & New York Ave    \n",
       "\n",
       "                                       end_station_name  start_lat  start_lng  \\\n",
       "233924                               7th & Monroe St NE  38.887321 -76.983589   \n",
       "124737                                   17th & P St NW  38.912985 -77.031796   \n",
       "165629                            Vermont Ave & I St NW  38.915577 -77.038187   \n",
       "12679                                     5th & K St NW  38.911348 -77.002243   \n",
       "145683  Silver Spring Metro / Colesville Rd & Wayne Ave  38.985336 -77.023129   \n",
       "\n",
       "          end_lat    end_lng  time_duration  rideable_type_electric_bike  \\\n",
       "233924  38.932243 -76.996133           21.0                            1   \n",
       "124737  38.909858 -77.038566            7.0                            1   \n",
       "165629  38.901136 -77.034451            9.0                            1   \n",
       "12679   38.903040 -77.019027            7.0                            1   \n",
       "145683  38.995256 -77.029124            6.0                            1   \n",
       "\n",
       "        member_casual_member  distance_km  \n",
       "233924                     0     5.111630  \n",
       "124737                     1     0.681198  \n",
       "165629                     1     1.637918  \n",
       "12679                      1     1.721211  \n",
       "145683                     0     1.218757  "
      ]
     },
     "execution_count": 127,
     "metadata": {},
     "output_type": "execute_result"
    }
   ],
   "source": [
    "# Create new distance column calculating the haversine distance for each observation\n",
    "df['distance_km'] = haversine_distance(df['start_lat'], df['start_lng'], df['end_lat'], df['end_lng'])\n",
    "\n",
    "# Print out top of table to check\n",
    "df.head()"
   ]
  },
  {
   "cell_type": "code",
   "execution_count": 128,
   "id": "d900d2a2",
   "metadata": {},
   "outputs": [
    {
     "data": {
      "text/plain": [
       "757"
      ]
     },
     "execution_count": 128,
     "metadata": {},
     "output_type": "execute_result"
    }
   ],
   "source": [
    "# Print out number of unique start stations\n",
    "df[\"start_station_name\"].nunique()"
   ]
  },
  {
   "cell_type": "code",
   "execution_count": 129,
   "id": "320f40f2",
   "metadata": {},
   "outputs": [
    {
     "data": {
      "text/plain": [
       "Columbus Circle / Union Station                        2428\n",
       "New Hampshire Ave & T St NW                            2016\n",
       "15th & P St NW                                         1702\n",
       "Eastern Market Metro / Pennsylvania Ave & 8th St SE    1508\n",
       "5th & K St NW                                          1492\n",
       "                                                       ... \n",
       "The Shoppes @ Burnt Mills                                 1\n",
       "Stewart Ln & Old Columbia Pike                            1\n",
       "Green Range Dr and Glade Dr                               1\n",
       "Ridge Rd & Southern Ave SE                                1\n",
       "Becontree Ln & Goldenrain Ct                              1\n",
       "Name: start_station_name, Length: 757, dtype: int64"
      ]
     },
     "execution_count": 129,
     "metadata": {},
     "output_type": "execute_result"
    }
   ],
   "source": [
    "# Print out count for each station name\n",
    "df[\"start_station_name\"].value_counts()"
   ]
  },
  {
   "cell_type": "markdown",
   "id": "c1b6cf5c-917f-4d4f-933a-0e29567f86cf",
   "metadata": {},
   "source": [
    "Let's calculate another new data point. In this case, we are calculating average speed, as we believe this may be another metric which could give us valuable insight into our goal. **WHAT IS OUR GOAL?**"
   ]
  },
  {
   "cell_type": "code",
   "execution_count": 130,
   "id": "829ccf11",
   "metadata": {},
   "outputs": [],
   "source": [
    "# Calculate the time duration of the trip in minutes\n",
    "df[\"time_duration\"] = (df[\"ended_at\"] - df[\"started_at\"]).astype('timedelta64[m]')"
   ]
  },
  {
   "cell_type": "code",
   "execution_count": 131,
   "id": "1ff2d12f",
   "metadata": {},
   "outputs": [
    {
     "data": {
      "text/html": [
       "<div>\n",
       "<style scoped>\n",
       "    .dataframe tbody tr th:only-of-type {\n",
       "        vertical-align: middle;\n",
       "    }\n",
       "\n",
       "    .dataframe tbody tr th {\n",
       "        vertical-align: top;\n",
       "    }\n",
       "\n",
       "    .dataframe thead th {\n",
       "        text-align: right;\n",
       "    }\n",
       "</style>\n",
       "<table border=\"1\" class=\"dataframe\">\n",
       "  <thead>\n",
       "    <tr style=\"text-align: right;\">\n",
       "      <th></th>\n",
       "      <th>started_at</th>\n",
       "      <th>ended_at</th>\n",
       "      <th>start_station_name</th>\n",
       "      <th>end_station_name</th>\n",
       "      <th>start_lat</th>\n",
       "      <th>start_lng</th>\n",
       "      <th>end_lat</th>\n",
       "      <th>end_lng</th>\n",
       "      <th>time_duration</th>\n",
       "      <th>rideable_type_electric_bike</th>\n",
       "      <th>member_casual_member</th>\n",
       "      <th>distance_km</th>\n",
       "      <th>average_speed</th>\n",
       "    </tr>\n",
       "  </thead>\n",
       "  <tbody>\n",
       "    <tr>\n",
       "      <th>233924</th>\n",
       "      <td>2024-02-20 17:08:00</td>\n",
       "      <td>2024-02-20 17:29:00</td>\n",
       "      <td>15th St &amp; Massachusetts Ave SE</td>\n",
       "      <td>7th &amp; Monroe St NE</td>\n",
       "      <td>38.887321</td>\n",
       "      <td>-76.983589</td>\n",
       "      <td>38.932243</td>\n",
       "      <td>-76.996133</td>\n",
       "      <td>21.0</td>\n",
       "      <td>1</td>\n",
       "      <td>0</td>\n",
       "      <td>5.111630</td>\n",
       "      <td>14.604656</td>\n",
       "    </tr>\n",
       "    <tr>\n",
       "      <th>124737</th>\n",
       "      <td>2024-02-19 13:22:00</td>\n",
       "      <td>2024-02-19 13:29:00</td>\n",
       "      <td>14th &amp; R St NW</td>\n",
       "      <td>17th &amp; P St NW</td>\n",
       "      <td>38.912985</td>\n",
       "      <td>-77.031796</td>\n",
       "      <td>38.909858</td>\n",
       "      <td>-77.038566</td>\n",
       "      <td>7.0</td>\n",
       "      <td>1</td>\n",
       "      <td>1</td>\n",
       "      <td>0.681198</td>\n",
       "      <td>5.838841</td>\n",
       "    </tr>\n",
       "    <tr>\n",
       "      <th>165629</th>\n",
       "      <td>2024-02-25 10:54:00</td>\n",
       "      <td>2024-02-25 11:03:00</td>\n",
       "      <td>New Hampshire Ave &amp; T St NW</td>\n",
       "      <td>Vermont Ave &amp; I St NW</td>\n",
       "      <td>38.915577</td>\n",
       "      <td>-77.038187</td>\n",
       "      <td>38.901136</td>\n",
       "      <td>-77.034451</td>\n",
       "      <td>9.0</td>\n",
       "      <td>1</td>\n",
       "      <td>1</td>\n",
       "      <td>1.637918</td>\n",
       "      <td>10.919455</td>\n",
       "    </tr>\n",
       "    <tr>\n",
       "      <th>12679</th>\n",
       "      <td>2024-02-09 23:10:00</td>\n",
       "      <td>2024-02-09 23:17:00</td>\n",
       "      <td>Tanner Park</td>\n",
       "      <td>5th &amp; K St NW</td>\n",
       "      <td>38.911348</td>\n",
       "      <td>-77.002243</td>\n",
       "      <td>38.903040</td>\n",
       "      <td>-77.019027</td>\n",
       "      <td>7.0</td>\n",
       "      <td>1</td>\n",
       "      <td>1</td>\n",
       "      <td>1.721211</td>\n",
       "      <td>14.753241</td>\n",
       "    </tr>\n",
       "    <tr>\n",
       "      <th>145683</th>\n",
       "      <td>2024-02-07 11:08:00</td>\n",
       "      <td>2024-02-07 11:14:00</td>\n",
       "      <td>Fenton St &amp; New York Ave</td>\n",
       "      <td>Silver Spring Metro / Colesville Rd &amp; Wayne Ave</td>\n",
       "      <td>38.985336</td>\n",
       "      <td>-77.023129</td>\n",
       "      <td>38.995256</td>\n",
       "      <td>-77.029124</td>\n",
       "      <td>6.0</td>\n",
       "      <td>1</td>\n",
       "      <td>0</td>\n",
       "      <td>1.218757</td>\n",
       "      <td>12.187569</td>\n",
       "    </tr>\n",
       "  </tbody>\n",
       "</table>\n",
       "</div>"
      ],
      "text/plain": [
       "                started_at            ended_at  \\\n",
       "233924 2024-02-20 17:08:00 2024-02-20 17:29:00   \n",
       "124737 2024-02-19 13:22:00 2024-02-19 13:29:00   \n",
       "165629 2024-02-25 10:54:00 2024-02-25 11:03:00   \n",
       "12679  2024-02-09 23:10:00 2024-02-09 23:17:00   \n",
       "145683 2024-02-07 11:08:00 2024-02-07 11:14:00   \n",
       "\n",
       "                    start_station_name  \\\n",
       "233924  15th St & Massachusetts Ave SE   \n",
       "124737                  14th & R St NW   \n",
       "165629     New Hampshire Ave & T St NW   \n",
       "12679                      Tanner Park   \n",
       "145683       Fenton St & New York Ave    \n",
       "\n",
       "                                       end_station_name  start_lat  start_lng  \\\n",
       "233924                               7th & Monroe St NE  38.887321 -76.983589   \n",
       "124737                                   17th & P St NW  38.912985 -77.031796   \n",
       "165629                            Vermont Ave & I St NW  38.915577 -77.038187   \n",
       "12679                                     5th & K St NW  38.911348 -77.002243   \n",
       "145683  Silver Spring Metro / Colesville Rd & Wayne Ave  38.985336 -77.023129   \n",
       "\n",
       "          end_lat    end_lng  time_duration  rideable_type_electric_bike  \\\n",
       "233924  38.932243 -76.996133           21.0                            1   \n",
       "124737  38.909858 -77.038566            7.0                            1   \n",
       "165629  38.901136 -77.034451            9.0                            1   \n",
       "12679   38.903040 -77.019027            7.0                            1   \n",
       "145683  38.995256 -77.029124            6.0                            1   \n",
       "\n",
       "        member_casual_member  distance_km  average_speed  \n",
       "233924                     0     5.111630      14.604656  \n",
       "124737                     1     0.681198       5.838841  \n",
       "165629                     1     1.637918      10.919455  \n",
       "12679                      1     1.721211      14.753241  \n",
       "145683                     0     1.218757      12.187569  "
      ]
     },
     "execution_count": 131,
     "metadata": {},
     "output_type": "execute_result"
    }
   ],
   "source": [
    "# Calculate new column average speed\n",
    "df[\"average_speed\"] = df[\"distance_km\"] / df[\"time_duration\"] * 60\n",
    "\n",
    "# Print out top of table to check\n",
    "df.head()"
   ]
  },
  {
   "cell_type": "code",
   "execution_count": 132,
   "id": "c1479616",
   "metadata": {},
   "outputs": [
    {
     "data": {
      "text/plain": [
       "5.0       12659\n",
       "6.0       12620\n",
       "7.0       12159\n",
       "4.0       11763\n",
       "8.0       11511\n",
       "          ...  \n",
       "952.0         1\n",
       "1065.0        1\n",
       "1170.0        1\n",
       "715.0         1\n",
       "1034.0        1\n",
       "Name: time_duration, Length: 390, dtype: int64"
      ]
     },
     "execution_count": 132,
     "metadata": {},
     "output_type": "execute_result"
    }
   ],
   "source": [
    "# Print out count for different values of time duration\n",
    "df[\"time_duration\"].value_counts()"
   ]
  },
  {
   "cell_type": "markdown",
   "id": "18c45781-a741-496e-b07b-cf64968dccdf",
   "metadata": {},
   "source": [
    "### Some Exploratory Analysis #2\n",
    "Now, let's perform some exploratory analysis. We are trying to see the frequency of observations, which fall within the variety of time durations. As we can see from the graph, we know that a large majority of the data points lie below 200 minutes. Therefore, we have the choice of removing any data points above 200 minutes, as they may be outliers. WHY HISTOGRAM?"
   ]
  },
  {
   "cell_type": "code",
   "execution_count": 133,
   "id": "51828786",
   "metadata": {},
   "outputs": [
    {
     "data": {
      "text/plain": [
       "(array([1.67932e+05, 3.05000e+02, 3.00000e+01, 1.50000e+01, 1.20000e+01,\n",
       "        1.60000e+01, 1.80000e+01, 1.80000e+01, 1.50000e+01, 1.00000e+01]),\n",
       " array([   0. ,  149.6,  299.2,  448.8,  598.4,  748. ,  897.6, 1047.2,\n",
       "        1196.8, 1346.4, 1496. ]),\n",
       " <BarContainer object of 10 artists>)"
      ]
     },
     "execution_count": 133,
     "metadata": {},
     "output_type": "execute_result"
    },
    {
     "data": {
      "image/png": "[encoded data removed]",
      "text/plain": [
       "<Figure size 1080x576 with 1 Axes>"
      ]
     },
     "metadata": {
      "needs_background": "light"
     },
     "output_type": "display_data"
    }
   ],
   "source": [
    "# Plot a histogram of time duration\n",
    "plt.figure(figsize=(15,8))\n",
    "plt.hist(df[\"time_duration\"])"
   ]
  },
  {
   "cell_type": "code",
   "execution_count": 134,
   "id": "fd275792",
   "metadata": {},
   "outputs": [
    {
     "name": "stdout",
     "output_type": "stream",
     "text": [
      "<class 'pandas.core.frame.DataFrame'>\n",
      "Int64Index: 168371 entries, 233924 to 31740\n",
      "Data columns (total 13 columns):\n",
      " #   Column                       Non-Null Count   Dtype         \n",
      "---  ------                       --------------   -----         \n",
      " 0   started_at                   168371 non-null  datetime64[ns]\n",
      " 1   ended_at                     168371 non-null  datetime64[ns]\n",
      " 2   start_station_name           168371 non-null  object        \n",
      " 3   end_station_name             168371 non-null  object        \n",
      " 4   start_lat                    168371 non-null  float64       \n",
      " 5   start_lng                    168371 non-null  float64       \n",
      " 6   end_lat                      168371 non-null  float64       \n",
      " 7   end_lng                      168371 non-null  float64       \n",
      " 8   time_duration                168371 non-null  float64       \n",
      " 9   rideable_type_electric_bike  168371 non-null  uint8         \n",
      " 10  member_casual_member         168371 non-null  uint8         \n",
      " 11  distance_km                  168371 non-null  float64       \n",
      " 12  average_speed                167734 non-null  float64       \n",
      "dtypes: datetime64[ns](2), float64(7), object(2), uint8(2)\n",
      "memory usage: 15.7+ MB\n"
     ]
    }
   ],
   "source": [
    "# List out columns\n",
    "df.info()"
   ]
  },
  {
   "cell_type": "markdown",
   "id": "979ea39c-3f95-4f41-88c6-1cfe4caa1a5c",
   "metadata": {},
   "source": [
    "Next, let's drop some unreasonable data points. In this code, we'll drop any time durations equal to 0 minutes, as such a bike ride was not a complete trip. WHAT MIGHT THIS DO TO OUR DATA?"
   ]
  },
  {
   "cell_type": "code",
   "execution_count": 135,
   "id": "b0e04dd3",
   "metadata": {},
   "outputs": [
    {
     "data": {
      "text/html": [
       "<div>\n",
       "<style scoped>\n",
       "    .dataframe tbody tr th:only-of-type {\n",
       "        vertical-align: middle;\n",
       "    }\n",
       "\n",
       "    .dataframe tbody tr th {\n",
       "        vertical-align: top;\n",
       "    }\n",
       "\n",
       "    .dataframe thead th {\n",
       "        text-align: right;\n",
       "    }\n",
       "</style>\n",
       "<table border=\"1\" class=\"dataframe\">\n",
       "  <thead>\n",
       "    <tr style=\"text-align: right;\">\n",
       "      <th></th>\n",
       "      <th>started_at</th>\n",
       "      <th>ended_at</th>\n",
       "      <th>start_station_name</th>\n",
       "      <th>end_station_name</th>\n",
       "      <th>start_lat</th>\n",
       "      <th>start_lng</th>\n",
       "      <th>end_lat</th>\n",
       "      <th>end_lng</th>\n",
       "      <th>time_duration</th>\n",
       "      <th>rideable_type_electric_bike</th>\n",
       "      <th>member_casual_member</th>\n",
       "      <th>distance_km</th>\n",
       "      <th>average_speed</th>\n",
       "    </tr>\n",
       "  </thead>\n",
       "  <tbody>\n",
       "    <tr>\n",
       "      <th>233924</th>\n",
       "      <td>2024-02-20 17:08:00</td>\n",
       "      <td>2024-02-20 17:29:00</td>\n",
       "      <td>15th St &amp; Massachusetts Ave SE</td>\n",
       "      <td>7th &amp; Monroe St NE</td>\n",
       "      <td>38.887321</td>\n",
       "      <td>-76.983589</td>\n",
       "      <td>38.932243</td>\n",
       "      <td>-76.996133</td>\n",
       "      <td>21.0</td>\n",
       "      <td>1</td>\n",
       "      <td>0</td>\n",
       "      <td>5.111630</td>\n",
       "      <td>14.604656</td>\n",
       "    </tr>\n",
       "    <tr>\n",
       "      <th>124737</th>\n",
       "      <td>2024-02-19 13:22:00</td>\n",
       "      <td>2024-02-19 13:29:00</td>\n",
       "      <td>14th &amp; R St NW</td>\n",
       "      <td>17th &amp; P St NW</td>\n",
       "      <td>38.912985</td>\n",
       "      <td>-77.031796</td>\n",
       "      <td>38.909858</td>\n",
       "      <td>-77.038566</td>\n",
       "      <td>7.0</td>\n",
       "      <td>1</td>\n",
       "      <td>1</td>\n",
       "      <td>0.681198</td>\n",
       "      <td>5.838841</td>\n",
       "    </tr>\n",
       "    <tr>\n",
       "      <th>165629</th>\n",
       "      <td>2024-02-25 10:54:00</td>\n",
       "      <td>2024-02-25 11:03:00</td>\n",
       "      <td>New Hampshire Ave &amp; T St NW</td>\n",
       "      <td>Vermont Ave &amp; I St NW</td>\n",
       "      <td>38.915577</td>\n",
       "      <td>-77.038187</td>\n",
       "      <td>38.901136</td>\n",
       "      <td>-77.034451</td>\n",
       "      <td>9.0</td>\n",
       "      <td>1</td>\n",
       "      <td>1</td>\n",
       "      <td>1.637918</td>\n",
       "      <td>10.919455</td>\n",
       "    </tr>\n",
       "    <tr>\n",
       "      <th>12679</th>\n",
       "      <td>2024-02-09 23:10:00</td>\n",
       "      <td>2024-02-09 23:17:00</td>\n",
       "      <td>Tanner Park</td>\n",
       "      <td>5th &amp; K St NW</td>\n",
       "      <td>38.911348</td>\n",
       "      <td>-77.002243</td>\n",
       "      <td>38.903040</td>\n",
       "      <td>-77.019027</td>\n",
       "      <td>7.0</td>\n",
       "      <td>1</td>\n",
       "      <td>1</td>\n",
       "      <td>1.721211</td>\n",
       "      <td>14.753241</td>\n",
       "    </tr>\n",
       "    <tr>\n",
       "      <th>145683</th>\n",
       "      <td>2024-02-07 11:08:00</td>\n",
       "      <td>2024-02-07 11:14:00</td>\n",
       "      <td>Fenton St &amp; New York Ave</td>\n",
       "      <td>Silver Spring Metro / Colesville Rd &amp; Wayne Ave</td>\n",
       "      <td>38.985336</td>\n",
       "      <td>-77.023129</td>\n",
       "      <td>38.995256</td>\n",
       "      <td>-77.029124</td>\n",
       "      <td>6.0</td>\n",
       "      <td>1</td>\n",
       "      <td>0</td>\n",
       "      <td>1.218757</td>\n",
       "      <td>12.187569</td>\n",
       "    </tr>\n",
       "  </tbody>\n",
       "</table>\n",
       "</div>"
      ],
      "text/plain": [
       "                started_at            ended_at  \\\n",
       "233924 2024-02-20 17:08:00 2024-02-20 17:29:00   \n",
       "124737 2024-02-19 13:22:00 2024-02-19 13:29:00   \n",
       "165629 2024-02-25 10:54:00 2024-02-25 11:03:00   \n",
       "12679  2024-02-09 23:10:00 2024-02-09 23:17:00   \n",
       "145683 2024-02-07 11:08:00 2024-02-07 11:14:00   \n",
       "\n",
       "                    start_station_name  \\\n",
       "233924  15th St & Massachusetts Ave SE   \n",
       "124737                  14th & R St NW   \n",
       "165629     New Hampshire Ave & T St NW   \n",
       "12679                      Tanner Park   \n",
       "145683       Fenton St & New York Ave    \n",
       "\n",
       "                                       end_station_name  start_lat  start_lng  \\\n",
       "233924                               7th & Monroe St NE  38.887321 -76.983589   \n",
       "124737                                   17th & P St NW  38.912985 -77.031796   \n",
       "165629                            Vermont Ave & I St NW  38.915577 -77.038187   \n",
       "12679                                     5th & K St NW  38.911348 -77.002243   \n",
       "145683  Silver Spring Metro / Colesville Rd & Wayne Ave  38.985336 -77.023129   \n",
       "\n",
       "          end_lat    end_lng  time_duration  rideable_type_electric_bike  \\\n",
       "233924  38.932243 -76.996133           21.0                            1   \n",
       "124737  38.909858 -77.038566            7.0                            1   \n",
       "165629  38.901136 -77.034451            9.0                            1   \n",
       "12679   38.903040 -77.019027            7.0                            1   \n",
       "145683  38.995256 -77.029124            6.0                            1   \n",
       "\n",
       "        member_casual_member  distance_km  average_speed  \n",
       "233924                     0     5.111630      14.604656  \n",
       "124737                     1     0.681198       5.838841  \n",
       "165629                     1     1.637918      10.919455  \n",
       "12679                      1     1.721211      14.753241  \n",
       "145683                     0     1.218757      12.187569  "
      ]
     },
     "execution_count": 135,
     "metadata": {},
     "output_type": "execute_result"
    }
   ],
   "source": [
    "# Drop time durations under 0 minutes, too short\n",
    "df.drop(df[df[\"time_duration\"] <= 0].index, axis = 0, inplace=True)\n",
    "\n",
    "# Print top of table to check\n",
    "df.head()"
   ]
  },
  {
   "cell_type": "code",
   "execution_count": 136,
   "id": "9cc1bf71",
   "metadata": {},
   "outputs": [
    {
     "name": "stdout",
     "output_type": "stream",
     "text": [
      "<class 'pandas.core.frame.DataFrame'>\n",
      "Int64Index: 167248 entries, 233924 to 31740\n",
      "Data columns (total 13 columns):\n",
      " #   Column                       Non-Null Count   Dtype         \n",
      "---  ------                       --------------   -----         \n",
      " 0   started_at                   167248 non-null  datetime64[ns]\n",
      " 1   ended_at                     167248 non-null  datetime64[ns]\n",
      " 2   start_station_name           167248 non-null  object        \n",
      " 3   end_station_name             167248 non-null  object        \n",
      " 4   start_lat                    167248 non-null  float64       \n",
      " 5   start_lng                    167248 non-null  float64       \n",
      " 6   end_lat                      167248 non-null  float64       \n",
      " 7   end_lng                      167248 non-null  float64       \n",
      " 8   time_duration                167248 non-null  float64       \n",
      " 9   rideable_type_electric_bike  167248 non-null  uint8         \n",
      " 10  member_casual_member         167248 non-null  uint8         \n",
      " 11  distance_km                  167248 non-null  float64       \n",
      " 12  average_speed                167248 non-null  float64       \n",
      "dtypes: datetime64[ns](2), float64(7), object(2), uint8(2)\n",
      "memory usage: 15.6+ MB\n"
     ]
    }
   ],
   "source": [
    "# List out columns\n",
    "df.info()"
   ]
  },
  {
   "cell_type": "markdown",
   "id": "0ecde046-677a-45ae-9ffd-d8a6fca06a2a",
   "metadata": {},
   "source": [
    "### Some Exploratory Analysis #3\n",
    "Let's perform some more exploratory analysis. From outputting our data table early on, did you notice some peculiar data points, specifically for our 'time duration' and 'average speed' data points? Some of the values seemed a little to unrealistic, for example, a person was riding for a total of 1400 minutes, which is about 24 hours??? On the other hand for average speed, some people were traveling at 250 km/hr DOUBLE CHECK THIS VALUE?? Sometimes, unrealistic data points may have been a result of an error or mistake in the data collection phase. Therefore, it is important to identify these points, and eliminate any points, which may seem incorrect. The graph below serves to compare these potential outliers, and identify any other ones. WHY WE PLOT AVERGAE SPEED VS TIME DURATION? MAYBE MENTION SCATTER PLOT ALSO GOOD FOR SEEING RELATIONSHIPS BETWEEN TWO VARIABLES?"
   ]
  },
  {
   "cell_type": "code",
   "execution_count": 137,
   "id": "b47a053a",
   "metadata": {},
   "outputs": [
    {
     "data": {
      "text/plain": [
       "Text(0, 0.5, 'Average Speed')"
      ]
     },
     "execution_count": 137,
     "metadata": {},
     "output_type": "execute_result"
    },
    {
     "data": {
      "image/png": "[encoded data removed]",
      "text/plain": [
       "<Figure size 1080x576 with 1 Axes>"
      ]
     },
     "metadata": {
      "needs_background": "light"
     },
     "output_type": "display_data"
    }
   ],
   "source": [
    "# Create scatter plot for average speed vs time duration\n",
    "plt.figure(figsize=(15,8))\n",
    "plt.scatter(df[\"time_duration\"], df[\"average_speed\"])\n",
    "plt.title(\"Time Duration vs Average Speed\")\n",
    "plt.xlabel(\"Time Duration\")\n",
    "plt.ylabel(\"Average Speed\")"
   ]
  },
  {
   "cell_type": "code",
   "execution_count": 138,
   "id": "76cb05bb",
   "metadata": {},
   "outputs": [
    {
     "data": {
      "text/plain": [
       "10.751586855356784"
      ]
     },
     "execution_count": 138,
     "metadata": {},
     "output_type": "execute_result"
    }
   ],
   "source": [
    "# print the median average speed\n",
    "df['average_speed'].median()"
   ]
  },
  {
   "cell_type": "markdown",
   "id": "29cb0eed-525b-44ff-adc9-33785bf75b01",
   "metadata": {},
   "source": [
    "After examining the graph, do you notice anything noteworthy? If you look closely, you'll see that most of the average speeds are below approximately 35 km/hr, with a median of 10 km/hr. This suggests that 35 km/hr is a good upper threshold for valid data. Therefore, let's include only the data points with speeds below this threshold. Additionally, let's sort our observations by these values to easily identify the minimum and maximum average speeds.\n",
    "\n",
    "Note: We are creating a new dataframe so that we don't change any of the values in our original dataframe. MORE REASONING?"
   ]
  },
  {
   "cell_type": "code",
   "execution_count": 139,
   "id": "c61ee699",
   "metadata": {},
   "outputs": [
    {
     "data": {
      "text/html": [
       "<div>\n",
       "<style scoped>\n",
       "    .dataframe tbody tr th:only-of-type {\n",
       "        vertical-align: middle;\n",
       "    }\n",
       "\n",
       "    .dataframe tbody tr th {\n",
       "        vertical-align: top;\n",
       "    }\n",
       "\n",
       "    .dataframe thead th {\n",
       "        text-align: right;\n",
       "    }\n",
       "</style>\n",
       "<table border=\"1\" class=\"dataframe\">\n",
       "  <thead>\n",
       "    <tr style=\"text-align: right;\">\n",
       "      <th></th>\n",
       "      <th>started_at</th>\n",
       "      <th>ended_at</th>\n",
       "      <th>start_station_name</th>\n",
       "      <th>end_station_name</th>\n",
       "      <th>start_lat</th>\n",
       "      <th>start_lng</th>\n",
       "      <th>end_lat</th>\n",
       "      <th>end_lng</th>\n",
       "      <th>time_duration</th>\n",
       "      <th>rideable_type_electric_bike</th>\n",
       "      <th>member_casual_member</th>\n",
       "      <th>distance_km</th>\n",
       "      <th>average_speed</th>\n",
       "    </tr>\n",
       "  </thead>\n",
       "  <tbody>\n",
       "    <tr>\n",
       "      <th>161739</th>\n",
       "      <td>2024-02-16 15:55:00</td>\n",
       "      <td>2024-02-16 17:24:00</td>\n",
       "      <td>10th St &amp; Constitution Ave NW</td>\n",
       "      <td>10th St &amp; Constitution Ave NW</td>\n",
       "      <td>38.893028</td>\n",
       "      <td>-77.026013</td>\n",
       "      <td>38.893028</td>\n",
       "      <td>-77.026013</td>\n",
       "      <td>89.0</td>\n",
       "      <td>0</td>\n",
       "      <td>0</td>\n",
       "      <td>0.0</td>\n",
       "      <td>0.0</td>\n",
       "    </tr>\n",
       "    <tr>\n",
       "      <th>41687</th>\n",
       "      <td>2024-02-22 21:05:00</td>\n",
       "      <td>2024-02-22 21:21:00</td>\n",
       "      <td>Monroe St &amp; Monroe Pl</td>\n",
       "      <td>Monroe St &amp; Monroe Pl</td>\n",
       "      <td>39.083673</td>\n",
       "      <td>-77.149162</td>\n",
       "      <td>39.083673</td>\n",
       "      <td>-77.149162</td>\n",
       "      <td>16.0</td>\n",
       "      <td>0</td>\n",
       "      <td>0</td>\n",
       "      <td>0.0</td>\n",
       "      <td>0.0</td>\n",
       "    </tr>\n",
       "    <tr>\n",
       "      <th>68585</th>\n",
       "      <td>2024-02-26 16:57:00</td>\n",
       "      <td>2024-02-26 17:35:00</td>\n",
       "      <td>Arlington Blvd &amp; Allen St</td>\n",
       "      <td>Arlington Blvd &amp; Allen St</td>\n",
       "      <td>38.866361</td>\n",
       "      <td>-77.199788</td>\n",
       "      <td>38.866361</td>\n",
       "      <td>-77.199788</td>\n",
       "      <td>38.0</td>\n",
       "      <td>0</td>\n",
       "      <td>0</td>\n",
       "      <td>0.0</td>\n",
       "      <td>0.0</td>\n",
       "    </tr>\n",
       "    <tr>\n",
       "      <th>99850</th>\n",
       "      <td>2024-02-10 16:36:00</td>\n",
       "      <td>2024-02-10 17:08:00</td>\n",
       "      <td>3rd &amp; Underwood St NW</td>\n",
       "      <td>3rd &amp; Underwood St NW</td>\n",
       "      <td>38.968935</td>\n",
       "      <td>-77.016263</td>\n",
       "      <td>38.968935</td>\n",
       "      <td>-77.016263</td>\n",
       "      <td>32.0</td>\n",
       "      <td>0</td>\n",
       "      <td>1</td>\n",
       "      <td>0.0</td>\n",
       "      <td>0.0</td>\n",
       "    </tr>\n",
       "    <tr>\n",
       "      <th>111208</th>\n",
       "      <td>2024-02-11 11:44:00</td>\n",
       "      <td>2024-02-11 11:46:00</td>\n",
       "      <td>4th &amp; Florida Ave NE</td>\n",
       "      <td>4th &amp; Florida Ave NE</td>\n",
       "      <td>38.907316</td>\n",
       "      <td>-77.000698</td>\n",
       "      <td>38.907316</td>\n",
       "      <td>-77.000698</td>\n",
       "      <td>2.0</td>\n",
       "      <td>0</td>\n",
       "      <td>0</td>\n",
       "      <td>0.0</td>\n",
       "      <td>0.0</td>\n",
       "    </tr>\n",
       "  </tbody>\n",
       "</table>\n",
       "</div>"
      ],
      "text/plain": [
       "                started_at            ended_at             start_station_name  \\\n",
       "161739 2024-02-16 15:55:00 2024-02-16 17:24:00  10th St & Constitution Ave NW   \n",
       "41687  2024-02-22 21:05:00 2024-02-22 21:21:00          Monroe St & Monroe Pl   \n",
       "68585  2024-02-26 16:57:00 2024-02-26 17:35:00      Arlington Blvd & Allen St   \n",
       "99850  2024-02-10 16:36:00 2024-02-10 17:08:00          3rd & Underwood St NW   \n",
       "111208 2024-02-11 11:44:00 2024-02-11 11:46:00           4th & Florida Ave NE   \n",
       "\n",
       "                     end_station_name  start_lat  start_lng    end_lat  \\\n",
       "161739  10th St & Constitution Ave NW  38.893028 -77.026013  38.893028   \n",
       "41687           Monroe St & Monroe Pl  39.083673 -77.149162  39.083673   \n",
       "68585       Arlington Blvd & Allen St  38.866361 -77.199788  38.866361   \n",
       "99850           3rd & Underwood St NW  38.968935 -77.016263  38.968935   \n",
       "111208           4th & Florida Ave NE  38.907316 -77.000698  38.907316   \n",
       "\n",
       "          end_lng  time_duration  rideable_type_electric_bike  \\\n",
       "161739 -77.026013           89.0                            0   \n",
       "41687  -77.149162           16.0                            0   \n",
       "68585  -77.199788           38.0                            0   \n",
       "99850  -77.016263           32.0                            0   \n",
       "111208 -77.000698            2.0                            0   \n",
       "\n",
       "        member_casual_member  distance_km  average_speed  \n",
       "161739                     0          0.0            0.0  \n",
       "41687                      0          0.0            0.0  \n",
       "68585                      0          0.0            0.0  \n",
       "99850                      1          0.0            0.0  \n",
       "111208                     0          0.0            0.0  "
      ]
     },
     "execution_count": 139,
     "metadata": {},
     "output_type": "execute_result"
    }
   ],
   "source": [
    "# Keep observations with average speed below 35, and sort them\n",
    "filtered_df = df[df['average_speed'] <= 35].sort_values(by='average_speed')\n",
    "\n",
    "# Print out top of table to check\n",
    "filtered_df.head()"
   ]
  },
  {
   "cell_type": "markdown",
   "id": "72a4515a-acb0-4963-8dd3-8770f5108b0a",
   "metadata": {},
   "source": [
    "Now, we will eliminate some more data points, in which seem unreaasonable. First, let's get rid of any bike rides where the start and end destination were the exact same. It is most likely these individuals barely moved, therefore, leading to inaccurate data. "
   ]
  },
  {
   "cell_type": "code",
   "execution_count": 140,
   "id": "9e3dde14",
   "metadata": {},
   "outputs": [],
   "source": [
    "# Drop same start and end stations\n",
    "filtered_df.drop(filtered_df[filtered_df[\"start_station_name\"] == filtered_df[\"end_station_name\"]].index, inplace=True)"
   ]
  },
  {
   "cell_type": "markdown",
   "id": "339fb109-3a03-4595-acf1-a8151ad22d02",
   "metadata": {},
   "source": [
    "Now, let's drop data points, where an individual was traveling below 0.2 km, as this only 200 meters. Some of the fastest people in the world run this distance in less than 20 seconds. Therefore, this bike ride would be incredibly short."
   ]
  },
  {
   "cell_type": "code",
   "execution_count": 141,
   "id": "0ef828ba",
   "metadata": {},
   "outputs": [],
   "source": [
    "# Drop observations with distance under 0.2 km\n",
    "filtered_df.drop(filtered_df[filtered_df[\"distance_km\"] <= .2].index, inplace=True)"
   ]
  },
  {
   "cell_type": "markdown",
   "id": "e9f526e5-6f84-41eb-b8c1-60769429a2b9",
   "metadata": {},
   "source": [
    "Now, let's drop data points, where the time spent riding the bike was greater than 300 minutes. Sometimes, data scientists will eliminate data points based on personal intuition, rather than relying on research. It is usually safer to rely on research or logic to back up your actions. However, for the purpose of this tutorial, we can agree that riding on a bike for more than 5 hours may be too long/unreasonable."
   ]
  },
  {
   "cell_type": "code",
   "execution_count": 142,
   "id": "dcf39bdc",
   "metadata": {},
   "outputs": [],
   "source": [
    "# Drop time durations longer than 300 minutes\n",
    "filtered_df.drop(filtered_df[filtered_df[\"time_duration\"] >= 300].index, inplace=True)"
   ]
  },
  {
   "cell_type": "code",
   "execution_count": 143,
   "id": "843a0562",
   "metadata": {},
   "outputs": [
    {
     "data": {
      "text/html": [
       "<div>\n",
       "<style scoped>\n",
       "    .dataframe tbody tr th:only-of-type {\n",
       "        vertical-align: middle;\n",
       "    }\n",
       "\n",
       "    .dataframe tbody tr th {\n",
       "        vertical-align: top;\n",
       "    }\n",
       "\n",
       "    .dataframe thead th {\n",
       "        text-align: right;\n",
       "    }\n",
       "</style>\n",
       "<table border=\"1\" class=\"dataframe\">\n",
       "  <thead>\n",
       "    <tr style=\"text-align: right;\">\n",
       "      <th></th>\n",
       "      <th>started_at</th>\n",
       "      <th>ended_at</th>\n",
       "      <th>start_station_name</th>\n",
       "      <th>end_station_name</th>\n",
       "      <th>start_lat</th>\n",
       "      <th>start_lng</th>\n",
       "      <th>end_lat</th>\n",
       "      <th>end_lng</th>\n",
       "      <th>time_duration</th>\n",
       "      <th>rideable_type_electric_bike</th>\n",
       "      <th>member_casual_member</th>\n",
       "      <th>distance_km</th>\n",
       "      <th>average_speed</th>\n",
       "    </tr>\n",
       "  </thead>\n",
       "  <tbody>\n",
       "    <tr>\n",
       "      <th>154530</th>\n",
       "      <td>2024-02-25 19:14:00</td>\n",
       "      <td>2024-02-26 00:00:00</td>\n",
       "      <td>14th &amp; V St NW</td>\n",
       "      <td>13th &amp; U St NW</td>\n",
       "      <td>38.917709</td>\n",
       "      <td>-77.031845</td>\n",
       "      <td>38.916936</td>\n",
       "      <td>-77.029631</td>\n",
       "      <td>286.0</td>\n",
       "      <td>1</td>\n",
       "      <td>0</td>\n",
       "      <td>0.209854</td>\n",
       "      <td>0.044025</td>\n",
       "    </tr>\n",
       "    <tr>\n",
       "      <th>144167</th>\n",
       "      <td>2024-02-10 13:55:00</td>\n",
       "      <td>2024-02-10 18:53:00</td>\n",
       "      <td>13th &amp; O St NW/ Logan Circle</td>\n",
       "      <td>14th &amp; Q St NW</td>\n",
       "      <td>38.908735</td>\n",
       "      <td>-77.029779</td>\n",
       "      <td>38.910674</td>\n",
       "      <td>-77.031880</td>\n",
       "      <td>298.0</td>\n",
       "      <td>0</td>\n",
       "      <td>0</td>\n",
       "      <td>0.282017</td>\n",
       "      <td>0.056782</td>\n",
       "    </tr>\n",
       "    <tr>\n",
       "      <th>5045</th>\n",
       "      <td>2024-02-26 09:58:00</td>\n",
       "      <td>2024-02-26 14:27:00</td>\n",
       "      <td>Prince St &amp; Union St</td>\n",
       "      <td>Market Square / King St &amp; Royal St</td>\n",
       "      <td>38.803124</td>\n",
       "      <td>-77.040363</td>\n",
       "      <td>38.804718</td>\n",
       "      <td>-77.043363</td>\n",
       "      <td>269.0</td>\n",
       "      <td>0</td>\n",
       "      <td>0</td>\n",
       "      <td>0.314635</td>\n",
       "      <td>0.070179</td>\n",
       "    </tr>\n",
       "    <tr>\n",
       "      <th>89191</th>\n",
       "      <td>2024-02-03 21:26:00</td>\n",
       "      <td>2024-02-04 00:21:00</td>\n",
       "      <td>21st &amp; I St NW</td>\n",
       "      <td>22nd &amp; I St NW / Foggy Bottom</td>\n",
       "      <td>38.900722</td>\n",
       "      <td>-77.046442</td>\n",
       "      <td>38.900880</td>\n",
       "      <td>-77.048911</td>\n",
       "      <td>175.0</td>\n",
       "      <td>1</td>\n",
       "      <td>0</td>\n",
       "      <td>0.214356</td>\n",
       "      <td>0.073494</td>\n",
       "    </tr>\n",
       "    <tr>\n",
       "      <th>18311</th>\n",
       "      <td>2024-02-16 15:38:00</td>\n",
       "      <td>2024-02-16 18:12:00</td>\n",
       "      <td>22nd &amp; I St NW / Foggy Bottom</td>\n",
       "      <td>New Hampshire Ave &amp; 24th St NW</td>\n",
       "      <td>38.900880</td>\n",
       "      <td>-77.048911</td>\n",
       "      <td>38.901755</td>\n",
       "      <td>-77.051084</td>\n",
       "      <td>154.0</td>\n",
       "      <td>0</td>\n",
       "      <td>0</td>\n",
       "      <td>0.211721</td>\n",
       "      <td>0.082489</td>\n",
       "    </tr>\n",
       "  </tbody>\n",
       "</table>\n",
       "</div>"
      ],
      "text/plain": [
       "                started_at            ended_at             start_station_name  \\\n",
       "154530 2024-02-25 19:14:00 2024-02-26 00:00:00                 14th & V St NW   \n",
       "144167 2024-02-10 13:55:00 2024-02-10 18:53:00   13th & O St NW/ Logan Circle   \n",
       "5045   2024-02-26 09:58:00 2024-02-26 14:27:00           Prince St & Union St   \n",
       "89191  2024-02-03 21:26:00 2024-02-04 00:21:00                 21st & I St NW   \n",
       "18311  2024-02-16 15:38:00 2024-02-16 18:12:00  22nd & I St NW / Foggy Bottom   \n",
       "\n",
       "                          end_station_name  start_lat  start_lng    end_lat  \\\n",
       "154530                      13th & U St NW  38.917709 -77.031845  38.916936   \n",
       "144167                      14th & Q St NW  38.908735 -77.029779  38.910674   \n",
       "5045    Market Square / King St & Royal St  38.803124 -77.040363  38.804718   \n",
       "89191        22nd & I St NW / Foggy Bottom  38.900722 -77.046442  38.900880   \n",
       "18311       New Hampshire Ave & 24th St NW  38.900880 -77.048911  38.901755   \n",
       "\n",
       "          end_lng  time_duration  rideable_type_electric_bike  \\\n",
       "154530 -77.029631          286.0                            1   \n",
       "144167 -77.031880          298.0                            0   \n",
       "5045   -77.043363          269.0                            0   \n",
       "89191  -77.048911          175.0                            1   \n",
       "18311  -77.051084          154.0                            0   \n",
       "\n",
       "        member_casual_member  distance_km  average_speed  \n",
       "154530                     0     0.209854       0.044025  \n",
       "144167                     0     0.282017       0.056782  \n",
       "5045                       0     0.314635       0.070179  \n",
       "89191                      0     0.214356       0.073494  \n",
       "18311                      0     0.211721       0.082489  "
      ]
     },
     "execution_count": 143,
     "metadata": {},
     "output_type": "execute_result"
    }
   ],
   "source": [
    "# print the filtered df after modifications\n",
    "filtered_df.head()"
   ]
  },
  {
   "cell_type": "markdown",
   "id": "88cea24d-818f-4546-aadb-a8631347de13",
   "metadata": {},
   "source": [
    "### Some Exploratory Analysis #4\n",
    "Let's perform some more exploratory analysis. Let's plot the distance traveled vs the average speed. *Why do you think we are doing this?* \n",
    "THEN PROVIDE SOME REASON"
   ]
  },
  {
   "cell_type": "code",
   "execution_count": 144,
   "id": "b6d4c454",
   "metadata": {},
   "outputs": [
    {
     "data": {
      "text/plain": [
       "<matplotlib.collections.PathCollection at 0x7fc309fd4100>"
      ]
     },
     "execution_count": 144,
     "metadata": {},
     "output_type": "execute_result"
    },
    {
     "data": {
      "image/png": "[encoded data removed]",
      "text/plain": [
       "<Figure size 1080x576 with 1 Axes>"
      ]
     },
     "metadata": {
      "needs_background": "light"
     },
     "output_type": "display_data"
    }
   ],
   "source": [
    "# Create scatter plot for average speed vs distance\n",
    "plt.figure(figsize=(15,8))\n",
    "plt.scatter(filtered_df[\"distance_km\"], filtered_df[\"average_speed\"])"
   ]
  },
  {
   "cell_type": "markdown",
   "id": "30527306-db8e-41e1-bef6-f76dbe39333a",
   "metadata": {},
   "source": [
    "### Some Exploratory Analysis #5\n",
    "Let's perform some more exploratory analysis. This time, let's do something similar, but instead plot the time duration vs the average speed. *Why do you think we are doing this?* \n",
    "THEN PROVIDE SOME REASON"
   ]
  },
  {
   "cell_type": "code",
   "execution_count": 145,
   "id": "a1ac436a",
   "metadata": {},
   "outputs": [
    {
     "data": {
      "text/plain": [
       "Text(0.5, 1.0, 'time duration vs average speed')"
      ]
     },
     "execution_count": 145,
     "metadata": {},
     "output_type": "execute_result"
    },
    {
     "data": {
      "image/png": "[encoded data removed]",
      "text/plain": [
       "<Figure size 1080x576 with 1 Axes>"
      ]
     },
     "metadata": {
      "needs_background": "light"
     },
     "output_type": "display_data"
    }
   ],
   "source": [
    "# Plot scatter plot for average speed vs time duration\n",
    "plt.figure(figsize=(15,8))\n",
    "plt.scatter(filtered_df[\"time_duration\"], filtered_df[\"average_speed\"])\n",
    "plt.xlabel(\"time duration\")\n",
    "plt.ylabel(\"average speed\")\n",
    "plt.title(\"time duration vs average speed\")"
   ]
  },
  {
   "cell_type": "markdown",
   "id": "2cbde8e7-5e30-4088-9070-2203de1a0887",
   "metadata": {},
   "source": [
    "Let's sort the values of our distance traveled to once again better view the minimum and maxiumum value of our distance traveled data point. "
   ]
  },
  {
   "cell_type": "code",
   "execution_count": 146,
   "id": "2b555f54",
   "metadata": {},
   "outputs": [
    {
     "data": {
      "text/html": [
       "<div>\n",
       "<style scoped>\n",
       "    .dataframe tbody tr th:only-of-type {\n",
       "        vertical-align: middle;\n",
       "    }\n",
       "\n",
       "    .dataframe tbody tr th {\n",
       "        vertical-align: top;\n",
       "    }\n",
       "\n",
       "    .dataframe thead th {\n",
       "        text-align: right;\n",
       "    }\n",
       "</style>\n",
       "<table border=\"1\" class=\"dataframe\">\n",
       "  <thead>\n",
       "    <tr style=\"text-align: right;\">\n",
       "      <th></th>\n",
       "      <th>started_at</th>\n",
       "      <th>ended_at</th>\n",
       "      <th>start_station_name</th>\n",
       "      <th>end_station_name</th>\n",
       "      <th>start_lat</th>\n",
       "      <th>start_lng</th>\n",
       "      <th>end_lat</th>\n",
       "      <th>end_lng</th>\n",
       "      <th>time_duration</th>\n",
       "      <th>rideable_type_electric_bike</th>\n",
       "      <th>member_casual_member</th>\n",
       "      <th>distance_km</th>\n",
       "      <th>average_speed</th>\n",
       "    </tr>\n",
       "  </thead>\n",
       "  <tbody>\n",
       "    <tr>\n",
       "      <th>208772</th>\n",
       "      <td>2024-02-10 07:11:00</td>\n",
       "      <td>2024-02-10 07:13:00</td>\n",
       "      <td>Rhode Island Ave Metro</td>\n",
       "      <td>MBT &amp; Bryant St NE</td>\n",
       "      <td>38.920606</td>\n",
       "      <td>-76.995917</td>\n",
       "      <td>38.922404</td>\n",
       "      <td>-76.996023</td>\n",
       "      <td>2.0</td>\n",
       "      <td>1</td>\n",
       "      <td>0</td>\n",
       "      <td>0.200084</td>\n",
       "      <td>6.002520</td>\n",
       "    </tr>\n",
       "    <tr>\n",
       "      <th>12797</th>\n",
       "      <td>2024-02-29 12:48:00</td>\n",
       "      <td>2024-02-29 14:23:00</td>\n",
       "      <td>19th &amp; G St NW</td>\n",
       "      <td>18th St &amp; Pennsylvania Ave NW</td>\n",
       "      <td>38.898412</td>\n",
       "      <td>-77.043182</td>\n",
       "      <td>38.899680</td>\n",
       "      <td>-77.041539</td>\n",
       "      <td>95.0</td>\n",
       "      <td>0</td>\n",
       "      <td>0</td>\n",
       "      <td>0.200238</td>\n",
       "      <td>0.126466</td>\n",
       "    </tr>\n",
       "    <tr>\n",
       "      <th>52290</th>\n",
       "      <td>2024-02-07 18:01:00</td>\n",
       "      <td>2024-02-07 18:02:00</td>\n",
       "      <td>19th &amp; G St NW</td>\n",
       "      <td>18th St &amp; Pennsylvania Ave NW</td>\n",
       "      <td>38.898412</td>\n",
       "      <td>-77.043182</td>\n",
       "      <td>38.899680</td>\n",
       "      <td>-77.041539</td>\n",
       "      <td>1.0</td>\n",
       "      <td>0</td>\n",
       "      <td>1</td>\n",
       "      <td>0.200238</td>\n",
       "      <td>12.014282</td>\n",
       "    </tr>\n",
       "    <tr>\n",
       "      <th>142631</th>\n",
       "      <td>2024-02-05 20:24:00</td>\n",
       "      <td>2024-02-05 20:25:00</td>\n",
       "      <td>19th &amp; G St NW</td>\n",
       "      <td>18th St &amp; Pennsylvania Ave NW</td>\n",
       "      <td>38.898412</td>\n",
       "      <td>-77.043182</td>\n",
       "      <td>38.899680</td>\n",
       "      <td>-77.041539</td>\n",
       "      <td>1.0</td>\n",
       "      <td>0</td>\n",
       "      <td>1</td>\n",
       "      <td>0.200238</td>\n",
       "      <td>12.014282</td>\n",
       "    </tr>\n",
       "    <tr>\n",
       "      <th>97494</th>\n",
       "      <td>2024-02-27 18:33:00</td>\n",
       "      <td>2024-02-27 18:35:00</td>\n",
       "      <td>18th St &amp; Pennsylvania Ave NW</td>\n",
       "      <td>19th &amp; G St NW</td>\n",
       "      <td>38.899680</td>\n",
       "      <td>-77.041539</td>\n",
       "      <td>38.898412</td>\n",
       "      <td>-77.043182</td>\n",
       "      <td>2.0</td>\n",
       "      <td>0</td>\n",
       "      <td>1</td>\n",
       "      <td>0.200238</td>\n",
       "      <td>6.007141</td>\n",
       "    </tr>\n",
       "    <tr>\n",
       "      <th>...</th>\n",
       "      <td>...</td>\n",
       "      <td>...</td>\n",
       "      <td>...</td>\n",
       "      <td>...</td>\n",
       "      <td>...</td>\n",
       "      <td>...</td>\n",
       "      <td>...</td>\n",
       "      <td>...</td>\n",
       "      <td>...</td>\n",
       "      <td>...</td>\n",
       "      <td>...</td>\n",
       "      <td>...</td>\n",
       "      <td>...</td>\n",
       "    </tr>\n",
       "    <tr>\n",
       "      <th>229234</th>\n",
       "      <td>2024-02-24 14:47:00</td>\n",
       "      <td>2024-02-24 16:22:00</td>\n",
       "      <td>Hartland Rd &amp; Harte Pl</td>\n",
       "      <td>Duke St &amp; Strand (Robinson Terminal)</td>\n",
       "      <td>38.878679</td>\n",
       "      <td>-77.222831</td>\n",
       "      <td>38.801947</td>\n",
       "      <td>-77.040293</td>\n",
       "      <td>95.0</td>\n",
       "      <td>1</td>\n",
       "      <td>0</td>\n",
       "      <td>17.964942</td>\n",
       "      <td>11.346279</td>\n",
       "    </tr>\n",
       "    <tr>\n",
       "      <th>89873</th>\n",
       "      <td>2024-02-18 15:02:00</td>\n",
       "      <td>2024-02-18 16:59:00</td>\n",
       "      <td>Wiehle-Reston Metro South</td>\n",
       "      <td>N Pershing Dr &amp; N Wayne St</td>\n",
       "      <td>38.946638</td>\n",
       "      <td>-77.339438</td>\n",
       "      <td>38.880705</td>\n",
       "      <td>-77.085960</td>\n",
       "      <td>117.0</td>\n",
       "      <td>1</td>\n",
       "      <td>1</td>\n",
       "      <td>23.123921</td>\n",
       "      <td>11.858421</td>\n",
       "    </tr>\n",
       "    <tr>\n",
       "      <th>67637</th>\n",
       "      <td>2024-02-04 09:55:00</td>\n",
       "      <td>2024-02-04 12:10:00</td>\n",
       "      <td>S Four Mile Run Dr &amp; Walter Reed Dr</td>\n",
       "      <td>W&amp;OD Trail/Sunset Hills Rd &amp; Isaac Newton Sq</td>\n",
       "      <td>38.847360</td>\n",
       "      <td>-77.095431</td>\n",
       "      <td>38.951443</td>\n",
       "      <td>-77.340377</td>\n",
       "      <td>135.0</td>\n",
       "      <td>0</td>\n",
       "      <td>1</td>\n",
       "      <td>24.150733</td>\n",
       "      <td>10.733659</td>\n",
       "    </tr>\n",
       "    <tr>\n",
       "      <th>19418</th>\n",
       "      <td>2024-02-24 07:15:00</td>\n",
       "      <td>2024-02-24 09:15:00</td>\n",
       "      <td>North Shore &amp; Cameron Crescent Dr/Crescent Apa...</td>\n",
       "      <td>Harvard St &amp; Adams Mill Rd NW</td>\n",
       "      <td>38.970145</td>\n",
       "      <td>-77.338663</td>\n",
       "      <td>38.927872</td>\n",
       "      <td>-77.043358</td>\n",
       "      <td>120.0</td>\n",
       "      <td>1</td>\n",
       "      <td>0</td>\n",
       "      <td>25.966048</td>\n",
       "      <td>12.983024</td>\n",
       "    </tr>\n",
       "    <tr>\n",
       "      <th>165110</th>\n",
       "      <td>2024-02-24 15:32:00</td>\n",
       "      <td>2024-02-24 17:44:00</td>\n",
       "      <td>20th &amp; O St NW / Dupont South</td>\n",
       "      <td>North Shore &amp; Cameron Crescent Dr/Crescent Apa...</td>\n",
       "      <td>38.908705</td>\n",
       "      <td>-77.044971</td>\n",
       "      <td>38.970046</td>\n",
       "      <td>-77.338686</td>\n",
       "      <td>132.0</td>\n",
       "      <td>1</td>\n",
       "      <td>0</td>\n",
       "      <td>26.302805</td>\n",
       "      <td>11.955821</td>\n",
       "    </tr>\n",
       "  </tbody>\n",
       "</table>\n",
       "<p>161012 rows × 13 columns</p>\n",
       "</div>"
      ],
      "text/plain": [
       "                started_at            ended_at  \\\n",
       "208772 2024-02-10 07:11:00 2024-02-10 07:13:00   \n",
       "12797  2024-02-29 12:48:00 2024-02-29 14:23:00   \n",
       "52290  2024-02-07 18:01:00 2024-02-07 18:02:00   \n",
       "142631 2024-02-05 20:24:00 2024-02-05 20:25:00   \n",
       "97494  2024-02-27 18:33:00 2024-02-27 18:35:00   \n",
       "...                    ...                 ...   \n",
       "229234 2024-02-24 14:47:00 2024-02-24 16:22:00   \n",
       "89873  2024-02-18 15:02:00 2024-02-18 16:59:00   \n",
       "67637  2024-02-04 09:55:00 2024-02-04 12:10:00   \n",
       "19418  2024-02-24 07:15:00 2024-02-24 09:15:00   \n",
       "165110 2024-02-24 15:32:00 2024-02-24 17:44:00   \n",
       "\n",
       "                                       start_station_name  \\\n",
       "208772                             Rhode Island Ave Metro   \n",
       "12797                                      19th & G St NW   \n",
       "52290                                      19th & G St NW   \n",
       "142631                                     19th & G St NW   \n",
       "97494                       18th St & Pennsylvania Ave NW   \n",
       "...                                                   ...   \n",
       "229234                             Hartland Rd & Harte Pl   \n",
       "89873                           Wiehle-Reston Metro South   \n",
       "67637                 S Four Mile Run Dr & Walter Reed Dr   \n",
       "19418   North Shore & Cameron Crescent Dr/Crescent Apa...   \n",
       "165110                      20th & O St NW / Dupont South   \n",
       "\n",
       "                                         end_station_name  start_lat  \\\n",
       "208772                                 MBT & Bryant St NE  38.920606   \n",
       "12797                       18th St & Pennsylvania Ave NW  38.898412   \n",
       "52290                       18th St & Pennsylvania Ave NW  38.898412   \n",
       "142631                      18th St & Pennsylvania Ave NW  38.898412   \n",
       "97494                                      19th & G St NW  38.899680   \n",
       "...                                                   ...        ...   \n",
       "229234               Duke St & Strand (Robinson Terminal)  38.878679   \n",
       "89873                          N Pershing Dr & N Wayne St  38.946638   \n",
       "67637        W&OD Trail/Sunset Hills Rd & Isaac Newton Sq  38.847360   \n",
       "19418                       Harvard St & Adams Mill Rd NW  38.970145   \n",
       "165110  North Shore & Cameron Crescent Dr/Crescent Apa...  38.908705   \n",
       "\n",
       "        start_lng    end_lat    end_lng  time_duration  \\\n",
       "208772 -76.995917  38.922404 -76.996023            2.0   \n",
       "12797  -77.043182  38.899680 -77.041539           95.0   \n",
       "52290  -77.043182  38.899680 -77.041539            1.0   \n",
       "142631 -77.043182  38.899680 -77.041539            1.0   \n",
       "97494  -77.041539  38.898412 -77.043182            2.0   \n",
       "...           ...        ...        ...            ...   \n",
       "229234 -77.222831  38.801947 -77.040293           95.0   \n",
       "89873  -77.339438  38.880705 -77.085960          117.0   \n",
       "67637  -77.095431  38.951443 -77.340377          135.0   \n",
       "19418  -77.338663  38.927872 -77.043358          120.0   \n",
       "165110 -77.044971  38.970046 -77.338686          132.0   \n",
       "\n",
       "        rideable_type_electric_bike  member_casual_member  distance_km  \\\n",
       "208772                            1                     0     0.200084   \n",
       "12797                             0                     0     0.200238   \n",
       "52290                             0                     1     0.200238   \n",
       "142631                            0                     1     0.200238   \n",
       "97494                             0                     1     0.200238   \n",
       "...                             ...                   ...          ...   \n",
       "229234                            1                     0    17.964942   \n",
       "89873                             1                     1    23.123921   \n",
       "67637                             0                     1    24.150733   \n",
       "19418                             1                     0    25.966048   \n",
       "165110                            1                     0    26.302805   \n",
       "\n",
       "        average_speed  \n",
       "208772       6.002520  \n",
       "12797        0.126466  \n",
       "52290       12.014282  \n",
       "142631      12.014282  \n",
       "97494        6.007141  \n",
       "...               ...  \n",
       "229234      11.346279  \n",
       "89873       11.858421  \n",
       "67637       10.733659  \n",
       "19418       12.983024  \n",
       "165110      11.955821  \n",
       "\n",
       "[161012 rows x 13 columns]"
      ]
     },
     "execution_count": 146,
     "metadata": {},
     "output_type": "execute_result"
    }
   ],
   "source": [
    "# Sort observations by distances\n",
    "filtered_df.sort_values(by='distance_km')"
   ]
  },
  {
   "cell_type": "markdown",
   "id": "bc8f64df",
   "metadata": {},
   "source": [
    "### We will try and determine if these values seem reasonable now, basically did we remove the sensor/data misinformation?"
   ]
  },
  {
   "cell_type": "code",
   "execution_count": 147,
   "id": "8813d4f4",
   "metadata": {},
   "outputs": [
    {
     "data": {
      "text/plain": [
       "9.0"
      ]
     },
     "execution_count": 147,
     "metadata": {},
     "output_type": "execute_result"
    }
   ],
   "source": [
    "# Calculate median of time duration data points\n",
    "filtered_df[\"time_duration\"].median()"
   ]
  },
  {
   "cell_type": "code",
   "execution_count": 148,
   "id": "9b1ac299",
   "metadata": {},
   "outputs": [],
   "source": [
    "# Reset indices\n",
    "filtered_df.reset_index(drop=True, inplace=True)"
   ]
  },
  {
   "cell_type": "code",
   "execution_count": 149,
   "id": "b8f66459",
   "metadata": {},
   "outputs": [
    {
     "data": {
      "text/plain": [
       "15587     0.200084\n",
       "32        0.200238\n",
       "97907     0.200238\n",
       "97908     0.200238\n",
       "15613     0.200238\n",
       "97906     0.200238\n",
       "15702     0.200692\n",
       "98295     0.200692\n",
       "98294     0.200692\n",
       "7698      0.200822\n",
       "98440     0.200849\n",
       "15731     0.200859\n",
       "15732     0.200859\n",
       "98444     0.200859\n",
       "331       0.200859\n",
       "30        0.200863\n",
       "98520     0.200946\n",
       "98519     0.200946\n",
       "98521     0.200946\n",
       "98522     0.200946\n",
       "152       0.200946\n",
       "7712      0.200946\n",
       "5363      0.200946\n",
       "98652     0.201076\n",
       "98837     0.201290\n",
       "98836     0.201290\n",
       "98840     0.201291\n",
       "15850     0.201565\n",
       "15857     0.201590\n",
       "15872     0.201702\n",
       "4162      0.202579\n",
       "16056     0.202655\n",
       "16055     0.202655\n",
       "62        0.202655\n",
       "16053     0.202655\n",
       "16054     0.202655\n",
       "16052     0.202655\n",
       "3396      0.202974\n",
       "100371    0.202974\n",
       "100372    0.202974\n",
       "16106     0.202974\n",
       "101115    0.203785\n",
       "101114    0.203785\n",
       "101113    0.203785\n",
       "101112    0.203785\n",
       "101110    0.203785\n",
       "101111    0.203785\n",
       "16228     0.203785\n",
       "16229     0.203785\n",
       "16230     0.203785\n",
       "Name: distance_km, dtype: float64"
      ]
     },
     "execution_count": 149,
     "metadata": {},
     "output_type": "execute_result"
    }
   ],
   "source": [
    "# Sort the distances, and print out first 50\n",
    "filtered_df[\"distance_km\"].sort_values()[:50]"
   ]
  },
  {
   "cell_type": "code",
   "execution_count": 150,
   "id": "138dfd41",
   "metadata": {},
   "outputs": [
    {
     "data": {
      "text/plain": [
       "started_at                           2024-02-14 17:00:00\n",
       "ended_at                             2024-02-14 17:34:00\n",
       "start_station_name             1st & Rhode Island Ave NW\n",
       "end_station_name                10th St & Florida Ave NW\n",
       "start_lat                                      38.915369\n",
       "start_lng                                     -77.012261\n",
       "end_lat                                        38.920387\n",
       "end_lng                                       -77.025672\n",
       "time_duration                                       34.0\n",
       "rideable_type_electric_bike                            1\n",
       "member_casual_member                                   0\n",
       "distance_km                                      1.28743\n",
       "average_speed                                   2.271935\n",
       "Name: 3830, dtype: object"
      ]
     },
     "execution_count": 150,
     "metadata": {},
     "output_type": "execute_result"
    }
   ],
   "source": [
    "# Locating one specific observation to check on google maps if the given start and end latitudes\n",
    "# resulted in a distance that seemed reasonable and could be covered in that time frame\n",
    "filtered_df.iloc[3830]"
   ]
  },
  {
   "cell_type": "code",
   "execution_count": 151,
   "id": "d1bedb92",
   "metadata": {},
   "outputs": [
    {
     "data": {
      "text/html": [
       "<div>\n",
       "<style scoped>\n",
       "    .dataframe tbody tr th:only-of-type {\n",
       "        vertical-align: middle;\n",
       "    }\n",
       "\n",
       "    .dataframe tbody tr th {\n",
       "        vertical-align: top;\n",
       "    }\n",
       "\n",
       "    .dataframe thead th {\n",
       "        text-align: right;\n",
       "    }\n",
       "</style>\n",
       "<table border=\"1\" class=\"dataframe\">\n",
       "  <thead>\n",
       "    <tr style=\"text-align: right;\">\n",
       "      <th></th>\n",
       "      <th>started_at</th>\n",
       "      <th>ended_at</th>\n",
       "      <th>start_station_name</th>\n",
       "      <th>end_station_name</th>\n",
       "      <th>start_lat</th>\n",
       "      <th>start_lng</th>\n",
       "      <th>end_lat</th>\n",
       "      <th>end_lng</th>\n",
       "      <th>time_duration</th>\n",
       "      <th>rideable_type_electric_bike</th>\n",
       "      <th>member_casual_member</th>\n",
       "      <th>distance_km</th>\n",
       "      <th>average_speed</th>\n",
       "    </tr>\n",
       "  </thead>\n",
       "  <tbody>\n",
       "    <tr>\n",
       "      <th>233924</th>\n",
       "      <td>2024-02-20 17:08:00</td>\n",
       "      <td>2024-02-20 17:29:00</td>\n",
       "      <td>15th St &amp; Massachusetts Ave SE</td>\n",
       "      <td>7th &amp; Monroe St NE</td>\n",
       "      <td>38.887321</td>\n",
       "      <td>-76.983589</td>\n",
       "      <td>38.932243</td>\n",
       "      <td>-76.996133</td>\n",
       "      <td>21.0</td>\n",
       "      <td>1</td>\n",
       "      <td>0</td>\n",
       "      <td>5.111630</td>\n",
       "      <td>14.604656</td>\n",
       "    </tr>\n",
       "    <tr>\n",
       "      <th>124737</th>\n",
       "      <td>2024-02-19 13:22:00</td>\n",
       "      <td>2024-02-19 13:29:00</td>\n",
       "      <td>14th &amp; R St NW</td>\n",
       "      <td>17th &amp; P St NW</td>\n",
       "      <td>38.912985</td>\n",
       "      <td>-77.031796</td>\n",
       "      <td>38.909858</td>\n",
       "      <td>-77.038566</td>\n",
       "      <td>7.0</td>\n",
       "      <td>1</td>\n",
       "      <td>1</td>\n",
       "      <td>0.681198</td>\n",
       "      <td>5.838841</td>\n",
       "    </tr>\n",
       "    <tr>\n",
       "      <th>165629</th>\n",
       "      <td>2024-02-25 10:54:00</td>\n",
       "      <td>2024-02-25 11:03:00</td>\n",
       "      <td>New Hampshire Ave &amp; T St NW</td>\n",
       "      <td>Vermont Ave &amp; I St NW</td>\n",
       "      <td>38.915577</td>\n",
       "      <td>-77.038187</td>\n",
       "      <td>38.901136</td>\n",
       "      <td>-77.034451</td>\n",
       "      <td>9.0</td>\n",
       "      <td>1</td>\n",
       "      <td>1</td>\n",
       "      <td>1.637918</td>\n",
       "      <td>10.919455</td>\n",
       "    </tr>\n",
       "    <tr>\n",
       "      <th>12679</th>\n",
       "      <td>2024-02-09 23:10:00</td>\n",
       "      <td>2024-02-09 23:17:00</td>\n",
       "      <td>Tanner Park</td>\n",
       "      <td>5th &amp; K St NW</td>\n",
       "      <td>38.911348</td>\n",
       "      <td>-77.002243</td>\n",
       "      <td>38.903040</td>\n",
       "      <td>-77.019027</td>\n",
       "      <td>7.0</td>\n",
       "      <td>1</td>\n",
       "      <td>1</td>\n",
       "      <td>1.721211</td>\n",
       "      <td>14.753241</td>\n",
       "    </tr>\n",
       "    <tr>\n",
       "      <th>145683</th>\n",
       "      <td>2024-02-07 11:08:00</td>\n",
       "      <td>2024-02-07 11:14:00</td>\n",
       "      <td>Fenton St &amp; New York Ave</td>\n",
       "      <td>Silver Spring Metro / Colesville Rd &amp; Wayne Ave</td>\n",
       "      <td>38.985336</td>\n",
       "      <td>-77.023129</td>\n",
       "      <td>38.995256</td>\n",
       "      <td>-77.029124</td>\n",
       "      <td>6.0</td>\n",
       "      <td>1</td>\n",
       "      <td>0</td>\n",
       "      <td>1.218757</td>\n",
       "      <td>12.187569</td>\n",
       "    </tr>\n",
       "  </tbody>\n",
       "</table>\n",
       "</div>"
      ],
      "text/plain": [
       "                started_at            ended_at  \\\n",
       "233924 2024-02-20 17:08:00 2024-02-20 17:29:00   \n",
       "124737 2024-02-19 13:22:00 2024-02-19 13:29:00   \n",
       "165629 2024-02-25 10:54:00 2024-02-25 11:03:00   \n",
       "12679  2024-02-09 23:10:00 2024-02-09 23:17:00   \n",
       "145683 2024-02-07 11:08:00 2024-02-07 11:14:00   \n",
       "\n",
       "                    start_station_name  \\\n",
       "233924  15th St & Massachusetts Ave SE   \n",
       "124737                  14th & R St NW   \n",
       "165629     New Hampshire Ave & T St NW   \n",
       "12679                      Tanner Park   \n",
       "145683       Fenton St & New York Ave    \n",
       "\n",
       "                                       end_station_name  start_lat  start_lng  \\\n",
       "233924                               7th & Monroe St NE  38.887321 -76.983589   \n",
       "124737                                   17th & P St NW  38.912985 -77.031796   \n",
       "165629                            Vermont Ave & I St NW  38.915577 -77.038187   \n",
       "12679                                     5th & K St NW  38.911348 -77.002243   \n",
       "145683  Silver Spring Metro / Colesville Rd & Wayne Ave  38.985336 -77.023129   \n",
       "\n",
       "          end_lat    end_lng  time_duration  rideable_type_electric_bike  \\\n",
       "233924  38.932243 -76.996133           21.0                            1   \n",
       "124737  38.909858 -77.038566            7.0                            1   \n",
       "165629  38.901136 -77.034451            9.0                            1   \n",
       "12679   38.903040 -77.019027            7.0                            1   \n",
       "145683  38.995256 -77.029124            6.0                            1   \n",
       "\n",
       "        member_casual_member  distance_km  average_speed  \n",
       "233924                     0     5.111630      14.604656  \n",
       "124737                     1     0.681198       5.838841  \n",
       "165629                     1     1.637918      10.919455  \n",
       "12679                      1     1.721211      14.753241  \n",
       "145683                     0     1.218757      12.187569  "
      ]
     },
     "execution_count": 151,
     "metadata": {},
     "output_type": "execute_result"
    }
   ],
   "source": [
    "# Print out top of table to check\n",
    "df.head()"
   ]
  },
  {
   "cell_type": "code",
   "execution_count": 152,
   "id": "b92a2a74",
   "metadata": {},
   "outputs": [
    {
     "data": {
      "text/plain": [
       "12.965815023969894"
      ]
     },
     "execution_count": 152,
     "metadata": {},
     "output_type": "execute_result"
    }
   ],
   "source": [
    "# Calculate mean of average speed for electric bikes\n",
    "filtered_df[filtered_df[\"rideable_type_electric_bike\"] == 1][\"average_speed\"].mean()"
   ]
  },
  {
   "cell_type": "code",
   "execution_count": 153,
   "id": "3daf4274",
   "metadata": {},
   "outputs": [
    {
     "data": {
      "text/html": [
       "<div>\n",
       "<style scoped>\n",
       "    .dataframe tbody tr th:only-of-type {\n",
       "        vertical-align: middle;\n",
       "    }\n",
       "\n",
       "    .dataframe tbody tr th {\n",
       "        vertical-align: top;\n",
       "    }\n",
       "\n",
       "    .dataframe thead th {\n",
       "        text-align: right;\n",
       "    }\n",
       "</style>\n",
       "<table border=\"1\" class=\"dataframe\">\n",
       "  <thead>\n",
       "    <tr style=\"text-align: right;\">\n",
       "      <th></th>\n",
       "      <th>started_at</th>\n",
       "      <th>ended_at</th>\n",
       "      <th>start_station_name</th>\n",
       "      <th>end_station_name</th>\n",
       "      <th>start_lat</th>\n",
       "      <th>start_lng</th>\n",
       "      <th>end_lat</th>\n",
       "      <th>end_lng</th>\n",
       "      <th>time_duration</th>\n",
       "      <th>rideable_type_electric_bike</th>\n",
       "      <th>member_casual_member</th>\n",
       "      <th>distance_km</th>\n",
       "      <th>average_speed</th>\n",
       "    </tr>\n",
       "  </thead>\n",
       "  <tbody>\n",
       "    <tr>\n",
       "      <th>0</th>\n",
       "      <td>2024-02-25 19:14:00</td>\n",
       "      <td>2024-02-26 00:00:00</td>\n",
       "      <td>14th &amp; V St NW</td>\n",
       "      <td>13th &amp; U St NW</td>\n",
       "      <td>38.917709</td>\n",
       "      <td>-77.031845</td>\n",
       "      <td>38.916936</td>\n",
       "      <td>-77.029631</td>\n",
       "      <td>286.0</td>\n",
       "      <td>1</td>\n",
       "      <td>0</td>\n",
       "      <td>0.209854</td>\n",
       "      <td>0.044025</td>\n",
       "    </tr>\n",
       "    <tr>\n",
       "      <th>1</th>\n",
       "      <td>2024-02-10 13:55:00</td>\n",
       "      <td>2024-02-10 18:53:00</td>\n",
       "      <td>13th &amp; O St NW/ Logan Circle</td>\n",
       "      <td>14th &amp; Q St NW</td>\n",
       "      <td>38.908735</td>\n",
       "      <td>-77.029779</td>\n",
       "      <td>38.910674</td>\n",
       "      <td>-77.031880</td>\n",
       "      <td>298.0</td>\n",
       "      <td>0</td>\n",
       "      <td>0</td>\n",
       "      <td>0.282017</td>\n",
       "      <td>0.056782</td>\n",
       "    </tr>\n",
       "    <tr>\n",
       "      <th>2</th>\n",
       "      <td>2024-02-26 09:58:00</td>\n",
       "      <td>2024-02-26 14:27:00</td>\n",
       "      <td>Prince St &amp; Union St</td>\n",
       "      <td>Market Square / King St &amp; Royal St</td>\n",
       "      <td>38.803124</td>\n",
       "      <td>-77.040363</td>\n",
       "      <td>38.804718</td>\n",
       "      <td>-77.043363</td>\n",
       "      <td>269.0</td>\n",
       "      <td>0</td>\n",
       "      <td>0</td>\n",
       "      <td>0.314635</td>\n",
       "      <td>0.070179</td>\n",
       "    </tr>\n",
       "    <tr>\n",
       "      <th>3</th>\n",
       "      <td>2024-02-03 21:26:00</td>\n",
       "      <td>2024-02-04 00:21:00</td>\n",
       "      <td>21st &amp; I St NW</td>\n",
       "      <td>22nd &amp; I St NW / Foggy Bottom</td>\n",
       "      <td>38.900722</td>\n",
       "      <td>-77.046442</td>\n",
       "      <td>38.900880</td>\n",
       "      <td>-77.048911</td>\n",
       "      <td>175.0</td>\n",
       "      <td>1</td>\n",
       "      <td>0</td>\n",
       "      <td>0.214356</td>\n",
       "      <td>0.073494</td>\n",
       "    </tr>\n",
       "    <tr>\n",
       "      <th>4</th>\n",
       "      <td>2024-02-16 15:38:00</td>\n",
       "      <td>2024-02-16 18:12:00</td>\n",
       "      <td>22nd &amp; I St NW / Foggy Bottom</td>\n",
       "      <td>New Hampshire Ave &amp; 24th St NW</td>\n",
       "      <td>38.900880</td>\n",
       "      <td>-77.048911</td>\n",
       "      <td>38.901755</td>\n",
       "      <td>-77.051084</td>\n",
       "      <td>154.0</td>\n",
       "      <td>0</td>\n",
       "      <td>0</td>\n",
       "      <td>0.211721</td>\n",
       "      <td>0.082489</td>\n",
       "    </tr>\n",
       "  </tbody>\n",
       "</table>\n",
       "</div>"
      ],
      "text/plain": [
       "           started_at            ended_at             start_station_name  \\\n",
       "0 2024-02-25 19:14:00 2024-02-26 00:00:00                 14th & V St NW   \n",
       "1 2024-02-10 13:55:00 2024-02-10 18:53:00   13th & O St NW/ Logan Circle   \n",
       "2 2024-02-26 09:58:00 2024-02-26 14:27:00           Prince St & Union St   \n",
       "3 2024-02-03 21:26:00 2024-02-04 00:21:00                 21st & I St NW   \n",
       "4 2024-02-16 15:38:00 2024-02-16 18:12:00  22nd & I St NW / Foggy Bottom   \n",
       "\n",
       "                     end_station_name  start_lat  start_lng    end_lat  \\\n",
       "0                      13th & U St NW  38.917709 -77.031845  38.916936   \n",
       "1                      14th & Q St NW  38.908735 -77.029779  38.910674   \n",
       "2  Market Square / King St & Royal St  38.803124 -77.040363  38.804718   \n",
       "3       22nd & I St NW / Foggy Bottom  38.900722 -77.046442  38.900880   \n",
       "4      New Hampshire Ave & 24th St NW  38.900880 -77.048911  38.901755   \n",
       "\n",
       "     end_lng  time_duration  rideable_type_electric_bike  \\\n",
       "0 -77.029631          286.0                            1   \n",
       "1 -77.031880          298.0                            0   \n",
       "2 -77.043363          269.0                            0   \n",
       "3 -77.048911          175.0                            1   \n",
       "4 -77.051084          154.0                            0   \n",
       "\n",
       "   member_casual_member  distance_km  average_speed  \n",
       "0                     0     0.209854       0.044025  \n",
       "1                     0     0.282017       0.056782  \n",
       "2                     0     0.314635       0.070179  \n",
       "3                     0     0.214356       0.073494  \n",
       "4                     0     0.211721       0.082489  "
      ]
     },
     "execution_count": 153,
     "metadata": {},
     "output_type": "execute_result"
    }
   ],
   "source": [
    "# Print top of table to check\n",
    "filtered_df.head()"
   ]
  },
  {
   "cell_type": "code",
   "execution_count": 154,
   "id": "ecf34353",
   "metadata": {},
   "outputs": [
    {
     "data": {
      "text/plain": [
       "1.5809754585494344"
      ]
     },
     "execution_count": 154,
     "metadata": {},
     "output_type": "execute_result"
    }
   ],
   "source": [
    "# Calculate median of distance column\n",
    "filtered_df[\"distance_km\"].median()"
   ]
  },
  {
   "cell_type": "code",
   "execution_count": 155,
   "id": "7b3b1a6b",
   "metadata": {},
   "outputs": [],
   "source": [
    "# This value is almost a mile, which seems reasonable for a city bike trip"
   ]
  },
  {
   "cell_type": "markdown",
   "id": "522d9ffc-9c7d-42ad-8e94-33bac93c37a9",
   "metadata": {},
   "source": [
    "### Some Exploratory Analysis #6\n",
    "Let's perform some more exploratory analysis. Let's plot a histogram of the frequency of observations for our distances. *Why do you think we are doing this?* THEN PROVIDE SOME REASON."
   ]
  },
  {
   "cell_type": "code",
   "execution_count": 156,
   "id": "43478a48",
   "metadata": {},
   "outputs": [
    {
     "data": {
      "text/plain": [
       "(array([1.30672e+05, 2.64700e+04, 3.14600e+03, 5.69000e+02, 1.19000e+02,\n",
       "        2.10000e+01, 1.10000e+01, 0.00000e+00, 1.00000e+00, 3.00000e+00]),\n",
       " array([ 0.200084  ,  2.81035612,  5.42062824,  8.03090035, 10.64117247,\n",
       "        13.25144459, 15.8617167 , 18.47198882, 21.08226093, 23.69253305,\n",
       "        26.30280517]),\n",
       " <BarContainer object of 10 artists>)"
      ]
     },
     "execution_count": 156,
     "metadata": {},
     "output_type": "execute_result"
    },
    {
     "data": {
      "image/png": "[encoded data removed]",
      "text/plain": [
       "<Figure size 1080x576 with 1 Axes>"
      ]
     },
     "metadata": {
      "needs_background": "light"
     },
     "output_type": "display_data"
    }
   ],
   "source": [
    "# Create histogram for distances\n",
    "plt.figure(figsize=(15,8))\n",
    "plt.hist(filtered_df[\"distance_km\"])"
   ]
  },
  {
   "cell_type": "markdown",
   "id": "01c9ef5c-8266-4b3d-a78d-42829ffbc9fe",
   "metadata": {},
   "source": [
    "### Some Interesting Data Cleaning: Ranking\n",
    "Let's now create a new column, data point, called rank. This data point will represent the frequency of a start or end station being the destination across all observations. So, a higher rank for a start station indicates more people start at that station then others, while low rank means less people begin at that station. The same applies for the end station. This rank system is an example of modifying our data to be a data point that is usable. We can't really pass in string values, such as the station names, into the machine learning model. Therefore, transforming it into an integer value, such as rank, can help make it useful."
   ]
  },
  {
   "cell_type": "code",
   "execution_count": 157,
   "id": "77a04961",
   "metadata": {},
   "outputs": [],
   "source": [
    "# Rank start stations based on occurrences\n",
    "start_station_rank = filtered_df['start_station_name'].value_counts().rank(ascending=False, method='min')\n",
    "\n",
    "# Rank stop stations based on occurrences\n",
    "end_station_rank = filtered_df['end_station_name'].value_counts().rank(ascending=False, method='min')\n",
    "\n",
    "# Assign ranks to start and stop stations\n",
    "filtered_df['start_station_rank'] = filtered_df['start_station_name'].map(start_station_rank)\n",
    "filtered_df['end_station_rank'] = filtered_df['end_station_name'].map(end_station_rank)"
   ]
  },
  {
   "cell_type": "code",
   "execution_count": 158,
   "id": "7753bb4d",
   "metadata": {},
   "outputs": [
    {
     "data": {
      "text/html": [
       "<div>\n",
       "<style scoped>\n",
       "    .dataframe tbody tr th:only-of-type {\n",
       "        vertical-align: middle;\n",
       "    }\n",
       "\n",
       "    .dataframe tbody tr th {\n",
       "        vertical-align: top;\n",
       "    }\n",
       "\n",
       "    .dataframe thead th {\n",
       "        text-align: right;\n",
       "    }\n",
       "</style>\n",
       "<table border=\"1\" class=\"dataframe\">\n",
       "  <thead>\n",
       "    <tr style=\"text-align: right;\">\n",
       "      <th></th>\n",
       "      <th>started_at</th>\n",
       "      <th>ended_at</th>\n",
       "      <th>start_station_name</th>\n",
       "      <th>end_station_name</th>\n",
       "      <th>start_lat</th>\n",
       "      <th>start_lng</th>\n",
       "      <th>end_lat</th>\n",
       "      <th>end_lng</th>\n",
       "      <th>time_duration</th>\n",
       "      <th>rideable_type_electric_bike</th>\n",
       "      <th>member_casual_member</th>\n",
       "      <th>distance_km</th>\n",
       "      <th>average_speed</th>\n",
       "      <th>start_station_rank</th>\n",
       "      <th>end_station_rank</th>\n",
       "    </tr>\n",
       "  </thead>\n",
       "  <tbody>\n",
       "    <tr>\n",
       "      <th>0</th>\n",
       "      <td>2024-02-25 19:14:00</td>\n",
       "      <td>2024-02-26 00:00:00</td>\n",
       "      <td>14th &amp; V St NW</td>\n",
       "      <td>13th &amp; U St NW</td>\n",
       "      <td>38.917709</td>\n",
       "      <td>-77.031845</td>\n",
       "      <td>38.916936</td>\n",
       "      <td>-77.029631</td>\n",
       "      <td>286.0</td>\n",
       "      <td>1</td>\n",
       "      <td>0</td>\n",
       "      <td>0.209854</td>\n",
       "      <td>0.044025</td>\n",
       "      <td>6.0</td>\n",
       "      <td>52.0</td>\n",
       "    </tr>\n",
       "    <tr>\n",
       "      <th>1</th>\n",
       "      <td>2024-02-10 13:55:00</td>\n",
       "      <td>2024-02-10 18:53:00</td>\n",
       "      <td>13th &amp; O St NW/ Logan Circle</td>\n",
       "      <td>14th &amp; Q St NW</td>\n",
       "      <td>38.908735</td>\n",
       "      <td>-77.029779</td>\n",
       "      <td>38.910674</td>\n",
       "      <td>-77.031880</td>\n",
       "      <td>298.0</td>\n",
       "      <td>0</td>\n",
       "      <td>0</td>\n",
       "      <td>0.282017</td>\n",
       "      <td>0.056782</td>\n",
       "      <td>46.0</td>\n",
       "      <td>49.0</td>\n",
       "    </tr>\n",
       "    <tr>\n",
       "      <th>2</th>\n",
       "      <td>2024-02-26 09:58:00</td>\n",
       "      <td>2024-02-26 14:27:00</td>\n",
       "      <td>Prince St &amp; Union St</td>\n",
       "      <td>Market Square / King St &amp; Royal St</td>\n",
       "      <td>38.803124</td>\n",
       "      <td>-77.040363</td>\n",
       "      <td>38.804718</td>\n",
       "      <td>-77.043363</td>\n",
       "      <td>269.0</td>\n",
       "      <td>0</td>\n",
       "      <td>0</td>\n",
       "      <td>0.314635</td>\n",
       "      <td>0.070179</td>\n",
       "      <td>359.0</td>\n",
       "      <td>326.0</td>\n",
       "    </tr>\n",
       "    <tr>\n",
       "      <th>3</th>\n",
       "      <td>2024-02-03 21:26:00</td>\n",
       "      <td>2024-02-04 00:21:00</td>\n",
       "      <td>21st &amp; I St NW</td>\n",
       "      <td>22nd &amp; I St NW / Foggy Bottom</td>\n",
       "      <td>38.900722</td>\n",
       "      <td>-77.046442</td>\n",
       "      <td>38.900880</td>\n",
       "      <td>-77.048911</td>\n",
       "      <td>175.0</td>\n",
       "      <td>1</td>\n",
       "      <td>0</td>\n",
       "      <td>0.214356</td>\n",
       "      <td>0.073494</td>\n",
       "      <td>44.0</td>\n",
       "      <td>70.0</td>\n",
       "    </tr>\n",
       "    <tr>\n",
       "      <th>4</th>\n",
       "      <td>2024-02-16 15:38:00</td>\n",
       "      <td>2024-02-16 18:12:00</td>\n",
       "      <td>22nd &amp; I St NW / Foggy Bottom</td>\n",
       "      <td>New Hampshire Ave &amp; 24th St NW</td>\n",
       "      <td>38.900880</td>\n",
       "      <td>-77.048911</td>\n",
       "      <td>38.901755</td>\n",
       "      <td>-77.051084</td>\n",
       "      <td>154.0</td>\n",
       "      <td>0</td>\n",
       "      <td>0</td>\n",
       "      <td>0.211721</td>\n",
       "      <td>0.082489</td>\n",
       "      <td>61.0</td>\n",
       "      <td>75.0</td>\n",
       "    </tr>\n",
       "  </tbody>\n",
       "</table>\n",
       "</div>"
      ],
      "text/plain": [
       "           started_at            ended_at             start_station_name  \\\n",
       "0 2024-02-25 19:14:00 2024-02-26 00:00:00                 14th & V St NW   \n",
       "1 2024-02-10 13:55:00 2024-02-10 18:53:00   13th & O St NW/ Logan Circle   \n",
       "2 2024-02-26 09:58:00 2024-02-26 14:27:00           Prince St & Union St   \n",
       "3 2024-02-03 21:26:00 2024-02-04 00:21:00                 21st & I St NW   \n",
       "4 2024-02-16 15:38:00 2024-02-16 18:12:00  22nd & I St NW / Foggy Bottom   \n",
       "\n",
       "                     end_station_name  start_lat  start_lng    end_lat  \\\n",
       "0                      13th & U St NW  38.917709 -77.031845  38.916936   \n",
       "1                      14th & Q St NW  38.908735 -77.029779  38.910674   \n",
       "2  Market Square / King St & Royal St  38.803124 -77.040363  38.804718   \n",
       "3       22nd & I St NW / Foggy Bottom  38.900722 -77.046442  38.900880   \n",
       "4      New Hampshire Ave & 24th St NW  38.900880 -77.048911  38.901755   \n",
       "\n",
       "     end_lng  time_duration  rideable_type_electric_bike  \\\n",
       "0 -77.029631          286.0                            1   \n",
       "1 -77.031880          298.0                            0   \n",
       "2 -77.043363          269.0                            0   \n",
       "3 -77.048911          175.0                            1   \n",
       "4 -77.051084          154.0                            0   \n",
       "\n",
       "   member_casual_member  distance_km  average_speed  start_station_rank  \\\n",
       "0                     0     0.209854       0.044025                 6.0   \n",
       "1                     0     0.282017       0.056782                46.0   \n",
       "2                     0     0.314635       0.070179               359.0   \n",
       "3                     0     0.214356       0.073494                44.0   \n",
       "4                     0     0.211721       0.082489                61.0   \n",
       "\n",
       "   end_station_rank  \n",
       "0              52.0  \n",
       "1              49.0  \n",
       "2             326.0  \n",
       "3              70.0  \n",
       "4              75.0  "
      ]
     },
     "execution_count": 158,
     "metadata": {},
     "output_type": "execute_result"
    }
   ],
   "source": [
    "# Print top of table to check\n",
    "filtered_df.head()"
   ]
  },
  {
   "cell_type": "code",
   "execution_count": 159,
   "id": "ce687cfa",
   "metadata": {},
   "outputs": [
    {
     "data": {
      "text/html": [
       "<div>\n",
       "<style scoped>\n",
       "    .dataframe tbody tr th:only-of-type {\n",
       "        vertical-align: middle;\n",
       "    }\n",
       "\n",
       "    .dataframe tbody tr th {\n",
       "        vertical-align: top;\n",
       "    }\n",
       "\n",
       "    .dataframe thead th {\n",
       "        text-align: right;\n",
       "    }\n",
       "</style>\n",
       "<table border=\"1\" class=\"dataframe\">\n",
       "  <thead>\n",
       "    <tr style=\"text-align: right;\">\n",
       "      <th></th>\n",
       "      <th>started_at</th>\n",
       "      <th>ended_at</th>\n",
       "      <th>start_station_name</th>\n",
       "      <th>end_station_name</th>\n",
       "      <th>start_lat</th>\n",
       "      <th>start_lng</th>\n",
       "      <th>end_lat</th>\n",
       "      <th>end_lng</th>\n",
       "      <th>time_duration</th>\n",
       "      <th>rideable_type_electric_bike</th>\n",
       "      <th>member_casual_member</th>\n",
       "      <th>distance_km</th>\n",
       "      <th>average_speed</th>\n",
       "      <th>start_station_rank</th>\n",
       "      <th>end_station_rank</th>\n",
       "    </tr>\n",
       "  </thead>\n",
       "  <tbody>\n",
       "    <tr>\n",
       "      <th>0</th>\n",
       "      <td>2024-02-25 19:14:00</td>\n",
       "      <td>2024-02-26 00:00:00</td>\n",
       "      <td>14th &amp; V St NW</td>\n",
       "      <td>13th &amp; U St NW</td>\n",
       "      <td>38.917709</td>\n",
       "      <td>-77.031845</td>\n",
       "      <td>38.916936</td>\n",
       "      <td>-77.029631</td>\n",
       "      <td>286.0</td>\n",
       "      <td>1</td>\n",
       "      <td>0</td>\n",
       "      <td>0.209854</td>\n",
       "      <td>0.044025</td>\n",
       "      <td>6.0</td>\n",
       "      <td>52.0</td>\n",
       "    </tr>\n",
       "    <tr>\n",
       "      <th>1</th>\n",
       "      <td>2024-02-10 13:55:00</td>\n",
       "      <td>2024-02-10 18:53:00</td>\n",
       "      <td>13th &amp; O St NW/ Logan Circle</td>\n",
       "      <td>14th &amp; Q St NW</td>\n",
       "      <td>38.908735</td>\n",
       "      <td>-77.029779</td>\n",
       "      <td>38.910674</td>\n",
       "      <td>-77.031880</td>\n",
       "      <td>298.0</td>\n",
       "      <td>0</td>\n",
       "      <td>0</td>\n",
       "      <td>0.282017</td>\n",
       "      <td>0.056782</td>\n",
       "      <td>46.0</td>\n",
       "      <td>49.0</td>\n",
       "    </tr>\n",
       "    <tr>\n",
       "      <th>2</th>\n",
       "      <td>2024-02-26 09:58:00</td>\n",
       "      <td>2024-02-26 14:27:00</td>\n",
       "      <td>Prince St &amp; Union St</td>\n",
       "      <td>Market Square / King St &amp; Royal St</td>\n",
       "      <td>38.803124</td>\n",
       "      <td>-77.040363</td>\n",
       "      <td>38.804718</td>\n",
       "      <td>-77.043363</td>\n",
       "      <td>269.0</td>\n",
       "      <td>0</td>\n",
       "      <td>0</td>\n",
       "      <td>0.314635</td>\n",
       "      <td>0.070179</td>\n",
       "      <td>359.0</td>\n",
       "      <td>326.0</td>\n",
       "    </tr>\n",
       "    <tr>\n",
       "      <th>3</th>\n",
       "      <td>2024-02-03 21:26:00</td>\n",
       "      <td>2024-02-04 00:21:00</td>\n",
       "      <td>21st &amp; I St NW</td>\n",
       "      <td>22nd &amp; I St NW / Foggy Bottom</td>\n",
       "      <td>38.900722</td>\n",
       "      <td>-77.046442</td>\n",
       "      <td>38.900880</td>\n",
       "      <td>-77.048911</td>\n",
       "      <td>175.0</td>\n",
       "      <td>1</td>\n",
       "      <td>0</td>\n",
       "      <td>0.214356</td>\n",
       "      <td>0.073494</td>\n",
       "      <td>44.0</td>\n",
       "      <td>70.0</td>\n",
       "    </tr>\n",
       "    <tr>\n",
       "      <th>4</th>\n",
       "      <td>2024-02-16 15:38:00</td>\n",
       "      <td>2024-02-16 18:12:00</td>\n",
       "      <td>22nd &amp; I St NW / Foggy Bottom</td>\n",
       "      <td>New Hampshire Ave &amp; 24th St NW</td>\n",
       "      <td>38.900880</td>\n",
       "      <td>-77.048911</td>\n",
       "      <td>38.901755</td>\n",
       "      <td>-77.051084</td>\n",
       "      <td>154.0</td>\n",
       "      <td>0</td>\n",
       "      <td>0</td>\n",
       "      <td>0.211721</td>\n",
       "      <td>0.082489</td>\n",
       "      <td>61.0</td>\n",
       "      <td>75.0</td>\n",
       "    </tr>\n",
       "  </tbody>\n",
       "</table>\n",
       "</div>"
      ],
      "text/plain": [
       "           started_at            ended_at             start_station_name  \\\n",
       "0 2024-02-25 19:14:00 2024-02-26 00:00:00                 14th & V St NW   \n",
       "1 2024-02-10 13:55:00 2024-02-10 18:53:00   13th & O St NW/ Logan Circle   \n",
       "2 2024-02-26 09:58:00 2024-02-26 14:27:00           Prince St & Union St   \n",
       "3 2024-02-03 21:26:00 2024-02-04 00:21:00                 21st & I St NW   \n",
       "4 2024-02-16 15:38:00 2024-02-16 18:12:00  22nd & I St NW / Foggy Bottom   \n",
       "\n",
       "                     end_station_name  start_lat  start_lng    end_lat  \\\n",
       "0                      13th & U St NW  38.917709 -77.031845  38.916936   \n",
       "1                      14th & Q St NW  38.908735 -77.029779  38.910674   \n",
       "2  Market Square / King St & Royal St  38.803124 -77.040363  38.804718   \n",
       "3       22nd & I St NW / Foggy Bottom  38.900722 -77.046442  38.900880   \n",
       "4      New Hampshire Ave & 24th St NW  38.900880 -77.048911  38.901755   \n",
       "\n",
       "     end_lng  time_duration  rideable_type_electric_bike  \\\n",
       "0 -77.029631          286.0                            1   \n",
       "1 -77.031880          298.0                            0   \n",
       "2 -77.043363          269.0                            0   \n",
       "3 -77.048911          175.0                            1   \n",
       "4 -77.051084          154.0                            0   \n",
       "\n",
       "   member_casual_member  distance_km  average_speed  start_station_rank  \\\n",
       "0                     0     0.209854       0.044025                 6.0   \n",
       "1                     0     0.282017       0.056782                46.0   \n",
       "2                     0     0.314635       0.070179               359.0   \n",
       "3                     0     0.214356       0.073494                44.0   \n",
       "4                     0     0.211721       0.082489                61.0   \n",
       "\n",
       "   end_station_rank  \n",
       "0              52.0  \n",
       "1              49.0  \n",
       "2             326.0  \n",
       "3              70.0  \n",
       "4              75.0  "
      ]
     },
     "execution_count": 159,
     "metadata": {},
     "output_type": "execute_result"
    }
   ],
   "source": [
    "# Print top of table to check\n",
    "filtered_df.head()"
   ]
  },
  {
   "cell_type": "markdown",
   "id": "4dff377d-0d8b-4e18-9a00-e77d31f391d5",
   "metadata": {},
   "source": [
    "After creating new columns for data points, based off of some the existing data, we can drop the columns which cannot really be used for our machine learning model."
   ]
  },
  {
   "cell_type": "code",
   "execution_count": 160,
   "id": "2ffbba3b",
   "metadata": {},
   "outputs": [],
   "source": [
    "# Drop the start and end station columns\n",
    "filtered_df.drop([\"start_station_name\", \"end_station_name\"], axis=1, inplace=True)"
   ]
  },
  {
   "cell_type": "code",
   "execution_count": 161,
   "id": "8b999148",
   "metadata": {
    "scrolled": true
   },
   "outputs": [
    {
     "data": {
      "text/html": [
       "<div>\n",
       "<style scoped>\n",
       "    .dataframe tbody tr th:only-of-type {\n",
       "        vertical-align: middle;\n",
       "    }\n",
       "\n",
       "    .dataframe tbody tr th {\n",
       "        vertical-align: top;\n",
       "    }\n",
       "\n",
       "    .dataframe thead th {\n",
       "        text-align: right;\n",
       "    }\n",
       "</style>\n",
       "<table border=\"1\" class=\"dataframe\">\n",
       "  <thead>\n",
       "    <tr style=\"text-align: right;\">\n",
       "      <th></th>\n",
       "      <th>started_at</th>\n",
       "      <th>ended_at</th>\n",
       "      <th>start_lat</th>\n",
       "      <th>start_lng</th>\n",
       "      <th>end_lat</th>\n",
       "      <th>end_lng</th>\n",
       "      <th>time_duration</th>\n",
       "      <th>rideable_type_electric_bike</th>\n",
       "      <th>member_casual_member</th>\n",
       "      <th>distance_km</th>\n",
       "      <th>average_speed</th>\n",
       "      <th>start_station_rank</th>\n",
       "      <th>end_station_rank</th>\n",
       "    </tr>\n",
       "  </thead>\n",
       "  <tbody>\n",
       "    <tr>\n",
       "      <th>0</th>\n",
       "      <td>2024-02-25 19:14:00</td>\n",
       "      <td>2024-02-26 00:00:00</td>\n",
       "      <td>38.917709</td>\n",
       "      <td>-77.031845</td>\n",
       "      <td>38.916936</td>\n",
       "      <td>-77.029631</td>\n",
       "      <td>286.0</td>\n",
       "      <td>1</td>\n",
       "      <td>0</td>\n",
       "      <td>0.209854</td>\n",
       "      <td>0.044025</td>\n",
       "      <td>6.0</td>\n",
       "      <td>52.0</td>\n",
       "    </tr>\n",
       "    <tr>\n",
       "      <th>1</th>\n",
       "      <td>2024-02-10 13:55:00</td>\n",
       "      <td>2024-02-10 18:53:00</td>\n",
       "      <td>38.908735</td>\n",
       "      <td>-77.029779</td>\n",
       "      <td>38.910674</td>\n",
       "      <td>-77.031880</td>\n",
       "      <td>298.0</td>\n",
       "      <td>0</td>\n",
       "      <td>0</td>\n",
       "      <td>0.282017</td>\n",
       "      <td>0.056782</td>\n",
       "      <td>46.0</td>\n",
       "      <td>49.0</td>\n",
       "    </tr>\n",
       "    <tr>\n",
       "      <th>2</th>\n",
       "      <td>2024-02-26 09:58:00</td>\n",
       "      <td>2024-02-26 14:27:00</td>\n",
       "      <td>38.803124</td>\n",
       "      <td>-77.040363</td>\n",
       "      <td>38.804718</td>\n",
       "      <td>-77.043363</td>\n",
       "      <td>269.0</td>\n",
       "      <td>0</td>\n",
       "      <td>0</td>\n",
       "      <td>0.314635</td>\n",
       "      <td>0.070179</td>\n",
       "      <td>359.0</td>\n",
       "      <td>326.0</td>\n",
       "    </tr>\n",
       "    <tr>\n",
       "      <th>3</th>\n",
       "      <td>2024-02-03 21:26:00</td>\n",
       "      <td>2024-02-04 00:21:00</td>\n",
       "      <td>38.900722</td>\n",
       "      <td>-77.046442</td>\n",
       "      <td>38.900880</td>\n",
       "      <td>-77.048911</td>\n",
       "      <td>175.0</td>\n",
       "      <td>1</td>\n",
       "      <td>0</td>\n",
       "      <td>0.214356</td>\n",
       "      <td>0.073494</td>\n",
       "      <td>44.0</td>\n",
       "      <td>70.0</td>\n",
       "    </tr>\n",
       "    <tr>\n",
       "      <th>4</th>\n",
       "      <td>2024-02-16 15:38:00</td>\n",
       "      <td>2024-02-16 18:12:00</td>\n",
       "      <td>38.900880</td>\n",
       "      <td>-77.048911</td>\n",
       "      <td>38.901755</td>\n",
       "      <td>-77.051084</td>\n",
       "      <td>154.0</td>\n",
       "      <td>0</td>\n",
       "      <td>0</td>\n",
       "      <td>0.211721</td>\n",
       "      <td>0.082489</td>\n",
       "      <td>61.0</td>\n",
       "      <td>75.0</td>\n",
       "    </tr>\n",
       "  </tbody>\n",
       "</table>\n",
       "</div>"
      ],
      "text/plain": [
       "           started_at            ended_at  start_lat  start_lng    end_lat  \\\n",
       "0 2024-02-25 19:14:00 2024-02-26 00:00:00  38.917709 -77.031845  38.916936   \n",
       "1 2024-02-10 13:55:00 2024-02-10 18:53:00  38.908735 -77.029779  38.910674   \n",
       "2 2024-02-26 09:58:00 2024-02-26 14:27:00  38.803124 -77.040363  38.804718   \n",
       "3 2024-02-03 21:26:00 2024-02-04 00:21:00  38.900722 -77.046442  38.900880   \n",
       "4 2024-02-16 15:38:00 2024-02-16 18:12:00  38.900880 -77.048911  38.901755   \n",
       "\n",
       "     end_lng  time_duration  rideable_type_electric_bike  \\\n",
       "0 -77.029631          286.0                            1   \n",
       "1 -77.031880          298.0                            0   \n",
       "2 -77.043363          269.0                            0   \n",
       "3 -77.048911          175.0                            1   \n",
       "4 -77.051084          154.0                            0   \n",
       "\n",
       "   member_casual_member  distance_km  average_speed  start_station_rank  \\\n",
       "0                     0     0.209854       0.044025                 6.0   \n",
       "1                     0     0.282017       0.056782                46.0   \n",
       "2                     0     0.314635       0.070179               359.0   \n",
       "3                     0     0.214356       0.073494                44.0   \n",
       "4                     0     0.211721       0.082489                61.0   \n",
       "\n",
       "   end_station_rank  \n",
       "0              52.0  \n",
       "1              49.0  \n",
       "2             326.0  \n",
       "3              70.0  \n",
       "4              75.0  "
      ]
     },
     "execution_count": 161,
     "metadata": {},
     "output_type": "execute_result"
    }
   ],
   "source": [
    "# Print top of table to check\n",
    "filtered_df.head()"
   ]
  },
  {
   "cell_type": "code",
   "execution_count": 162,
   "id": "697c24ff",
   "metadata": {},
   "outputs": [
    {
     "data": {
      "text/html": [
       "<div>\n",
       "<style scoped>\n",
       "    .dataframe tbody tr th:only-of-type {\n",
       "        vertical-align: middle;\n",
       "    }\n",
       "\n",
       "    .dataframe tbody tr th {\n",
       "        vertical-align: top;\n",
       "    }\n",
       "\n",
       "    .dataframe thead th {\n",
       "        text-align: right;\n",
       "    }\n",
       "</style>\n",
       "<table border=\"1\" class=\"dataframe\">\n",
       "  <thead>\n",
       "    <tr style=\"text-align: right;\">\n",
       "      <th></th>\n",
       "      <th>time_duration</th>\n",
       "      <th>rideable_type_electric_bike</th>\n",
       "      <th>member_casual_member</th>\n",
       "      <th>distance_km</th>\n",
       "      <th>average_speed</th>\n",
       "      <th>start_station_rank</th>\n",
       "      <th>end_station_rank</th>\n",
       "    </tr>\n",
       "  </thead>\n",
       "  <tbody>\n",
       "    <tr>\n",
       "      <th>0</th>\n",
       "      <td>286.0</td>\n",
       "      <td>1</td>\n",
       "      <td>0</td>\n",
       "      <td>0.209854</td>\n",
       "      <td>0.044025</td>\n",
       "      <td>6.0</td>\n",
       "      <td>52.0</td>\n",
       "    </tr>\n",
       "    <tr>\n",
       "      <th>1</th>\n",
       "      <td>298.0</td>\n",
       "      <td>0</td>\n",
       "      <td>0</td>\n",
       "      <td>0.282017</td>\n",
       "      <td>0.056782</td>\n",
       "      <td>46.0</td>\n",
       "      <td>49.0</td>\n",
       "    </tr>\n",
       "    <tr>\n",
       "      <th>2</th>\n",
       "      <td>269.0</td>\n",
       "      <td>0</td>\n",
       "      <td>0</td>\n",
       "      <td>0.314635</td>\n",
       "      <td>0.070179</td>\n",
       "      <td>359.0</td>\n",
       "      <td>326.0</td>\n",
       "    </tr>\n",
       "    <tr>\n",
       "      <th>3</th>\n",
       "      <td>175.0</td>\n",
       "      <td>1</td>\n",
       "      <td>0</td>\n",
       "      <td>0.214356</td>\n",
       "      <td>0.073494</td>\n",
       "      <td>44.0</td>\n",
       "      <td>70.0</td>\n",
       "    </tr>\n",
       "    <tr>\n",
       "      <th>4</th>\n",
       "      <td>154.0</td>\n",
       "      <td>0</td>\n",
       "      <td>0</td>\n",
       "      <td>0.211721</td>\n",
       "      <td>0.082489</td>\n",
       "      <td>61.0</td>\n",
       "      <td>75.0</td>\n",
       "    </tr>\n",
       "  </tbody>\n",
       "</table>\n",
       "</div>"
      ],
      "text/plain": [
       "   time_duration  rideable_type_electric_bike  member_casual_member  \\\n",
       "0          286.0                            1                     0   \n",
       "1          298.0                            0                     0   \n",
       "2          269.0                            0                     0   \n",
       "3          175.0                            1                     0   \n",
       "4          154.0                            0                     0   \n",
       "\n",
       "   distance_km  average_speed  start_station_rank  end_station_rank  \n",
       "0     0.209854       0.044025                 6.0              52.0  \n",
       "1     0.282017       0.056782                46.0              49.0  \n",
       "2     0.314635       0.070179               359.0             326.0  \n",
       "3     0.214356       0.073494                44.0              70.0  \n",
       "4     0.211721       0.082489                61.0              75.0  "
      ]
     },
     "execution_count": 162,
     "metadata": {},
     "output_type": "execute_result"
    }
   ],
   "source": [
    "# Drop time columns as we already have the calculated time duration column\n",
    "filtered_df.drop([\"started_at\", \"ended_at\"], axis = 1, inplace=True)\n",
    "\n",
    "# Drop the longitude and latitude measurements since we have our calculated distance column\n",
    "filtered_df.drop([\"start_lat\", \"start_lng\", \"end_lat\", \"end_lng\"], axis = 1, inplace=True)\n",
    "\n",
    "# Print out top of table to check\n",
    "filtered_df.head()"
   ]
  },
  {
   "cell_type": "markdown",
   "id": "a382a109-b4ff-4f32-a2a1-5d6166c297a8",
   "metadata": {},
   "source": [
    "## Part 3: Model training and testing\n",
    "Finally, we've reached the fun part of the tutorial, the part where we actually do the interesting stuff: model training and testing. Now, there are so many different machine learning models, how do we decide which one to use?\n",
    "\n",
    "First, we need to decide if our problem is a regression or classfication problem. In our case... Based off of your problem, there are different algorithms you can use. In order to decide from here, you need to understand the algorithms, as each one has its advantages and disadvantages. But, this process may just be trial and error, testing a number of different machine learning algorithms. \n",
    "\n",
    "To truely understand each algorithm would be overwhelming for this tutorial, however, we will provide external links for if you want to learn more. What's important is that you get a basic understanding of each algorithm that we use in this tutorial, as well as, how we are analyzing or scoring its performance for predicting the metric we want. \n",
    "\n",
    "The goal of model training and testing is..."
   ]
  },
  {
   "cell_type": "markdown",
   "id": "87522515-d97f-4bf8-b916-659d10be8721",
   "metadata": {},
   "source": [
    "<center><img src=\"https://imgs.xkcd.com/comics/machine_learning.png\"></center>"
   ]
  },
  {
   "cell_type": "markdown",
   "id": "37336c8c-8089-4ee3-b8f4-0dfeb0703a78",
   "metadata": {},
   "source": [
    "### Standard Scaler?"
   ]
  },
  {
   "cell_type": "code",
   "execution_count": 197,
   "id": "b7e00b55",
   "metadata": {},
   "outputs": [],
   "source": [
    "from sklearn.model_selection import train_test_split\n",
    "\n",
    "# drop average speed here becuase it was included for data analysis and identifying bad sensor data. Can't use\n",
    "# a variable that was created based on the dependent variable as an independent variable\n",
    "X = filtered_df.drop([\"rideable_type_electric_bike\", \"average_speed\"], axis=1)\n",
    "y = filtered_df['rideable_type_electric_bike']\n",
    "\n",
    "# Split the dataset into training and testing sets (80% train, 20% test)\n",
    "X_train, X_test, y_train, y_test = train_test_split(X, y, test_size=0.2, random_state=42)"
   ]
  },
  {
   "cell_type": "code",
   "execution_count": 190,
   "id": "199fbf1f",
   "metadata": {},
   "outputs": [],
   "source": [
    "from sklearn.preprocessing import StandardScaler\n",
    "\n",
    "# Initialize StandardScaler\n",
    "scaler = StandardScaler()\n",
    "\n",
    "# Fit scaler on training data and transform both training and testing data\n",
    "X_train_scaled = scaler.fit_transform(X_train)\n",
    "X_test_scaled = scaler.transform(X_test)"
   ]
  },
  {
   "cell_type": "markdown",
   "id": "feb14d3f-76f8-417f-8c05-15623553a3a0",
   "metadata": {},
   "source": [
    "### Random Forest"
   ]
  },
  {
   "cell_type": "code",
   "execution_count": 191,
   "id": "13e98413",
   "metadata": {},
   "outputs": [],
   "source": [
    "from sklearn.ensemble import RandomForestClassifier"
   ]
  },
  {
   "cell_type": "code",
   "execution_count": 192,
   "id": "ecf8b8a4",
   "metadata": {},
   "outputs": [],
   "source": [
    "rf = RandomForestClassifier()"
   ]
  },
  {
   "cell_type": "code",
   "execution_count": 193,
   "id": "258b0b46",
   "metadata": {},
   "outputs": [
    {
     "data": {
      "text/plain": [
       "RandomForestClassifier()"
      ]
     },
     "execution_count": 193,
     "metadata": {},
     "output_type": "execute_result"
    }
   ],
   "source": [
    "rf.fit(X_train_scaled, y_train)"
   ]
  },
  {
   "cell_type": "code",
   "execution_count": 194,
   "id": "aa87ff84",
   "metadata": {},
   "outputs": [],
   "source": [
    "predictions = rf.predict(X_test_scaled)"
   ]
  },
  {
   "cell_type": "markdown",
   "id": "e83c9eed-838a-4791-bcd5-88d9fe4e0027",
   "metadata": {},
   "source": [
    "### Classification Report and Confusion Matrix\n",
    "#### Evaluating Model Performance"
   ]
  },
  {
   "cell_type": "code",
   "execution_count": 195,
   "id": "527e5f11",
   "metadata": {},
   "outputs": [],
   "source": [
    "from sklearn.metrics import classification_report, confusion_matrix"
   ]
  },
  {
   "cell_type": "code",
   "execution_count": 196,
   "id": "979baa83",
   "metadata": {},
   "outputs": [
    {
     "name": "stdout",
     "output_type": "stream",
     "text": [
      "              precision    recall  f1-score   support\n",
      "\n",
      "           0       0.73      0.78      0.75     17143\n",
      "           1       0.72      0.67      0.70     15060\n",
      "\n",
      "    accuracy                           0.73     32203\n",
      "   macro avg       0.73      0.72      0.72     32203\n",
      "weighted avg       0.73      0.73      0.73     32203\n",
      "\n"
     ]
    }
   ],
   "source": [
    "print(classification_report(y_test, predictions))"
   ]
  },
  {
   "cell_type": "code",
   "execution_count": 71,
   "id": "09005a68",
   "metadata": {},
   "outputs": [
    {
     "name": "stdout",
     "output_type": "stream",
     "text": [
      "[[26688  3127]\n",
      " [ 6178 11121]]\n"
     ]
    }
   ],
   "source": [
    "print(confusion_matrix(y_test, predictions))"
   ]
  },
  {
   "cell_type": "markdown",
   "id": "7f4d63b7-e966-4205-bd71-ad65180857d5",
   "metadata": {},
   "source": [
    "### Grid Search CV w/ Random Forest\n",
    "#### Try and Improve the Model Accuracy from 80%"
   ]
  },
  {
   "cell_type": "code",
   "execution_count": 198,
   "id": "ee699434",
   "metadata": {},
   "outputs": [],
   "source": [
    "from sklearn.model_selection import GridSearchCV"
   ]
  },
  {
   "cell_type": "code",
   "execution_count": 199,
   "id": "92292104",
   "metadata": {},
   "outputs": [
    {
     "name": "stderr",
     "output_type": "stream",
     "text": [
      "/Users/ankithb/opt/anaconda3/lib/python3.9/site-packages/scipy/__init__.py:146: UserWarning: A NumPy version >=1.16.5 and <1.23.0 is required for this version of SciPy (detected version 1.26.4\n",
      "  warnings.warn(f\"A NumPy version >={np_minversion} and <{np_maxversion}\"\n",
      "/Users/ankithb/opt/anaconda3/lib/python3.9/site-packages/scipy/__init__.py:146: UserWarning: A NumPy version >=1.16.5 and <1.23.0 is required for this version of SciPy (detected version 1.26.4\n",
      "  warnings.warn(f\"A NumPy version >={np_minversion} and <{np_maxversion}\"\n",
      "/Users/ankithb/opt/anaconda3/lib/python3.9/site-packages/scipy/__init__.py:146: UserWarning: A NumPy version >=1.16.5 and <1.23.0 is required for this version of SciPy (detected version 1.26.4\n",
      "  warnings.warn(f\"A NumPy version >={np_minversion} and <{np_maxversion}\"\n",
      "/Users/ankithb/opt/anaconda3/lib/python3.9/site-packages/scipy/__init__.py:146: UserWarning: A NumPy version >=1.16.5 and <1.23.0 is required for this version of SciPy (detected version 1.26.4\n",
      "  warnings.warn(f\"A NumPy version >={np_minversion} and <{np_maxversion}\"\n",
      "/Users/ankithb/opt/anaconda3/lib/python3.9/site-packages/scipy/__init__.py:146: UserWarning: A NumPy version >=1.16.5 and <1.23.0 is required for this version of SciPy (detected version 1.26.4\n",
      "  warnings.warn(f\"A NumPy version >={np_minversion} and <{np_maxversion}\"\n",
      "/Users/ankithb/opt/anaconda3/lib/python3.9/site-packages/scipy/__init__.py:146: UserWarning: A NumPy version >=1.16.5 and <1.23.0 is required for this version of SciPy (detected version 1.26.4\n",
      "  warnings.warn(f\"A NumPy version >={np_minversion} and <{np_maxversion}\"\n",
      "/Users/ankithb/opt/anaconda3/lib/python3.9/site-packages/scipy/__init__.py:146: UserWarning: A NumPy version >=1.16.5 and <1.23.0 is required for this version of SciPy (detected version 1.26.4\n",
      "  warnings.warn(f\"A NumPy version >={np_minversion} and <{np_maxversion}\"\n",
      "/Users/ankithb/opt/anaconda3/lib/python3.9/site-packages/scipy/__init__.py:146: UserWarning: A NumPy version >=1.16.5 and <1.23.0 is required for this version of SciPy (detected version 1.26.4\n",
      "  warnings.warn(f\"A NumPy version >={np_minversion} and <{np_maxversion}\"\n",
      "/Users/ankithb/opt/anaconda3/lib/python3.9/site-packages/scipy/__init__.py:146: UserWarning: A NumPy version >=1.16.5 and <1.23.0 is required for this version of SciPy (detected version 1.26.4\n",
      "  warnings.warn(f\"A NumPy version >={np_minversion} and <{np_maxversion}\"\n",
      "/Users/ankithb/opt/anaconda3/lib/python3.9/site-packages/scipy/__init__.py:146: UserWarning: A NumPy version >=1.16.5 and <1.23.0 is required for this version of SciPy (detected version 1.26.4\n",
      "  warnings.warn(f\"A NumPy version >={np_minversion} and <{np_maxversion}\"\n",
      "/Users/ankithb/opt/anaconda3/lib/python3.9/site-packages/scipy/__init__.py:146: UserWarning: A NumPy version >=1.16.5 and <1.23.0 is required for this version of SciPy (detected version 1.26.4\n",
      "  warnings.warn(f\"A NumPy version >={np_minversion} and <{np_maxversion}\"\n",
      "/Users/ankithb/opt/anaconda3/lib/python3.9/site-packages/scipy/__init__.py:146: UserWarning: A NumPy version >=1.16.5 and <1.23.0 is required for this version of SciPy (detected version 1.26.4\n",
      "  warnings.warn(f\"A NumPy version >={np_minversion} and <{np_maxversion}\"\n"
     ]
    },
    {
     "name": "stdout",
     "output_type": "stream",
     "text": [
      "Best parameters: {'max_depth': 20, 'min_samples_leaf': 1, 'min_samples_split': 10, 'n_estimators': 200}\n",
      "Best score: 0.7227600278543569\n"
     ]
    },
    {
     "ename": "ValueError",
     "evalue": "X has 5 features, but RandomForestClassifier is expecting 3 features as input.",
     "output_type": "error",
     "traceback": [
      "\u001b[0;31m---------------------------------------------------------------------------\u001b[0m",
      "\u001b[0;31mValueError\u001b[0m                                Traceback (most recent call last)",
      "Input \u001b[0;32mIn [199]\u001b[0m, in \u001b[0;36m<cell line: 24>\u001b[0;34m()\u001b[0m\n\u001b[1;32m     21\u001b[0m \u001b[38;5;66;03m# Print the best score found\u001b[39;00m\n\u001b[1;32m     22\u001b[0m \u001b[38;5;28mprint\u001b[39m(\u001b[38;5;124m\"\u001b[39m\u001b[38;5;124mBest score:\u001b[39m\u001b[38;5;124m\"\u001b[39m, grid_search\u001b[38;5;241m.\u001b[39mbest_score_)\n\u001b[0;32m---> 24\u001b[0m predictions \u001b[38;5;241m=\u001b[39m \u001b[43mgrid_search\u001b[49m\u001b[38;5;241;43m.\u001b[39;49m\u001b[43mpredict\u001b[49m\u001b[43m(\u001b[49m\u001b[43mX_test\u001b[49m\u001b[43m)\u001b[49m\n",
      "File \u001b[0;32m~/opt/anaconda3/lib/python3.9/site-packages/sklearn/utils/metaestimators.py:113\u001b[0m, in \u001b[0;36m_AvailableIfDescriptor.__get__.<locals>.<lambda>\u001b[0;34m(*args, **kwargs)\u001b[0m\n\u001b[1;32m    110\u001b[0m         \u001b[38;5;28;01mraise\u001b[39;00m attr_err\n\u001b[1;32m    112\u001b[0m     \u001b[38;5;66;03m# lambda, but not partial, allows help() to work with update_wrapper\u001b[39;00m\n\u001b[0;32m--> 113\u001b[0m     out \u001b[38;5;241m=\u001b[39m \u001b[38;5;28;01mlambda\u001b[39;00m \u001b[38;5;241m*\u001b[39margs, \u001b[38;5;241m*\u001b[39m\u001b[38;5;241m*\u001b[39mkwargs: \u001b[38;5;28;43mself\u001b[39;49m\u001b[38;5;241;43m.\u001b[39;49m\u001b[43mfn\u001b[49m\u001b[43m(\u001b[49m\u001b[43mobj\u001b[49m\u001b[43m,\u001b[49m\u001b[43m \u001b[49m\u001b[38;5;241;43m*\u001b[39;49m\u001b[43margs\u001b[49m\u001b[43m,\u001b[49m\u001b[43m \u001b[49m\u001b[38;5;241;43m*\u001b[39;49m\u001b[38;5;241;43m*\u001b[39;49m\u001b[43mkwargs\u001b[49m\u001b[43m)\u001b[49m  \u001b[38;5;66;03m# noqa\u001b[39;00m\n\u001b[1;32m    114\u001b[0m \u001b[38;5;28;01melse\u001b[39;00m:\n\u001b[1;32m    116\u001b[0m     \u001b[38;5;28;01mdef\u001b[39;00m \u001b[38;5;21mfn\u001b[39m(\u001b[38;5;241m*\u001b[39margs, \u001b[38;5;241m*\u001b[39m\u001b[38;5;241m*\u001b[39mkwargs):\n",
      "File \u001b[0;32m~/opt/anaconda3/lib/python3.9/site-packages/sklearn/model_selection/_search.py:521\u001b[0m, in \u001b[0;36mBaseSearchCV.predict\u001b[0;34m(self, X)\u001b[0m\n\u001b[1;32m    503\u001b[0m \u001b[38;5;250m\u001b[39m\u001b[38;5;124;03m\"\"\"Call predict on the estimator with the best found parameters.\u001b[39;00m\n\u001b[1;32m    504\u001b[0m \n\u001b[1;32m    505\u001b[0m \u001b[38;5;124;03mOnly available if ``refit=True`` and the underlying estimator supports\u001b[39;00m\n\u001b[0;32m   (...)\u001b[0m\n\u001b[1;32m    518\u001b[0m \u001b[38;5;124;03m    the best found parameters.\u001b[39;00m\n\u001b[1;32m    519\u001b[0m \u001b[38;5;124;03m\"\"\"\u001b[39;00m\n\u001b[1;32m    520\u001b[0m check_is_fitted(\u001b[38;5;28mself\u001b[39m)\n\u001b[0;32m--> 521\u001b[0m \u001b[38;5;28;01mreturn\u001b[39;00m \u001b[38;5;28;43mself\u001b[39;49m\u001b[38;5;241;43m.\u001b[39;49m\u001b[43mbest_estimator_\u001b[49m\u001b[38;5;241;43m.\u001b[39;49m\u001b[43mpredict\u001b[49m\u001b[43m(\u001b[49m\u001b[43mX\u001b[49m\u001b[43m)\u001b[49m\n",
      "File \u001b[0;32m~/opt/anaconda3/lib/python3.9/site-packages/sklearn/ensemble/_forest.py:808\u001b[0m, in \u001b[0;36mForestClassifier.predict\u001b[0;34m(self, X)\u001b[0m\n\u001b[1;32m    787\u001b[0m \u001b[38;5;28;01mdef\u001b[39;00m \u001b[38;5;21mpredict\u001b[39m(\u001b[38;5;28mself\u001b[39m, X):\n\u001b[1;32m    788\u001b[0m \u001b[38;5;250m    \u001b[39m\u001b[38;5;124;03m\"\"\"\u001b[39;00m\n\u001b[1;32m    789\u001b[0m \u001b[38;5;124;03m    Predict class for X.\u001b[39;00m\n\u001b[1;32m    790\u001b[0m \n\u001b[0;32m   (...)\u001b[0m\n\u001b[1;32m    806\u001b[0m \u001b[38;5;124;03m        The predicted classes.\u001b[39;00m\n\u001b[1;32m    807\u001b[0m \u001b[38;5;124;03m    \"\"\"\u001b[39;00m\n\u001b[0;32m--> 808\u001b[0m     proba \u001b[38;5;241m=\u001b[39m \u001b[38;5;28;43mself\u001b[39;49m\u001b[38;5;241;43m.\u001b[39;49m\u001b[43mpredict_proba\u001b[49m\u001b[43m(\u001b[49m\u001b[43mX\u001b[49m\u001b[43m)\u001b[49m\n\u001b[1;32m    810\u001b[0m     \u001b[38;5;28;01mif\u001b[39;00m \u001b[38;5;28mself\u001b[39m\u001b[38;5;241m.\u001b[39mn_outputs_ \u001b[38;5;241m==\u001b[39m \u001b[38;5;241m1\u001b[39m:\n\u001b[1;32m    811\u001b[0m         \u001b[38;5;28;01mreturn\u001b[39;00m \u001b[38;5;28mself\u001b[39m\u001b[38;5;241m.\u001b[39mclasses_\u001b[38;5;241m.\u001b[39mtake(np\u001b[38;5;241m.\u001b[39margmax(proba, axis\u001b[38;5;241m=\u001b[39m\u001b[38;5;241m1\u001b[39m), axis\u001b[38;5;241m=\u001b[39m\u001b[38;5;241m0\u001b[39m)\n",
      "File \u001b[0;32m~/opt/anaconda3/lib/python3.9/site-packages/sklearn/ensemble/_forest.py:850\u001b[0m, in \u001b[0;36mForestClassifier.predict_proba\u001b[0;34m(self, X)\u001b[0m\n\u001b[1;32m    848\u001b[0m check_is_fitted(\u001b[38;5;28mself\u001b[39m)\n\u001b[1;32m    849\u001b[0m \u001b[38;5;66;03m# Check data\u001b[39;00m\n\u001b[0;32m--> 850\u001b[0m X \u001b[38;5;241m=\u001b[39m \u001b[38;5;28;43mself\u001b[39;49m\u001b[38;5;241;43m.\u001b[39;49m\u001b[43m_validate_X_predict\u001b[49m\u001b[43m(\u001b[49m\u001b[43mX\u001b[49m\u001b[43m)\u001b[49m\n\u001b[1;32m    852\u001b[0m \u001b[38;5;66;03m# Assign chunk of trees to jobs\u001b[39;00m\n\u001b[1;32m    853\u001b[0m n_jobs, _, _ \u001b[38;5;241m=\u001b[39m _partition_estimators(\u001b[38;5;28mself\u001b[39m\u001b[38;5;241m.\u001b[39mn_estimators, \u001b[38;5;28mself\u001b[39m\u001b[38;5;241m.\u001b[39mn_jobs)\n",
      "File \u001b[0;32m~/opt/anaconda3/lib/python3.9/site-packages/sklearn/ensemble/_forest.py:579\u001b[0m, in \u001b[0;36mBaseForest._validate_X_predict\u001b[0;34m(self, X)\u001b[0m\n\u001b[1;32m    576\u001b[0m \u001b[38;5;250m\u001b[39m\u001b[38;5;124;03m\"\"\"\u001b[39;00m\n\u001b[1;32m    577\u001b[0m \u001b[38;5;124;03mValidate X whenever one tries to predict, apply, predict_proba.\"\"\"\u001b[39;00m\n\u001b[1;32m    578\u001b[0m check_is_fitted(\u001b[38;5;28mself\u001b[39m)\n\u001b[0;32m--> 579\u001b[0m X \u001b[38;5;241m=\u001b[39m \u001b[38;5;28;43mself\u001b[39;49m\u001b[38;5;241;43m.\u001b[39;49m\u001b[43m_validate_data\u001b[49m\u001b[43m(\u001b[49m\u001b[43mX\u001b[49m\u001b[43m,\u001b[49m\u001b[43m \u001b[49m\u001b[43mdtype\u001b[49m\u001b[38;5;241;43m=\u001b[39;49m\u001b[43mDTYPE\u001b[49m\u001b[43m,\u001b[49m\u001b[43m \u001b[49m\u001b[43maccept_sparse\u001b[49m\u001b[38;5;241;43m=\u001b[39;49m\u001b[38;5;124;43m\"\u001b[39;49m\u001b[38;5;124;43mcsr\u001b[39;49m\u001b[38;5;124;43m\"\u001b[39;49m\u001b[43m,\u001b[49m\u001b[43m \u001b[49m\u001b[43mreset\u001b[49m\u001b[38;5;241;43m=\u001b[39;49m\u001b[38;5;28;43;01mFalse\u001b[39;49;00m\u001b[43m)\u001b[49m\n\u001b[1;32m    580\u001b[0m \u001b[38;5;28;01mif\u001b[39;00m issparse(X) \u001b[38;5;129;01mand\u001b[39;00m (X\u001b[38;5;241m.\u001b[39mindices\u001b[38;5;241m.\u001b[39mdtype \u001b[38;5;241m!=\u001b[39m np\u001b[38;5;241m.\u001b[39mintc \u001b[38;5;129;01mor\u001b[39;00m X\u001b[38;5;241m.\u001b[39mindptr\u001b[38;5;241m.\u001b[39mdtype \u001b[38;5;241m!=\u001b[39m np\u001b[38;5;241m.\u001b[39mintc):\n\u001b[1;32m    581\u001b[0m     \u001b[38;5;28;01mraise\u001b[39;00m \u001b[38;5;167;01mValueError\u001b[39;00m(\u001b[38;5;124m\"\u001b[39m\u001b[38;5;124mNo support for np.int64 index based sparse matrices\u001b[39m\u001b[38;5;124m\"\u001b[39m)\n",
      "File \u001b[0;32m~/opt/anaconda3/lib/python3.9/site-packages/sklearn/base.py:585\u001b[0m, in \u001b[0;36mBaseEstimator._validate_data\u001b[0;34m(self, X, y, reset, validate_separately, **check_params)\u001b[0m\n\u001b[1;32m    582\u001b[0m     out \u001b[38;5;241m=\u001b[39m X, y\n\u001b[1;32m    584\u001b[0m \u001b[38;5;28;01mif\u001b[39;00m \u001b[38;5;129;01mnot\u001b[39;00m no_val_X \u001b[38;5;129;01mand\u001b[39;00m check_params\u001b[38;5;241m.\u001b[39mget(\u001b[38;5;124m\"\u001b[39m\u001b[38;5;124mensure_2d\u001b[39m\u001b[38;5;124m\"\u001b[39m, \u001b[38;5;28;01mTrue\u001b[39;00m):\n\u001b[0;32m--> 585\u001b[0m     \u001b[38;5;28;43mself\u001b[39;49m\u001b[38;5;241;43m.\u001b[39;49m\u001b[43m_check_n_features\u001b[49m\u001b[43m(\u001b[49m\u001b[43mX\u001b[49m\u001b[43m,\u001b[49m\u001b[43m \u001b[49m\u001b[43mreset\u001b[49m\u001b[38;5;241;43m=\u001b[39;49m\u001b[43mreset\u001b[49m\u001b[43m)\u001b[49m\n\u001b[1;32m    587\u001b[0m \u001b[38;5;28;01mreturn\u001b[39;00m out\n",
      "File \u001b[0;32m~/opt/anaconda3/lib/python3.9/site-packages/sklearn/base.py:400\u001b[0m, in \u001b[0;36mBaseEstimator._check_n_features\u001b[0;34m(self, X, reset)\u001b[0m\n\u001b[1;32m    397\u001b[0m     \u001b[38;5;28;01mreturn\u001b[39;00m\n\u001b[1;32m    399\u001b[0m \u001b[38;5;28;01mif\u001b[39;00m n_features \u001b[38;5;241m!=\u001b[39m \u001b[38;5;28mself\u001b[39m\u001b[38;5;241m.\u001b[39mn_features_in_:\n\u001b[0;32m--> 400\u001b[0m     \u001b[38;5;28;01mraise\u001b[39;00m \u001b[38;5;167;01mValueError\u001b[39;00m(\n\u001b[1;32m    401\u001b[0m         \u001b[38;5;124mf\u001b[39m\u001b[38;5;124m\"\u001b[39m\u001b[38;5;124mX has \u001b[39m\u001b[38;5;132;01m{\u001b[39;00mn_features\u001b[38;5;132;01m}\u001b[39;00m\u001b[38;5;124m features, but \u001b[39m\u001b[38;5;132;01m{\u001b[39;00m\u001b[38;5;28mself\u001b[39m\u001b[38;5;241m.\u001b[39m\u001b[38;5;18m__class__\u001b[39m\u001b[38;5;241m.\u001b[39m\u001b[38;5;18m__name__\u001b[39m\u001b[38;5;132;01m}\u001b[39;00m\u001b[38;5;124m \u001b[39m\u001b[38;5;124m\"\u001b[39m\n\u001b[1;32m    402\u001b[0m         \u001b[38;5;124mf\u001b[39m\u001b[38;5;124m\"\u001b[39m\u001b[38;5;124mis expecting \u001b[39m\u001b[38;5;132;01m{\u001b[39;00m\u001b[38;5;28mself\u001b[39m\u001b[38;5;241m.\u001b[39mn_features_in_\u001b[38;5;132;01m}\u001b[39;00m\u001b[38;5;124m features as input.\u001b[39m\u001b[38;5;124m\"\u001b[39m\n\u001b[1;32m    403\u001b[0m     )\n",
      "\u001b[0;31mValueError\u001b[0m: X has 5 features, but RandomForestClassifier is expecting 3 features as input."
     ]
    }
   ],
   "source": [
    "# Define the parameter grid you want to search over\n",
    "param_grid = {\n",
    "    'n_estimators': [200, 300],\n",
    "    'max_depth': [10, 20, 30],\n",
    "    'min_samples_split': [2, 10],\n",
    "    'min_samples_leaf': [1, 5]\n",
    "}\n",
    "\n",
    "# Create a RandomForestRegressor instance\n",
    "rf = RandomForestClassifier()\n",
    "\n",
    "# Initialize GridSearchCV with the parameter grid and RandomForestClassifier\n",
    "grid_search = GridSearchCV(estimator=rf, param_grid=param_grid, cv=5, n_jobs=-1)\n",
    "\n",
    "# Fit the grid search to your data\n",
    "grid_search.fit(X_train_scaled, y_train)\n",
    "\n",
    "# Print the best parameters found\n",
    "print(\"Best parameters:\", grid_search.best_params_)\n",
    "\n",
    "# Print the best score found\n",
    "print(\"Best score:\", grid_search.best_score_)\n",
    "\n",
    "predictions = grid_search.predict(X_test)"
   ]
  },
  {
   "cell_type": "code",
   "execution_count": 200,
   "id": "09b980cb",
   "metadata": {},
   "outputs": [
    {
     "name": "stdout",
     "output_type": "stream",
     "text": [
      "              precision    recall  f1-score   support\n",
      "\n",
      "           0       0.73      0.78      0.75     17143\n",
      "           1       0.72      0.67      0.70     15060\n",
      "\n",
      "    accuracy                           0.73     32203\n",
      "   macro avg       0.73      0.72      0.72     32203\n",
      "weighted avg       0.73      0.73      0.73     32203\n",
      "\n"
     ]
    }
   ],
   "source": [
    "print(classification_report(y_test, predictions))"
   ]
  },
  {
   "cell_type": "code",
   "execution_count": 201,
   "id": "d96aa21d",
   "metadata": {},
   "outputs": [
    {
     "name": "stdout",
     "output_type": "stream",
     "text": [
      "[[13298  3845]\n",
      " [ 4978 10082]]\n"
     ]
    }
   ],
   "source": [
    "print(confusion_matrix(y_test, predictions))"
   ]
  },
  {
   "cell_type": "code",
   "execution_count": null,
   "id": "1b89d711",
   "metadata": {},
   "outputs": [],
   "source": [
    "# start_station_rank\tend_station_rank remove these columns"
   ]
  },
  {
   "cell_type": "markdown",
   "id": "623d79cf-a0e2-49b9-85e6-5d65af82bd4d",
   "metadata": {},
   "source": [
    "### Logistic Regression"
   ]
  },
  {
   "cell_type": "code",
   "execution_count": 171,
   "id": "65cdbb72",
   "metadata": {},
   "outputs": [],
   "source": [
    "from sklearn.linear_model import LogisticRegression"
   ]
  },
  {
   "cell_type": "code",
   "execution_count": 172,
   "id": "e945a1b2",
   "metadata": {},
   "outputs": [],
   "source": [
    "lr = LogisticRegression()"
   ]
  },
  {
   "cell_type": "code",
   "execution_count": 173,
   "id": "df45337e",
   "metadata": {},
   "outputs": [
    {
     "data": {
      "text/plain": [
       "LogisticRegression()"
      ]
     },
     "execution_count": 173,
     "metadata": {},
     "output_type": "execute_result"
    }
   ],
   "source": [
    "lr.fit(X_train_scaled, y_train)"
   ]
  },
  {
   "cell_type": "code",
   "execution_count": 174,
   "id": "4bf5ebcf",
   "metadata": {},
   "outputs": [],
   "source": [
    "y_pred = lr.predict(X_test_scaled)"
   ]
  },
  {
   "cell_type": "code",
   "execution_count": 175,
   "id": "6e07c596",
   "metadata": {},
   "outputs": [
    {
     "name": "stdout",
     "output_type": "stream",
     "text": [
      "              precision    recall  f1-score   support\n",
      "\n",
      "           0       0.66      0.76      0.71     17143\n",
      "           1       0.67      0.55      0.60     15060\n",
      "\n",
      "    accuracy                           0.66     32203\n",
      "   macro avg       0.66      0.65      0.65     32203\n",
      "weighted avg       0.66      0.66      0.66     32203\n",
      "\n"
     ]
    }
   ],
   "source": [
    "print(classification_report(y_test, y_pred))"
   ]
  },
  {
   "cell_type": "code",
   "execution_count": 176,
   "id": "494f261b",
   "metadata": {},
   "outputs": [
    {
     "name": "stdout",
     "output_type": "stream",
     "text": [
      "[[14135  3008]\n",
      " [ 4705 10355]]\n"
     ]
    }
   ],
   "source": [
    "print(confusion_matrix(y_test, predictions))"
   ]
  },
  {
   "cell_type": "code",
   "execution_count": 177,
   "id": "f13a5b23",
   "metadata": {},
   "outputs": [],
   "source": [
    "from sklearn.preprocessing import MinMaxScaler"
   ]
  },
  {
   "cell_type": "code",
   "execution_count": 178,
   "id": "f2991f94",
   "metadata": {},
   "outputs": [],
   "source": [
    "# MinMax Scaler is better for ANN\n",
    "scaler = MinMaxScaler()\n",
    "X_train = scaler.fit_transform(X_train)\n",
    "X_test = scaler.transform(X_test)"
   ]
  },
  {
   "cell_type": "code",
   "execution_count": 179,
   "id": "b2010ac3",
   "metadata": {},
   "outputs": [],
   "source": [
    "import tensorflow as tf\n",
    "from tensorflow.keras.models import Sequential\n",
    "from tensorflow.keras.layers import Dense, Activation,Dropout"
   ]
  },
  {
   "cell_type": "markdown",
   "id": "ca9a58a2-a8e7-4386-93bc-aeca21cd2886",
   "metadata": {},
   "source": [
    "### Sequential?"
   ]
  },
  {
   "cell_type": "code",
   "execution_count": 180,
   "id": "78d7d22d",
   "metadata": {},
   "outputs": [],
   "source": [
    "# Initialize the model\n",
    "model = Sequential()\n",
    "\n",
    "# Add layers\n",
    "model.add(Dense(units=20, activation='relu'))\n",
    "model.add(Dropout(0.1))\n",
    "model.add(Dense(units=10, activation='relu'))\n",
    "model.add(Dropout(0.1))\n",
    "model.add(Dense(units=10, activation='relu'))\n",
    "model.add(Dropout(0.1))\n",
    "model.add(Dense(units=5, activation='relu'))\n",
    "model.add(Dropout(0.1))\n",
    "model.add(Dense(units=1, activation='sigmoid'))\n",
    "\n",
    "# Compile the model\n",
    "model.compile(loss='binary_crossentropy', optimizer='adam')"
   ]
  },
  {
   "cell_type": "code",
   "execution_count": 181,
   "id": "6f2e5027",
   "metadata": {},
   "outputs": [
    {
     "data": {
      "text/html": [
       "<pre style=\"white-space:pre;overflow-x:auto;line-height:normal;font-family:Menlo,'DejaVu Sans Mono',consolas,'Courier New',monospace\"><span style=\"font-weight: bold\">Model: \"sequential_1\"</span>\n",
       "</pre>\n"
      ],
      "text/plain": [
       "\u001b[1mModel: \"sequential_1\"\u001b[0m\n"
      ]
     },
     "metadata": {},
     "output_type": "display_data"
    },
    {
     "data": {
      "text/html": [
       "<pre style=\"white-space:pre;overflow-x:auto;line-height:normal;font-family:Menlo,'DejaVu Sans Mono',consolas,'Courier New',monospace\">┏━━━━━━━━━━━━━━━━━━━━━━━━━━━━━━━━━┳━━━━━━━━━━━━━━━━━━━━━━━━┳━━━━━━━━━━━━━━━┓\n",
       "┃<span style=\"font-weight: bold\"> Layer (type)                    </span>┃<span style=\"font-weight: bold\"> Output Shape           </span>┃<span style=\"font-weight: bold\">       Param # </span>┃\n",
       "┡━━━━━━━━━━━━━━━━━━━━━━━━━━━━━━━━━╇━━━━━━━━━━━━━━━━━━━━━━━━╇━━━━━━━━━━━━━━━┩\n",
       "│ dense_5 (<span style=\"color: #0087ff; text-decoration-color: #0087ff\">Dense</span>)                 │ ?                      │   <span style=\"color: #00af00; text-decoration-color: #00af00\">0</span> (unbuilt) │\n",
       "├─────────────────────────────────┼────────────────────────┼───────────────┤\n",
       "│ dropout_4 (<span style=\"color: #0087ff; text-decoration-color: #0087ff\">Dropout</span>)             │ ?                      │   <span style=\"color: #00af00; text-decoration-color: #00af00\">0</span> (unbuilt) │\n",
       "├─────────────────────────────────┼────────────────────────┼───────────────┤\n",
       "│ dense_6 (<span style=\"color: #0087ff; text-decoration-color: #0087ff\">Dense</span>)                 │ ?                      │   <span style=\"color: #00af00; text-decoration-color: #00af00\">0</span> (unbuilt) │\n",
       "├─────────────────────────────────┼────────────────────────┼───────────────┤\n",
       "│ dropout_5 (<span style=\"color: #0087ff; text-decoration-color: #0087ff\">Dropout</span>)             │ ?                      │   <span style=\"color: #00af00; text-decoration-color: #00af00\">0</span> (unbuilt) │\n",
       "├─────────────────────────────────┼────────────────────────┼───────────────┤\n",
       "│ dense_7 (<span style=\"color: #0087ff; text-decoration-color: #0087ff\">Dense</span>)                 │ ?                      │   <span style=\"color: #00af00; text-decoration-color: #00af00\">0</span> (unbuilt) │\n",
       "├─────────────────────────────────┼────────────────────────┼───────────────┤\n",
       "│ dropout_6 (<span style=\"color: #0087ff; text-decoration-color: #0087ff\">Dropout</span>)             │ ?                      │   <span style=\"color: #00af00; text-decoration-color: #00af00\">0</span> (unbuilt) │\n",
       "├─────────────────────────────────┼────────────────────────┼───────────────┤\n",
       "│ dense_8 (<span style=\"color: #0087ff; text-decoration-color: #0087ff\">Dense</span>)                 │ ?                      │   <span style=\"color: #00af00; text-decoration-color: #00af00\">0</span> (unbuilt) │\n",
       "├─────────────────────────────────┼────────────────────────┼───────────────┤\n",
       "│ dropout_7 (<span style=\"color: #0087ff; text-decoration-color: #0087ff\">Dropout</span>)             │ ?                      │   <span style=\"color: #00af00; text-decoration-color: #00af00\">0</span> (unbuilt) │\n",
       "├─────────────────────────────────┼────────────────────────┼───────────────┤\n",
       "│ dense_9 (<span style=\"color: #0087ff; text-decoration-color: #0087ff\">Dense</span>)                 │ ?                      │   <span style=\"color: #00af00; text-decoration-color: #00af00\">0</span> (unbuilt) │\n",
       "└─────────────────────────────────┴────────────────────────┴───────────────┘\n",
       "</pre>\n"
      ],
      "text/plain": [
       "┏━━━━━━━━━━━━━━━━━━━━━━━━━━━━━━━━━┳━━━━━━━━━━━━━━━━━━━━━━━━┳━━━━━━━━━━━━━━━┓\n",
       "┃\u001b[1m \u001b[0m\u001b[1mLayer (type)                   \u001b[0m\u001b[1m \u001b[0m┃\u001b[1m \u001b[0m\u001b[1mOutput Shape          \u001b[0m\u001b[1m \u001b[0m┃\u001b[1m \u001b[0m\u001b[1m      Param #\u001b[0m\u001b[1m \u001b[0m┃\n",
       "┡━━━━━━━━━━━━━━━━━━━━━━━━━━━━━━━━━╇━━━━━━━━━━━━━━━━━━━━━━━━╇━━━━━━━━━━━━━━━┩\n",
       "│ dense_5 (\u001b[38;5;33mDense\u001b[0m)                 │ ?                      │   \u001b[38;5;34m0\u001b[0m (unbuilt) │\n",
       "├─────────────────────────────────┼────────────────────────┼───────────────┤\n",
       "│ dropout_4 (\u001b[38;5;33mDropout\u001b[0m)             │ ?                      │   \u001b[38;5;34m0\u001b[0m (unbuilt) │\n",
       "├─────────────────────────────────┼────────────────────────┼───────────────┤\n",
       "│ dense_6 (\u001b[38;5;33mDense\u001b[0m)                 │ ?                      │   \u001b[38;5;34m0\u001b[0m (unbuilt) │\n",
       "├─────────────────────────────────┼────────────────────────┼───────────────┤\n",
       "│ dropout_5 (\u001b[38;5;33mDropout\u001b[0m)             │ ?                      │   \u001b[38;5;34m0\u001b[0m (unbuilt) │\n",
       "├─────────────────────────────────┼────────────────────────┼───────────────┤\n",
       "│ dense_7 (\u001b[38;5;33mDense\u001b[0m)                 │ ?                      │   \u001b[38;5;34m0\u001b[0m (unbuilt) │\n",
       "├─────────────────────────────────┼────────────────────────┼───────────────┤\n",
       "│ dropout_6 (\u001b[38;5;33mDropout\u001b[0m)             │ ?                      │   \u001b[38;5;34m0\u001b[0m (unbuilt) │\n",
       "├─────────────────────────────────┼────────────────────────┼───────────────┤\n",
       "│ dense_8 (\u001b[38;5;33mDense\u001b[0m)                 │ ?                      │   \u001b[38;5;34m0\u001b[0m (unbuilt) │\n",
       "├─────────────────────────────────┼────────────────────────┼───────────────┤\n",
       "│ dropout_7 (\u001b[38;5;33mDropout\u001b[0m)             │ ?                      │   \u001b[38;5;34m0\u001b[0m (unbuilt) │\n",
       "├─────────────────────────────────┼────────────────────────┼───────────────┤\n",
       "│ dense_9 (\u001b[38;5;33mDense\u001b[0m)                 │ ?                      │   \u001b[38;5;34m0\u001b[0m (unbuilt) │\n",
       "└─────────────────────────────────┴────────────────────────┴───────────────┘\n"
      ]
     },
     "metadata": {},
     "output_type": "display_data"
    },
    {
     "data": {
      "text/html": [
       "<pre style=\"white-space:pre;overflow-x:auto;line-height:normal;font-family:Menlo,'DejaVu Sans Mono',consolas,'Courier New',monospace\"><span style=\"font-weight: bold\"> Total params: </span><span style=\"color: #00af00; text-decoration-color: #00af00\">0</span> (0.00 B)\n",
       "</pre>\n"
      ],
      "text/plain": [
       "\u001b[1m Total params: \u001b[0m\u001b[38;5;34m0\u001b[0m (0.00 B)\n"
      ]
     },
     "metadata": {},
     "output_type": "display_data"
    },
    {
     "data": {
      "text/html": [
       "<pre style=\"white-space:pre;overflow-x:auto;line-height:normal;font-family:Menlo,'DejaVu Sans Mono',consolas,'Courier New',monospace\"><span style=\"font-weight: bold\"> Trainable params: </span><span style=\"color: #00af00; text-decoration-color: #00af00\">0</span> (0.00 B)\n",
       "</pre>\n"
      ],
      "text/plain": [
       "\u001b[1m Trainable params: \u001b[0m\u001b[38;5;34m0\u001b[0m (0.00 B)\n"
      ]
     },
     "metadata": {},
     "output_type": "display_data"
    },
    {
     "data": {
      "text/html": [
       "<pre style=\"white-space:pre;overflow-x:auto;line-height:normal;font-family:Menlo,'DejaVu Sans Mono',consolas,'Courier New',monospace\"><span style=\"font-weight: bold\"> Non-trainable params: </span><span style=\"color: #00af00; text-decoration-color: #00af00\">0</span> (0.00 B)\n",
       "</pre>\n"
      ],
      "text/plain": [
       "\u001b[1m Non-trainable params: \u001b[0m\u001b[38;5;34m0\u001b[0m (0.00 B)\n"
      ]
     },
     "metadata": {},
     "output_type": "display_data"
    }
   ],
   "source": [
    "model.summary()"
   ]
  },
  {
   "cell_type": "markdown",
   "id": "c78b85bd-9c16-406a-9e56-6c57aec47add",
   "metadata": {},
   "source": [
    "### Early Stopping?"
   ]
  },
  {
   "cell_type": "code",
   "execution_count": 182,
   "id": "43e3333e",
   "metadata": {},
   "outputs": [],
   "source": [
    "from tensorflow.keras.callbacks import EarlyStopping"
   ]
  },
  {
   "cell_type": "code",
   "execution_count": 183,
   "id": "c3011803",
   "metadata": {},
   "outputs": [],
   "source": [
    "#stops when validation loss is not dropping for 10 epochs\n",
    "early_stop = EarlyStopping(monitor = 'val_loss', mode = 'min', patience = 10, verbose = 1)"
   ]
  },
  {
   "cell_type": "code",
   "execution_count": 184,
   "id": "37d2e976",
   "metadata": {},
   "outputs": [
    {
     "name": "stdout",
     "output_type": "stream",
     "text": [
      "Epoch 1/800\n",
      "\u001b[1m4026/4026\u001b[0m \u001b[32m━━━━━━━━━━━━━━━━━━━━\u001b[0m\u001b[37m\u001b[0m \u001b[1m7s\u001b[0m 1ms/step - loss: 0.6698 - val_loss: 0.5841\n",
      "Epoch 2/800\n",
      "\u001b[1m4026/4026\u001b[0m \u001b[32m━━━━━━━━━━━━━━━━━━━━\u001b[0m\u001b[37m\u001b[0m \u001b[1m4s\u001b[0m 1ms/step - loss: 0.6033 - val_loss: 0.5748\n",
      "Epoch 3/800\n",
      "\u001b[1m4026/4026\u001b[0m \u001b[32m━━━━━━━━━━━━━━━━━━━━\u001b[0m\u001b[37m\u001b[0m \u001b[1m4s\u001b[0m 1ms/step - loss: 0.5949 - val_loss: 0.5694\n",
      "Epoch 4/800\n",
      "\u001b[1m4026/4026\u001b[0m \u001b[32m━━━━━━━━━━━━━━━━━━━━\u001b[0m\u001b[37m\u001b[0m \u001b[1m4s\u001b[0m 1ms/step - loss: 0.5915 - val_loss: 0.5706\n",
      "Epoch 5/800\n",
      "\u001b[1m4026/4026\u001b[0m \u001b[32m━━━━━━━━━━━━━━━━━━━━\u001b[0m\u001b[37m\u001b[0m \u001b[1m5s\u001b[0m 1ms/step - loss: 0.5908 - val_loss: 0.5694\n",
      "Epoch 6/800\n",
      "\u001b[1m4026/4026\u001b[0m \u001b[32m━━━━━━━━━━━━━━━━━━━━\u001b[0m\u001b[37m\u001b[0m \u001b[1m5s\u001b[0m 1ms/step - loss: 0.5889 - val_loss: 0.5724\n",
      "Epoch 7/800\n",
      "\u001b[1m4026/4026\u001b[0m \u001b[32m━━━━━━━━━━━━━━━━━━━━\u001b[0m\u001b[37m\u001b[0m \u001b[1m4s\u001b[0m 1ms/step - loss: 0.5867 - val_loss: 0.5724\n",
      "Epoch 8/800\n",
      "\u001b[1m4026/4026\u001b[0m \u001b[32m━━━━━━━━━━━━━━━━━━━━\u001b[0m\u001b[37m\u001b[0m \u001b[1m4s\u001b[0m 1ms/step - loss: 0.5871 - val_loss: 0.5700\n",
      "Epoch 9/800\n",
      "\u001b[1m4026/4026\u001b[0m \u001b[32m━━━━━━━━━━━━━━━━━━━━\u001b[0m\u001b[37m\u001b[0m \u001b[1m5s\u001b[0m 1ms/step - loss: 0.5873 - val_loss: 0.5698\n",
      "Epoch 10/800\n",
      "\u001b[1m4026/4026\u001b[0m \u001b[32m━━━━━━━━━━━━━━━━━━━━\u001b[0m\u001b[37m\u001b[0m \u001b[1m5s\u001b[0m 1ms/step - loss: 0.5835 - val_loss: 0.5824\n",
      "Epoch 11/800\n",
      "\u001b[1m4026/4026\u001b[0m \u001b[32m━━━━━━━━━━━━━━━━━━━━\u001b[0m\u001b[37m\u001b[0m \u001b[1m4s\u001b[0m 1ms/step - loss: 0.5880 - val_loss: 0.5731\n",
      "Epoch 12/800\n",
      "\u001b[1m4026/4026\u001b[0m \u001b[32m━━━━━━━━━━━━━━━━━━━━\u001b[0m\u001b[37m\u001b[0m \u001b[1m4s\u001b[0m 1ms/step - loss: 0.5889 - val_loss: 0.5699\n",
      "Epoch 13/800\n",
      "\u001b[1m4026/4026\u001b[0m \u001b[32m━━━━━━━━━━━━━━━━━━━━\u001b[0m\u001b[37m\u001b[0m \u001b[1m4s\u001b[0m 1ms/step - loss: 0.5848 - val_loss: 0.5800\n",
      "Epoch 13: early stopping\n"
     ]
    },
    {
     "data": {
      "text/plain": [
       "<keras.src.callbacks.history.History at 0x7fc240b386a0>"
      ]
     },
     "execution_count": 184,
     "metadata": {},
     "output_type": "execute_result"
    }
   ],
   "source": [
    "#Fitting model\n",
    "model.fit(X_train, y_train, \n",
    "          epochs = 800,\n",
    "         validation_data=(X_test, y_test),\n",
    "         verbose = 1, \n",
    "         callbacks=[early_stop])"
   ]
  },
  {
   "cell_type": "code",
   "execution_count": 185,
   "id": "56cfea54",
   "metadata": {},
   "outputs": [
    {
     "data": {
      "text/plain": [
       "<AxesSubplot:>"
      ]
     },
     "execution_count": 185,
     "metadata": {},
     "output_type": "execute_result"
    },
    {
     "data": {
      "image/png": "[encoded data removed]",
      "text/plain": [
       "<Figure size 432x288 with 1 Axes>"
      ]
     },
     "metadata": {
      "needs_background": "light"
     },
     "output_type": "display_data"
    }
   ],
   "source": [
    "model_loss = pd.DataFrame(model.history.history)\n",
    "model_loss.plot()"
   ]
  },
  {
   "cell_type": "code",
   "execution_count": 186,
   "id": "f7377b1c",
   "metadata": {},
   "outputs": [
    {
     "name": "stdout",
     "output_type": "stream",
     "text": [
      "\u001b[1m1007/1007\u001b[0m \u001b[32m━━━━━━━━━━━━━━━━━━━━\u001b[0m\u001b[37m\u001b[0m \u001b[1m1s\u001b[0m 743us/step\n"
     ]
    }
   ],
   "source": [
    "prediction = model.predict(X_test)"
   ]
  },
  {
   "cell_type": "code",
   "execution_count": 187,
   "id": "a3fdb36c",
   "metadata": {},
   "outputs": [
    {
     "name": "stdout",
     "output_type": "stream",
     "text": [
      "              precision    recall  f1-score   support\n",
      "\n",
      "           0       0.75      0.82      0.79     17143\n",
      "           1       0.77      0.69      0.73     15060\n",
      "\n",
      "    accuracy                           0.76     32203\n",
      "   macro avg       0.76      0.76      0.76     32203\n",
      "weighted avg       0.76      0.76      0.76     32203\n",
      "\n"
     ]
    }
   ],
   "source": [
    "print(classification_report(y_test, predictions))"
   ]
  },
  {
   "cell_type": "code",
   "execution_count": 188,
   "id": "180f5071",
   "metadata": {},
   "outputs": [
    {
     "name": "stdout",
     "output_type": "stream",
     "text": [
      "[[14135  3008]\n",
      " [ 4705 10355]]\n"
     ]
    }
   ],
   "source": [
    "print(confusion_matrix(y_test, predictions))"
   ]
  },
  {
   "cell_type": "markdown",
   "id": "840eddae-f7c8-4113-b2be-7fc94866b984",
   "metadata": {},
   "source": [
    "## Part 4: Interpretation of Results\n",
    "Interpret the results, and explain intuition behind it. Assume person does not have greatest knowledge of Data Science."
   ]
  },
  {
   "cell_type": "markdown",
   "id": "47874513-0353-442f-8889-ed5219b51631",
   "metadata": {},
   "source": [
    "<center><img src=\"https://www.jotform.com/blog/wp-content/uploads/2019/10/Top-6-data-collection-methods-700x545.png\"></center>"
   ]
  },
  {
   "cell_type": "markdown",
   "id": "6ad71403-b81f-4c6f-9c1c-59673134b03c",
   "metadata": {},
   "source": [
    "## Conclusion\n",
    "Restate importance of our tutorial, and takeaways."
   ]
  },
  {
   "cell_type": "markdown",
   "id": "e52eef04-da87-437c-a0e9-8b47a84714c3",
   "metadata": {},
   "source": [
    "<center><img src=\"https://www.jotform.com/blog/wp-content/uploads/2019/10/Data-collection-and-lead-generation-700x545.png\"></center>"
   ]
  },
  {
   "cell_type": "markdown",
   "id": "d030ae65-e940-4b05-a905-7794191e0c89",
   "metadata": {},
   "source": [
    "## References\n",
    "Include links to external sources or other info for more learning"
   ]
  },
  {
   "cell_type": "code",
   "execution_count": null,
   "id": "d7f19683-577b-4dce-ab74-80b002164775",
   "metadata": {},
   "outputs": [],
   "source": []
  }
 ],
 "metadata": {
  "kernelspec": {
   "display_name": "Python 3 (ipykernel)",
   "language": "python",
   "name": "python3"
  },
  "language_info": {
   "codemirror_mode": {
    "name": "ipython",
    "version": 3
   },
   "file_extension": ".py",
   "mimetype": "text/x-python",
   "name": "python",
   "nbconvert_exporter": "python",
   "pygments_lexer": "ipython3",
   "version": "3.9.12"
  }
 },
 "nbformat": 4,
 "nbformat_minor": 5
}
