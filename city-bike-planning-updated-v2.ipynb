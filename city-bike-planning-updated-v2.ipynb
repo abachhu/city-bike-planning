{
 "cells": [
  {
   "cell_type": "markdown",
   "id": "bb332e31-6e9d-44b6-849e-5400e1337701",
   "metadata": {},
   "source": [
    "<center><img src=https://www.toronto.ca/wp-content/uploads/2023/10/9744-Cycling-Network-graphic-2023-10-31-1024x338.png /></center>"
   ]
  },
  {
   "cell_type": "markdown",
   "id": "a9652a98-beaf-49f3-8cfd-5f167542f2fa",
   "metadata": {},
   "source": [
    "<center><h1>City Bike Planning</h1></center>\n",
    "<center>Collaborators: Ankith Bachhu, Shaunak Roy, Dominick Cardone, Daniel Lu</center>"
   ]
  },
  {
   "cell_type": "markdown",
   "id": "49b7659e-fa41-4227-8d73-6636668087ff",
   "metadata": {},
   "source": [
    "## Table of Contents\n",
    "1. [Introduction](#Introduction) <br> \n",
    "2. [Part 1: Data Collection](#Part-1:-Data-Collection) <br>\n",
    "3. [Part 2: Data Cleaning & Exploratory Analysis](#Part-2:-Data-Cleaning-&-Exploratory-Analysis) <br>\n",
    "4. [Part 3: Model Training and Testing](#Part-3:-Model-training-and-testing) <br>\n",
    "5. [Part 4: Interpretation of Results](#Part-4:-Interpretation-of-Results) <br>\n",
    "6. [Conclusion](#Conclusion) <br>\n",
    "7. [References](#References)"
   ]
  },
  {
   "cell_type": "markdown",
   "id": "7ce6d023-0784-4da6-b536-fb026ccf56a7",
   "metadata": {},
   "source": [
    "## Introduction\n",
    "The purpose of this tutorial is to walk you through the data science lifecycle, introducing you to many different data science concepts. The data science lifecycle goes as follows: \n",
    "1. Data collection\n",
    "3. Data processing\n",
    "4. Exploratory analysis and Data visualization\n",
    "5. Model analysis and testing\n",
    "6. Interpretation of results\n",
    "\n",
    "The whole purpose of the data science lifecycle is to identify trends or patterns, investigate or answer a question, or solve a problem. In this tutorial, we will be looking to build a model to help us answer the question: Why and When do people in Washington D.C use electric bikes over normal bikes? Although we will not come to an exact answer at the end of this tutorial, building a model, will help us make some conclusion, which may lead us to an answer in the future. However, it is still important to understand the underlying goal of answering this question. By answering this question, we will be able to determine factors which influence the use of electric bikes. These factors could be distance between stations, amount of time biker wants to ride, specific location in the city, etc. \n",
    "\n",
    "By determining these factors, we can make necessary changes to distribute our electric bikes accordingly. For example, if based on the model, we can see that people at a certain station always ride electric bikes, we can place more electric bikes in that location, while moving normal bikes to other locations. This change would be helpful, as there would be more electric bikes available at the location where it is used more, ensuring that people will have their choice of transportation. It also saves time for the company, since they do not have to ensure locations have both electric and normal bikes. By answering our question in regards to electric bikes, we can answer the same question for normal bikes, and then be able to distribute both types of bikes accordingly. \n",
    "\n",
    "Of course, this doesn't have to be the only question we answer, as a data scientist is always on the lookout for new observations and discoveries in their data. Throughout this tutorial, we will ask questions, in which you can also then consider if there is anything else you could've done in addition to what we provided.\n",
    "\n",
    "**IMPORTANT** \n",
    "<br>For this tutorial, please note that an observation refers to one row of the table. In other words, one observation is one recorded bike ride."
   ]
  },
  {
   "cell_type": "markdown",
   "id": "28765325-ece6-416e-ae41-2c271f9ca181",
   "metadata": {},
   "source": [
    "## Part 1: Data Collection\n",
    "In order to reach our end goal and answer our question at hand, we must first begin by collecting the data necessary to answer our question. It is important to find the appropriate dataset for your situation, as later on, your machine learning model is as good as the data you feed into it. And since your machine learning model is the tool that will be used to find the answer to your question, then essentially your answer is reliant on the dataset you use. Therefore, it is important to collect the appropriate dataset.\n",
    "\n",
    "Usually, a company may have to conduct their own experiments or studies to collect the necessary data they need. However, oftentimes, these tasks are already done by other companies, and avaialble to use for the public. For our tutorial, we will be using a dataset provided by Capital Bike Share."
   ]
  },
  {
   "cell_type": "markdown",
   "id": "0f95f31a-4511-4863-b119-8879f446e149",
   "metadata": {},
   "source": [
    "<center><img src=\"https://www.jotform.com/blog/wp-content/uploads/2019/10/Quantitative-data-collection-methods-1-700x545.png\"></center>"
   ]
  },
  {
   "cell_type": "markdown",
   "id": "47eb4cc0-fc02-4da3-91d1-089d5eadb063",
   "metadata": {},
   "source": [
    "### Import Python Libraries\n",
    "To begin this tutorial, we first need to import the necessary Python libraries (as shown below), which will be used for this tutorial. You should use Jupyter Notebook, as most of the code provided is run in Jupyter Notebook. Jupyter Notebook is also widely used by data scientists, as it allows us to better visualize our data and other analysis. We will dive more in detail about the use of each of these libraries as we encounter and use each one."
   ]
  },
  {
   "cell_type": "code",
   "execution_count": 1,
   "id": "8014ae04",
   "metadata": {},
   "outputs": [
    {
     "name": "stderr",
     "output_type": "stream",
     "text": [
      "/Users/ankithb/opt/anaconda3/lib/python3.9/site-packages/scipy/__init__.py:146: UserWarning: A NumPy version >=1.16.5 and <1.23.0 is required for this version of SciPy (detected version 1.26.4\n",
      "  warnings.warn(f\"A NumPy version >={np_minversion} and <{np_maxversion}\"\n"
     ]
    }
   ],
   "source": [
    "# Import necessary libraries\n",
    "import numpy as np\n",
    "import pandas as pd\n",
    "import matplotlib.pyplot as plt\n",
    "from datetime import datetime as dt\n",
    "import seaborn as sns\n",
    "\n",
    "# Filter out the warnings\n",
    "import warnings\n",
    "warnings.filterwarnings(\"ignore\")"
   ]
  },
  {
   "cell_type": "markdown",
   "id": "1f648c25-6a7b-4fcf-a6bc-671067f97957",
   "metadata": {},
   "source": [
    "### Download and import the data\n",
    "Navigate to https://s3.amazonaws.com/capitalbikeshare-data/index.html and download any of the zip files. Extract the csv file from the zip file, and **make sure you move it to the same folder** as the one in which you are running your python program or Jupyter Notebook. For the purpose of this tutorial, it would be helpful to download the same zip file we did, if you want to compare your results with the tutorial's."
   ]
  },
  {
   "cell_type": "code",
   "execution_count": 2,
   "id": "ff66f00e",
   "metadata": {},
   "outputs": [],
   "source": [
    "# Read in the csv file\n",
    "df = pd.read_csv(r\"202402-capitalbikeshare-tripdata.csv\")"
   ]
  },
  {
   "cell_type": "markdown",
   "id": "7289fa87-cda2-497c-a32c-9e32740fbb5c",
   "metadata": {},
   "source": [
    "### Understanding your Data\n",
    "If you downloaded the same csv file, run the code below, and compare your results, it should be the same. Before, you can move onto the next process, you need to have some understanding of the data below. Take some time to look over it, and note that each row (or observation) is recorded information for one bike ride."
   ]
  },
  {
   "cell_type": "code",
   "execution_count": 3,
   "id": "ed34fd71",
   "metadata": {},
   "outputs": [
    {
     "data": {
      "text/html": [
       "<div>\n",
       "<style scoped>\n",
       "    .dataframe tbody tr th:only-of-type {\n",
       "        vertical-align: middle;\n",
       "    }\n",
       "\n",
       "    .dataframe tbody tr th {\n",
       "        vertical-align: top;\n",
       "    }\n",
       "\n",
       "    .dataframe thead th {\n",
       "        text-align: right;\n",
       "    }\n",
       "</style>\n",
       "<table border=\"1\" class=\"dataframe\">\n",
       "  <thead>\n",
       "    <tr style=\"text-align: right;\">\n",
       "      <th></th>\n",
       "      <th>ride_id</th>\n",
       "      <th>rideable_type</th>\n",
       "      <th>started_at</th>\n",
       "      <th>ended_at</th>\n",
       "      <th>start_station_name</th>\n",
       "      <th>start_station_id</th>\n",
       "      <th>end_station_name</th>\n",
       "      <th>end_station_id</th>\n",
       "      <th>start_lat</th>\n",
       "      <th>start_lng</th>\n",
       "      <th>end_lat</th>\n",
       "      <th>end_lng</th>\n",
       "      <th>member_casual</th>\n",
       "    </tr>\n",
       "  </thead>\n",
       "  <tbody>\n",
       "    <tr>\n",
       "      <th>0</th>\n",
       "      <td>24DBACC298E33BF6</td>\n",
       "      <td>electric_bike</td>\n",
       "      <td>2/1/24 21:18</td>\n",
       "      <td>2/1/24 21:27</td>\n",
       "      <td>Eckington Pl &amp; Q St NE</td>\n",
       "      <td>31505.0</td>\n",
       "      <td>5th &amp; K St NW</td>\n",
       "      <td>31600.0</td>\n",
       "      <td>38.910893</td>\n",
       "      <td>-77.005023</td>\n",
       "      <td>38.90304</td>\n",
       "      <td>-77.019027</td>\n",
       "      <td>member</td>\n",
       "    </tr>\n",
       "    <tr>\n",
       "      <th>1</th>\n",
       "      <td>FE1067800A18BC56</td>\n",
       "      <td>electric_bike</td>\n",
       "      <td>2/6/24 17:15</td>\n",
       "      <td>2/6/24 17:30</td>\n",
       "      <td>4th &amp; C St SW</td>\n",
       "      <td>31243.0</td>\n",
       "      <td>NaN</td>\n",
       "      <td>NaN</td>\n",
       "      <td>38.886443</td>\n",
       "      <td>-77.017388</td>\n",
       "      <td>38.91000</td>\n",
       "      <td>-76.980000</td>\n",
       "      <td>member</td>\n",
       "    </tr>\n",
       "    <tr>\n",
       "      <th>2</th>\n",
       "      <td>AD1962B215B5879D</td>\n",
       "      <td>electric_bike</td>\n",
       "      <td>2/26/24 13:19</td>\n",
       "      <td>2/26/24 13:30</td>\n",
       "      <td>North Capitol St &amp; F St NW</td>\n",
       "      <td>31624.0</td>\n",
       "      <td>NaN</td>\n",
       "      <td>NaN</td>\n",
       "      <td>38.896907</td>\n",
       "      <td>-77.009684</td>\n",
       "      <td>38.90000</td>\n",
       "      <td>-77.010000</td>\n",
       "      <td>member</td>\n",
       "    </tr>\n",
       "    <tr>\n",
       "      <th>3</th>\n",
       "      <td>3F8352E6D9EC4F85</td>\n",
       "      <td>electric_bike</td>\n",
       "      <td>2/2/24 11:01</td>\n",
       "      <td>2/2/24 11:05</td>\n",
       "      <td>1st &amp; K St NE</td>\n",
       "      <td>31662.0</td>\n",
       "      <td>NaN</td>\n",
       "      <td>NaN</td>\n",
       "      <td>38.902394</td>\n",
       "      <td>-77.005614</td>\n",
       "      <td>38.90000</td>\n",
       "      <td>-77.010000</td>\n",
       "      <td>member</td>\n",
       "    </tr>\n",
       "    <tr>\n",
       "      <th>4</th>\n",
       "      <td>D656DA87FA915F14</td>\n",
       "      <td>electric_bike</td>\n",
       "      <td>2/25/24 8:28</td>\n",
       "      <td>2/25/24 8:48</td>\n",
       "      <td>Virginia Ave &amp; 25th St NW</td>\n",
       "      <td>31297.0</td>\n",
       "      <td>NaN</td>\n",
       "      <td>NaN</td>\n",
       "      <td>38.898456</td>\n",
       "      <td>-77.053075</td>\n",
       "      <td>38.91000</td>\n",
       "      <td>-77.060000</td>\n",
       "      <td>member</td>\n",
       "    </tr>\n",
       "  </tbody>\n",
       "</table>\n",
       "</div>"
      ],
      "text/plain": [
       "            ride_id  rideable_type     started_at       ended_at  \\\n",
       "0  24DBACC298E33BF6  electric_bike   2/1/24 21:18   2/1/24 21:27   \n",
       "1  FE1067800A18BC56  electric_bike   2/6/24 17:15   2/6/24 17:30   \n",
       "2  AD1962B215B5879D  electric_bike  2/26/24 13:19  2/26/24 13:30   \n",
       "3  3F8352E6D9EC4F85  electric_bike   2/2/24 11:01   2/2/24 11:05   \n",
       "4  D656DA87FA915F14  electric_bike   2/25/24 8:28   2/25/24 8:48   \n",
       "\n",
       "           start_station_name  start_station_id end_station_name  \\\n",
       "0      Eckington Pl & Q St NE           31505.0    5th & K St NW   \n",
       "1               4th & C St SW           31243.0              NaN   \n",
       "2  North Capitol St & F St NW           31624.0              NaN   \n",
       "3               1st & K St NE           31662.0              NaN   \n",
       "4   Virginia Ave & 25th St NW           31297.0              NaN   \n",
       "\n",
       "   end_station_id  start_lat  start_lng   end_lat    end_lng member_casual  \n",
       "0         31600.0  38.910893 -77.005023  38.90304 -77.019027        member  \n",
       "1             NaN  38.886443 -77.017388  38.91000 -76.980000        member  \n",
       "2             NaN  38.896907 -77.009684  38.90000 -77.010000        member  \n",
       "3             NaN  38.902394 -77.005614  38.90000 -77.010000        member  \n",
       "4             NaN  38.898456 -77.053075  38.91000 -77.060000        member  "
      ]
     },
     "execution_count": 3,
     "metadata": {},
     "output_type": "execute_result"
    }
   ],
   "source": [
    "# Print out the head of the table imported\n",
    "df.head()"
   ]
  },
  {
   "cell_type": "markdown",
   "id": "7b0144b3-adaa-4d01-bc7f-1d98d04c8c49",
   "metadata": {},
   "source": [
    "## Part 2: Data Cleaning & Exploratory Data Analysis\n",
    "Now that we have our data, the next step is to clean our data. *What does it mean to clean our data?* It is exactly how it sounds, we will need to make changes to our data in order to make it ready to be processed by our machine learning model or just easier for us to analyze. This process may involve many different things, some examples are:\n",
    "* Deleting unnecessary data\n",
    "* Filling in missing data\n",
    "* Changing the values or metrics/measurements of our data\n",
    "* Calculating new data point from existing data\n",
    "\n",
    "Now, you may have noticed we combined two steps of the data science lifecycle: Data cleaning & Exploratory Analysis. We've combined these two steps, because sometimes it is helpful to perform exploratory analysis on our dataset, in order to help determine what things we need to clean. For example, we may plot a graph of two data points, in order to see if there any noticeable trends, which may prompt us to create a new data point, that we may believe to be useful for the machine learning model to use.\n",
    "\n",
    "In simple terms, exploratory analysis, is performing any sort of analysis on your dataset before we pass it into the machine learning model. This process may involve creating graphs or plotting values of a certain data point. Essentially, we may be trying to answer the question before passing it into the machine learning model, making any predictions or identifying any trends, which may prove useful in interpreting our results later on after the machine learning model. This analysis may also help guide our question or research, as mentioned earlier, where we may notice one data point is significant in some sort of way."
   ]
  },
  {
   "cell_type": "markdown",
   "id": "92d6095e-ce62-40a7-9826-c8f7d1d33fc9",
   "metadata": {},
   "source": [
    "<center><img src=\"https://www.jotform.com/blog/wp-content/uploads/2019/10/data-collection-methods-700x545.png\"></center>"
   ]
  },
  {
   "cell_type": "markdown",
   "id": "9c68f0fe-aa62-4f5d-bf40-951f8b17e783",
   "metadata": {},
   "source": [
    "First let's list out some information about each column (aka our data points). This step will help us see if there are any data types which we may need to change for the purpose of being able to calculate additonal data points and be used in our machine learning model."
   ]
  },
  {
   "cell_type": "code",
   "execution_count": 4,
   "id": "10ec67f3",
   "metadata": {},
   "outputs": [
    {
     "name": "stdout",
     "output_type": "stream",
     "text": [
      "<class 'pandas.core.frame.DataFrame'>\n",
      "RangeIndex: 318688 entries, 0 to 318687\n",
      "Data columns (total 13 columns):\n",
      " #   Column              Non-Null Count   Dtype  \n",
      "---  ------              --------------   -----  \n",
      " 0   ride_id             318688 non-null  object \n",
      " 1   rideable_type       318688 non-null  object \n",
      " 2   started_at          318688 non-null  object \n",
      " 3   ended_at            318688 non-null  object \n",
      " 4   start_station_name  270637 non-null  object \n",
      " 5   start_station_id    270637 non-null  float64\n",
      " 6   end_station_name    267827 non-null  object \n",
      " 7   end_station_id      267824 non-null  float64\n",
      " 8   start_lat           318688 non-null  float64\n",
      " 9   start_lng           318688 non-null  float64\n",
      " 10  end_lat             318444 non-null  float64\n",
      " 11  end_lng             318444 non-null  float64\n",
      " 12  member_casual       318688 non-null  object \n",
      "dtypes: float64(6), object(7)\n",
      "memory usage: 31.6+ MB\n"
     ]
    }
   ],
   "source": [
    "# List out information about each of the entries of the table\n",
    "df.info()"
   ]
  },
  {
   "cell_type": "markdown",
   "id": "d41d3e8d-b69c-4b2d-ace1-c5755f6fd665",
   "metadata": {},
   "source": [
    "### Drop Some Unnecessary Data\n",
    "Next, let's drop some unnecessary data. *How did we determine that this data was unnecessary?* We dropped the IDs because they are random and essentially function the same as indexes, providing no meaningful information."
   ]
  },
  {
   "cell_type": "code",
   "execution_count": 5,
   "id": "ebed8b78",
   "metadata": {},
   "outputs": [],
   "source": [
    "# Drop start and end station id columns\n",
    "df.drop([\"start_station_id\", \"end_station_id\"], axis=1, inplace=True)\n",
    "\n",
    "# Drop ride id column\n",
    "df.drop([\"ride_id\"], axis=1, inplace=True)"
   ]
  },
  {
   "cell_type": "code",
   "execution_count": 6,
   "id": "52ee7114",
   "metadata": {},
   "outputs": [
    {
     "data": {
      "text/plain": [
       "array(['electric_bike', 'classic_bike'], dtype=object)"
      ]
     },
     "execution_count": 6,
     "metadata": {},
     "output_type": "execute_result"
    }
   ],
   "source": [
    "# List out unique bike types\n",
    "df[\"rideable_type\"].unique()"
   ]
  },
  {
   "cell_type": "markdown",
   "id": "5a90ea90-e039-42eb-9f66-a9fdc0192bbb",
   "metadata": {},
   "source": [
    "Let's drop some of the observations which are missing entries or data points. This step is important, as having observations with missing data points may lead to errors when running code later. It also doesn't make sense to incldue them, since if our machine learning model relies on data points to make predictions, if a datapoint has no value, it could interefere or screw with our predictions. Our dataset is large enough and the amount of missing data is small enough that we can safely ignore it without hindering out predictions."
   ]
  },
  {
   "cell_type": "code",
   "execution_count": 7,
   "id": "fa4244e2",
   "metadata": {},
   "outputs": [],
   "source": [
    "# Drop any observations, where there are missing entries or data points\n",
    "df.dropna(axis=0, inplace=True)"
   ]
  },
  {
   "cell_type": "code",
   "execution_count": 8,
   "id": "19f216cc",
   "metadata": {},
   "outputs": [
    {
     "name": "stdout",
     "output_type": "stream",
     "text": [
      "<class 'pandas.core.frame.DataFrame'>\n",
      "Int64Index: 246639 entries, 0 to 318687\n",
      "Data columns (total 10 columns):\n",
      " #   Column              Non-Null Count   Dtype  \n",
      "---  ------              --------------   -----  \n",
      " 0   rideable_type       246639 non-null  object \n",
      " 1   started_at          246639 non-null  object \n",
      " 2   ended_at            246639 non-null  object \n",
      " 3   start_station_name  246639 non-null  object \n",
      " 4   end_station_name    246639 non-null  object \n",
      " 5   start_lat           246639 non-null  float64\n",
      " 6   start_lng           246639 non-null  float64\n",
      " 7   end_lat             246639 non-null  float64\n",
      " 8   end_lng             246639 non-null  float64\n",
      " 9   member_casual       246639 non-null  object \n",
      "dtypes: float64(4), object(6)\n",
      "memory usage: 20.7+ MB\n"
     ]
    }
   ],
   "source": [
    "# List out info of columns again\n",
    "df.info()"
   ]
  },
  {
   "cell_type": "code",
   "execution_count": 9,
   "id": "8e709c81",
   "metadata": {},
   "outputs": [
    {
     "data": {
      "text/html": [
       "<div>\n",
       "<style scoped>\n",
       "    .dataframe tbody tr th:only-of-type {\n",
       "        vertical-align: middle;\n",
       "    }\n",
       "\n",
       "    .dataframe tbody tr th {\n",
       "        vertical-align: top;\n",
       "    }\n",
       "\n",
       "    .dataframe thead th {\n",
       "        text-align: right;\n",
       "    }\n",
       "</style>\n",
       "<table border=\"1\" class=\"dataframe\">\n",
       "  <thead>\n",
       "    <tr style=\"text-align: right;\">\n",
       "      <th></th>\n",
       "      <th>rideable_type</th>\n",
       "      <th>started_at</th>\n",
       "      <th>ended_at</th>\n",
       "      <th>start_station_name</th>\n",
       "      <th>end_station_name</th>\n",
       "      <th>start_lat</th>\n",
       "      <th>start_lng</th>\n",
       "      <th>end_lat</th>\n",
       "      <th>end_lng</th>\n",
       "      <th>member_casual</th>\n",
       "    </tr>\n",
       "  </thead>\n",
       "  <tbody>\n",
       "    <tr>\n",
       "      <th>0</th>\n",
       "      <td>electric_bike</td>\n",
       "      <td>2/1/24 21:18</td>\n",
       "      <td>2/1/24 21:27</td>\n",
       "      <td>Eckington Pl &amp; Q St NE</td>\n",
       "      <td>5th &amp; K St NW</td>\n",
       "      <td>38.910893</td>\n",
       "      <td>-77.005023</td>\n",
       "      <td>38.903040</td>\n",
       "      <td>-77.019027</td>\n",
       "      <td>member</td>\n",
       "    </tr>\n",
       "    <tr>\n",
       "      <th>16</th>\n",
       "      <td>electric_bike</td>\n",
       "      <td>2/15/24 16:46</td>\n",
       "      <td>2/15/24 16:59</td>\n",
       "      <td>Metro Center / 12th &amp; G St NW</td>\n",
       "      <td>Columbia Rd &amp; Georgia Ave NW</td>\n",
       "      <td>38.898400</td>\n",
       "      <td>-77.027643</td>\n",
       "      <td>38.928121</td>\n",
       "      <td>-77.023795</td>\n",
       "      <td>member</td>\n",
       "    </tr>\n",
       "    <tr>\n",
       "      <th>17</th>\n",
       "      <td>classic_bike</td>\n",
       "      <td>2/7/24 17:42</td>\n",
       "      <td>2/7/24 18:12</td>\n",
       "      <td>4th &amp; C St SW</td>\n",
       "      <td>Columbia Rd &amp; Georgia Ave NW</td>\n",
       "      <td>38.886372</td>\n",
       "      <td>-77.017701</td>\n",
       "      <td>38.928121</td>\n",
       "      <td>-77.023795</td>\n",
       "      <td>member</td>\n",
       "    </tr>\n",
       "    <tr>\n",
       "      <th>18</th>\n",
       "      <td>classic_bike</td>\n",
       "      <td>2/22/24 16:43</td>\n",
       "      <td>2/22/24 16:56</td>\n",
       "      <td>4th &amp; M St SE</td>\n",
       "      <td>Columbus Circle / Union Station</td>\n",
       "      <td>38.876751</td>\n",
       "      <td>-77.000736</td>\n",
       "      <td>38.896960</td>\n",
       "      <td>-77.004930</td>\n",
       "      <td>member</td>\n",
       "    </tr>\n",
       "    <tr>\n",
       "      <th>19</th>\n",
       "      <td>classic_bike</td>\n",
       "      <td>2/10/24 1:11</td>\n",
       "      <td>2/10/24 1:23</td>\n",
       "      <td>Virginia Ave &amp; 25th St NW</td>\n",
       "      <td>20th &amp; O St NW / Dupont South</td>\n",
       "      <td>38.898460</td>\n",
       "      <td>-77.053052</td>\n",
       "      <td>38.908905</td>\n",
       "      <td>-77.044780</td>\n",
       "      <td>casual</td>\n",
       "    </tr>\n",
       "  </tbody>\n",
       "</table>\n",
       "</div>"
      ],
      "text/plain": [
       "    rideable_type     started_at       ended_at  \\\n",
       "0   electric_bike   2/1/24 21:18   2/1/24 21:27   \n",
       "16  electric_bike  2/15/24 16:46  2/15/24 16:59   \n",
       "17   classic_bike   2/7/24 17:42   2/7/24 18:12   \n",
       "18   classic_bike  2/22/24 16:43  2/22/24 16:56   \n",
       "19   classic_bike   2/10/24 1:11   2/10/24 1:23   \n",
       "\n",
       "               start_station_name                 end_station_name  start_lat  \\\n",
       "0          Eckington Pl & Q St NE                    5th & K St NW  38.910893   \n",
       "16  Metro Center / 12th & G St NW     Columbia Rd & Georgia Ave NW  38.898400   \n",
       "17                  4th & C St SW     Columbia Rd & Georgia Ave NW  38.886372   \n",
       "18                  4th & M St SE  Columbus Circle / Union Station  38.876751   \n",
       "19      Virginia Ave & 25th St NW    20th & O St NW / Dupont South  38.898460   \n",
       "\n",
       "    start_lng    end_lat    end_lng member_casual  \n",
       "0  -77.005023  38.903040 -77.019027        member  \n",
       "16 -77.027643  38.928121 -77.023795        member  \n",
       "17 -77.017701  38.928121 -77.023795        member  \n",
       "18 -77.000736  38.896960 -77.004930        member  \n",
       "19 -77.053052  38.908905 -77.044780        casual  "
      ]
     },
     "execution_count": 9,
     "metadata": {},
     "output_type": "execute_result"
    }
   ],
   "source": [
    "# Print out table again to check it\n",
    "df.head()"
   ]
  },
  {
   "cell_type": "markdown",
   "id": "800f5dbe-2057-4e19-89d4-2266348616d1",
   "metadata": {},
   "source": [
    "This step is more specific for pandas Dataframe, but nonetheless important. It resets our indices to be in order from 0,1,..., some integer. As we can see above, the indices are scattered, skipping from 0 to 16. These indices may prevent us from performing other data cleaning later on, as well as causing potential errors."
   ]
  },
  {
   "cell_type": "code",
   "execution_count": 10,
   "id": "7b0b0bca",
   "metadata": {},
   "outputs": [
    {
     "data": {
      "text/html": [
       "<div>\n",
       "<style scoped>\n",
       "    .dataframe tbody tr th:only-of-type {\n",
       "        vertical-align: middle;\n",
       "    }\n",
       "\n",
       "    .dataframe tbody tr th {\n",
       "        vertical-align: top;\n",
       "    }\n",
       "\n",
       "    .dataframe thead th {\n",
       "        text-align: right;\n",
       "    }\n",
       "</style>\n",
       "<table border=\"1\" class=\"dataframe\">\n",
       "  <thead>\n",
       "    <tr style=\"text-align: right;\">\n",
       "      <th></th>\n",
       "      <th>rideable_type</th>\n",
       "      <th>started_at</th>\n",
       "      <th>ended_at</th>\n",
       "      <th>start_station_name</th>\n",
       "      <th>end_station_name</th>\n",
       "      <th>start_lat</th>\n",
       "      <th>start_lng</th>\n",
       "      <th>end_lat</th>\n",
       "      <th>end_lng</th>\n",
       "      <th>member_casual</th>\n",
       "    </tr>\n",
       "  </thead>\n",
       "  <tbody>\n",
       "    <tr>\n",
       "      <th>0</th>\n",
       "      <td>electric_bike</td>\n",
       "      <td>2/1/24 21:18</td>\n",
       "      <td>2/1/24 21:27</td>\n",
       "      <td>Eckington Pl &amp; Q St NE</td>\n",
       "      <td>5th &amp; K St NW</td>\n",
       "      <td>38.910893</td>\n",
       "      <td>-77.005023</td>\n",
       "      <td>38.903040</td>\n",
       "      <td>-77.019027</td>\n",
       "      <td>member</td>\n",
       "    </tr>\n",
       "    <tr>\n",
       "      <th>1</th>\n",
       "      <td>electric_bike</td>\n",
       "      <td>2/15/24 16:46</td>\n",
       "      <td>2/15/24 16:59</td>\n",
       "      <td>Metro Center / 12th &amp; G St NW</td>\n",
       "      <td>Columbia Rd &amp; Georgia Ave NW</td>\n",
       "      <td>38.898400</td>\n",
       "      <td>-77.027643</td>\n",
       "      <td>38.928121</td>\n",
       "      <td>-77.023795</td>\n",
       "      <td>member</td>\n",
       "    </tr>\n",
       "    <tr>\n",
       "      <th>2</th>\n",
       "      <td>classic_bike</td>\n",
       "      <td>2/7/24 17:42</td>\n",
       "      <td>2/7/24 18:12</td>\n",
       "      <td>4th &amp; C St SW</td>\n",
       "      <td>Columbia Rd &amp; Georgia Ave NW</td>\n",
       "      <td>38.886372</td>\n",
       "      <td>-77.017701</td>\n",
       "      <td>38.928121</td>\n",
       "      <td>-77.023795</td>\n",
       "      <td>member</td>\n",
       "    </tr>\n",
       "    <tr>\n",
       "      <th>3</th>\n",
       "      <td>classic_bike</td>\n",
       "      <td>2/22/24 16:43</td>\n",
       "      <td>2/22/24 16:56</td>\n",
       "      <td>4th &amp; M St SE</td>\n",
       "      <td>Columbus Circle / Union Station</td>\n",
       "      <td>38.876751</td>\n",
       "      <td>-77.000736</td>\n",
       "      <td>38.896960</td>\n",
       "      <td>-77.004930</td>\n",
       "      <td>member</td>\n",
       "    </tr>\n",
       "    <tr>\n",
       "      <th>4</th>\n",
       "      <td>classic_bike</td>\n",
       "      <td>2/10/24 1:11</td>\n",
       "      <td>2/10/24 1:23</td>\n",
       "      <td>Virginia Ave &amp; 25th St NW</td>\n",
       "      <td>20th &amp; O St NW / Dupont South</td>\n",
       "      <td>38.898460</td>\n",
       "      <td>-77.053052</td>\n",
       "      <td>38.908905</td>\n",
       "      <td>-77.044780</td>\n",
       "      <td>casual</td>\n",
       "    </tr>\n",
       "  </tbody>\n",
       "</table>\n",
       "</div>"
      ],
      "text/plain": [
       "   rideable_type     started_at       ended_at             start_station_name  \\\n",
       "0  electric_bike   2/1/24 21:18   2/1/24 21:27         Eckington Pl & Q St NE   \n",
       "1  electric_bike  2/15/24 16:46  2/15/24 16:59  Metro Center / 12th & G St NW   \n",
       "2   classic_bike   2/7/24 17:42   2/7/24 18:12                  4th & C St SW   \n",
       "3   classic_bike  2/22/24 16:43  2/22/24 16:56                  4th & M St SE   \n",
       "4   classic_bike   2/10/24 1:11   2/10/24 1:23      Virginia Ave & 25th St NW   \n",
       "\n",
       "                  end_station_name  start_lat  start_lng    end_lat  \\\n",
       "0                    5th & K St NW  38.910893 -77.005023  38.903040   \n",
       "1     Columbia Rd & Georgia Ave NW  38.898400 -77.027643  38.928121   \n",
       "2     Columbia Rd & Georgia Ave NW  38.886372 -77.017701  38.928121   \n",
       "3  Columbus Circle / Union Station  38.876751 -77.000736  38.896960   \n",
       "4    20th & O St NW / Dupont South  38.898460 -77.053052  38.908905   \n",
       "\n",
       "     end_lng member_casual  \n",
       "0 -77.019027        member  \n",
       "1 -77.023795        member  \n",
       "2 -77.023795        member  \n",
       "3 -77.004930        member  \n",
       "4 -77.044780        casual  "
      ]
     },
     "execution_count": 10,
     "metadata": {},
     "output_type": "execute_result"
    }
   ],
   "source": [
    "# Reset indices of table and print out table again to check it\n",
    "df.reset_index(drop=True, inplace=True)\n",
    "df.head()"
   ]
  },
  {
   "cell_type": "markdown",
   "id": "fad8c4a1-b5e1-40b0-aa98-62880d613955",
   "metadata": {},
   "source": [
    "Next, let's convert the data types of our data points. Specifically in this case, we are converting our strings to be datetime objects, as converting it to datetime objects will allow us to perform necessary operations or arithmetic later."
   ]
  },
  {
   "cell_type": "code",
   "execution_count": 11,
   "id": "deeaca55",
   "metadata": {},
   "outputs": [
    {
     "name": "stdout",
     "output_type": "stream",
     "text": [
      "<class 'pandas.core.frame.DataFrame'>\n",
      "RangeIndex: 246639 entries, 0 to 246638\n",
      "Data columns (total 10 columns):\n",
      " #   Column              Non-Null Count   Dtype         \n",
      "---  ------              --------------   -----         \n",
      " 0   rideable_type       246639 non-null  object        \n",
      " 1   started_at          246639 non-null  datetime64[ns]\n",
      " 2   ended_at            246639 non-null  datetime64[ns]\n",
      " 3   start_station_name  246639 non-null  object        \n",
      " 4   end_station_name    246639 non-null  object        \n",
      " 5   start_lat           246639 non-null  float64       \n",
      " 6   start_lng           246639 non-null  float64       \n",
      " 7   end_lat             246639 non-null  float64       \n",
      " 8   end_lng             246639 non-null  float64       \n",
      " 9   member_casual       246639 non-null  object        \n",
      "dtypes: datetime64[ns](2), float64(4), object(4)\n",
      "memory usage: 18.8+ MB\n"
     ]
    }
   ],
   "source": [
    "# Convert datatypes to datetime objects\n",
    "df[\"started_at\"] = pd.to_datetime(df[\"started_at\"])\n",
    "df[\"ended_at\"] = pd.to_datetime(df[\"ended_at\"])\n",
    "\n",
    "# List out columns\n",
    "df.info()"
   ]
  },
  {
   "cell_type": "code",
   "execution_count": 12,
   "id": "1af4d3d1",
   "metadata": {},
   "outputs": [
    {
     "data": {
      "text/html": [
       "<div>\n",
       "<style scoped>\n",
       "    .dataframe tbody tr th:only-of-type {\n",
       "        vertical-align: middle;\n",
       "    }\n",
       "\n",
       "    .dataframe tbody tr th {\n",
       "        vertical-align: top;\n",
       "    }\n",
       "\n",
       "    .dataframe thead th {\n",
       "        text-align: right;\n",
       "    }\n",
       "</style>\n",
       "<table border=\"1\" class=\"dataframe\">\n",
       "  <thead>\n",
       "    <tr style=\"text-align: right;\">\n",
       "      <th></th>\n",
       "      <th>rideable_type</th>\n",
       "      <th>started_at</th>\n",
       "      <th>ended_at</th>\n",
       "      <th>start_station_name</th>\n",
       "      <th>end_station_name</th>\n",
       "      <th>start_lat</th>\n",
       "      <th>start_lng</th>\n",
       "      <th>end_lat</th>\n",
       "      <th>end_lng</th>\n",
       "      <th>member_casual</th>\n",
       "    </tr>\n",
       "  </thead>\n",
       "  <tbody>\n",
       "    <tr>\n",
       "      <th>0</th>\n",
       "      <td>electric_bike</td>\n",
       "      <td>2024-02-01 21:18:00</td>\n",
       "      <td>2024-02-01 21:27:00</td>\n",
       "      <td>Eckington Pl &amp; Q St NE</td>\n",
       "      <td>5th &amp; K St NW</td>\n",
       "      <td>38.910893</td>\n",
       "      <td>-77.005023</td>\n",
       "      <td>38.903040</td>\n",
       "      <td>-77.019027</td>\n",
       "      <td>member</td>\n",
       "    </tr>\n",
       "    <tr>\n",
       "      <th>1</th>\n",
       "      <td>electric_bike</td>\n",
       "      <td>2024-02-15 16:46:00</td>\n",
       "      <td>2024-02-15 16:59:00</td>\n",
       "      <td>Metro Center / 12th &amp; G St NW</td>\n",
       "      <td>Columbia Rd &amp; Georgia Ave NW</td>\n",
       "      <td>38.898400</td>\n",
       "      <td>-77.027643</td>\n",
       "      <td>38.928121</td>\n",
       "      <td>-77.023795</td>\n",
       "      <td>member</td>\n",
       "    </tr>\n",
       "    <tr>\n",
       "      <th>2</th>\n",
       "      <td>classic_bike</td>\n",
       "      <td>2024-02-07 17:42:00</td>\n",
       "      <td>2024-02-07 18:12:00</td>\n",
       "      <td>4th &amp; C St SW</td>\n",
       "      <td>Columbia Rd &amp; Georgia Ave NW</td>\n",
       "      <td>38.886372</td>\n",
       "      <td>-77.017701</td>\n",
       "      <td>38.928121</td>\n",
       "      <td>-77.023795</td>\n",
       "      <td>member</td>\n",
       "    </tr>\n",
       "    <tr>\n",
       "      <th>3</th>\n",
       "      <td>classic_bike</td>\n",
       "      <td>2024-02-22 16:43:00</td>\n",
       "      <td>2024-02-22 16:56:00</td>\n",
       "      <td>4th &amp; M St SE</td>\n",
       "      <td>Columbus Circle / Union Station</td>\n",
       "      <td>38.876751</td>\n",
       "      <td>-77.000736</td>\n",
       "      <td>38.896960</td>\n",
       "      <td>-77.004930</td>\n",
       "      <td>member</td>\n",
       "    </tr>\n",
       "    <tr>\n",
       "      <th>4</th>\n",
       "      <td>classic_bike</td>\n",
       "      <td>2024-02-10 01:11:00</td>\n",
       "      <td>2024-02-10 01:23:00</td>\n",
       "      <td>Virginia Ave &amp; 25th St NW</td>\n",
       "      <td>20th &amp; O St NW / Dupont South</td>\n",
       "      <td>38.898460</td>\n",
       "      <td>-77.053052</td>\n",
       "      <td>38.908905</td>\n",
       "      <td>-77.044780</td>\n",
       "      <td>casual</td>\n",
       "    </tr>\n",
       "  </tbody>\n",
       "</table>\n",
       "</div>"
      ],
      "text/plain": [
       "   rideable_type          started_at            ended_at  \\\n",
       "0  electric_bike 2024-02-01 21:18:00 2024-02-01 21:27:00   \n",
       "1  electric_bike 2024-02-15 16:46:00 2024-02-15 16:59:00   \n",
       "2   classic_bike 2024-02-07 17:42:00 2024-02-07 18:12:00   \n",
       "3   classic_bike 2024-02-22 16:43:00 2024-02-22 16:56:00   \n",
       "4   classic_bike 2024-02-10 01:11:00 2024-02-10 01:23:00   \n",
       "\n",
       "              start_station_name                 end_station_name  start_lat  \\\n",
       "0         Eckington Pl & Q St NE                    5th & K St NW  38.910893   \n",
       "1  Metro Center / 12th & G St NW     Columbia Rd & Georgia Ave NW  38.898400   \n",
       "2                  4th & C St SW     Columbia Rd & Georgia Ave NW  38.886372   \n",
       "3                  4th & M St SE  Columbus Circle / Union Station  38.876751   \n",
       "4      Virginia Ave & 25th St NW    20th & O St NW / Dupont South  38.898460   \n",
       "\n",
       "   start_lng    end_lat    end_lng member_casual  \n",
       "0 -77.005023  38.903040 -77.019027        member  \n",
       "1 -77.027643  38.928121 -77.023795        member  \n",
       "2 -77.017701  38.928121 -77.023795        member  \n",
       "3 -77.000736  38.896960 -77.004930        member  \n",
       "4 -77.053052  38.908905 -77.044780        casual  "
      ]
     },
     "execution_count": 12,
     "metadata": {},
     "output_type": "execute_result"
    }
   ],
   "source": [
    "# Print out top of table to check\n",
    "df.head()"
   ]
  },
  {
   "cell_type": "markdown",
   "id": "b3d608fa-b7b5-4adc-a315-3ae5c391f10a",
   "metadata": {},
   "source": [
    "Let's perform some arithemtic with our datetime objects we converted earlier. We are subtracting the start and end times, in order to calculate a new data point, which is the duration of the bike ride. We then need to convert it into total number of minutes."
   ]
  },
  {
   "cell_type": "code",
   "execution_count": 13,
   "id": "8da7abc2",
   "metadata": {},
   "outputs": [
    {
     "data": {
      "text/html": [
       "<div>\n",
       "<style scoped>\n",
       "    .dataframe tbody tr th:only-of-type {\n",
       "        vertical-align: middle;\n",
       "    }\n",
       "\n",
       "    .dataframe tbody tr th {\n",
       "        vertical-align: top;\n",
       "    }\n",
       "\n",
       "    .dataframe thead th {\n",
       "        text-align: right;\n",
       "    }\n",
       "</style>\n",
       "<table border=\"1\" class=\"dataframe\">\n",
       "  <thead>\n",
       "    <tr style=\"text-align: right;\">\n",
       "      <th></th>\n",
       "      <th>rideable_type</th>\n",
       "      <th>started_at</th>\n",
       "      <th>ended_at</th>\n",
       "      <th>start_station_name</th>\n",
       "      <th>end_station_name</th>\n",
       "      <th>start_lat</th>\n",
       "      <th>start_lng</th>\n",
       "      <th>end_lat</th>\n",
       "      <th>end_lng</th>\n",
       "      <th>member_casual</th>\n",
       "      <th>time_duration</th>\n",
       "    </tr>\n",
       "  </thead>\n",
       "  <tbody>\n",
       "    <tr>\n",
       "      <th>0</th>\n",
       "      <td>electric_bike</td>\n",
       "      <td>2024-02-01 21:18:00</td>\n",
       "      <td>2024-02-01 21:27:00</td>\n",
       "      <td>Eckington Pl &amp; Q St NE</td>\n",
       "      <td>5th &amp; K St NW</td>\n",
       "      <td>38.910893</td>\n",
       "      <td>-77.005023</td>\n",
       "      <td>38.903040</td>\n",
       "      <td>-77.019027</td>\n",
       "      <td>member</td>\n",
       "      <td>9.0</td>\n",
       "    </tr>\n",
       "    <tr>\n",
       "      <th>1</th>\n",
       "      <td>electric_bike</td>\n",
       "      <td>2024-02-15 16:46:00</td>\n",
       "      <td>2024-02-15 16:59:00</td>\n",
       "      <td>Metro Center / 12th &amp; G St NW</td>\n",
       "      <td>Columbia Rd &amp; Georgia Ave NW</td>\n",
       "      <td>38.898400</td>\n",
       "      <td>-77.027643</td>\n",
       "      <td>38.928121</td>\n",
       "      <td>-77.023795</td>\n",
       "      <td>member</td>\n",
       "      <td>13.0</td>\n",
       "    </tr>\n",
       "    <tr>\n",
       "      <th>2</th>\n",
       "      <td>classic_bike</td>\n",
       "      <td>2024-02-07 17:42:00</td>\n",
       "      <td>2024-02-07 18:12:00</td>\n",
       "      <td>4th &amp; C St SW</td>\n",
       "      <td>Columbia Rd &amp; Georgia Ave NW</td>\n",
       "      <td>38.886372</td>\n",
       "      <td>-77.017701</td>\n",
       "      <td>38.928121</td>\n",
       "      <td>-77.023795</td>\n",
       "      <td>member</td>\n",
       "      <td>30.0</td>\n",
       "    </tr>\n",
       "    <tr>\n",
       "      <th>3</th>\n",
       "      <td>classic_bike</td>\n",
       "      <td>2024-02-22 16:43:00</td>\n",
       "      <td>2024-02-22 16:56:00</td>\n",
       "      <td>4th &amp; M St SE</td>\n",
       "      <td>Columbus Circle / Union Station</td>\n",
       "      <td>38.876751</td>\n",
       "      <td>-77.000736</td>\n",
       "      <td>38.896960</td>\n",
       "      <td>-77.004930</td>\n",
       "      <td>member</td>\n",
       "      <td>13.0</td>\n",
       "    </tr>\n",
       "    <tr>\n",
       "      <th>4</th>\n",
       "      <td>classic_bike</td>\n",
       "      <td>2024-02-10 01:11:00</td>\n",
       "      <td>2024-02-10 01:23:00</td>\n",
       "      <td>Virginia Ave &amp; 25th St NW</td>\n",
       "      <td>20th &amp; O St NW / Dupont South</td>\n",
       "      <td>38.898460</td>\n",
       "      <td>-77.053052</td>\n",
       "      <td>38.908905</td>\n",
       "      <td>-77.044780</td>\n",
       "      <td>casual</td>\n",
       "      <td>12.0</td>\n",
       "    </tr>\n",
       "  </tbody>\n",
       "</table>\n",
       "</div>"
      ],
      "text/plain": [
       "   rideable_type          started_at            ended_at  \\\n",
       "0  electric_bike 2024-02-01 21:18:00 2024-02-01 21:27:00   \n",
       "1  electric_bike 2024-02-15 16:46:00 2024-02-15 16:59:00   \n",
       "2   classic_bike 2024-02-07 17:42:00 2024-02-07 18:12:00   \n",
       "3   classic_bike 2024-02-22 16:43:00 2024-02-22 16:56:00   \n",
       "4   classic_bike 2024-02-10 01:11:00 2024-02-10 01:23:00   \n",
       "\n",
       "              start_station_name                 end_station_name  start_lat  \\\n",
       "0         Eckington Pl & Q St NE                    5th & K St NW  38.910893   \n",
       "1  Metro Center / 12th & G St NW     Columbia Rd & Georgia Ave NW  38.898400   \n",
       "2                  4th & C St SW     Columbia Rd & Georgia Ave NW  38.886372   \n",
       "3                  4th & M St SE  Columbus Circle / Union Station  38.876751   \n",
       "4      Virginia Ave & 25th St NW    20th & O St NW / Dupont South  38.898460   \n",
       "\n",
       "   start_lng    end_lat    end_lng member_casual  time_duration  \n",
       "0 -77.005023  38.903040 -77.019027        member            9.0  \n",
       "1 -77.027643  38.928121 -77.023795        member           13.0  \n",
       "2 -77.017701  38.928121 -77.023795        member           30.0  \n",
       "3 -77.000736  38.896960 -77.004930        member           13.0  \n",
       "4 -77.053052  38.908905 -77.044780        casual           12.0  "
      ]
     },
     "execution_count": 13,
     "metadata": {},
     "output_type": "execute_result"
    }
   ],
   "source": [
    "# Create new column and data point time duration\n",
    "df[\"time_duration\"] = (df[\"ended_at\"] - df[\"started_at\"]).dt.total_seconds()/60\n",
    "\n",
    "# Print out top of table to check again\n",
    "df.head()"
   ]
  },
  {
   "cell_type": "code",
   "execution_count": 14,
   "id": "09618c57",
   "metadata": {},
   "outputs": [
    {
     "name": "stdout",
     "output_type": "stream",
     "text": [
      "<class 'pandas.core.frame.DataFrame'>\n",
      "RangeIndex: 246639 entries, 0 to 246638\n",
      "Data columns (total 11 columns):\n",
      " #   Column              Non-Null Count   Dtype         \n",
      "---  ------              --------------   -----         \n",
      " 0   rideable_type       246639 non-null  object        \n",
      " 1   started_at          246639 non-null  datetime64[ns]\n",
      " 2   ended_at            246639 non-null  datetime64[ns]\n",
      " 3   start_station_name  246639 non-null  object        \n",
      " 4   end_station_name    246639 non-null  object        \n",
      " 5   start_lat           246639 non-null  float64       \n",
      " 6   start_lng           246639 non-null  float64       \n",
      " 7   end_lat             246639 non-null  float64       \n",
      " 8   end_lng             246639 non-null  float64       \n",
      " 9   member_casual       246639 non-null  object        \n",
      " 10  time_duration       246639 non-null  float64       \n",
      "dtypes: datetime64[ns](2), float64(5), object(4)\n",
      "memory usage: 20.7+ MB\n"
     ]
    }
   ],
   "source": [
    "# List out column infos\n",
    "df.info()"
   ]
  },
  {
   "cell_type": "markdown",
   "id": "18fdc4cf-e08d-49cd-9b3e-562378b72240",
   "metadata": {},
   "source": [
    "### Some Exploratory Analysis #1\n",
    "Let's conduct some exploratory analysis by creating a countplot for the type of bike: electric or regular. Since we're using the type of bike ridden in a trip as our dependent variable, we want to check for any skew in the frequency of each class. If there is a significant imbalance in classes, we would take a subsample of the excess class to match the number of the smaller class."
   ]
  },
  {
   "cell_type": "code",
   "execution_count": 15,
   "id": "c29579df",
   "metadata": {},
   "outputs": [
    {
     "data": {
      "text/plain": [
       "<AxesSubplot:xlabel='rideable_type', ylabel='count'>"
      ]
     },
     "execution_count": 15,
     "metadata": {},
     "output_type": "execute_result"
    },
    {
     "data": {
      "image/png": "[encoded data removed]",
      "text/plain": [
       "<Figure size 864x720 with 1 Axes>"
      ]
     },
     "metadata": {
      "needs_background": "light"
     },
     "output_type": "display_data"
    }
   ],
   "source": [
    "# Create a countplot for the type of bikes\n",
    "plt.figure(figsize=(12,10))\n",
    "sns.countplot(df[\"rideable_type\"])"
   ]
  },
  {
   "cell_type": "markdown",
   "id": "05d4fac4",
   "metadata": {},
   "source": [
    "In this case the balance between classic bike and electric bike is around 2:1 (slightly imbalanced resample)"
   ]
  },
  {
   "cell_type": "code",
   "execution_count": 16,
   "id": "d85d1170",
   "metadata": {},
   "outputs": [
    {
     "data": {
      "text/plain": [
       "classic_bike     156535\n",
       "electric_bike     90104\n",
       "Name: rideable_type, dtype: int64"
      ]
     },
     "execution_count": 16,
     "metadata": {},
     "output_type": "execute_result"
    }
   ],
   "source": [
    "df[\"rideable_type\"].value_counts()"
   ]
  },
  {
   "cell_type": "code",
   "execution_count": 21,
   "id": "36719567",
   "metadata": {},
   "outputs": [],
   "source": [
    "electric_bike_sample = df[df[\"rideable_type\"] == \"electric_bike\"]\n",
    "classic_bike_sample = df[df[\"rideable_type\"] == \"classic_bike\"].sample(n=len(electric_bike_sample), random_state=42)\n",
    "\n",
    "# Concatenate the electric bike sample and the sampled classic bikes to create the balanced DataFrame\n",
    "balanced_df = pd.concat([electric_bike_sample, classic_bike_sample])"
   ]
  },
  {
   "cell_type": "code",
   "execution_count": 22,
   "id": "f11980b6",
   "metadata": {},
   "outputs": [
    {
     "data": {
      "text/plain": [
       "electric_bike    90104\n",
       "classic_bike     90104\n",
       "Name: rideable_type, dtype: int64"
      ]
     },
     "execution_count": 22,
     "metadata": {},
     "output_type": "execute_result"
    }
   ],
   "source": [
    "balanced_df[\"rideable_type\"].value_counts()"
   ]
  },
  {
   "cell_type": "code",
   "execution_count": 23,
   "id": "85ddf64a",
   "metadata": {},
   "outputs": [
    {
     "data": {
      "text/plain": [
       "<AxesSubplot:xlabel='rideable_type', ylabel='count'>"
      ]
     },
     "execution_count": 23,
     "metadata": {},
     "output_type": "execute_result"
    },
    {
     "data": {
      "image/png": "[encoded data removed]",
      "text/plain": [
       "<Figure size 864x720 with 1 Axes>"
      ]
     },
     "metadata": {
      "needs_background": "light"
     },
     "output_type": "display_data"
    }
   ],
   "source": [
    "plt.figure(figsize=(12,10))\n",
    "sns.countplot(balanced_df[\"rideable_type\"])"
   ]
  },
  {
   "cell_type": "code",
   "execution_count": 24,
   "id": "4210f21d",
   "metadata": {},
   "outputs": [],
   "source": [
    "df = balanced_df"
   ]
  },
  {
   "cell_type": "markdown",
   "id": "e8dadc3d-e684-424e-94d9-610c1ae59e4b",
   "metadata": {},
   "source": [
    "### One Hot Encoding\n",
    "One-hot encoding is an essential technique for data scientists, used to convert multiclass categorical data into integer representations. For binary classification, we typically represent one class as 0 and the other as 1. However, for multiclass scenarios, we break the data into multiple columns, each representing a class. Importantly, we only need \\( n-1 \\) columns for \\( n \\) classes. This is because if all the other columns are 0, we can infer that the remaining class must be 1. Essentially, one class is dependent on the others.\n",
    "\n",
    "Many people might initially think that we can simply use 1 for one class, 2 for the next class, 3 for the following class, and so on. However, this approach can bias our machine learning algorithms, as it may inadvertently assign more importance to higher numerical values. Instead, we use one-hot encoding to avoid this issue. For example, with four classes, one-hot encoding would represent them as (1,0,0,0), (0,1,0,0), (0,0,1,0), and (0,0,0,1). This way, each class is treated equally, and no unintended hierarchical relationship is introduced. We can drop one of the columns listed to reduce the number of features."
   ]
  },
  {
   "cell_type": "code",
   "execution_count": 25,
   "id": "4988d7bc",
   "metadata": {},
   "outputs": [
    {
     "data": {
      "text/html": [
       "<div>\n",
       "<style scoped>\n",
       "    .dataframe tbody tr th:only-of-type {\n",
       "        vertical-align: middle;\n",
       "    }\n",
       "\n",
       "    .dataframe tbody tr th {\n",
       "        vertical-align: top;\n",
       "    }\n",
       "\n",
       "    .dataframe thead th {\n",
       "        text-align: right;\n",
       "    }\n",
       "</style>\n",
       "<table border=\"1\" class=\"dataframe\">\n",
       "  <thead>\n",
       "    <tr style=\"text-align: right;\">\n",
       "      <th></th>\n",
       "      <th>started_at</th>\n",
       "      <th>ended_at</th>\n",
       "      <th>start_station_name</th>\n",
       "      <th>end_station_name</th>\n",
       "      <th>start_lat</th>\n",
       "      <th>start_lng</th>\n",
       "      <th>end_lat</th>\n",
       "      <th>end_lng</th>\n",
       "      <th>time_duration</th>\n",
       "      <th>rideable_type_electric_bike</th>\n",
       "      <th>member_casual_member</th>\n",
       "    </tr>\n",
       "  </thead>\n",
       "  <tbody>\n",
       "    <tr>\n",
       "      <th>0</th>\n",
       "      <td>2024-02-01 21:18:00</td>\n",
       "      <td>2024-02-01 21:27:00</td>\n",
       "      <td>Eckington Pl &amp; Q St NE</td>\n",
       "      <td>5th &amp; K St NW</td>\n",
       "      <td>38.910893</td>\n",
       "      <td>-77.005023</td>\n",
       "      <td>38.903040</td>\n",
       "      <td>-77.019027</td>\n",
       "      <td>9.0</td>\n",
       "      <td>1</td>\n",
       "      <td>1</td>\n",
       "    </tr>\n",
       "    <tr>\n",
       "      <th>1</th>\n",
       "      <td>2024-02-15 16:46:00</td>\n",
       "      <td>2024-02-15 16:59:00</td>\n",
       "      <td>Metro Center / 12th &amp; G St NW</td>\n",
       "      <td>Columbia Rd &amp; Georgia Ave NW</td>\n",
       "      <td>38.898400</td>\n",
       "      <td>-77.027643</td>\n",
       "      <td>38.928121</td>\n",
       "      <td>-77.023795</td>\n",
       "      <td>13.0</td>\n",
       "      <td>1</td>\n",
       "      <td>1</td>\n",
       "    </tr>\n",
       "    <tr>\n",
       "      <th>7</th>\n",
       "      <td>2024-02-28 11:54:00</td>\n",
       "      <td>2024-02-28 12:01:00</td>\n",
       "      <td>North Capitol St &amp; F St NW</td>\n",
       "      <td>13th &amp; E St SE</td>\n",
       "      <td>38.897363</td>\n",
       "      <td>-77.009814</td>\n",
       "      <td>38.882915</td>\n",
       "      <td>-76.987907</td>\n",
       "      <td>7.0</td>\n",
       "      <td>1</td>\n",
       "      <td>0</td>\n",
       "    </tr>\n",
       "    <tr>\n",
       "      <th>9</th>\n",
       "      <td>2024-02-25 15:56:00</td>\n",
       "      <td>2024-02-25 16:03:00</td>\n",
       "      <td>Harvard St &amp; Adams Mill Rd NW</td>\n",
       "      <td>Georgia Ave &amp; Morton St NW</td>\n",
       "      <td>38.927858</td>\n",
       "      <td>-77.043285</td>\n",
       "      <td>38.932128</td>\n",
       "      <td>-77.023500</td>\n",
       "      <td>7.0</td>\n",
       "      <td>1</td>\n",
       "      <td>1</td>\n",
       "    </tr>\n",
       "    <tr>\n",
       "      <th>12</th>\n",
       "      <td>2024-02-09 23:51:00</td>\n",
       "      <td>2024-02-10 00:05:00</td>\n",
       "      <td>Virginia Ave &amp; 25th St NW</td>\n",
       "      <td>Maine Ave &amp; 9th St SW</td>\n",
       "      <td>38.898505</td>\n",
       "      <td>-77.052997</td>\n",
       "      <td>38.880440</td>\n",
       "      <td>-77.025236</td>\n",
       "      <td>14.0</td>\n",
       "      <td>1</td>\n",
       "      <td>0</td>\n",
       "    </tr>\n",
       "  </tbody>\n",
       "</table>\n",
       "</div>"
      ],
      "text/plain": [
       "            started_at            ended_at             start_station_name  \\\n",
       "0  2024-02-01 21:18:00 2024-02-01 21:27:00         Eckington Pl & Q St NE   \n",
       "1  2024-02-15 16:46:00 2024-02-15 16:59:00  Metro Center / 12th & G St NW   \n",
       "7  2024-02-28 11:54:00 2024-02-28 12:01:00     North Capitol St & F St NW   \n",
       "9  2024-02-25 15:56:00 2024-02-25 16:03:00  Harvard St & Adams Mill Rd NW   \n",
       "12 2024-02-09 23:51:00 2024-02-10 00:05:00      Virginia Ave & 25th St NW   \n",
       "\n",
       "                end_station_name  start_lat  start_lng    end_lat    end_lng  \\\n",
       "0                  5th & K St NW  38.910893 -77.005023  38.903040 -77.019027   \n",
       "1   Columbia Rd & Georgia Ave NW  38.898400 -77.027643  38.928121 -77.023795   \n",
       "7                 13th & E St SE  38.897363 -77.009814  38.882915 -76.987907   \n",
       "9     Georgia Ave & Morton St NW  38.927858 -77.043285  38.932128 -77.023500   \n",
       "12         Maine Ave & 9th St SW  38.898505 -77.052997  38.880440 -77.025236   \n",
       "\n",
       "    time_duration  rideable_type_electric_bike  member_casual_member  \n",
       "0             9.0                            1                     1  \n",
       "1            13.0                            1                     1  \n",
       "7             7.0                            1                     0  \n",
       "9             7.0                            1                     1  \n",
       "12           14.0                            1                     0  "
      ]
     },
     "execution_count": 25,
     "metadata": {},
     "output_type": "execute_result"
    }
   ],
   "source": [
    "# Create one hot encodings for the rideable_type and member_casual\n",
    "df = pd.get_dummies(df, columns=['rideable_type', 'member_casual'], drop_first=True)\n",
    "\n",
    "# Print out top of table to check\n",
    "df.head()"
   ]
  },
  {
   "cell_type": "markdown",
   "id": "ad99e976-91d4-4696-a731-313b1b2a8c7a",
   "metadata": {},
   "source": [
    "Let's perform some arithmetic using some of the data we already have. More specifically, we are calculating a new data point, the distance for each ride. In order to accomplish this task, we are using the Haversine Distance formula, which allows us to calculate the distacne between two ponts given their latitude and longitude coordinates. This is really helpful in the real world, as we live on a spherical ball."
   ]
  },
  {
   "cell_type": "code",
   "execution_count": 26,
   "id": "54226601",
   "metadata": {},
   "outputs": [],
   "source": [
    "# Create function for Haversine Distance formula\n",
    "def haversine_distance(lat1, lon1, lat2, lon2):\n",
    "    \"\"\"\n",
    "    Calculate the Haversine distance between two points given their latitude and longitude coordinates.\n",
    "    \"\"\"\n",
    "    R = 6371  # Radius of the Earth in kilometers\n",
    "    \n",
    "    # Convert latitude and longitude from degrees to radians\n",
    "    lat1, lon1, lat2, lon2 = map(np.radians, [lat1, lon1, lat2, lon2])\n",
    "    \n",
    "    # Haversine formula\n",
    "    dlat = lat2 - lat1\n",
    "    dlon = lon2 - lon1\n",
    "    a = np.sin(dlat/2)**2 + np.cos(lat1) * np.cos(lat2) * np.sin(dlon/2)**2\n",
    "    c = 2 * np.arcsin(np.sqrt(a))\n",
    "    distance = R * c\n",
    "    \n",
    "    return distance"
   ]
  },
  {
   "cell_type": "code",
   "execution_count": 27,
   "id": "db1855bc",
   "metadata": {},
   "outputs": [
    {
     "data": {
      "text/html": [
       "<div>\n",
       "<style scoped>\n",
       "    .dataframe tbody tr th:only-of-type {\n",
       "        vertical-align: middle;\n",
       "    }\n",
       "\n",
       "    .dataframe tbody tr th {\n",
       "        vertical-align: top;\n",
       "    }\n",
       "\n",
       "    .dataframe thead th {\n",
       "        text-align: right;\n",
       "    }\n",
       "</style>\n",
       "<table border=\"1\" class=\"dataframe\">\n",
       "  <thead>\n",
       "    <tr style=\"text-align: right;\">\n",
       "      <th></th>\n",
       "      <th>started_at</th>\n",
       "      <th>ended_at</th>\n",
       "      <th>start_station_name</th>\n",
       "      <th>end_station_name</th>\n",
       "      <th>start_lat</th>\n",
       "      <th>start_lng</th>\n",
       "      <th>end_lat</th>\n",
       "      <th>end_lng</th>\n",
       "      <th>time_duration</th>\n",
       "      <th>rideable_type_electric_bike</th>\n",
       "      <th>member_casual_member</th>\n",
       "      <th>distance_km</th>\n",
       "    </tr>\n",
       "  </thead>\n",
       "  <tbody>\n",
       "    <tr>\n",
       "      <th>0</th>\n",
       "      <td>2024-02-01 21:18:00</td>\n",
       "      <td>2024-02-01 21:27:00</td>\n",
       "      <td>Eckington Pl &amp; Q St NE</td>\n",
       "      <td>5th &amp; K St NW</td>\n",
       "      <td>38.910893</td>\n",
       "      <td>-77.005023</td>\n",
       "      <td>38.903040</td>\n",
       "      <td>-77.019027</td>\n",
       "      <td>9.0</td>\n",
       "      <td>1</td>\n",
       "      <td>1</td>\n",
       "      <td>1.493572</td>\n",
       "    </tr>\n",
       "    <tr>\n",
       "      <th>1</th>\n",
       "      <td>2024-02-15 16:46:00</td>\n",
       "      <td>2024-02-15 16:59:00</td>\n",
       "      <td>Metro Center / 12th &amp; G St NW</td>\n",
       "      <td>Columbia Rd &amp; Georgia Ave NW</td>\n",
       "      <td>38.898400</td>\n",
       "      <td>-77.027643</td>\n",
       "      <td>38.928121</td>\n",
       "      <td>-77.023795</td>\n",
       "      <td>13.0</td>\n",
       "      <td>1</td>\n",
       "      <td>1</td>\n",
       "      <td>3.321546</td>\n",
       "    </tr>\n",
       "    <tr>\n",
       "      <th>7</th>\n",
       "      <td>2024-02-28 11:54:00</td>\n",
       "      <td>2024-02-28 12:01:00</td>\n",
       "      <td>North Capitol St &amp; F St NW</td>\n",
       "      <td>13th &amp; E St SE</td>\n",
       "      <td>38.897363</td>\n",
       "      <td>-77.009814</td>\n",
       "      <td>38.882915</td>\n",
       "      <td>-76.987907</td>\n",
       "      <td>7.0</td>\n",
       "      <td>1</td>\n",
       "      <td>0</td>\n",
       "      <td>2.485127</td>\n",
       "    </tr>\n",
       "    <tr>\n",
       "      <th>9</th>\n",
       "      <td>2024-02-25 15:56:00</td>\n",
       "      <td>2024-02-25 16:03:00</td>\n",
       "      <td>Harvard St &amp; Adams Mill Rd NW</td>\n",
       "      <td>Georgia Ave &amp; Morton St NW</td>\n",
       "      <td>38.927858</td>\n",
       "      <td>-77.043285</td>\n",
       "      <td>38.932128</td>\n",
       "      <td>-77.023500</td>\n",
       "      <td>7.0</td>\n",
       "      <td>1</td>\n",
       "      <td>1</td>\n",
       "      <td>1.776064</td>\n",
       "    </tr>\n",
       "    <tr>\n",
       "      <th>12</th>\n",
       "      <td>2024-02-09 23:51:00</td>\n",
       "      <td>2024-02-10 00:05:00</td>\n",
       "      <td>Virginia Ave &amp; 25th St NW</td>\n",
       "      <td>Maine Ave &amp; 9th St SW</td>\n",
       "      <td>38.898505</td>\n",
       "      <td>-77.052997</td>\n",
       "      <td>38.880440</td>\n",
       "      <td>-77.025236</td>\n",
       "      <td>14.0</td>\n",
       "      <td>1</td>\n",
       "      <td>0</td>\n",
       "      <td>3.131704</td>\n",
       "    </tr>\n",
       "  </tbody>\n",
       "</table>\n",
       "</div>"
      ],
      "text/plain": [
       "            started_at            ended_at             start_station_name  \\\n",
       "0  2024-02-01 21:18:00 2024-02-01 21:27:00         Eckington Pl & Q St NE   \n",
       "1  2024-02-15 16:46:00 2024-02-15 16:59:00  Metro Center / 12th & G St NW   \n",
       "7  2024-02-28 11:54:00 2024-02-28 12:01:00     North Capitol St & F St NW   \n",
       "9  2024-02-25 15:56:00 2024-02-25 16:03:00  Harvard St & Adams Mill Rd NW   \n",
       "12 2024-02-09 23:51:00 2024-02-10 00:05:00      Virginia Ave & 25th St NW   \n",
       "\n",
       "                end_station_name  start_lat  start_lng    end_lat    end_lng  \\\n",
       "0                  5th & K St NW  38.910893 -77.005023  38.903040 -77.019027   \n",
       "1   Columbia Rd & Georgia Ave NW  38.898400 -77.027643  38.928121 -77.023795   \n",
       "7                 13th & E St SE  38.897363 -77.009814  38.882915 -76.987907   \n",
       "9     Georgia Ave & Morton St NW  38.927858 -77.043285  38.932128 -77.023500   \n",
       "12         Maine Ave & 9th St SW  38.898505 -77.052997  38.880440 -77.025236   \n",
       "\n",
       "    time_duration  rideable_type_electric_bike  member_casual_member  \\\n",
       "0             9.0                            1                     1   \n",
       "1            13.0                            1                     1   \n",
       "7             7.0                            1                     0   \n",
       "9             7.0                            1                     1   \n",
       "12           14.0                            1                     0   \n",
       "\n",
       "    distance_km  \n",
       "0      1.493572  \n",
       "1      3.321546  \n",
       "7      2.485127  \n",
       "9      1.776064  \n",
       "12     3.131704  "
      ]
     },
     "execution_count": 27,
     "metadata": {},
     "output_type": "execute_result"
    }
   ],
   "source": [
    "# Create new distance column calculating the haversine distance for each observation\n",
    "df['distance_km'] = haversine_distance(df['start_lat'], df['start_lng'], df['end_lat'], df['end_lng'])\n",
    "\n",
    "# Print out top of table to check\n",
    "df.head()"
   ]
  },
  {
   "cell_type": "code",
   "execution_count": 28,
   "id": "d900d2a2",
   "metadata": {},
   "outputs": [
    {
     "data": {
      "text/plain": [
       "758"
      ]
     },
     "execution_count": 28,
     "metadata": {},
     "output_type": "execute_result"
    }
   ],
   "source": [
    "# Print out number of unique start stations\n",
    "df[\"start_station_name\"].nunique()"
   ]
  },
  {
   "cell_type": "code",
   "execution_count": 29,
   "id": "320f40f2",
   "metadata": {},
   "outputs": [
    {
     "data": {
      "text/plain": [
       "Columbus Circle / Union Station                        2573\n",
       "New Hampshire Ave & T St NW                            2127\n",
       "15th & P St NW                                         1813\n",
       "Eastern Market Metro / Pennsylvania Ave & 8th St SE    1601\n",
       "5th & K St NW                                          1592\n",
       "                                                       ... \n",
       "Layton Hall Dr & University Dr                            1\n",
       "Green Range Dr and Glade Dr                               1\n",
       "Westbranch Dr & Maitland St                               1\n",
       "Ridge Rd & Southern Ave SE                                1\n",
       "Becontree Ln & Goldenrain Ct                              1\n",
       "Name: start_station_name, Length: 758, dtype: int64"
      ]
     },
     "execution_count": 29,
     "metadata": {},
     "output_type": "execute_result"
    }
   ],
   "source": [
    "# Print out count for each station name\n",
    "df[\"start_station_name\"].value_counts()"
   ]
  },
  {
   "cell_type": "markdown",
   "id": "c1b6cf5c-917f-4d4f-933a-0e29567f86cf",
   "metadata": {},
   "source": [
    "Let's calculate another new data point. In this case, we are calculating average speed, *how could this be useful?*. We believe this may be another metric which could give us valuable insight for our data."
   ]
  },
  {
   "cell_type": "code",
   "execution_count": 30,
   "id": "829ccf11",
   "metadata": {},
   "outputs": [],
   "source": [
    "# Calculate the time duration of the trip in minutes\n",
    "df[\"time_duration\"] = (df[\"ended_at\"] - df[\"started_at\"]).astype('timedelta64[m]')"
   ]
  },
  {
   "cell_type": "code",
   "execution_count": 31,
   "id": "1ff2d12f",
   "metadata": {},
   "outputs": [
    {
     "data": {
      "text/html": [
       "<div>\n",
       "<style scoped>\n",
       "    .dataframe tbody tr th:only-of-type {\n",
       "        vertical-align: middle;\n",
       "    }\n",
       "\n",
       "    .dataframe tbody tr th {\n",
       "        vertical-align: top;\n",
       "    }\n",
       "\n",
       "    .dataframe thead th {\n",
       "        text-align: right;\n",
       "    }\n",
       "</style>\n",
       "<table border=\"1\" class=\"dataframe\">\n",
       "  <thead>\n",
       "    <tr style=\"text-align: right;\">\n",
       "      <th></th>\n",
       "      <th>started_at</th>\n",
       "      <th>ended_at</th>\n",
       "      <th>start_station_name</th>\n",
       "      <th>end_station_name</th>\n",
       "      <th>start_lat</th>\n",
       "      <th>start_lng</th>\n",
       "      <th>end_lat</th>\n",
       "      <th>end_lng</th>\n",
       "      <th>time_duration</th>\n",
       "      <th>rideable_type_electric_bike</th>\n",
       "      <th>member_casual_member</th>\n",
       "      <th>distance_km</th>\n",
       "      <th>average_speed</th>\n",
       "    </tr>\n",
       "  </thead>\n",
       "  <tbody>\n",
       "    <tr>\n",
       "      <th>0</th>\n",
       "      <td>2024-02-01 21:18:00</td>\n",
       "      <td>2024-02-01 21:27:00</td>\n",
       "      <td>Eckington Pl &amp; Q St NE</td>\n",
       "      <td>5th &amp; K St NW</td>\n",
       "      <td>38.910893</td>\n",
       "      <td>-77.005023</td>\n",
       "      <td>38.903040</td>\n",
       "      <td>-77.019027</td>\n",
       "      <td>9.0</td>\n",
       "      <td>1</td>\n",
       "      <td>1</td>\n",
       "      <td>1.493572</td>\n",
       "      <td>9.957149</td>\n",
       "    </tr>\n",
       "    <tr>\n",
       "      <th>1</th>\n",
       "      <td>2024-02-15 16:46:00</td>\n",
       "      <td>2024-02-15 16:59:00</td>\n",
       "      <td>Metro Center / 12th &amp; G St NW</td>\n",
       "      <td>Columbia Rd &amp; Georgia Ave NW</td>\n",
       "      <td>38.898400</td>\n",
       "      <td>-77.027643</td>\n",
       "      <td>38.928121</td>\n",
       "      <td>-77.023795</td>\n",
       "      <td>13.0</td>\n",
       "      <td>1</td>\n",
       "      <td>1</td>\n",
       "      <td>3.321546</td>\n",
       "      <td>15.330212</td>\n",
       "    </tr>\n",
       "    <tr>\n",
       "      <th>7</th>\n",
       "      <td>2024-02-28 11:54:00</td>\n",
       "      <td>2024-02-28 12:01:00</td>\n",
       "      <td>North Capitol St &amp; F St NW</td>\n",
       "      <td>13th &amp; E St SE</td>\n",
       "      <td>38.897363</td>\n",
       "      <td>-77.009814</td>\n",
       "      <td>38.882915</td>\n",
       "      <td>-76.987907</td>\n",
       "      <td>7.0</td>\n",
       "      <td>1</td>\n",
       "      <td>0</td>\n",
       "      <td>2.485127</td>\n",
       "      <td>21.301085</td>\n",
       "    </tr>\n",
       "    <tr>\n",
       "      <th>9</th>\n",
       "      <td>2024-02-25 15:56:00</td>\n",
       "      <td>2024-02-25 16:03:00</td>\n",
       "      <td>Harvard St &amp; Adams Mill Rd NW</td>\n",
       "      <td>Georgia Ave &amp; Morton St NW</td>\n",
       "      <td>38.927858</td>\n",
       "      <td>-77.043285</td>\n",
       "      <td>38.932128</td>\n",
       "      <td>-77.023500</td>\n",
       "      <td>7.0</td>\n",
       "      <td>1</td>\n",
       "      <td>1</td>\n",
       "      <td>1.776064</td>\n",
       "      <td>15.223408</td>\n",
       "    </tr>\n",
       "    <tr>\n",
       "      <th>12</th>\n",
       "      <td>2024-02-09 23:51:00</td>\n",
       "      <td>2024-02-10 00:05:00</td>\n",
       "      <td>Virginia Ave &amp; 25th St NW</td>\n",
       "      <td>Maine Ave &amp; 9th St SW</td>\n",
       "      <td>38.898505</td>\n",
       "      <td>-77.052997</td>\n",
       "      <td>38.880440</td>\n",
       "      <td>-77.025236</td>\n",
       "      <td>14.0</td>\n",
       "      <td>1</td>\n",
       "      <td>0</td>\n",
       "      <td>3.131704</td>\n",
       "      <td>13.421590</td>\n",
       "    </tr>\n",
       "  </tbody>\n",
       "</table>\n",
       "</div>"
      ],
      "text/plain": [
       "            started_at            ended_at             start_station_name  \\\n",
       "0  2024-02-01 21:18:00 2024-02-01 21:27:00         Eckington Pl & Q St NE   \n",
       "1  2024-02-15 16:46:00 2024-02-15 16:59:00  Metro Center / 12th & G St NW   \n",
       "7  2024-02-28 11:54:00 2024-02-28 12:01:00     North Capitol St & F St NW   \n",
       "9  2024-02-25 15:56:00 2024-02-25 16:03:00  Harvard St & Adams Mill Rd NW   \n",
       "12 2024-02-09 23:51:00 2024-02-10 00:05:00      Virginia Ave & 25th St NW   \n",
       "\n",
       "                end_station_name  start_lat  start_lng    end_lat    end_lng  \\\n",
       "0                  5th & K St NW  38.910893 -77.005023  38.903040 -77.019027   \n",
       "1   Columbia Rd & Georgia Ave NW  38.898400 -77.027643  38.928121 -77.023795   \n",
       "7                 13th & E St SE  38.897363 -77.009814  38.882915 -76.987907   \n",
       "9     Georgia Ave & Morton St NW  38.927858 -77.043285  38.932128 -77.023500   \n",
       "12         Maine Ave & 9th St SW  38.898505 -77.052997  38.880440 -77.025236   \n",
       "\n",
       "    time_duration  rideable_type_electric_bike  member_casual_member  \\\n",
       "0             9.0                            1                     1   \n",
       "1            13.0                            1                     1   \n",
       "7             7.0                            1                     0   \n",
       "9             7.0                            1                     1   \n",
       "12           14.0                            1                     0   \n",
       "\n",
       "    distance_km  average_speed  \n",
       "0      1.493572       9.957149  \n",
       "1      3.321546      15.330212  \n",
       "7      2.485127      21.301085  \n",
       "9      1.776064      15.223408  \n",
       "12     3.131704      13.421590  "
      ]
     },
     "execution_count": 31,
     "metadata": {},
     "output_type": "execute_result"
    }
   ],
   "source": [
    "# Calculate new column average speed\n",
    "df[\"average_speed\"] = df[\"distance_km\"] / df[\"time_duration\"] * 60\n",
    "\n",
    "# Print out top of table to check\n",
    "df.head()"
   ]
  },
  {
   "cell_type": "code",
   "execution_count": 32,
   "id": "c1479616",
   "metadata": {},
   "outputs": [
    {
     "data": {
      "text/plain": [
       "5.0       13629\n",
       "6.0       13570\n",
       "7.0       13075\n",
       "4.0       12545\n",
       "8.0       12323\n",
       "          ...  \n",
       "220.0         1\n",
       "952.0         1\n",
       "1065.0        1\n",
       "1170.0        1\n",
       "1034.0        1\n",
       "Name: time_duration, Length: 392, dtype: int64"
      ]
     },
     "execution_count": 32,
     "metadata": {},
     "output_type": "execute_result"
    }
   ],
   "source": [
    "# Print out count for different values of time duration\n",
    "df[\"time_duration\"].value_counts()"
   ]
  },
  {
   "cell_type": "markdown",
   "id": "18c45781-a741-496e-b07b-cf64968dccdf",
   "metadata": {},
   "source": [
    "### Some Exploratory Analysis #2\n",
    "Now, let's perform some exploratory analysis. We are trying to see the frequency of observations, which fall within the variety of time durations. Notice, that we used a histogram. A histogram is useful in identifying any outliers in our data, as it shows the distribution of our data (how it differs according to a variable). As we can see from the graph, we know that a large majority of the data points lie below 200 minutes. Therefore, we have the choice of removing any data points above 200 minutes, as they may be outliers."
   ]
  },
  {
   "cell_type": "code",
   "execution_count": 33,
   "id": "51828786",
   "metadata": {},
   "outputs": [
    {
     "data": {
      "text/plain": [
       "(array([1.79757e+05, 3.16000e+02, 3.10000e+01, 1.50000e+01, 1.20000e+01,\n",
       "        1.60000e+01, 1.80000e+01, 1.80000e+01, 1.50000e+01, 1.00000e+01]),\n",
       " array([   0. ,  149.6,  299.2,  448.8,  598.4,  748. ,  897.6, 1047.2,\n",
       "        1196.8, 1346.4, 1496. ]),\n",
       " <BarContainer object of 10 artists>)"
      ]
     },
     "execution_count": 33,
     "metadata": {},
     "output_type": "execute_result"
    },
    {
     "data": {
      "image/png": "[encoded data removed]",
      "text/plain": [
       "<Figure size 1080x576 with 1 Axes>"
      ]
     },
     "metadata": {
      "needs_background": "light"
     },
     "output_type": "display_data"
    }
   ],
   "source": [
    "# Plot a histogram of time duration\n",
    "plt.figure(figsize=(15,8))\n",
    "plt.hist(df[\"time_duration\"])"
   ]
  },
  {
   "cell_type": "code",
   "execution_count": 34,
   "id": "fd275792",
   "metadata": {},
   "outputs": [
    {
     "name": "stdout",
     "output_type": "stream",
     "text": [
      "<class 'pandas.core.frame.DataFrame'>\n",
      "Int64Index: 180208 entries, 0 to 31740\n",
      "Data columns (total 13 columns):\n",
      " #   Column                       Non-Null Count   Dtype         \n",
      "---  ------                       --------------   -----         \n",
      " 0   started_at                   180208 non-null  datetime64[ns]\n",
      " 1   ended_at                     180208 non-null  datetime64[ns]\n",
      " 2   start_station_name           180208 non-null  object        \n",
      " 3   end_station_name             180208 non-null  object        \n",
      " 4   start_lat                    180208 non-null  float64       \n",
      " 5   start_lng                    180208 non-null  float64       \n",
      " 6   end_lat                      180208 non-null  float64       \n",
      " 7   end_lng                      180208 non-null  float64       \n",
      " 8   time_duration                180208 non-null  float64       \n",
      " 9   rideable_type_electric_bike  180208 non-null  uint8         \n",
      " 10  member_casual_member         180208 non-null  uint8         \n",
      " 11  distance_km                  180208 non-null  float64       \n",
      " 12  average_speed                179571 non-null  float64       \n",
      "dtypes: datetime64[ns](2), float64(7), object(2), uint8(2)\n",
      "memory usage: 16.8+ MB\n"
     ]
    }
   ],
   "source": [
    "# List out columns\n",
    "df.info()"
   ]
  },
  {
   "cell_type": "markdown",
   "id": "979ea39c-3f95-4f41-88c6-1cfe4caa1a5c",
   "metadata": {},
   "source": [
    "Next, let's drop some unreasonable data points. In this code, we'll drop any time durations equal to 0 minutes, as such a bike ride was not a complete trip. *What might this do to our data?*"
   ]
  },
  {
   "cell_type": "code",
   "execution_count": 35,
   "id": "b0e04dd3",
   "metadata": {},
   "outputs": [
    {
     "data": {
      "text/html": [
       "<div>\n",
       "<style scoped>\n",
       "    .dataframe tbody tr th:only-of-type {\n",
       "        vertical-align: middle;\n",
       "    }\n",
       "\n",
       "    .dataframe tbody tr th {\n",
       "        vertical-align: top;\n",
       "    }\n",
       "\n",
       "    .dataframe thead th {\n",
       "        text-align: right;\n",
       "    }\n",
       "</style>\n",
       "<table border=\"1\" class=\"dataframe\">\n",
       "  <thead>\n",
       "    <tr style=\"text-align: right;\">\n",
       "      <th></th>\n",
       "      <th>started_at</th>\n",
       "      <th>ended_at</th>\n",
       "      <th>start_station_name</th>\n",
       "      <th>end_station_name</th>\n",
       "      <th>start_lat</th>\n",
       "      <th>start_lng</th>\n",
       "      <th>end_lat</th>\n",
       "      <th>end_lng</th>\n",
       "      <th>time_duration</th>\n",
       "      <th>rideable_type_electric_bike</th>\n",
       "      <th>member_casual_member</th>\n",
       "      <th>distance_km</th>\n",
       "      <th>average_speed</th>\n",
       "    </tr>\n",
       "  </thead>\n",
       "  <tbody>\n",
       "    <tr>\n",
       "      <th>0</th>\n",
       "      <td>2024-02-01 21:18:00</td>\n",
       "      <td>2024-02-01 21:27:00</td>\n",
       "      <td>Eckington Pl &amp; Q St NE</td>\n",
       "      <td>5th &amp; K St NW</td>\n",
       "      <td>38.910893</td>\n",
       "      <td>-77.005023</td>\n",
       "      <td>38.903040</td>\n",
       "      <td>-77.019027</td>\n",
       "      <td>9.0</td>\n",
       "      <td>1</td>\n",
       "      <td>1</td>\n",
       "      <td>1.493572</td>\n",
       "      <td>9.957149</td>\n",
       "    </tr>\n",
       "    <tr>\n",
       "      <th>1</th>\n",
       "      <td>2024-02-15 16:46:00</td>\n",
       "      <td>2024-02-15 16:59:00</td>\n",
       "      <td>Metro Center / 12th &amp; G St NW</td>\n",
       "      <td>Columbia Rd &amp; Georgia Ave NW</td>\n",
       "      <td>38.898400</td>\n",
       "      <td>-77.027643</td>\n",
       "      <td>38.928121</td>\n",
       "      <td>-77.023795</td>\n",
       "      <td>13.0</td>\n",
       "      <td>1</td>\n",
       "      <td>1</td>\n",
       "      <td>3.321546</td>\n",
       "      <td>15.330212</td>\n",
       "    </tr>\n",
       "    <tr>\n",
       "      <th>7</th>\n",
       "      <td>2024-02-28 11:54:00</td>\n",
       "      <td>2024-02-28 12:01:00</td>\n",
       "      <td>North Capitol St &amp; F St NW</td>\n",
       "      <td>13th &amp; E St SE</td>\n",
       "      <td>38.897363</td>\n",
       "      <td>-77.009814</td>\n",
       "      <td>38.882915</td>\n",
       "      <td>-76.987907</td>\n",
       "      <td>7.0</td>\n",
       "      <td>1</td>\n",
       "      <td>0</td>\n",
       "      <td>2.485127</td>\n",
       "      <td>21.301085</td>\n",
       "    </tr>\n",
       "    <tr>\n",
       "      <th>9</th>\n",
       "      <td>2024-02-25 15:56:00</td>\n",
       "      <td>2024-02-25 16:03:00</td>\n",
       "      <td>Harvard St &amp; Adams Mill Rd NW</td>\n",
       "      <td>Georgia Ave &amp; Morton St NW</td>\n",
       "      <td>38.927858</td>\n",
       "      <td>-77.043285</td>\n",
       "      <td>38.932128</td>\n",
       "      <td>-77.023500</td>\n",
       "      <td>7.0</td>\n",
       "      <td>1</td>\n",
       "      <td>1</td>\n",
       "      <td>1.776064</td>\n",
       "      <td>15.223408</td>\n",
       "    </tr>\n",
       "    <tr>\n",
       "      <th>12</th>\n",
       "      <td>2024-02-09 23:51:00</td>\n",
       "      <td>2024-02-10 00:05:00</td>\n",
       "      <td>Virginia Ave &amp; 25th St NW</td>\n",
       "      <td>Maine Ave &amp; 9th St SW</td>\n",
       "      <td>38.898505</td>\n",
       "      <td>-77.052997</td>\n",
       "      <td>38.880440</td>\n",
       "      <td>-77.025236</td>\n",
       "      <td>14.0</td>\n",
       "      <td>1</td>\n",
       "      <td>0</td>\n",
       "      <td>3.131704</td>\n",
       "      <td>13.421590</td>\n",
       "    </tr>\n",
       "  </tbody>\n",
       "</table>\n",
       "</div>"
      ],
      "text/plain": [
       "            started_at            ended_at             start_station_name  \\\n",
       "0  2024-02-01 21:18:00 2024-02-01 21:27:00         Eckington Pl & Q St NE   \n",
       "1  2024-02-15 16:46:00 2024-02-15 16:59:00  Metro Center / 12th & G St NW   \n",
       "7  2024-02-28 11:54:00 2024-02-28 12:01:00     North Capitol St & F St NW   \n",
       "9  2024-02-25 15:56:00 2024-02-25 16:03:00  Harvard St & Adams Mill Rd NW   \n",
       "12 2024-02-09 23:51:00 2024-02-10 00:05:00      Virginia Ave & 25th St NW   \n",
       "\n",
       "                end_station_name  start_lat  start_lng    end_lat    end_lng  \\\n",
       "0                  5th & K St NW  38.910893 -77.005023  38.903040 -77.019027   \n",
       "1   Columbia Rd & Georgia Ave NW  38.898400 -77.027643  38.928121 -77.023795   \n",
       "7                 13th & E St SE  38.897363 -77.009814  38.882915 -76.987907   \n",
       "9     Georgia Ave & Morton St NW  38.927858 -77.043285  38.932128 -77.023500   \n",
       "12         Maine Ave & 9th St SW  38.898505 -77.052997  38.880440 -77.025236   \n",
       "\n",
       "    time_duration  rideable_type_electric_bike  member_casual_member  \\\n",
       "0             9.0                            1                     1   \n",
       "1            13.0                            1                     1   \n",
       "7             7.0                            1                     0   \n",
       "9             7.0                            1                     1   \n",
       "12           14.0                            1                     0   \n",
       "\n",
       "    distance_km  average_speed  \n",
       "0      1.493572       9.957149  \n",
       "1      3.321546      15.330212  \n",
       "7      2.485127      21.301085  \n",
       "9      1.776064      15.223408  \n",
       "12     3.131704      13.421590  "
      ]
     },
     "execution_count": 35,
     "metadata": {},
     "output_type": "execute_result"
    }
   ],
   "source": [
    "# Drop time durations under 0 minutes, too short\n",
    "df.drop(df[df[\"time_duration\"] <= 0].index, axis = 0, inplace=True)\n",
    "\n",
    "# Print top of table to check\n",
    "df.head()"
   ]
  },
  {
   "cell_type": "code",
   "execution_count": 36,
   "id": "9cc1bf71",
   "metadata": {},
   "outputs": [
    {
     "name": "stdout",
     "output_type": "stream",
     "text": [
      "<class 'pandas.core.frame.DataFrame'>\n",
      "Int64Index: 178998 entries, 0 to 31740\n",
      "Data columns (total 13 columns):\n",
      " #   Column                       Non-Null Count   Dtype         \n",
      "---  ------                       --------------   -----         \n",
      " 0   started_at                   178998 non-null  datetime64[ns]\n",
      " 1   ended_at                     178998 non-null  datetime64[ns]\n",
      " 2   start_station_name           178998 non-null  object        \n",
      " 3   end_station_name             178998 non-null  object        \n",
      " 4   start_lat                    178998 non-null  float64       \n",
      " 5   start_lng                    178998 non-null  float64       \n",
      " 6   end_lat                      178998 non-null  float64       \n",
      " 7   end_lng                      178998 non-null  float64       \n",
      " 8   time_duration                178998 non-null  float64       \n",
      " 9   rideable_type_electric_bike  178998 non-null  uint8         \n",
      " 10  member_casual_member         178998 non-null  uint8         \n",
      " 11  distance_km                  178998 non-null  float64       \n",
      " 12  average_speed                178998 non-null  float64       \n",
      "dtypes: datetime64[ns](2), float64(7), object(2), uint8(2)\n",
      "memory usage: 16.7+ MB\n"
     ]
    }
   ],
   "source": [
    "# List out columns\n",
    "df.info()"
   ]
  },
  {
   "cell_type": "markdown",
   "id": "0ecde046-677a-45ae-9ffd-d8a6fca06a2a",
   "metadata": {},
   "source": [
    "### Some Exploratory Analysis #3\n",
    "Let's perform some more exploratory analysis. From outputting our data table early on, did you notice some peculiar data points, specifically for our 'time duration' and 'average speed' data points? \n",
    "\n",
    "Some of the values seemed a little too unrealistic, for example, a person was riding for a total of 1400 minutes, which is about 24 hours??? On the other hand for average speed, some people were traveling at 250 km/hr???\n",
    "\n",
    "Sometimes, unrealistic data points may have been a result of an error or mistake in the data collection phase. Therefore, it is important to identify these points, and eliminate any points, which may seem incorrect. The graph below serves to compare these potential outliers, and identify any other ones. Since we our average speed was calculated based on time duration, we plot these two variables, in order to ensure the relationship between them makes sense. *What do you notice about the graph below?*"
   ]
  },
  {
   "cell_type": "code",
   "execution_count": 37,
   "id": "b47a053a",
   "metadata": {},
   "outputs": [
    {
     "data": {
      "text/plain": [
       "Text(0, 0.5, 'Average Speed')"
      ]
     },
     "execution_count": 37,
     "metadata": {},
     "output_type": "execute_result"
    },
    {
     "data": {
      "image/png": "[encoded data removed]",
      "text/plain": [
       "<Figure size 1080x576 with 1 Axes>"
      ]
     },
     "metadata": {
      "needs_background": "light"
     },
     "output_type": "display_data"
    }
   ],
   "source": [
    "# Create scatter plot for average speed vs time duration\n",
    "plt.figure(figsize=(15,8))\n",
    "plt.scatter(df[\"time_duration\"], df[\"average_speed\"])\n",
    "plt.title(\"Time Duration vs Average Speed\")\n",
    "plt.xlabel(\"Time Duration\")\n",
    "plt.ylabel(\"Average Speed\")"
   ]
  },
  {
   "cell_type": "code",
   "execution_count": 38,
   "id": "76cb05bb",
   "metadata": {},
   "outputs": [
    {
     "data": {
      "text/plain": [
       "10.876443763690371"
      ]
     },
     "execution_count": 38,
     "metadata": {},
     "output_type": "execute_result"
    }
   ],
   "source": [
    "# print the median average speed\n",
    "df['average_speed'].median()"
   ]
  },
  {
   "cell_type": "markdown",
   "id": "29cb0eed-525b-44ff-adc9-33785bf75b01",
   "metadata": {},
   "source": [
    "After examining the graph, do you notice anything noteworthy? If you look closely, you'll see that most of the average speeds are below approximately 35 km/hr, with a median of 10 km/hr. This suggests that 35 km/hr is a good upper threshold for valid data. Therefore, let's include only the data points with speeds below this threshold. Additionally, let's sort our observations by these values to easily identify the minimum and maximum average speeds.\n",
    "\n",
    "Note: We are creating a new dataframe so that we don't change any of the values in our original dataframe."
   ]
  },
  {
   "cell_type": "code",
   "execution_count": 39,
   "id": "c61ee699",
   "metadata": {},
   "outputs": [
    {
     "data": {
      "text/html": [
       "<div>\n",
       "<style scoped>\n",
       "    .dataframe tbody tr th:only-of-type {\n",
       "        vertical-align: middle;\n",
       "    }\n",
       "\n",
       "    .dataframe tbody tr th {\n",
       "        vertical-align: top;\n",
       "    }\n",
       "\n",
       "    .dataframe thead th {\n",
       "        text-align: right;\n",
       "    }\n",
       "</style>\n",
       "<table border=\"1\" class=\"dataframe\">\n",
       "  <thead>\n",
       "    <tr style=\"text-align: right;\">\n",
       "      <th></th>\n",
       "      <th>started_at</th>\n",
       "      <th>ended_at</th>\n",
       "      <th>start_station_name</th>\n",
       "      <th>end_station_name</th>\n",
       "      <th>start_lat</th>\n",
       "      <th>start_lng</th>\n",
       "      <th>end_lat</th>\n",
       "      <th>end_lng</th>\n",
       "      <th>time_duration</th>\n",
       "      <th>rideable_type_electric_bike</th>\n",
       "      <th>member_casual_member</th>\n",
       "      <th>distance_km</th>\n",
       "      <th>average_speed</th>\n",
       "    </tr>\n",
       "  </thead>\n",
       "  <tbody>\n",
       "    <tr>\n",
       "      <th>45051</th>\n",
       "      <td>2024-02-07 19:41:00</td>\n",
       "      <td>2024-02-07 19:42:00</td>\n",
       "      <td>Crystal Dr &amp; 20th St S</td>\n",
       "      <td>Crystal Dr &amp; 20th St S</td>\n",
       "      <td>38.856425</td>\n",
       "      <td>-77.049232</td>\n",
       "      <td>38.856425</td>\n",
       "      <td>-77.049232</td>\n",
       "      <td>1.0</td>\n",
       "      <td>0</td>\n",
       "      <td>1</td>\n",
       "      <td>0.0</td>\n",
       "      <td>0.0</td>\n",
       "    </tr>\n",
       "    <tr>\n",
       "      <th>29458</th>\n",
       "      <td>2024-02-25 16:03:00</td>\n",
       "      <td>2024-02-25 18:55:00</td>\n",
       "      <td>Veterans Pl &amp; Pershing Dr</td>\n",
       "      <td>Veterans Pl &amp; Pershing Dr</td>\n",
       "      <td>38.997445</td>\n",
       "      <td>-77.023894</td>\n",
       "      <td>38.997445</td>\n",
       "      <td>-77.023894</td>\n",
       "      <td>172.0</td>\n",
       "      <td>0</td>\n",
       "      <td>1</td>\n",
       "      <td>0.0</td>\n",
       "      <td>0.0</td>\n",
       "    </tr>\n",
       "    <tr>\n",
       "      <th>58896</th>\n",
       "      <td>2024-02-02 01:14:00</td>\n",
       "      <td>2024-02-02 01:15:00</td>\n",
       "      <td>21st St &amp; Pennsylvania Ave NW</td>\n",
       "      <td>21st St &amp; Pennsylvania Ave NW</td>\n",
       "      <td>38.901539</td>\n",
       "      <td>-77.046564</td>\n",
       "      <td>38.901539</td>\n",
       "      <td>-77.046564</td>\n",
       "      <td>1.0</td>\n",
       "      <td>0</td>\n",
       "      <td>0</td>\n",
       "      <td>0.0</td>\n",
       "      <td>0.0</td>\n",
       "    </tr>\n",
       "    <tr>\n",
       "      <th>244568</th>\n",
       "      <td>2024-02-21 15:20:00</td>\n",
       "      <td>2024-02-21 15:23:00</td>\n",
       "      <td>24th &amp; N St NW</td>\n",
       "      <td>24th &amp; N St NW</td>\n",
       "      <td>38.906600</td>\n",
       "      <td>-77.051520</td>\n",
       "      <td>38.906600</td>\n",
       "      <td>-77.051520</td>\n",
       "      <td>3.0</td>\n",
       "      <td>0</td>\n",
       "      <td>0</td>\n",
       "      <td>0.0</td>\n",
       "      <td>0.0</td>\n",
       "    </tr>\n",
       "    <tr>\n",
       "      <th>68774</th>\n",
       "      <td>2024-02-18 15:09:00</td>\n",
       "      <td>2024-02-18 17:50:00</td>\n",
       "      <td>34th &amp; Water St NW</td>\n",
       "      <td>34th &amp; Water St NW</td>\n",
       "      <td>38.903731</td>\n",
       "      <td>-77.067528</td>\n",
       "      <td>38.903731</td>\n",
       "      <td>-77.067528</td>\n",
       "      <td>161.0</td>\n",
       "      <td>0</td>\n",
       "      <td>0</td>\n",
       "      <td>0.0</td>\n",
       "      <td>0.0</td>\n",
       "    </tr>\n",
       "  </tbody>\n",
       "</table>\n",
       "</div>"
      ],
      "text/plain": [
       "                started_at            ended_at             start_station_name  \\\n",
       "45051  2024-02-07 19:41:00 2024-02-07 19:42:00         Crystal Dr & 20th St S   \n",
       "29458  2024-02-25 16:03:00 2024-02-25 18:55:00     Veterans Pl & Pershing Dr    \n",
       "58896  2024-02-02 01:14:00 2024-02-02 01:15:00  21st St & Pennsylvania Ave NW   \n",
       "244568 2024-02-21 15:20:00 2024-02-21 15:23:00                 24th & N St NW   \n",
       "68774  2024-02-18 15:09:00 2024-02-18 17:50:00             34th & Water St NW   \n",
       "\n",
       "                     end_station_name  start_lat  start_lng    end_lat  \\\n",
       "45051          Crystal Dr & 20th St S  38.856425 -77.049232  38.856425   \n",
       "29458      Veterans Pl & Pershing Dr   38.997445 -77.023894  38.997445   \n",
       "58896   21st St & Pennsylvania Ave NW  38.901539 -77.046564  38.901539   \n",
       "244568                 24th & N St NW  38.906600 -77.051520  38.906600   \n",
       "68774              34th & Water St NW  38.903731 -77.067528  38.903731   \n",
       "\n",
       "          end_lng  time_duration  rideable_type_electric_bike  \\\n",
       "45051  -77.049232            1.0                            0   \n",
       "29458  -77.023894          172.0                            0   \n",
       "58896  -77.046564            1.0                            0   \n",
       "244568 -77.051520            3.0                            0   \n",
       "68774  -77.067528          161.0                            0   \n",
       "\n",
       "        member_casual_member  distance_km  average_speed  \n",
       "45051                      1          0.0            0.0  \n",
       "29458                      1          0.0            0.0  \n",
       "58896                      0          0.0            0.0  \n",
       "244568                     0          0.0            0.0  \n",
       "68774                      0          0.0            0.0  "
      ]
     },
     "execution_count": 39,
     "metadata": {},
     "output_type": "execute_result"
    }
   ],
   "source": [
    "# Keep observations with average speed below 35, and sort them\n",
    "filtered_df = df[df['average_speed'] <= 35].sort_values(by='average_speed')\n",
    "\n",
    "# Print out top of table to check\n",
    "filtered_df.head()"
   ]
  },
  {
   "cell_type": "markdown",
   "id": "72a4515a-acb0-4963-8dd3-8770f5108b0a",
   "metadata": {},
   "source": [
    "Now, we will eliminate some more data points, in which seem unreaasonable. First, let's get rid of any bike rides where the start and end destination were the exact same. It is most likely these individuals barely moved, therefore, leading to inaccurate data. "
   ]
  },
  {
   "cell_type": "code",
   "execution_count": 40,
   "id": "9e3dde14",
   "metadata": {},
   "outputs": [],
   "source": [
    "# Drop same start and end stations\n",
    "filtered_df.drop(filtered_df[filtered_df[\"start_station_name\"] == filtered_df[\"end_station_name\"]].index, inplace=True)"
   ]
  },
  {
   "cell_type": "markdown",
   "id": "339fb109-3a03-4595-acf1-a8151ad22d02",
   "metadata": {},
   "source": [
    "Now, let's drop data points, where an individual was traveling below 0.2 km, as this only 200 meters. Some of the fastest people in the world run this distance in less than 20 seconds. Therefore, this bike ride would be incredibly short."
   ]
  },
  {
   "cell_type": "code",
   "execution_count": 41,
   "id": "0ef828ba",
   "metadata": {},
   "outputs": [],
   "source": [
    "# Drop observations with distance under 0.2 km\n",
    "filtered_df.drop(filtered_df[filtered_df[\"distance_km\"] <= .2].index, inplace=True)"
   ]
  },
  {
   "cell_type": "markdown",
   "id": "e9f526e5-6f84-41eb-b8c1-60769429a2b9",
   "metadata": {},
   "source": [
    "Now, let's drop data points, where the time spent riding the bike was greater than 300 minutes. Sometimes, data scientists will eliminate data points based on personal intuition, rather than relying on research. It is usually safer to rely on research or logic to back up your actions. However, for the purpose of this tutorial, we can agree that riding on a bike for more than 5 hours may be too long/unreasonable."
   ]
  },
  {
   "cell_type": "code",
   "execution_count": 42,
   "id": "dcf39bdc",
   "metadata": {},
   "outputs": [],
   "source": [
    "# Drop time durations longer than 300 minutes\n",
    "filtered_df.drop(filtered_df[filtered_df[\"time_duration\"] >= 300].index, inplace=True)"
   ]
  },
  {
   "cell_type": "code",
   "execution_count": 43,
   "id": "843a0562",
   "metadata": {},
   "outputs": [
    {
     "data": {
      "text/html": [
       "<div>\n",
       "<style scoped>\n",
       "    .dataframe tbody tr th:only-of-type {\n",
       "        vertical-align: middle;\n",
       "    }\n",
       "\n",
       "    .dataframe tbody tr th {\n",
       "        vertical-align: top;\n",
       "    }\n",
       "\n",
       "    .dataframe thead th {\n",
       "        text-align: right;\n",
       "    }\n",
       "</style>\n",
       "<table border=\"1\" class=\"dataframe\">\n",
       "  <thead>\n",
       "    <tr style=\"text-align: right;\">\n",
       "      <th></th>\n",
       "      <th>started_at</th>\n",
       "      <th>ended_at</th>\n",
       "      <th>start_station_name</th>\n",
       "      <th>end_station_name</th>\n",
       "      <th>start_lat</th>\n",
       "      <th>start_lng</th>\n",
       "      <th>end_lat</th>\n",
       "      <th>end_lng</th>\n",
       "      <th>time_duration</th>\n",
       "      <th>rideable_type_electric_bike</th>\n",
       "      <th>member_casual_member</th>\n",
       "      <th>distance_km</th>\n",
       "      <th>average_speed</th>\n",
       "    </tr>\n",
       "  </thead>\n",
       "  <tbody>\n",
       "    <tr>\n",
       "      <th>154530</th>\n",
       "      <td>2024-02-25 19:14:00</td>\n",
       "      <td>2024-02-26 00:00:00</td>\n",
       "      <td>14th &amp; V St NW</td>\n",
       "      <td>13th &amp; U St NW</td>\n",
       "      <td>38.917709</td>\n",
       "      <td>-77.031845</td>\n",
       "      <td>38.916936</td>\n",
       "      <td>-77.029631</td>\n",
       "      <td>286.0</td>\n",
       "      <td>1</td>\n",
       "      <td>0</td>\n",
       "      <td>0.209854</td>\n",
       "      <td>0.044025</td>\n",
       "    </tr>\n",
       "    <tr>\n",
       "      <th>144167</th>\n",
       "      <td>2024-02-10 13:55:00</td>\n",
       "      <td>2024-02-10 18:53:00</td>\n",
       "      <td>13th &amp; O St NW/ Logan Circle</td>\n",
       "      <td>14th &amp; Q St NW</td>\n",
       "      <td>38.908735</td>\n",
       "      <td>-77.029779</td>\n",
       "      <td>38.910674</td>\n",
       "      <td>-77.031880</td>\n",
       "      <td>298.0</td>\n",
       "      <td>0</td>\n",
       "      <td>0</td>\n",
       "      <td>0.282017</td>\n",
       "      <td>0.056782</td>\n",
       "    </tr>\n",
       "    <tr>\n",
       "      <th>5045</th>\n",
       "      <td>2024-02-26 09:58:00</td>\n",
       "      <td>2024-02-26 14:27:00</td>\n",
       "      <td>Prince St &amp; Union St</td>\n",
       "      <td>Market Square / King St &amp; Royal St</td>\n",
       "      <td>38.803124</td>\n",
       "      <td>-77.040363</td>\n",
       "      <td>38.804718</td>\n",
       "      <td>-77.043363</td>\n",
       "      <td>269.0</td>\n",
       "      <td>0</td>\n",
       "      <td>0</td>\n",
       "      <td>0.314635</td>\n",
       "      <td>0.070179</td>\n",
       "    </tr>\n",
       "    <tr>\n",
       "      <th>89191</th>\n",
       "      <td>2024-02-03 21:26:00</td>\n",
       "      <td>2024-02-04 00:21:00</td>\n",
       "      <td>21st &amp; I St NW</td>\n",
       "      <td>22nd &amp; I St NW / Foggy Bottom</td>\n",
       "      <td>38.900722</td>\n",
       "      <td>-77.046442</td>\n",
       "      <td>38.900880</td>\n",
       "      <td>-77.048911</td>\n",
       "      <td>175.0</td>\n",
       "      <td>1</td>\n",
       "      <td>0</td>\n",
       "      <td>0.214356</td>\n",
       "      <td>0.073494</td>\n",
       "    </tr>\n",
       "    <tr>\n",
       "      <th>18312</th>\n",
       "      <td>2024-02-16 15:38:00</td>\n",
       "      <td>2024-02-16 18:12:00</td>\n",
       "      <td>22nd &amp; I St NW / Foggy Bottom</td>\n",
       "      <td>New Hampshire Ave &amp; 24th St NW</td>\n",
       "      <td>38.900880</td>\n",
       "      <td>-77.048911</td>\n",
       "      <td>38.901755</td>\n",
       "      <td>-77.051084</td>\n",
       "      <td>154.0</td>\n",
       "      <td>0</td>\n",
       "      <td>0</td>\n",
       "      <td>0.211721</td>\n",
       "      <td>0.082489</td>\n",
       "    </tr>\n",
       "  </tbody>\n",
       "</table>\n",
       "</div>"
      ],
      "text/plain": [
       "                started_at            ended_at             start_station_name  \\\n",
       "154530 2024-02-25 19:14:00 2024-02-26 00:00:00                 14th & V St NW   \n",
       "144167 2024-02-10 13:55:00 2024-02-10 18:53:00   13th & O St NW/ Logan Circle   \n",
       "5045   2024-02-26 09:58:00 2024-02-26 14:27:00           Prince St & Union St   \n",
       "89191  2024-02-03 21:26:00 2024-02-04 00:21:00                 21st & I St NW   \n",
       "18312  2024-02-16 15:38:00 2024-02-16 18:12:00  22nd & I St NW / Foggy Bottom   \n",
       "\n",
       "                          end_station_name  start_lat  start_lng    end_lat  \\\n",
       "154530                      13th & U St NW  38.917709 -77.031845  38.916936   \n",
       "144167                      14th & Q St NW  38.908735 -77.029779  38.910674   \n",
       "5045    Market Square / King St & Royal St  38.803124 -77.040363  38.804718   \n",
       "89191        22nd & I St NW / Foggy Bottom  38.900722 -77.046442  38.900880   \n",
       "18312       New Hampshire Ave & 24th St NW  38.900880 -77.048911  38.901755   \n",
       "\n",
       "          end_lng  time_duration  rideable_type_electric_bike  \\\n",
       "154530 -77.029631          286.0                            1   \n",
       "144167 -77.031880          298.0                            0   \n",
       "5045   -77.043363          269.0                            0   \n",
       "89191  -77.048911          175.0                            1   \n",
       "18312  -77.051084          154.0                            0   \n",
       "\n",
       "        member_casual_member  distance_km  average_speed  \n",
       "154530                     0     0.209854       0.044025  \n",
       "144167                     0     0.282017       0.056782  \n",
       "5045                       0     0.314635       0.070179  \n",
       "89191                      0     0.214356       0.073494  \n",
       "18312                      0     0.211721       0.082489  "
      ]
     },
     "execution_count": 43,
     "metadata": {},
     "output_type": "execute_result"
    }
   ],
   "source": [
    "# print the filtered df after modifications\n",
    "filtered_df.head()"
   ]
  },
  {
   "cell_type": "markdown",
   "id": "88cea24d-818f-4546-aadb-a8631347de13",
   "metadata": {},
   "source": [
    "### Some Exploratory Analysis #4\n",
    "Let's perform some more exploratory analysis. Let's plot the distance traveled vs the average speed. *Why do you think we are doing this?* \n",
    "**THEN PROVIDE SOME REASON**"
   ]
  },
  {
   "cell_type": "code",
   "execution_count": 44,
   "id": "b6d4c454",
   "metadata": {},
   "outputs": [
    {
     "data": {
      "text/plain": [
       "<matplotlib.collections.PathCollection at 0x7f979f4e78e0>"
      ]
     },
     "execution_count": 44,
     "metadata": {},
     "output_type": "execute_result"
    },
    {
     "data": {
      "image/png": "[encoded data removed]",
      "text/plain": [
       "<Figure size 1080x576 with 1 Axes>"
      ]
     },
     "metadata": {
      "needs_background": "light"
     },
     "output_type": "display_data"
    }
   ],
   "source": [
    "# Create scatter plot for average speed vs distance\n",
    "plt.figure(figsize=(15,8))\n",
    "plt.scatter(filtered_df[\"distance_km\"], filtered_df[\"average_speed\"])"
   ]
  },
  {
   "cell_type": "markdown",
   "id": "30527306-db8e-41e1-bef6-f76dbe39333a",
   "metadata": {},
   "source": [
    "### Some Exploratory Analysis #5\n",
    "Let's perform some more exploratory analysis. This time, let's do something similar, but instead plot the time duration vs the average speed. *Why do you think we are doing this?* \n",
    "**THEN PROVIDE SOME REASON**"
   ]
  },
  {
   "cell_type": "code",
   "execution_count": 45,
   "id": "a1ac436a",
   "metadata": {},
   "outputs": [
    {
     "data": {
      "text/plain": [
       "Text(0.5, 1.0, 'time duration vs average speed')"
      ]
     },
     "execution_count": 45,
     "metadata": {},
     "output_type": "execute_result"
    },
    {
     "data": {
      "image/png": "[encoded data removed]",
      "text/plain": [
       "<Figure size 1080x576 with 1 Axes>"
      ]
     },
     "metadata": {
      "needs_background": "light"
     },
     "output_type": "display_data"
    }
   ],
   "source": [
    "# Plot scatter plot for average speed vs time duration\n",
    "plt.figure(figsize=(15,8))\n",
    "plt.scatter(filtered_df[\"time_duration\"], filtered_df[\"average_speed\"])\n",
    "plt.xlabel(\"time duration\")\n",
    "plt.ylabel(\"average speed\")\n",
    "plt.title(\"time duration vs average speed\")"
   ]
  },
  {
   "cell_type": "markdown",
   "id": "2cbde8e7-5e30-4088-9070-2203de1a0887",
   "metadata": {},
   "source": [
    "Let's sort the values of our distance traveled to once again better view the minimum and maxiumum value of our distance traveled data point. "
   ]
  },
  {
   "cell_type": "code",
   "execution_count": 46,
   "id": "2b555f54",
   "metadata": {},
   "outputs": [
    {
     "data": {
      "text/html": [
       "<div>\n",
       "<style scoped>\n",
       "    .dataframe tbody tr th:only-of-type {\n",
       "        vertical-align: middle;\n",
       "    }\n",
       "\n",
       "    .dataframe tbody tr th {\n",
       "        vertical-align: top;\n",
       "    }\n",
       "\n",
       "    .dataframe thead th {\n",
       "        text-align: right;\n",
       "    }\n",
       "</style>\n",
       "<table border=\"1\" class=\"dataframe\">\n",
       "  <thead>\n",
       "    <tr style=\"text-align: right;\">\n",
       "      <th></th>\n",
       "      <th>started_at</th>\n",
       "      <th>ended_at</th>\n",
       "      <th>start_station_name</th>\n",
       "      <th>end_station_name</th>\n",
       "      <th>start_lat</th>\n",
       "      <th>start_lng</th>\n",
       "      <th>end_lat</th>\n",
       "      <th>end_lng</th>\n",
       "      <th>time_duration</th>\n",
       "      <th>rideable_type_electric_bike</th>\n",
       "      <th>member_casual_member</th>\n",
       "      <th>distance_km</th>\n",
       "      <th>average_speed</th>\n",
       "    </tr>\n",
       "  </thead>\n",
       "  <tbody>\n",
       "    <tr>\n",
       "      <th>208772</th>\n",
       "      <td>2024-02-10 07:11:00</td>\n",
       "      <td>2024-02-10 07:13:00</td>\n",
       "      <td>Rhode Island Ave Metro</td>\n",
       "      <td>MBT &amp; Bryant St NE</td>\n",
       "      <td>38.920606</td>\n",
       "      <td>-76.995917</td>\n",
       "      <td>38.922404</td>\n",
       "      <td>-76.996023</td>\n",
       "      <td>2.0</td>\n",
       "      <td>1</td>\n",
       "      <td>0</td>\n",
       "      <td>0.200084</td>\n",
       "      <td>6.002520</td>\n",
       "    </tr>\n",
       "    <tr>\n",
       "      <th>12797</th>\n",
       "      <td>2024-02-29 12:48:00</td>\n",
       "      <td>2024-02-29 14:23:00</td>\n",
       "      <td>19th &amp; G St NW</td>\n",
       "      <td>18th St &amp; Pennsylvania Ave NW</td>\n",
       "      <td>38.898412</td>\n",
       "      <td>-77.043182</td>\n",
       "      <td>38.899680</td>\n",
       "      <td>-77.041539</td>\n",
       "      <td>95.0</td>\n",
       "      <td>0</td>\n",
       "      <td>0</td>\n",
       "      <td>0.200238</td>\n",
       "      <td>0.126466</td>\n",
       "    </tr>\n",
       "    <tr>\n",
       "      <th>97494</th>\n",
       "      <td>2024-02-27 18:33:00</td>\n",
       "      <td>2024-02-27 18:35:00</td>\n",
       "      <td>18th St &amp; Pennsylvania Ave NW</td>\n",
       "      <td>19th &amp; G St NW</td>\n",
       "      <td>38.899680</td>\n",
       "      <td>-77.041539</td>\n",
       "      <td>38.898412</td>\n",
       "      <td>-77.043182</td>\n",
       "      <td>2.0</td>\n",
       "      <td>0</td>\n",
       "      <td>1</td>\n",
       "      <td>0.200238</td>\n",
       "      <td>6.007141</td>\n",
       "    </tr>\n",
       "    <tr>\n",
       "      <th>142630</th>\n",
       "      <td>2024-02-05 20:27:00</td>\n",
       "      <td>2024-02-05 20:28:00</td>\n",
       "      <td>19th &amp; G St NW</td>\n",
       "      <td>18th St &amp; Pennsylvania Ave NW</td>\n",
       "      <td>38.898412</td>\n",
       "      <td>-77.043182</td>\n",
       "      <td>38.899680</td>\n",
       "      <td>-77.041539</td>\n",
       "      <td>1.0</td>\n",
       "      <td>0</td>\n",
       "      <td>1</td>\n",
       "      <td>0.200238</td>\n",
       "      <td>12.014282</td>\n",
       "    </tr>\n",
       "    <tr>\n",
       "      <th>142631</th>\n",
       "      <td>2024-02-05 20:24:00</td>\n",
       "      <td>2024-02-05 20:25:00</td>\n",
       "      <td>19th &amp; G St NW</td>\n",
       "      <td>18th St &amp; Pennsylvania Ave NW</td>\n",
       "      <td>38.898412</td>\n",
       "      <td>-77.043182</td>\n",
       "      <td>38.899680</td>\n",
       "      <td>-77.041539</td>\n",
       "      <td>1.0</td>\n",
       "      <td>0</td>\n",
       "      <td>1</td>\n",
       "      <td>0.200238</td>\n",
       "      <td>12.014282</td>\n",
       "    </tr>\n",
       "    <tr>\n",
       "      <th>...</th>\n",
       "      <td>...</td>\n",
       "      <td>...</td>\n",
       "      <td>...</td>\n",
       "      <td>...</td>\n",
       "      <td>...</td>\n",
       "      <td>...</td>\n",
       "      <td>...</td>\n",
       "      <td>...</td>\n",
       "      <td>...</td>\n",
       "      <td>...</td>\n",
       "      <td>...</td>\n",
       "      <td>...</td>\n",
       "      <td>...</td>\n",
       "    </tr>\n",
       "    <tr>\n",
       "      <th>89873</th>\n",
       "      <td>2024-02-18 15:02:00</td>\n",
       "      <td>2024-02-18 16:59:00</td>\n",
       "      <td>Wiehle-Reston Metro South</td>\n",
       "      <td>N Pershing Dr &amp; N Wayne St</td>\n",
       "      <td>38.946638</td>\n",
       "      <td>-77.339438</td>\n",
       "      <td>38.880705</td>\n",
       "      <td>-77.085960</td>\n",
       "      <td>117.0</td>\n",
       "      <td>1</td>\n",
       "      <td>1</td>\n",
       "      <td>23.123921</td>\n",
       "      <td>11.858421</td>\n",
       "    </tr>\n",
       "    <tr>\n",
       "      <th>67637</th>\n",
       "      <td>2024-02-04 09:55:00</td>\n",
       "      <td>2024-02-04 12:10:00</td>\n",
       "      <td>S Four Mile Run Dr &amp; Walter Reed Dr</td>\n",
       "      <td>W&amp;OD Trail/Sunset Hills Rd &amp; Isaac Newton Sq</td>\n",
       "      <td>38.847360</td>\n",
       "      <td>-77.095431</td>\n",
       "      <td>38.951443</td>\n",
       "      <td>-77.340377</td>\n",
       "      <td>135.0</td>\n",
       "      <td>0</td>\n",
       "      <td>1</td>\n",
       "      <td>24.150733</td>\n",
       "      <td>10.733659</td>\n",
       "    </tr>\n",
       "    <tr>\n",
       "      <th>121869</th>\n",
       "      <td>2024-02-03 09:58:00</td>\n",
       "      <td>2024-02-03 11:57:00</td>\n",
       "      <td>Reston Town Center Metro North</td>\n",
       "      <td>34th &amp; Water St NW</td>\n",
       "      <td>38.953618</td>\n",
       "      <td>-77.359698</td>\n",
       "      <td>38.903731</td>\n",
       "      <td>-77.067528</td>\n",
       "      <td>119.0</td>\n",
       "      <td>1</td>\n",
       "      <td>0</td>\n",
       "      <td>25.874759</td>\n",
       "      <td>13.046097</td>\n",
       "    </tr>\n",
       "    <tr>\n",
       "      <th>19418</th>\n",
       "      <td>2024-02-24 07:15:00</td>\n",
       "      <td>2024-02-24 09:15:00</td>\n",
       "      <td>North Shore &amp; Cameron Crescent Dr/Crescent Apa...</td>\n",
       "      <td>Harvard St &amp; Adams Mill Rd NW</td>\n",
       "      <td>38.970145</td>\n",
       "      <td>-77.338663</td>\n",
       "      <td>38.927872</td>\n",
       "      <td>-77.043358</td>\n",
       "      <td>120.0</td>\n",
       "      <td>1</td>\n",
       "      <td>0</td>\n",
       "      <td>25.966048</td>\n",
       "      <td>12.983024</td>\n",
       "    </tr>\n",
       "    <tr>\n",
       "      <th>165110</th>\n",
       "      <td>2024-02-24 15:32:00</td>\n",
       "      <td>2024-02-24 17:44:00</td>\n",
       "      <td>20th &amp; O St NW / Dupont South</td>\n",
       "      <td>North Shore &amp; Cameron Crescent Dr/Crescent Apa...</td>\n",
       "      <td>38.908705</td>\n",
       "      <td>-77.044971</td>\n",
       "      <td>38.970046</td>\n",
       "      <td>-77.338686</td>\n",
       "      <td>132.0</td>\n",
       "      <td>1</td>\n",
       "      <td>0</td>\n",
       "      <td>26.302805</td>\n",
       "      <td>11.955821</td>\n",
       "    </tr>\n",
       "  </tbody>\n",
       "</table>\n",
       "<p>172428 rows × 13 columns</p>\n",
       "</div>"
      ],
      "text/plain": [
       "                started_at            ended_at  \\\n",
       "208772 2024-02-10 07:11:00 2024-02-10 07:13:00   \n",
       "12797  2024-02-29 12:48:00 2024-02-29 14:23:00   \n",
       "97494  2024-02-27 18:33:00 2024-02-27 18:35:00   \n",
       "142630 2024-02-05 20:27:00 2024-02-05 20:28:00   \n",
       "142631 2024-02-05 20:24:00 2024-02-05 20:25:00   \n",
       "...                    ...                 ...   \n",
       "89873  2024-02-18 15:02:00 2024-02-18 16:59:00   \n",
       "67637  2024-02-04 09:55:00 2024-02-04 12:10:00   \n",
       "121869 2024-02-03 09:58:00 2024-02-03 11:57:00   \n",
       "19418  2024-02-24 07:15:00 2024-02-24 09:15:00   \n",
       "165110 2024-02-24 15:32:00 2024-02-24 17:44:00   \n",
       "\n",
       "                                       start_station_name  \\\n",
       "208772                             Rhode Island Ave Metro   \n",
       "12797                                      19th & G St NW   \n",
       "97494                       18th St & Pennsylvania Ave NW   \n",
       "142630                                     19th & G St NW   \n",
       "142631                                     19th & G St NW   \n",
       "...                                                   ...   \n",
       "89873                           Wiehle-Reston Metro South   \n",
       "67637                 S Four Mile Run Dr & Walter Reed Dr   \n",
       "121869                     Reston Town Center Metro North   \n",
       "19418   North Shore & Cameron Crescent Dr/Crescent Apa...   \n",
       "165110                      20th & O St NW / Dupont South   \n",
       "\n",
       "                                         end_station_name  start_lat  \\\n",
       "208772                                 MBT & Bryant St NE  38.920606   \n",
       "12797                       18th St & Pennsylvania Ave NW  38.898412   \n",
       "97494                                      19th & G St NW  38.899680   \n",
       "142630                      18th St & Pennsylvania Ave NW  38.898412   \n",
       "142631                      18th St & Pennsylvania Ave NW  38.898412   \n",
       "...                                                   ...        ...   \n",
       "89873                          N Pershing Dr & N Wayne St  38.946638   \n",
       "67637        W&OD Trail/Sunset Hills Rd & Isaac Newton Sq  38.847360   \n",
       "121869                                 34th & Water St NW  38.953618   \n",
       "19418                       Harvard St & Adams Mill Rd NW  38.970145   \n",
       "165110  North Shore & Cameron Crescent Dr/Crescent Apa...  38.908705   \n",
       "\n",
       "        start_lng    end_lat    end_lng  time_duration  \\\n",
       "208772 -76.995917  38.922404 -76.996023            2.0   \n",
       "12797  -77.043182  38.899680 -77.041539           95.0   \n",
       "97494  -77.041539  38.898412 -77.043182            2.0   \n",
       "142630 -77.043182  38.899680 -77.041539            1.0   \n",
       "142631 -77.043182  38.899680 -77.041539            1.0   \n",
       "...           ...        ...        ...            ...   \n",
       "89873  -77.339438  38.880705 -77.085960          117.0   \n",
       "67637  -77.095431  38.951443 -77.340377          135.0   \n",
       "121869 -77.359698  38.903731 -77.067528          119.0   \n",
       "19418  -77.338663  38.927872 -77.043358          120.0   \n",
       "165110 -77.044971  38.970046 -77.338686          132.0   \n",
       "\n",
       "        rideable_type_electric_bike  member_casual_member  distance_km  \\\n",
       "208772                            1                     0     0.200084   \n",
       "12797                             0                     0     0.200238   \n",
       "97494                             0                     1     0.200238   \n",
       "142630                            0                     1     0.200238   \n",
       "142631                            0                     1     0.200238   \n",
       "...                             ...                   ...          ...   \n",
       "89873                             1                     1    23.123921   \n",
       "67637                             0                     1    24.150733   \n",
       "121869                            1                     0    25.874759   \n",
       "19418                             1                     0    25.966048   \n",
       "165110                            1                     0    26.302805   \n",
       "\n",
       "        average_speed  \n",
       "208772       6.002520  \n",
       "12797        0.126466  \n",
       "97494        6.007141  \n",
       "142630      12.014282  \n",
       "142631      12.014282  \n",
       "...               ...  \n",
       "89873       11.858421  \n",
       "67637       10.733659  \n",
       "121869      13.046097  \n",
       "19418       12.983024  \n",
       "165110      11.955821  \n",
       "\n",
       "[172428 rows x 13 columns]"
      ]
     },
     "execution_count": 46,
     "metadata": {},
     "output_type": "execute_result"
    }
   ],
   "source": [
    "# Sort observations by distances\n",
    "filtered_df.sort_values(by='distance_km')"
   ]
  },
  {
   "cell_type": "markdown",
   "id": "bc8f64df",
   "metadata": {},
   "source": [
    "### Checking Data\n",
    "We will try and determine if these values seem reasonable now, ensuring that we removed the sensor/data misinformation."
   ]
  },
  {
   "cell_type": "code",
   "execution_count": 47,
   "id": "8813d4f4",
   "metadata": {},
   "outputs": [
    {
     "data": {
      "text/plain": [
       "9.0"
      ]
     },
     "execution_count": 47,
     "metadata": {},
     "output_type": "execute_result"
    }
   ],
   "source": [
    "# Calculate median of time duration data points\n",
    "filtered_df[\"time_duration\"].median()"
   ]
  },
  {
   "cell_type": "code",
   "execution_count": 48,
   "id": "9b1ac299",
   "metadata": {},
   "outputs": [],
   "source": [
    "# Reset indices\n",
    "filtered_df.reset_index(drop=True, inplace=True)"
   ]
  },
  {
   "cell_type": "code",
   "execution_count": 49,
   "id": "b8f66459",
   "metadata": {},
   "outputs": [
    {
     "data": {
      "text/plain": [
       "16215     0.200084\n",
       "32        0.200238\n",
       "16241     0.200238\n",
       "102526    0.200238\n",
       "102528    0.200238\n",
       "102527    0.200238\n",
       "16334     0.200692\n",
       "102949    0.200692\n",
       "102948    0.200692\n",
       "8007      0.200822\n",
       "103103    0.200849\n",
       "16364     0.200859\n",
       "16365     0.200859\n",
       "103107    0.200859\n",
       "343       0.200859\n",
       "30        0.200863\n",
       "5563      0.200946\n",
       "103194    0.200946\n",
       "103195    0.200946\n",
       "103196    0.200946\n",
       "103193    0.200946\n",
       "154       0.200946\n",
       "8021      0.200946\n",
       "103338    0.201076\n",
       "103543    0.201290\n",
       "103542    0.201290\n",
       "103546    0.201291\n",
       "16485     0.201565\n",
       "16492     0.201590\n",
       "16508     0.201702\n",
       "4324      0.202579\n",
       "64        0.202655\n",
       "16703     0.202655\n",
       "16702     0.202655\n",
       "16699     0.202655\n",
       "16700     0.202655\n",
       "16701     0.202655\n",
       "3529      0.202974\n",
       "105204    0.202974\n",
       "105203    0.202974\n",
       "16755     0.202974\n",
       "105998    0.203785\n",
       "105997    0.203785\n",
       "105999    0.203785\n",
       "106002    0.203785\n",
       "106000    0.203785\n",
       "106001    0.203785\n",
       "16881     0.203785\n",
       "16882     0.203785\n",
       "16883     0.203785\n",
       "Name: distance_km, dtype: float64"
      ]
     },
     "execution_count": 49,
     "metadata": {},
     "output_type": "execute_result"
    }
   ],
   "source": [
    "# Sort the distances, and print out first 50\n",
    "filtered_df[\"distance_km\"].sort_values()[:50]"
   ]
  },
  {
   "cell_type": "code",
   "execution_count": 50,
   "id": "138dfd41",
   "metadata": {},
   "outputs": [
    {
     "data": {
      "text/plain": [
       "started_at                                         2024-02-04 16:52:00\n",
       "ended_at                                           2024-02-04 17:05:00\n",
       "start_station_name             Central Library / Quincy St & 10th St N\n",
       "end_station_name                 Ballston Metro / Stuart St & 9th St N\n",
       "start_lat                                                     38.88397\n",
       "start_lng                                                    -77.10783\n",
       "end_lat                                                      38.881044\n",
       "end_lng                                                     -77.111768\n",
       "time_duration                                                     13.0\n",
       "rideable_type_electric_bike                                          0\n",
       "member_casual_member                                                 1\n",
       "distance_km                                                   0.471218\n",
       "average_speed                                                  2.17485\n",
       "Name: 3830, dtype: object"
      ]
     },
     "execution_count": 50,
     "metadata": {},
     "output_type": "execute_result"
    }
   ],
   "source": [
    "# Locating one specific observation to check on google maps if the given start and end latitudes\n",
    "# resulted in a distance that seemed reasonable and could be covered in that time frame\n",
    "filtered_df.iloc[3830]"
   ]
  },
  {
   "cell_type": "code",
   "execution_count": 51,
   "id": "d1bedb92",
   "metadata": {},
   "outputs": [
    {
     "data": {
      "text/html": [
       "<div>\n",
       "<style scoped>\n",
       "    .dataframe tbody tr th:only-of-type {\n",
       "        vertical-align: middle;\n",
       "    }\n",
       "\n",
       "    .dataframe tbody tr th {\n",
       "        vertical-align: top;\n",
       "    }\n",
       "\n",
       "    .dataframe thead th {\n",
       "        text-align: right;\n",
       "    }\n",
       "</style>\n",
       "<table border=\"1\" class=\"dataframe\">\n",
       "  <thead>\n",
       "    <tr style=\"text-align: right;\">\n",
       "      <th></th>\n",
       "      <th>started_at</th>\n",
       "      <th>ended_at</th>\n",
       "      <th>start_station_name</th>\n",
       "      <th>end_station_name</th>\n",
       "      <th>start_lat</th>\n",
       "      <th>start_lng</th>\n",
       "      <th>end_lat</th>\n",
       "      <th>end_lng</th>\n",
       "      <th>time_duration</th>\n",
       "      <th>rideable_type_electric_bike</th>\n",
       "      <th>member_casual_member</th>\n",
       "      <th>distance_km</th>\n",
       "      <th>average_speed</th>\n",
       "    </tr>\n",
       "  </thead>\n",
       "  <tbody>\n",
       "    <tr>\n",
       "      <th>0</th>\n",
       "      <td>2024-02-01 21:18:00</td>\n",
       "      <td>2024-02-01 21:27:00</td>\n",
       "      <td>Eckington Pl &amp; Q St NE</td>\n",
       "      <td>5th &amp; K St NW</td>\n",
       "      <td>38.910893</td>\n",
       "      <td>-77.005023</td>\n",
       "      <td>38.903040</td>\n",
       "      <td>-77.019027</td>\n",
       "      <td>9.0</td>\n",
       "      <td>1</td>\n",
       "      <td>1</td>\n",
       "      <td>1.493572</td>\n",
       "      <td>9.957149</td>\n",
       "    </tr>\n",
       "    <tr>\n",
       "      <th>1</th>\n",
       "      <td>2024-02-15 16:46:00</td>\n",
       "      <td>2024-02-15 16:59:00</td>\n",
       "      <td>Metro Center / 12th &amp; G St NW</td>\n",
       "      <td>Columbia Rd &amp; Georgia Ave NW</td>\n",
       "      <td>38.898400</td>\n",
       "      <td>-77.027643</td>\n",
       "      <td>38.928121</td>\n",
       "      <td>-77.023795</td>\n",
       "      <td>13.0</td>\n",
       "      <td>1</td>\n",
       "      <td>1</td>\n",
       "      <td>3.321546</td>\n",
       "      <td>15.330212</td>\n",
       "    </tr>\n",
       "    <tr>\n",
       "      <th>7</th>\n",
       "      <td>2024-02-28 11:54:00</td>\n",
       "      <td>2024-02-28 12:01:00</td>\n",
       "      <td>North Capitol St &amp; F St NW</td>\n",
       "      <td>13th &amp; E St SE</td>\n",
       "      <td>38.897363</td>\n",
       "      <td>-77.009814</td>\n",
       "      <td>38.882915</td>\n",
       "      <td>-76.987907</td>\n",
       "      <td>7.0</td>\n",
       "      <td>1</td>\n",
       "      <td>0</td>\n",
       "      <td>2.485127</td>\n",
       "      <td>21.301085</td>\n",
       "    </tr>\n",
       "    <tr>\n",
       "      <th>9</th>\n",
       "      <td>2024-02-25 15:56:00</td>\n",
       "      <td>2024-02-25 16:03:00</td>\n",
       "      <td>Harvard St &amp; Adams Mill Rd NW</td>\n",
       "      <td>Georgia Ave &amp; Morton St NW</td>\n",
       "      <td>38.927858</td>\n",
       "      <td>-77.043285</td>\n",
       "      <td>38.932128</td>\n",
       "      <td>-77.023500</td>\n",
       "      <td>7.0</td>\n",
       "      <td>1</td>\n",
       "      <td>1</td>\n",
       "      <td>1.776064</td>\n",
       "      <td>15.223408</td>\n",
       "    </tr>\n",
       "    <tr>\n",
       "      <th>12</th>\n",
       "      <td>2024-02-09 23:51:00</td>\n",
       "      <td>2024-02-10 00:05:00</td>\n",
       "      <td>Virginia Ave &amp; 25th St NW</td>\n",
       "      <td>Maine Ave &amp; 9th St SW</td>\n",
       "      <td>38.898505</td>\n",
       "      <td>-77.052997</td>\n",
       "      <td>38.880440</td>\n",
       "      <td>-77.025236</td>\n",
       "      <td>14.0</td>\n",
       "      <td>1</td>\n",
       "      <td>0</td>\n",
       "      <td>3.131704</td>\n",
       "      <td>13.421590</td>\n",
       "    </tr>\n",
       "  </tbody>\n",
       "</table>\n",
       "</div>"
      ],
      "text/plain": [
       "            started_at            ended_at             start_station_name  \\\n",
       "0  2024-02-01 21:18:00 2024-02-01 21:27:00         Eckington Pl & Q St NE   \n",
       "1  2024-02-15 16:46:00 2024-02-15 16:59:00  Metro Center / 12th & G St NW   \n",
       "7  2024-02-28 11:54:00 2024-02-28 12:01:00     North Capitol St & F St NW   \n",
       "9  2024-02-25 15:56:00 2024-02-25 16:03:00  Harvard St & Adams Mill Rd NW   \n",
       "12 2024-02-09 23:51:00 2024-02-10 00:05:00      Virginia Ave & 25th St NW   \n",
       "\n",
       "                end_station_name  start_lat  start_lng    end_lat    end_lng  \\\n",
       "0                  5th & K St NW  38.910893 -77.005023  38.903040 -77.019027   \n",
       "1   Columbia Rd & Georgia Ave NW  38.898400 -77.027643  38.928121 -77.023795   \n",
       "7                 13th & E St SE  38.897363 -77.009814  38.882915 -76.987907   \n",
       "9     Georgia Ave & Morton St NW  38.927858 -77.043285  38.932128 -77.023500   \n",
       "12         Maine Ave & 9th St SW  38.898505 -77.052997  38.880440 -77.025236   \n",
       "\n",
       "    time_duration  rideable_type_electric_bike  member_casual_member  \\\n",
       "0             9.0                            1                     1   \n",
       "1            13.0                            1                     1   \n",
       "7             7.0                            1                     0   \n",
       "9             7.0                            1                     1   \n",
       "12           14.0                            1                     0   \n",
       "\n",
       "    distance_km  average_speed  \n",
       "0      1.493572       9.957149  \n",
       "1      3.321546      15.330212  \n",
       "7      2.485127      21.301085  \n",
       "9      1.776064      15.223408  \n",
       "12     3.131704      13.421590  "
      ]
     },
     "execution_count": 51,
     "metadata": {},
     "output_type": "execute_result"
    }
   ],
   "source": [
    "# Print out top of table to check\n",
    "df.head()"
   ]
  },
  {
   "cell_type": "code",
   "execution_count": 52,
   "id": "b92a2a74",
   "metadata": {},
   "outputs": [
    {
     "data": {
      "text/plain": [
       "12.969801219401184"
      ]
     },
     "execution_count": 52,
     "metadata": {},
     "output_type": "execute_result"
    }
   ],
   "source": [
    "# Calculate mean of average speed for electric bikes\n",
    "filtered_df[filtered_df[\"rideable_type_electric_bike\"] == 1][\"average_speed\"].mean()"
   ]
  },
  {
   "cell_type": "code",
   "execution_count": 53,
   "id": "3daf4274",
   "metadata": {},
   "outputs": [
    {
     "data": {
      "text/html": [
       "<div>\n",
       "<style scoped>\n",
       "    .dataframe tbody tr th:only-of-type {\n",
       "        vertical-align: middle;\n",
       "    }\n",
       "\n",
       "    .dataframe tbody tr th {\n",
       "        vertical-align: top;\n",
       "    }\n",
       "\n",
       "    .dataframe thead th {\n",
       "        text-align: right;\n",
       "    }\n",
       "</style>\n",
       "<table border=\"1\" class=\"dataframe\">\n",
       "  <thead>\n",
       "    <tr style=\"text-align: right;\">\n",
       "      <th></th>\n",
       "      <th>started_at</th>\n",
       "      <th>ended_at</th>\n",
       "      <th>start_station_name</th>\n",
       "      <th>end_station_name</th>\n",
       "      <th>start_lat</th>\n",
       "      <th>start_lng</th>\n",
       "      <th>end_lat</th>\n",
       "      <th>end_lng</th>\n",
       "      <th>time_duration</th>\n",
       "      <th>rideable_type_electric_bike</th>\n",
       "      <th>member_casual_member</th>\n",
       "      <th>distance_km</th>\n",
       "      <th>average_speed</th>\n",
       "    </tr>\n",
       "  </thead>\n",
       "  <tbody>\n",
       "    <tr>\n",
       "      <th>0</th>\n",
       "      <td>2024-02-25 19:14:00</td>\n",
       "      <td>2024-02-26 00:00:00</td>\n",
       "      <td>14th &amp; V St NW</td>\n",
       "      <td>13th &amp; U St NW</td>\n",
       "      <td>38.917709</td>\n",
       "      <td>-77.031845</td>\n",
       "      <td>38.916936</td>\n",
       "      <td>-77.029631</td>\n",
       "      <td>286.0</td>\n",
       "      <td>1</td>\n",
       "      <td>0</td>\n",
       "      <td>0.209854</td>\n",
       "      <td>0.044025</td>\n",
       "    </tr>\n",
       "    <tr>\n",
       "      <th>1</th>\n",
       "      <td>2024-02-10 13:55:00</td>\n",
       "      <td>2024-02-10 18:53:00</td>\n",
       "      <td>13th &amp; O St NW/ Logan Circle</td>\n",
       "      <td>14th &amp; Q St NW</td>\n",
       "      <td>38.908735</td>\n",
       "      <td>-77.029779</td>\n",
       "      <td>38.910674</td>\n",
       "      <td>-77.031880</td>\n",
       "      <td>298.0</td>\n",
       "      <td>0</td>\n",
       "      <td>0</td>\n",
       "      <td>0.282017</td>\n",
       "      <td>0.056782</td>\n",
       "    </tr>\n",
       "    <tr>\n",
       "      <th>2</th>\n",
       "      <td>2024-02-26 09:58:00</td>\n",
       "      <td>2024-02-26 14:27:00</td>\n",
       "      <td>Prince St &amp; Union St</td>\n",
       "      <td>Market Square / King St &amp; Royal St</td>\n",
       "      <td>38.803124</td>\n",
       "      <td>-77.040363</td>\n",
       "      <td>38.804718</td>\n",
       "      <td>-77.043363</td>\n",
       "      <td>269.0</td>\n",
       "      <td>0</td>\n",
       "      <td>0</td>\n",
       "      <td>0.314635</td>\n",
       "      <td>0.070179</td>\n",
       "    </tr>\n",
       "    <tr>\n",
       "      <th>3</th>\n",
       "      <td>2024-02-03 21:26:00</td>\n",
       "      <td>2024-02-04 00:21:00</td>\n",
       "      <td>21st &amp; I St NW</td>\n",
       "      <td>22nd &amp; I St NW / Foggy Bottom</td>\n",
       "      <td>38.900722</td>\n",
       "      <td>-77.046442</td>\n",
       "      <td>38.900880</td>\n",
       "      <td>-77.048911</td>\n",
       "      <td>175.0</td>\n",
       "      <td>1</td>\n",
       "      <td>0</td>\n",
       "      <td>0.214356</td>\n",
       "      <td>0.073494</td>\n",
       "    </tr>\n",
       "    <tr>\n",
       "      <th>4</th>\n",
       "      <td>2024-02-16 15:38:00</td>\n",
       "      <td>2024-02-16 18:12:00</td>\n",
       "      <td>22nd &amp; I St NW / Foggy Bottom</td>\n",
       "      <td>New Hampshire Ave &amp; 24th St NW</td>\n",
       "      <td>38.900880</td>\n",
       "      <td>-77.048911</td>\n",
       "      <td>38.901755</td>\n",
       "      <td>-77.051084</td>\n",
       "      <td>154.0</td>\n",
       "      <td>0</td>\n",
       "      <td>0</td>\n",
       "      <td>0.211721</td>\n",
       "      <td>0.082489</td>\n",
       "    </tr>\n",
       "  </tbody>\n",
       "</table>\n",
       "</div>"
      ],
      "text/plain": [
       "           started_at            ended_at             start_station_name  \\\n",
       "0 2024-02-25 19:14:00 2024-02-26 00:00:00                 14th & V St NW   \n",
       "1 2024-02-10 13:55:00 2024-02-10 18:53:00   13th & O St NW/ Logan Circle   \n",
       "2 2024-02-26 09:58:00 2024-02-26 14:27:00           Prince St & Union St   \n",
       "3 2024-02-03 21:26:00 2024-02-04 00:21:00                 21st & I St NW   \n",
       "4 2024-02-16 15:38:00 2024-02-16 18:12:00  22nd & I St NW / Foggy Bottom   \n",
       "\n",
       "                     end_station_name  start_lat  start_lng    end_lat  \\\n",
       "0                      13th & U St NW  38.917709 -77.031845  38.916936   \n",
       "1                      14th & Q St NW  38.908735 -77.029779  38.910674   \n",
       "2  Market Square / King St & Royal St  38.803124 -77.040363  38.804718   \n",
       "3       22nd & I St NW / Foggy Bottom  38.900722 -77.046442  38.900880   \n",
       "4      New Hampshire Ave & 24th St NW  38.900880 -77.048911  38.901755   \n",
       "\n",
       "     end_lng  time_duration  rideable_type_electric_bike  \\\n",
       "0 -77.029631          286.0                            1   \n",
       "1 -77.031880          298.0                            0   \n",
       "2 -77.043363          269.0                            0   \n",
       "3 -77.048911          175.0                            1   \n",
       "4 -77.051084          154.0                            0   \n",
       "\n",
       "   member_casual_member  distance_km  average_speed  \n",
       "0                     0     0.209854       0.044025  \n",
       "1                     0     0.282017       0.056782  \n",
       "2                     0     0.314635       0.070179  \n",
       "3                     0     0.214356       0.073494  \n",
       "4                     0     0.211721       0.082489  "
      ]
     },
     "execution_count": 53,
     "metadata": {},
     "output_type": "execute_result"
    }
   ],
   "source": [
    "# Print top of table to check\n",
    "filtered_df.head()"
   ]
  },
  {
   "cell_type": "code",
   "execution_count": 54,
   "id": "ecf34353",
   "metadata": {},
   "outputs": [
    {
     "data": {
      "text/plain": [
       "1.5984149431589478"
      ]
     },
     "execution_count": 54,
     "metadata": {},
     "output_type": "execute_result"
    }
   ],
   "source": [
    "# Calculate median of distance column\n",
    "filtered_df[\"distance_km\"].median()"
   ]
  },
  {
   "cell_type": "code",
   "execution_count": 55,
   "id": "7b3b1a6b",
   "metadata": {},
   "outputs": [],
   "source": [
    "# This value is almost a mile, which seems reasonable for a city bike trip"
   ]
  },
  {
   "cell_type": "markdown",
   "id": "522d9ffc-9c7d-42ad-8e94-33bac93c37a9",
   "metadata": {},
   "source": [
    "### Some Exploratory Analysis #6\n",
    "Let's perform some more exploratory analysis. Let's plot a histogram of the frequency of observations for our distances. *Why do you think we are doing this?* **THEN PROVIDE SOME REASON.**"
   ]
  },
  {
   "cell_type": "code",
   "execution_count": 56,
   "id": "43478a48",
   "metadata": {},
   "outputs": [
    {
     "data": {
      "text/plain": [
       "(array([1.39236e+05, 2.89190e+04, 3.47000e+03, 6.29000e+02, 1.31000e+02,\n",
       "        2.50000e+01, 1.20000e+01, 0.00000e+00, 2.00000e+00, 4.00000e+00]),\n",
       " array([ 0.200084  ,  2.81035612,  5.42062824,  8.03090035, 10.64117247,\n",
       "        13.25144459, 15.8617167 , 18.47198882, 21.08226093, 23.69253305,\n",
       "        26.30280517]),\n",
       " <BarContainer object of 10 artists>)"
      ]
     },
     "execution_count": 56,
     "metadata": {},
     "output_type": "execute_result"
    },
    {
     "data": {
      "image/png": "[encoded data removed]",
      "text/plain": [
       "<Figure size 1080x576 with 1 Axes>"
      ]
     },
     "metadata": {
      "needs_background": "light"
     },
     "output_type": "display_data"
    }
   ],
   "source": [
    "# Create histogram for distances\n",
    "plt.figure(figsize=(15,8))\n",
    "plt.hist(filtered_df[\"distance_km\"])"
   ]
  },
  {
   "cell_type": "markdown",
   "id": "01c9ef5c-8266-4b3d-a78d-42829ffbc9fe",
   "metadata": {},
   "source": [
    "### Some Interesting Data Cleaning: Ranking\n",
    "Let's now create a new column, data point, called rank. This data point will represent the frequency of a start or end station being the destination across all observations. So, a higher rank for a start station indicates more people start at that station then others, while low rank means less people begin at that station. The same applies for the end station. This rank system is an example of modifying our data to be a data point that is usable. We can't really pass in string values, such as the station names, into the machine learning model. Therefore, transforming it into an integer value, such as rank, can help make it useful."
   ]
  },
  {
   "cell_type": "code",
   "execution_count": 57,
   "id": "77a04961",
   "metadata": {},
   "outputs": [],
   "source": [
    "# Rank start stations based on occurrences\n",
    "start_station_rank = filtered_df['start_station_name'].value_counts().rank(ascending=False, method='min')\n",
    "\n",
    "# Rank stop stations based on occurrences\n",
    "end_station_rank = filtered_df['end_station_name'].value_counts().rank(ascending=False, method='min')\n",
    "\n",
    "# Assign ranks to start and stop stations\n",
    "filtered_df['start_station_rank'] = filtered_df['start_station_name'].map(start_station_rank)\n",
    "filtered_df['end_station_rank'] = filtered_df['end_station_name'].map(end_station_rank)"
   ]
  },
  {
   "cell_type": "code",
   "execution_count": 58,
   "id": "7753bb4d",
   "metadata": {},
   "outputs": [
    {
     "data": {
      "text/html": [
       "<div>\n",
       "<style scoped>\n",
       "    .dataframe tbody tr th:only-of-type {\n",
       "        vertical-align: middle;\n",
       "    }\n",
       "\n",
       "    .dataframe tbody tr th {\n",
       "        vertical-align: top;\n",
       "    }\n",
       "\n",
       "    .dataframe thead th {\n",
       "        text-align: right;\n",
       "    }\n",
       "</style>\n",
       "<table border=\"1\" class=\"dataframe\">\n",
       "  <thead>\n",
       "    <tr style=\"text-align: right;\">\n",
       "      <th></th>\n",
       "      <th>started_at</th>\n",
       "      <th>ended_at</th>\n",
       "      <th>start_station_name</th>\n",
       "      <th>end_station_name</th>\n",
       "      <th>start_lat</th>\n",
       "      <th>start_lng</th>\n",
       "      <th>end_lat</th>\n",
       "      <th>end_lng</th>\n",
       "      <th>time_duration</th>\n",
       "      <th>rideable_type_electric_bike</th>\n",
       "      <th>member_casual_member</th>\n",
       "      <th>distance_km</th>\n",
       "      <th>average_speed</th>\n",
       "      <th>start_station_rank</th>\n",
       "      <th>end_station_rank</th>\n",
       "    </tr>\n",
       "  </thead>\n",
       "  <tbody>\n",
       "    <tr>\n",
       "      <th>0</th>\n",
       "      <td>2024-02-25 19:14:00</td>\n",
       "      <td>2024-02-26 00:00:00</td>\n",
       "      <td>14th &amp; V St NW</td>\n",
       "      <td>13th &amp; U St NW</td>\n",
       "      <td>38.917709</td>\n",
       "      <td>-77.031845</td>\n",
       "      <td>38.916936</td>\n",
       "      <td>-77.029631</td>\n",
       "      <td>286.0</td>\n",
       "      <td>1</td>\n",
       "      <td>0</td>\n",
       "      <td>0.209854</td>\n",
       "      <td>0.044025</td>\n",
       "      <td>6.0</td>\n",
       "      <td>51.0</td>\n",
       "    </tr>\n",
       "    <tr>\n",
       "      <th>1</th>\n",
       "      <td>2024-02-10 13:55:00</td>\n",
       "      <td>2024-02-10 18:53:00</td>\n",
       "      <td>13th &amp; O St NW/ Logan Circle</td>\n",
       "      <td>14th &amp; Q St NW</td>\n",
       "      <td>38.908735</td>\n",
       "      <td>-77.029779</td>\n",
       "      <td>38.910674</td>\n",
       "      <td>-77.031880</td>\n",
       "      <td>298.0</td>\n",
       "      <td>0</td>\n",
       "      <td>0</td>\n",
       "      <td>0.282017</td>\n",
       "      <td>0.056782</td>\n",
       "      <td>48.0</td>\n",
       "      <td>49.0</td>\n",
       "    </tr>\n",
       "    <tr>\n",
       "      <th>2</th>\n",
       "      <td>2024-02-26 09:58:00</td>\n",
       "      <td>2024-02-26 14:27:00</td>\n",
       "      <td>Prince St &amp; Union St</td>\n",
       "      <td>Market Square / King St &amp; Royal St</td>\n",
       "      <td>38.803124</td>\n",
       "      <td>-77.040363</td>\n",
       "      <td>38.804718</td>\n",
       "      <td>-77.043363</td>\n",
       "      <td>269.0</td>\n",
       "      <td>0</td>\n",
       "      <td>0</td>\n",
       "      <td>0.314635</td>\n",
       "      <td>0.070179</td>\n",
       "      <td>355.0</td>\n",
       "      <td>336.0</td>\n",
       "    </tr>\n",
       "    <tr>\n",
       "      <th>3</th>\n",
       "      <td>2024-02-03 21:26:00</td>\n",
       "      <td>2024-02-04 00:21:00</td>\n",
       "      <td>21st &amp; I St NW</td>\n",
       "      <td>22nd &amp; I St NW / Foggy Bottom</td>\n",
       "      <td>38.900722</td>\n",
       "      <td>-77.046442</td>\n",
       "      <td>38.900880</td>\n",
       "      <td>-77.048911</td>\n",
       "      <td>175.0</td>\n",
       "      <td>1</td>\n",
       "      <td>0</td>\n",
       "      <td>0.214356</td>\n",
       "      <td>0.073494</td>\n",
       "      <td>45.0</td>\n",
       "      <td>67.0</td>\n",
       "    </tr>\n",
       "    <tr>\n",
       "      <th>4</th>\n",
       "      <td>2024-02-16 15:38:00</td>\n",
       "      <td>2024-02-16 18:12:00</td>\n",
       "      <td>22nd &amp; I St NW / Foggy Bottom</td>\n",
       "      <td>New Hampshire Ave &amp; 24th St NW</td>\n",
       "      <td>38.900880</td>\n",
       "      <td>-77.048911</td>\n",
       "      <td>38.901755</td>\n",
       "      <td>-77.051084</td>\n",
       "      <td>154.0</td>\n",
       "      <td>0</td>\n",
       "      <td>0</td>\n",
       "      <td>0.211721</td>\n",
       "      <td>0.082489</td>\n",
       "      <td>62.0</td>\n",
       "      <td>76.0</td>\n",
       "    </tr>\n",
       "  </tbody>\n",
       "</table>\n",
       "</div>"
      ],
      "text/plain": [
       "           started_at            ended_at             start_station_name  \\\n",
       "0 2024-02-25 19:14:00 2024-02-26 00:00:00                 14th & V St NW   \n",
       "1 2024-02-10 13:55:00 2024-02-10 18:53:00   13th & O St NW/ Logan Circle   \n",
       "2 2024-02-26 09:58:00 2024-02-26 14:27:00           Prince St & Union St   \n",
       "3 2024-02-03 21:26:00 2024-02-04 00:21:00                 21st & I St NW   \n",
       "4 2024-02-16 15:38:00 2024-02-16 18:12:00  22nd & I St NW / Foggy Bottom   \n",
       "\n",
       "                     end_station_name  start_lat  start_lng    end_lat  \\\n",
       "0                      13th & U St NW  38.917709 -77.031845  38.916936   \n",
       "1                      14th & Q St NW  38.908735 -77.029779  38.910674   \n",
       "2  Market Square / King St & Royal St  38.803124 -77.040363  38.804718   \n",
       "3       22nd & I St NW / Foggy Bottom  38.900722 -77.046442  38.900880   \n",
       "4      New Hampshire Ave & 24th St NW  38.900880 -77.048911  38.901755   \n",
       "\n",
       "     end_lng  time_duration  rideable_type_electric_bike  \\\n",
       "0 -77.029631          286.0                            1   \n",
       "1 -77.031880          298.0                            0   \n",
       "2 -77.043363          269.0                            0   \n",
       "3 -77.048911          175.0                            1   \n",
       "4 -77.051084          154.0                            0   \n",
       "\n",
       "   member_casual_member  distance_km  average_speed  start_station_rank  \\\n",
       "0                     0     0.209854       0.044025                 6.0   \n",
       "1                     0     0.282017       0.056782                48.0   \n",
       "2                     0     0.314635       0.070179               355.0   \n",
       "3                     0     0.214356       0.073494                45.0   \n",
       "4                     0     0.211721       0.082489                62.0   \n",
       "\n",
       "   end_station_rank  \n",
       "0              51.0  \n",
       "1              49.0  \n",
       "2             336.0  \n",
       "3              67.0  \n",
       "4              76.0  "
      ]
     },
     "execution_count": 58,
     "metadata": {},
     "output_type": "execute_result"
    }
   ],
   "source": [
    "# Print top of table to check\n",
    "filtered_df.head()"
   ]
  },
  {
   "cell_type": "code",
   "execution_count": 59,
   "id": "ce687cfa",
   "metadata": {},
   "outputs": [
    {
     "data": {
      "text/html": [
       "<div>\n",
       "<style scoped>\n",
       "    .dataframe tbody tr th:only-of-type {\n",
       "        vertical-align: middle;\n",
       "    }\n",
       "\n",
       "    .dataframe tbody tr th {\n",
       "        vertical-align: top;\n",
       "    }\n",
       "\n",
       "    .dataframe thead th {\n",
       "        text-align: right;\n",
       "    }\n",
       "</style>\n",
       "<table border=\"1\" class=\"dataframe\">\n",
       "  <thead>\n",
       "    <tr style=\"text-align: right;\">\n",
       "      <th></th>\n",
       "      <th>started_at</th>\n",
       "      <th>ended_at</th>\n",
       "      <th>start_station_name</th>\n",
       "      <th>end_station_name</th>\n",
       "      <th>start_lat</th>\n",
       "      <th>start_lng</th>\n",
       "      <th>end_lat</th>\n",
       "      <th>end_lng</th>\n",
       "      <th>time_duration</th>\n",
       "      <th>rideable_type_electric_bike</th>\n",
       "      <th>member_casual_member</th>\n",
       "      <th>distance_km</th>\n",
       "      <th>average_speed</th>\n",
       "      <th>start_station_rank</th>\n",
       "      <th>end_station_rank</th>\n",
       "    </tr>\n",
       "  </thead>\n",
       "  <tbody>\n",
       "    <tr>\n",
       "      <th>0</th>\n",
       "      <td>2024-02-25 19:14:00</td>\n",
       "      <td>2024-02-26 00:00:00</td>\n",
       "      <td>14th &amp; V St NW</td>\n",
       "      <td>13th &amp; U St NW</td>\n",
       "      <td>38.917709</td>\n",
       "      <td>-77.031845</td>\n",
       "      <td>38.916936</td>\n",
       "      <td>-77.029631</td>\n",
       "      <td>286.0</td>\n",
       "      <td>1</td>\n",
       "      <td>0</td>\n",
       "      <td>0.209854</td>\n",
       "      <td>0.044025</td>\n",
       "      <td>6.0</td>\n",
       "      <td>51.0</td>\n",
       "    </tr>\n",
       "    <tr>\n",
       "      <th>1</th>\n",
       "      <td>2024-02-10 13:55:00</td>\n",
       "      <td>2024-02-10 18:53:00</td>\n",
       "      <td>13th &amp; O St NW/ Logan Circle</td>\n",
       "      <td>14th &amp; Q St NW</td>\n",
       "      <td>38.908735</td>\n",
       "      <td>-77.029779</td>\n",
       "      <td>38.910674</td>\n",
       "      <td>-77.031880</td>\n",
       "      <td>298.0</td>\n",
       "      <td>0</td>\n",
       "      <td>0</td>\n",
       "      <td>0.282017</td>\n",
       "      <td>0.056782</td>\n",
       "      <td>48.0</td>\n",
       "      <td>49.0</td>\n",
       "    </tr>\n",
       "    <tr>\n",
       "      <th>2</th>\n",
       "      <td>2024-02-26 09:58:00</td>\n",
       "      <td>2024-02-26 14:27:00</td>\n",
       "      <td>Prince St &amp; Union St</td>\n",
       "      <td>Market Square / King St &amp; Royal St</td>\n",
       "      <td>38.803124</td>\n",
       "      <td>-77.040363</td>\n",
       "      <td>38.804718</td>\n",
       "      <td>-77.043363</td>\n",
       "      <td>269.0</td>\n",
       "      <td>0</td>\n",
       "      <td>0</td>\n",
       "      <td>0.314635</td>\n",
       "      <td>0.070179</td>\n",
       "      <td>355.0</td>\n",
       "      <td>336.0</td>\n",
       "    </tr>\n",
       "    <tr>\n",
       "      <th>3</th>\n",
       "      <td>2024-02-03 21:26:00</td>\n",
       "      <td>2024-02-04 00:21:00</td>\n",
       "      <td>21st &amp; I St NW</td>\n",
       "      <td>22nd &amp; I St NW / Foggy Bottom</td>\n",
       "      <td>38.900722</td>\n",
       "      <td>-77.046442</td>\n",
       "      <td>38.900880</td>\n",
       "      <td>-77.048911</td>\n",
       "      <td>175.0</td>\n",
       "      <td>1</td>\n",
       "      <td>0</td>\n",
       "      <td>0.214356</td>\n",
       "      <td>0.073494</td>\n",
       "      <td>45.0</td>\n",
       "      <td>67.0</td>\n",
       "    </tr>\n",
       "    <tr>\n",
       "      <th>4</th>\n",
       "      <td>2024-02-16 15:38:00</td>\n",
       "      <td>2024-02-16 18:12:00</td>\n",
       "      <td>22nd &amp; I St NW / Foggy Bottom</td>\n",
       "      <td>New Hampshire Ave &amp; 24th St NW</td>\n",
       "      <td>38.900880</td>\n",
       "      <td>-77.048911</td>\n",
       "      <td>38.901755</td>\n",
       "      <td>-77.051084</td>\n",
       "      <td>154.0</td>\n",
       "      <td>0</td>\n",
       "      <td>0</td>\n",
       "      <td>0.211721</td>\n",
       "      <td>0.082489</td>\n",
       "      <td>62.0</td>\n",
       "      <td>76.0</td>\n",
       "    </tr>\n",
       "  </tbody>\n",
       "</table>\n",
       "</div>"
      ],
      "text/plain": [
       "           started_at            ended_at             start_station_name  \\\n",
       "0 2024-02-25 19:14:00 2024-02-26 00:00:00                 14th & V St NW   \n",
       "1 2024-02-10 13:55:00 2024-02-10 18:53:00   13th & O St NW/ Logan Circle   \n",
       "2 2024-02-26 09:58:00 2024-02-26 14:27:00           Prince St & Union St   \n",
       "3 2024-02-03 21:26:00 2024-02-04 00:21:00                 21st & I St NW   \n",
       "4 2024-02-16 15:38:00 2024-02-16 18:12:00  22nd & I St NW / Foggy Bottom   \n",
       "\n",
       "                     end_station_name  start_lat  start_lng    end_lat  \\\n",
       "0                      13th & U St NW  38.917709 -77.031845  38.916936   \n",
       "1                      14th & Q St NW  38.908735 -77.029779  38.910674   \n",
       "2  Market Square / King St & Royal St  38.803124 -77.040363  38.804718   \n",
       "3       22nd & I St NW / Foggy Bottom  38.900722 -77.046442  38.900880   \n",
       "4      New Hampshire Ave & 24th St NW  38.900880 -77.048911  38.901755   \n",
       "\n",
       "     end_lng  time_duration  rideable_type_electric_bike  \\\n",
       "0 -77.029631          286.0                            1   \n",
       "1 -77.031880          298.0                            0   \n",
       "2 -77.043363          269.0                            0   \n",
       "3 -77.048911          175.0                            1   \n",
       "4 -77.051084          154.0                            0   \n",
       "\n",
       "   member_casual_member  distance_km  average_speed  start_station_rank  \\\n",
       "0                     0     0.209854       0.044025                 6.0   \n",
       "1                     0     0.282017       0.056782                48.0   \n",
       "2                     0     0.314635       0.070179               355.0   \n",
       "3                     0     0.214356       0.073494                45.0   \n",
       "4                     0     0.211721       0.082489                62.0   \n",
       "\n",
       "   end_station_rank  \n",
       "0              51.0  \n",
       "1              49.0  \n",
       "2             336.0  \n",
       "3              67.0  \n",
       "4              76.0  "
      ]
     },
     "execution_count": 59,
     "metadata": {},
     "output_type": "execute_result"
    }
   ],
   "source": [
    "# Print top of table to check\n",
    "filtered_df.head()"
   ]
  },
  {
   "cell_type": "markdown",
   "id": "4dff377d-0d8b-4e18-9a00-e77d31f391d5",
   "metadata": {},
   "source": [
    "After creating new columns for data points, based off of some the existing data, we can drop the columns which cannot really be used for our machine learning model."
   ]
  },
  {
   "cell_type": "code",
   "execution_count": 60,
   "id": "2ffbba3b",
   "metadata": {},
   "outputs": [],
   "source": [
    "# Drop the start and end station columns\n",
    "filtered_df.drop([\"start_station_name\", \"end_station_name\"], axis=1, inplace=True)"
   ]
  },
  {
   "cell_type": "code",
   "execution_count": 61,
   "id": "8b999148",
   "metadata": {
    "scrolled": true
   },
   "outputs": [
    {
     "data": {
      "text/html": [
       "<div>\n",
       "<style scoped>\n",
       "    .dataframe tbody tr th:only-of-type {\n",
       "        vertical-align: middle;\n",
       "    }\n",
       "\n",
       "    .dataframe tbody tr th {\n",
       "        vertical-align: top;\n",
       "    }\n",
       "\n",
       "    .dataframe thead th {\n",
       "        text-align: right;\n",
       "    }\n",
       "</style>\n",
       "<table border=\"1\" class=\"dataframe\">\n",
       "  <thead>\n",
       "    <tr style=\"text-align: right;\">\n",
       "      <th></th>\n",
       "      <th>started_at</th>\n",
       "      <th>ended_at</th>\n",
       "      <th>start_lat</th>\n",
       "      <th>start_lng</th>\n",
       "      <th>end_lat</th>\n",
       "      <th>end_lng</th>\n",
       "      <th>time_duration</th>\n",
       "      <th>rideable_type_electric_bike</th>\n",
       "      <th>member_casual_member</th>\n",
       "      <th>distance_km</th>\n",
       "      <th>average_speed</th>\n",
       "      <th>start_station_rank</th>\n",
       "      <th>end_station_rank</th>\n",
       "    </tr>\n",
       "  </thead>\n",
       "  <tbody>\n",
       "    <tr>\n",
       "      <th>0</th>\n",
       "      <td>2024-02-25 19:14:00</td>\n",
       "      <td>2024-02-26 00:00:00</td>\n",
       "      <td>38.917709</td>\n",
       "      <td>-77.031845</td>\n",
       "      <td>38.916936</td>\n",
       "      <td>-77.029631</td>\n",
       "      <td>286.0</td>\n",
       "      <td>1</td>\n",
       "      <td>0</td>\n",
       "      <td>0.209854</td>\n",
       "      <td>0.044025</td>\n",
       "      <td>6.0</td>\n",
       "      <td>51.0</td>\n",
       "    </tr>\n",
       "    <tr>\n",
       "      <th>1</th>\n",
       "      <td>2024-02-10 13:55:00</td>\n",
       "      <td>2024-02-10 18:53:00</td>\n",
       "      <td>38.908735</td>\n",
       "      <td>-77.029779</td>\n",
       "      <td>38.910674</td>\n",
       "      <td>-77.031880</td>\n",
       "      <td>298.0</td>\n",
       "      <td>0</td>\n",
       "      <td>0</td>\n",
       "      <td>0.282017</td>\n",
       "      <td>0.056782</td>\n",
       "      <td>48.0</td>\n",
       "      <td>49.0</td>\n",
       "    </tr>\n",
       "    <tr>\n",
       "      <th>2</th>\n",
       "      <td>2024-02-26 09:58:00</td>\n",
       "      <td>2024-02-26 14:27:00</td>\n",
       "      <td>38.803124</td>\n",
       "      <td>-77.040363</td>\n",
       "      <td>38.804718</td>\n",
       "      <td>-77.043363</td>\n",
       "      <td>269.0</td>\n",
       "      <td>0</td>\n",
       "      <td>0</td>\n",
       "      <td>0.314635</td>\n",
       "      <td>0.070179</td>\n",
       "      <td>355.0</td>\n",
       "      <td>336.0</td>\n",
       "    </tr>\n",
       "    <tr>\n",
       "      <th>3</th>\n",
       "      <td>2024-02-03 21:26:00</td>\n",
       "      <td>2024-02-04 00:21:00</td>\n",
       "      <td>38.900722</td>\n",
       "      <td>-77.046442</td>\n",
       "      <td>38.900880</td>\n",
       "      <td>-77.048911</td>\n",
       "      <td>175.0</td>\n",
       "      <td>1</td>\n",
       "      <td>0</td>\n",
       "      <td>0.214356</td>\n",
       "      <td>0.073494</td>\n",
       "      <td>45.0</td>\n",
       "      <td>67.0</td>\n",
       "    </tr>\n",
       "    <tr>\n",
       "      <th>4</th>\n",
       "      <td>2024-02-16 15:38:00</td>\n",
       "      <td>2024-02-16 18:12:00</td>\n",
       "      <td>38.900880</td>\n",
       "      <td>-77.048911</td>\n",
       "      <td>38.901755</td>\n",
       "      <td>-77.051084</td>\n",
       "      <td>154.0</td>\n",
       "      <td>0</td>\n",
       "      <td>0</td>\n",
       "      <td>0.211721</td>\n",
       "      <td>0.082489</td>\n",
       "      <td>62.0</td>\n",
       "      <td>76.0</td>\n",
       "    </tr>\n",
       "  </tbody>\n",
       "</table>\n",
       "</div>"
      ],
      "text/plain": [
       "           started_at            ended_at  start_lat  start_lng    end_lat  \\\n",
       "0 2024-02-25 19:14:00 2024-02-26 00:00:00  38.917709 -77.031845  38.916936   \n",
       "1 2024-02-10 13:55:00 2024-02-10 18:53:00  38.908735 -77.029779  38.910674   \n",
       "2 2024-02-26 09:58:00 2024-02-26 14:27:00  38.803124 -77.040363  38.804718   \n",
       "3 2024-02-03 21:26:00 2024-02-04 00:21:00  38.900722 -77.046442  38.900880   \n",
       "4 2024-02-16 15:38:00 2024-02-16 18:12:00  38.900880 -77.048911  38.901755   \n",
       "\n",
       "     end_lng  time_duration  rideable_type_electric_bike  \\\n",
       "0 -77.029631          286.0                            1   \n",
       "1 -77.031880          298.0                            0   \n",
       "2 -77.043363          269.0                            0   \n",
       "3 -77.048911          175.0                            1   \n",
       "4 -77.051084          154.0                            0   \n",
       "\n",
       "   member_casual_member  distance_km  average_speed  start_station_rank  \\\n",
       "0                     0     0.209854       0.044025                 6.0   \n",
       "1                     0     0.282017       0.056782                48.0   \n",
       "2                     0     0.314635       0.070179               355.0   \n",
       "3                     0     0.214356       0.073494                45.0   \n",
       "4                     0     0.211721       0.082489                62.0   \n",
       "\n",
       "   end_station_rank  \n",
       "0              51.0  \n",
       "1              49.0  \n",
       "2             336.0  \n",
       "3              67.0  \n",
       "4              76.0  "
      ]
     },
     "execution_count": 61,
     "metadata": {},
     "output_type": "execute_result"
    }
   ],
   "source": [
    "# Print top of table to check\n",
    "filtered_df.head()"
   ]
  },
  {
   "cell_type": "code",
   "execution_count": 62,
   "id": "697c24ff",
   "metadata": {},
   "outputs": [
    {
     "data": {
      "text/html": [
       "<div>\n",
       "<style scoped>\n",
       "    .dataframe tbody tr th:only-of-type {\n",
       "        vertical-align: middle;\n",
       "    }\n",
       "\n",
       "    .dataframe tbody tr th {\n",
       "        vertical-align: top;\n",
       "    }\n",
       "\n",
       "    .dataframe thead th {\n",
       "        text-align: right;\n",
       "    }\n",
       "</style>\n",
       "<table border=\"1\" class=\"dataframe\">\n",
       "  <thead>\n",
       "    <tr style=\"text-align: right;\">\n",
       "      <th></th>\n",
       "      <th>time_duration</th>\n",
       "      <th>rideable_type_electric_bike</th>\n",
       "      <th>member_casual_member</th>\n",
       "      <th>distance_km</th>\n",
       "      <th>average_speed</th>\n",
       "      <th>start_station_rank</th>\n",
       "      <th>end_station_rank</th>\n",
       "    </tr>\n",
       "  </thead>\n",
       "  <tbody>\n",
       "    <tr>\n",
       "      <th>0</th>\n",
       "      <td>286.0</td>\n",
       "      <td>1</td>\n",
       "      <td>0</td>\n",
       "      <td>0.209854</td>\n",
       "      <td>0.044025</td>\n",
       "      <td>6.0</td>\n",
       "      <td>51.0</td>\n",
       "    </tr>\n",
       "    <tr>\n",
       "      <th>1</th>\n",
       "      <td>298.0</td>\n",
       "      <td>0</td>\n",
       "      <td>0</td>\n",
       "      <td>0.282017</td>\n",
       "      <td>0.056782</td>\n",
       "      <td>48.0</td>\n",
       "      <td>49.0</td>\n",
       "    </tr>\n",
       "    <tr>\n",
       "      <th>2</th>\n",
       "      <td>269.0</td>\n",
       "      <td>0</td>\n",
       "      <td>0</td>\n",
       "      <td>0.314635</td>\n",
       "      <td>0.070179</td>\n",
       "      <td>355.0</td>\n",
       "      <td>336.0</td>\n",
       "    </tr>\n",
       "    <tr>\n",
       "      <th>3</th>\n",
       "      <td>175.0</td>\n",
       "      <td>1</td>\n",
       "      <td>0</td>\n",
       "      <td>0.214356</td>\n",
       "      <td>0.073494</td>\n",
       "      <td>45.0</td>\n",
       "      <td>67.0</td>\n",
       "    </tr>\n",
       "    <tr>\n",
       "      <th>4</th>\n",
       "      <td>154.0</td>\n",
       "      <td>0</td>\n",
       "      <td>0</td>\n",
       "      <td>0.211721</td>\n",
       "      <td>0.082489</td>\n",
       "      <td>62.0</td>\n",
       "      <td>76.0</td>\n",
       "    </tr>\n",
       "  </tbody>\n",
       "</table>\n",
       "</div>"
      ],
      "text/plain": [
       "   time_duration  rideable_type_electric_bike  member_casual_member  \\\n",
       "0          286.0                            1                     0   \n",
       "1          298.0                            0                     0   \n",
       "2          269.0                            0                     0   \n",
       "3          175.0                            1                     0   \n",
       "4          154.0                            0                     0   \n",
       "\n",
       "   distance_km  average_speed  start_station_rank  end_station_rank  \n",
       "0     0.209854       0.044025                 6.0              51.0  \n",
       "1     0.282017       0.056782                48.0              49.0  \n",
       "2     0.314635       0.070179               355.0             336.0  \n",
       "3     0.214356       0.073494                45.0              67.0  \n",
       "4     0.211721       0.082489                62.0              76.0  "
      ]
     },
     "execution_count": 62,
     "metadata": {},
     "output_type": "execute_result"
    }
   ],
   "source": [
    "# Drop time columns as we already have the calculated time duration column\n",
    "filtered_df.drop([\"started_at\", \"ended_at\"], axis = 1, inplace=True)\n",
    "\n",
    "# Drop the longitude and latitude measurements since we have our calculated distance column\n",
    "filtered_df.drop([\"start_lat\", \"start_lng\", \"end_lat\", \"end_lng\"], axis = 1, inplace=True)\n",
    "\n",
    "# Print out top of table to check\n",
    "filtered_df.head()"
   ]
  },
  {
   "cell_type": "markdown",
   "id": "a382a109-b4ff-4f32-a2a1-5d6166c297a8",
   "metadata": {},
   "source": [
    "## Part 3: Model training and testing\n",
    "Finally, we've reached the fun part of the tutorial, the part where we actually do the interesting stuff: model training and testing. Now, there are so many different machine learning models, how do we decide which one to use?\n",
    "\n",
    "First, we need to decide if our problem is a regression or classfication problem. In our case, it is a classification problem, since we are trying to predict whether the bike used was electric or regular. Based off of your problem, there are different algorithms you can use. In order to decide from here, you need to understand the algorithms, as each one has its advantages and disadvantages. But, this process may just be trial and error, testing a number of different machine learning algorithms. \n",
    "\n",
    "To truely understand each algorithm would be overwhelming for this tutorial, however, we will provide external links for if you want to learn more. What's important is that you get a basic understanding of each algorithm that we use in this tutorial, as well as, how we are analyzing or scoring its performance for predicting the metric we want. Feel free to play around and experiment with some of the code provided.\n",
    "\n",
    "The goal of model training and testing is to create a model, which can accurately predict the outcome."
   ]
  },
  {
   "cell_type": "markdown",
   "id": "87522515-d97f-4bf8-b916-659d10be8721",
   "metadata": {},
   "source": [
    "<center><img src=\"https://imgs.xkcd.com/comics/machine_learning.png\"></center>"
   ]
  },
  {
   "cell_type": "markdown",
   "id": "37336c8c-8089-4ee3-b8f4-0dfeb0703a78",
   "metadata": {},
   "source": [
    "### Splitting into Training and Testing Set\n",
    "First, we need to divide our data into training and testing. We will need to define our dependent variable, or the variable that we are predicting, which is type of bike. Then, we will split our dataset accordingly. A common ratio for splitting is 70% training and 30% testing, but it is often determined by a variety of factors, such a model complexity, size of dataset, and also the algorithm to be used on it. In our case, let's divide our training and testing by 80% and 20% respectively."
   ]
  },
  {
   "cell_type": "code",
   "execution_count": 63,
   "id": "b7e00b55",
   "metadata": {},
   "outputs": [],
   "source": [
    "from sklearn.model_selection import train_test_split\n",
    "\n",
    "# drop average speed here becuase it was included for data analysis and identifying bad sensor data. Can't use\n",
    "# a variable that was created based on the dependent variable as an independent variable\n",
    "X = filtered_df.drop([\"rideable_type_electric_bike\", \"average_speed\"], axis=1)\n",
    "y = filtered_df['rideable_type_electric_bike']\n",
    "\n",
    "# Split the dataset into training and testing sets (80% train, 20% test)\n",
    "X_train, X_test, y_train, y_test = train_test_split(X, y, test_size=0.2, random_state=42)"
   ]
  },
  {
   "cell_type": "markdown",
   "id": "e87646fb-2872-4bce-9049-135d0e5531a8",
   "metadata": {},
   "source": [
    "### Standard Scaler\n",
    "Next, let's standardize and scale our data. Standard scaling ensures all features are on a similar scale by transforming them to have a mean of 0 and a standard deviation of 1. This prevents features with larger values from dominating the hypothesis function during the training process. Standard scaling allows all features to contribute equally, but it does not necessarily mean each feature will be weighted the same in the final model. The learned weights can still vary based on the patterns in the data.?"
   ]
  },
  {
   "cell_type": "code",
   "execution_count": 64,
   "id": "199fbf1f",
   "metadata": {},
   "outputs": [],
   "source": [
    "from sklearn.preprocessing import StandardScaler\n",
    "\n",
    "# Initialize StandardScaler\n",
    "scaler = StandardScaler()\n",
    "\n",
    "# Fit scaler on training data and transform both training and testing data\n",
    "X_train_scaled = scaler.fit_transform(X_train)\n",
    "X_test_scaled = scaler.transform(X_test)"
   ]
  },
  {
   "cell_type": "markdown",
   "id": "feb14d3f-76f8-417f-8c05-15623553a3a0",
   "metadata": {},
   "source": [
    "### Random Forest"
   ]
  },
  {
   "cell_type": "code",
   "execution_count": 84,
   "id": "13e98413",
   "metadata": {},
   "outputs": [],
   "source": [
    "from sklearn.ensemble import RandomForestClassifier"
   ]
  },
  {
   "cell_type": "code",
   "execution_count": 85,
   "id": "ecf8b8a4",
   "metadata": {},
   "outputs": [],
   "source": [
    "# create a RandomForest Classifier\n",
    "rf = RandomForestClassifier()"
   ]
  },
  {
   "cell_type": "code",
   "execution_count": 86,
   "id": "258b0b46",
   "metadata": {},
   "outputs": [
    {
     "data": {
      "text/plain": [
       "RandomForestClassifier()"
      ]
     },
     "execution_count": 86,
     "metadata": {},
     "output_type": "execute_result"
    }
   ],
   "source": [
    "# fit the random forest classifier with the training data\n",
    "rf.fit(X_train_scaled, y_train)"
   ]
  },
  {
   "cell_type": "code",
   "execution_count": 69,
   "id": "aa87ff84",
   "metadata": {},
   "outputs": [],
   "source": [
    "# create predictions on the test data\n",
    "predictions = rf.predict(X_test_scaled)"
   ]
  },
  {
   "cell_type": "markdown",
   "id": "e83c9eed-838a-4791-bcd5-88d9fe4e0027",
   "metadata": {},
   "source": [
    "### Classification Report and Confusion Matrix\n",
    "#### Evaluating Model Performance"
   ]
  },
  {
   "cell_type": "code",
   "execution_count": 70,
   "id": "527e5f11",
   "metadata": {},
   "outputs": [],
   "source": [
    "from sklearn.metrics import classification_report, confusion_matrix"
   ]
  },
  {
   "cell_type": "code",
   "execution_count": 71,
   "id": "979baa83",
   "metadata": {},
   "outputs": [
    {
     "name": "stdout",
     "output_type": "stream",
     "text": [
      "              precision    recall  f1-score   support\n",
      "\n",
      "           0       0.74      0.80      0.77     16962\n",
      "           1       0.79      0.72      0.75     17524\n",
      "\n",
      "    accuracy                           0.76     34486\n",
      "   macro avg       0.76      0.76      0.76     34486\n",
      "weighted avg       0.76      0.76      0.76     34486\n",
      "\n"
     ]
    }
   ],
   "source": [
    "print(classification_report(y_test, predictions))"
   ]
  },
  {
   "cell_type": "code",
   "execution_count": 72,
   "id": "09005a68",
   "metadata": {},
   "outputs": [
    {
     "name": "stdout",
     "output_type": "stream",
     "text": [
      "[[13635  3327]\n",
      " [ 4916 12608]]\n"
     ]
    }
   ],
   "source": [
    "print(confusion_matrix(y_test, predictions))"
   ]
  },
  {
   "cell_type": "markdown",
   "id": "7f4d63b7-e966-4205-bd71-ad65180857d5",
   "metadata": {},
   "source": [
    "### Grid Search CV w/ Random Forest\n",
    "#### Try and Improve the Model Accuracy from 76%"
   ]
  },
  {
   "cell_type": "code",
   "execution_count": 74,
   "id": "ee699434",
   "metadata": {},
   "outputs": [],
   "source": [
    "from sklearn.model_selection import GridSearchCV"
   ]
  },
  {
   "cell_type": "code",
   "execution_count": 133,
   "id": "92292104",
   "metadata": {},
   "outputs": [
    {
     "name": "stderr",
     "output_type": "stream",
     "text": [
      "/Users/ankithb/opt/anaconda3/lib/python3.9/site-packages/scipy/__init__.py:146: UserWarning: A NumPy version >=1.16.5 and <1.23.0 is required for this version of SciPy (detected version 1.26.4\n",
      "  warnings.warn(f\"A NumPy version >={np_minversion} and <{np_maxversion}\"\n",
      "/Users/ankithb/opt/anaconda3/lib/python3.9/site-packages/scipy/__init__.py:146: UserWarning: A NumPy version >=1.16.5 and <1.23.0 is required for this version of SciPy (detected version 1.26.4\n",
      "  warnings.warn(f\"A NumPy version >={np_minversion} and <{np_maxversion}\"\n",
      "/Users/ankithb/opt/anaconda3/lib/python3.9/site-packages/scipy/__init__.py:146: UserWarning: A NumPy version >=1.16.5 and <1.23.0 is required for this version of SciPy (detected version 1.26.4\n",
      "  warnings.warn(f\"A NumPy version >={np_minversion} and <{np_maxversion}\"\n",
      "/Users/ankithb/opt/anaconda3/lib/python3.9/site-packages/scipy/__init__.py:146: UserWarning: A NumPy version >=1.16.5 and <1.23.0 is required for this version of SciPy (detected version 1.26.4\n",
      "  warnings.warn(f\"A NumPy version >={np_minversion} and <{np_maxversion}\"\n",
      "/Users/ankithb/opt/anaconda3/lib/python3.9/site-packages/scipy/__init__.py:146: UserWarning: A NumPy version >=1.16.5 and <1.23.0 is required for this version of SciPy (detected version 1.26.4\n",
      "  warnings.warn(f\"A NumPy version >={np_minversion} and <{np_maxversion}\"\n",
      "/Users/ankithb/opt/anaconda3/lib/python3.9/site-packages/scipy/__init__.py:146: UserWarning: A NumPy version >=1.16.5 and <1.23.0 is required for this version of SciPy (detected version 1.26.4\n",
      "  warnings.warn(f\"A NumPy version >={np_minversion} and <{np_maxversion}\"\n",
      "/Users/ankithb/opt/anaconda3/lib/python3.9/site-packages/scipy/__init__.py:146: UserWarning: A NumPy version >=1.16.5 and <1.23.0 is required for this version of SciPy (detected version 1.26.4\n",
      "  warnings.warn(f\"A NumPy version >={np_minversion} and <{np_maxversion}\"\n",
      "/Users/ankithb/opt/anaconda3/lib/python3.9/site-packages/scipy/__init__.py:146: UserWarning: A NumPy version >=1.16.5 and <1.23.0 is required for this version of SciPy (detected version 1.26.4\n",
      "  warnings.warn(f\"A NumPy version >={np_minversion} and <{np_maxversion}\"\n",
      "/Users/ankithb/opt/anaconda3/lib/python3.9/site-packages/scipy/__init__.py:146: UserWarning: A NumPy version >=1.16.5 and <1.23.0 is required for this version of SciPy (detected version 1.26.4\n",
      "  warnings.warn(f\"A NumPy version >={np_minversion} and <{np_maxversion}\"\n",
      "/Users/ankithb/opt/anaconda3/lib/python3.9/site-packages/scipy/__init__.py:146: UserWarning: A NumPy version >=1.16.5 and <1.23.0 is required for this version of SciPy (detected version 1.26.4\n",
      "  warnings.warn(f\"A NumPy version >={np_minversion} and <{np_maxversion}\"\n",
      "/Users/ankithb/opt/anaconda3/lib/python3.9/site-packages/scipy/__init__.py:146: UserWarning: A NumPy version >=1.16.5 and <1.23.0 is required for this version of SciPy (detected version 1.26.4\n",
      "  warnings.warn(f\"A NumPy version >={np_minversion} and <{np_maxversion}\"\n",
      "/Users/ankithb/opt/anaconda3/lib/python3.9/site-packages/scipy/__init__.py:146: UserWarning: A NumPy version >=1.16.5 and <1.23.0 is required for this version of SciPy (detected version 1.26.4\n",
      "  warnings.warn(f\"A NumPy version >={np_minversion} and <{np_maxversion}\"\n"
     ]
    },
    {
     "name": "stdout",
     "output_type": "stream",
     "text": [
      "Best parameters: {'max_depth': None, 'max_features': 'auto', 'min_samples_leaf': 1, 'min_samples_split': 2, 'n_estimators': 400}\n",
      "Best score: 0.7478940209547513\n"
     ]
    }
   ],
   "source": [
    "# Define the parameter grid you want to search over\n",
    "param_grid = {\n",
    "    'n_estimators': [100, 400],\n",
    "    'max_features': ['auto', 'sqrt'],\n",
    "    'max_depth': [None, 2, 8],\n",
    "    'min_samples_split': [2, 10],\n",
    "    'min_samples_leaf': [1, 2]\n",
    "}\n",
    "\n",
    "# Create a RandomForestClassifier instance\n",
    "rf = RandomForestClassifier()\n",
    "\n",
    "# Initialize GridSearchCV with the parameter grid and RandomForestClassifier\n",
    "# Uses rf model, tries different parmas in param_grid, uses 5 fold cross validation, all the cpu power\n",
    "grid_search = GridSearchCV(estimator=rf, param_grid=param_grid, cv=5, n_jobs=-1)\n",
    "\n",
    "# Fit the grid search to your data\n",
    "grid_search.fit(X_train_scaled, y_train)\n",
    "\n",
    "# Print the best parameters found\n",
    "print(\"Best parameters:\", grid_search.best_params_)\n",
    "\n",
    "# Print the best score found\n",
    "print(\"Best score:\", grid_search.best_score_)\n",
    "\n",
    "# get the predictions\n",
    "predictions = grid_search.predict(X_test)"
   ]
  },
  {
   "cell_type": "markdown",
   "id": "0e41b01d",
   "metadata": {},
   "source": [
    "## Need to yap about how the Grid Search parameter tuning didn't help much so that means the data would be an indicator of something needs works/ more features rather than just params adjusting. Some of this could also be added to the conclusion part!!!!!!!!!!!!!"
   ]
  },
  {
   "cell_type": "markdown",
   "id": "623d79cf-a0e2-49b9-85e6-5d65af82bd4d",
   "metadata": {},
   "source": [
    "### Logistic Regression"
   ]
  },
  {
   "cell_type": "code",
   "execution_count": 105,
   "id": "65cdbb72",
   "metadata": {},
   "outputs": [],
   "source": [
    "from sklearn.linear_model import LogisticRegression"
   ]
  },
  {
   "cell_type": "code",
   "execution_count": 106,
   "id": "e945a1b2",
   "metadata": {},
   "outputs": [],
   "source": [
    "# creating a logistic regression model\n",
    "lr = LogisticRegression()"
   ]
  },
  {
   "cell_type": "code",
   "execution_count": 107,
   "id": "df45337e",
   "metadata": {},
   "outputs": [
    {
     "data": {
      "text/plain": [
       "LogisticRegression()"
      ]
     },
     "execution_count": 107,
     "metadata": {},
     "output_type": "execute_result"
    }
   ],
   "source": [
    "# fitting the model on training data\n",
    "lr.fit(X_train_scaled, y_train)"
   ]
  },
  {
   "cell_type": "code",
   "execution_count": 108,
   "id": "4bf5ebcf",
   "metadata": {},
   "outputs": [],
   "source": [
    "# predictions\n",
    "y_pred = lr.predict(X_test_scaled)"
   ]
  },
  {
   "cell_type": "markdown",
   "id": "39d110d1",
   "metadata": {},
   "source": [
    "##### Looking at the metrics"
   ]
  },
  {
   "cell_type": "code",
   "execution_count": 109,
   "id": "6e07c596",
   "metadata": {},
   "outputs": [
    {
     "name": "stdout",
     "output_type": "stream",
     "text": [
      "              precision    recall  f1-score   support\n",
      "\n",
      "           0       0.65      0.70      0.67     16962\n",
      "           1       0.68      0.63      0.65     17524\n",
      "\n",
      "    accuracy                           0.66     34486\n",
      "   macro avg       0.66      0.66      0.66     34486\n",
      "weighted avg       0.67      0.66      0.66     34486\n",
      "\n"
     ]
    }
   ],
   "source": [
    "print(classification_report(y_test, y_pred))"
   ]
  },
  {
   "cell_type": "code",
   "execution_count": 110,
   "id": "494f261b",
   "metadata": {},
   "outputs": [
    {
     "name": "stdout",
     "output_type": "stream",
     "text": [
      "[[ 2142 14820]\n",
      " [ 2632 14892]]\n"
     ]
    }
   ],
   "source": [
    "print(confusion_matrix(y_test, predictions))"
   ]
  },
  {
   "cell_type": "code",
   "execution_count": 111,
   "id": "f13a5b23",
   "metadata": {},
   "outputs": [],
   "source": [
    "from sklearn.preprocessing import MinMaxScaler"
   ]
  },
  {
   "cell_type": "code",
   "execution_count": 112,
   "id": "f2991f94",
   "metadata": {},
   "outputs": [],
   "source": [
    "# MinMax Scaler is better for ANN scales values between 0 and 1\n",
    "scaler = MinMaxScaler()\n",
    "X_train = scaler.fit_transform(X_train)\n",
    "X_test = scaler.transform(X_test)"
   ]
  },
  {
   "cell_type": "code",
   "execution_count": 113,
   "id": "b2010ac3",
   "metadata": {},
   "outputs": [
    {
     "name": "stderr",
     "output_type": "stream",
     "text": [
      "2024-05-17 12:05:08.313481: I tensorflow/core/platform/cpu_feature_guard.cc:210] This TensorFlow binary is optimized to use available CPU instructions in performance-critical operations.\n",
      "To enable the following instructions: AVX2 FMA, in other operations, rebuild TensorFlow with the appropriate compiler flags.\n"
     ]
    }
   ],
   "source": [
    "import tensorflow as tf\n",
    "from tensorflow.keras.models import Sequential\n",
    "from tensorflow.keras.layers import Dense, Activation,Dropout"
   ]
  },
  {
   "cell_type": "markdown",
   "id": "ca9a58a2-a8e7-4386-93bc-aeca21cd2886",
   "metadata": {},
   "source": [
    "### Sequential Model (Artificial Neural Network) -- Fully Connected Layers"
   ]
  },
  {
   "cell_type": "code",
   "execution_count": 114,
   "id": "78d7d22d",
   "metadata": {},
   "outputs": [],
   "source": [
    "# Initialize the model\n",
    "model = Sequential()\n",
    "\n",
    "# Add layers\n",
    "model.add(Dense(units=20, activation='relu'))\n",
    "model.add(Dropout(0.1))\n",
    "model.add(Dense(units=10, activation='relu'))\n",
    "model.add(Dropout(0.1))\n",
    "model.add(Dense(units=10, activation='relu'))\n",
    "model.add(Dropout(0.1))\n",
    "model.add(Dense(units=5, activation='relu'))\n",
    "model.add(Dropout(0.1))\n",
    "# output layer is sigmoid because it is a binary problem\n",
    "model.add(Dense(units=1, activation='sigmoid'))\n",
    "\n",
    "# Compile the model (binary_crossentropy loss for binary classification)\n",
    "model.compile(loss='binary_crossentropy', optimizer='adam')"
   ]
  },
  {
   "cell_type": "code",
   "execution_count": 115,
   "id": "6f2e5027",
   "metadata": {},
   "outputs": [
    {
     "data": {
      "text/html": [
       "<pre style=\"white-space:pre;overflow-x:auto;line-height:normal;font-family:Menlo,'DejaVu Sans Mono',consolas,'Courier New',monospace\"><span style=\"font-weight: bold\">Model: \"sequential\"</span>\n",
       "</pre>\n"
      ],
      "text/plain": [
       "\u001b[1mModel: \"sequential\"\u001b[0m\n"
      ]
     },
     "metadata": {},
     "output_type": "display_data"
    },
    {
     "data": {
      "text/html": [
       "<pre style=\"white-space:pre;overflow-x:auto;line-height:normal;font-family:Menlo,'DejaVu Sans Mono',consolas,'Courier New',monospace\">┏━━━━━━━━━━━━━━━━━━━━━━━━━━━━━━━━━┳━━━━━━━━━━━━━━━━━━━━━━━━┳━━━━━━━━━━━━━━━┓\n",
       "┃<span style=\"font-weight: bold\"> Layer (type)                    </span>┃<span style=\"font-weight: bold\"> Output Shape           </span>┃<span style=\"font-weight: bold\">       Param # </span>┃\n",
       "┡━━━━━━━━━━━━━━━━━━━━━━━━━━━━━━━━━╇━━━━━━━━━━━━━━━━━━━━━━━━╇━━━━━━━━━━━━━━━┩\n",
       "│ dense (<span style=\"color: #0087ff; text-decoration-color: #0087ff\">Dense</span>)                   │ ?                      │   <span style=\"color: #00af00; text-decoration-color: #00af00\">0</span> (unbuilt) │\n",
       "├─────────────────────────────────┼────────────────────────┼───────────────┤\n",
       "│ dropout (<span style=\"color: #0087ff; text-decoration-color: #0087ff\">Dropout</span>)               │ ?                      │   <span style=\"color: #00af00; text-decoration-color: #00af00\">0</span> (unbuilt) │\n",
       "├─────────────────────────────────┼────────────────────────┼───────────────┤\n",
       "│ dense_1 (<span style=\"color: #0087ff; text-decoration-color: #0087ff\">Dense</span>)                 │ ?                      │   <span style=\"color: #00af00; text-decoration-color: #00af00\">0</span> (unbuilt) │\n",
       "├─────────────────────────────────┼────────────────────────┼───────────────┤\n",
       "│ dropout_1 (<span style=\"color: #0087ff; text-decoration-color: #0087ff\">Dropout</span>)             │ ?                      │   <span style=\"color: #00af00; text-decoration-color: #00af00\">0</span> (unbuilt) │\n",
       "├─────────────────────────────────┼────────────────────────┼───────────────┤\n",
       "│ dense_2 (<span style=\"color: #0087ff; text-decoration-color: #0087ff\">Dense</span>)                 │ ?                      │   <span style=\"color: #00af00; text-decoration-color: #00af00\">0</span> (unbuilt) │\n",
       "├─────────────────────────────────┼────────────────────────┼───────────────┤\n",
       "│ dropout_2 (<span style=\"color: #0087ff; text-decoration-color: #0087ff\">Dropout</span>)             │ ?                      │   <span style=\"color: #00af00; text-decoration-color: #00af00\">0</span> (unbuilt) │\n",
       "├─────────────────────────────────┼────────────────────────┼───────────────┤\n",
       "│ dense_3 (<span style=\"color: #0087ff; text-decoration-color: #0087ff\">Dense</span>)                 │ ?                      │   <span style=\"color: #00af00; text-decoration-color: #00af00\">0</span> (unbuilt) │\n",
       "├─────────────────────────────────┼────────────────────────┼───────────────┤\n",
       "│ dropout_3 (<span style=\"color: #0087ff; text-decoration-color: #0087ff\">Dropout</span>)             │ ?                      │   <span style=\"color: #00af00; text-decoration-color: #00af00\">0</span> (unbuilt) │\n",
       "├─────────────────────────────────┼────────────────────────┼───────────────┤\n",
       "│ dense_4 (<span style=\"color: #0087ff; text-decoration-color: #0087ff\">Dense</span>)                 │ ?                      │   <span style=\"color: #00af00; text-decoration-color: #00af00\">0</span> (unbuilt) │\n",
       "└─────────────────────────────────┴────────────────────────┴───────────────┘\n",
       "</pre>\n"
      ],
      "text/plain": [
       "┏━━━━━━━━━━━━━━━━━━━━━━━━━━━━━━━━━┳━━━━━━━━━━━━━━━━━━━━━━━━┳━━━━━━━━━━━━━━━┓\n",
       "┃\u001b[1m \u001b[0m\u001b[1mLayer (type)                   \u001b[0m\u001b[1m \u001b[0m┃\u001b[1m \u001b[0m\u001b[1mOutput Shape          \u001b[0m\u001b[1m \u001b[0m┃\u001b[1m \u001b[0m\u001b[1m      Param #\u001b[0m\u001b[1m \u001b[0m┃\n",
       "┡━━━━━━━━━━━━━━━━━━━━━━━━━━━━━━━━━╇━━━━━━━━━━━━━━━━━━━━━━━━╇━━━━━━━━━━━━━━━┩\n",
       "│ dense (\u001b[38;5;33mDense\u001b[0m)                   │ ?                      │   \u001b[38;5;34m0\u001b[0m (unbuilt) │\n",
       "├─────────────────────────────────┼────────────────────────┼───────────────┤\n",
       "│ dropout (\u001b[38;5;33mDropout\u001b[0m)               │ ?                      │   \u001b[38;5;34m0\u001b[0m (unbuilt) │\n",
       "├─────────────────────────────────┼────────────────────────┼───────────────┤\n",
       "│ dense_1 (\u001b[38;5;33mDense\u001b[0m)                 │ ?                      │   \u001b[38;5;34m0\u001b[0m (unbuilt) │\n",
       "├─────────────────────────────────┼────────────────────────┼───────────────┤\n",
       "│ dropout_1 (\u001b[38;5;33mDropout\u001b[0m)             │ ?                      │   \u001b[38;5;34m0\u001b[0m (unbuilt) │\n",
       "├─────────────────────────────────┼────────────────────────┼───────────────┤\n",
       "│ dense_2 (\u001b[38;5;33mDense\u001b[0m)                 │ ?                      │   \u001b[38;5;34m0\u001b[0m (unbuilt) │\n",
       "├─────────────────────────────────┼────────────────────────┼───────────────┤\n",
       "│ dropout_2 (\u001b[38;5;33mDropout\u001b[0m)             │ ?                      │   \u001b[38;5;34m0\u001b[0m (unbuilt) │\n",
       "├─────────────────────────────────┼────────────────────────┼───────────────┤\n",
       "│ dense_3 (\u001b[38;5;33mDense\u001b[0m)                 │ ?                      │   \u001b[38;5;34m0\u001b[0m (unbuilt) │\n",
       "├─────────────────────────────────┼────────────────────────┼───────────────┤\n",
       "│ dropout_3 (\u001b[38;5;33mDropout\u001b[0m)             │ ?                      │   \u001b[38;5;34m0\u001b[0m (unbuilt) │\n",
       "├─────────────────────────────────┼────────────────────────┼───────────────┤\n",
       "│ dense_4 (\u001b[38;5;33mDense\u001b[0m)                 │ ?                      │   \u001b[38;5;34m0\u001b[0m (unbuilt) │\n",
       "└─────────────────────────────────┴────────────────────────┴───────────────┘\n"
      ]
     },
     "metadata": {},
     "output_type": "display_data"
    },
    {
     "data": {
      "text/html": [
       "<pre style=\"white-space:pre;overflow-x:auto;line-height:normal;font-family:Menlo,'DejaVu Sans Mono',consolas,'Courier New',monospace\"><span style=\"font-weight: bold\"> Total params: </span><span style=\"color: #00af00; text-decoration-color: #00af00\">0</span> (0.00 B)\n",
       "</pre>\n"
      ],
      "text/plain": [
       "\u001b[1m Total params: \u001b[0m\u001b[38;5;34m0\u001b[0m (0.00 B)\n"
      ]
     },
     "metadata": {},
     "output_type": "display_data"
    },
    {
     "data": {
      "text/html": [
       "<pre style=\"white-space:pre;overflow-x:auto;line-height:normal;font-family:Menlo,'DejaVu Sans Mono',consolas,'Courier New',monospace\"><span style=\"font-weight: bold\"> Trainable params: </span><span style=\"color: #00af00; text-decoration-color: #00af00\">0</span> (0.00 B)\n",
       "</pre>\n"
      ],
      "text/plain": [
       "\u001b[1m Trainable params: \u001b[0m\u001b[38;5;34m0\u001b[0m (0.00 B)\n"
      ]
     },
     "metadata": {},
     "output_type": "display_data"
    },
    {
     "data": {
      "text/html": [
       "<pre style=\"white-space:pre;overflow-x:auto;line-height:normal;font-family:Menlo,'DejaVu Sans Mono',consolas,'Courier New',monospace\"><span style=\"font-weight: bold\"> Non-trainable params: </span><span style=\"color: #00af00; text-decoration-color: #00af00\">0</span> (0.00 B)\n",
       "</pre>\n"
      ],
      "text/plain": [
       "\u001b[1m Non-trainable params: \u001b[0m\u001b[38;5;34m0\u001b[0m (0.00 B)\n"
      ]
     },
     "metadata": {},
     "output_type": "display_data"
    }
   ],
   "source": [
    "# printing model summary and layers\n",
    "model.summary()"
   ]
  },
  {
   "cell_type": "markdown",
   "id": "c78b85bd-9c16-406a-9e56-6c57aec47add",
   "metadata": {},
   "source": [
    "### Early Stopping\n",
    "Here we are optimizing our model above."
   ]
  },
  {
   "cell_type": "code",
   "execution_count": 116,
   "id": "43e3333e",
   "metadata": {},
   "outputs": [],
   "source": [
    "from tensorflow.keras.callbacks import EarlyStopping"
   ]
  },
  {
   "cell_type": "code",
   "execution_count": 117,
   "id": "c3011803",
   "metadata": {},
   "outputs": [],
   "source": [
    "# implementing early stopping prevents overfitting by monitoring that the loss doesn't increase for 10\n",
    "# continuous epochs\n",
    "early_stop = EarlyStopping(monitor = 'val_loss', mode = 'min', patience = 10, verbose = 1)"
   ]
  },
  {
   "cell_type": "code",
   "execution_count": 118,
   "id": "37d2e976",
   "metadata": {},
   "outputs": [
    {
     "name": "stdout",
     "output_type": "stream",
     "text": [
      "Epoch 1/800\n",
      "\u001b[1m4311/4311\u001b[0m \u001b[32m━━━━━━━━━━━━━━━━━━━━\u001b[0m\u001b[37m\u001b[0m \u001b[1m6s\u001b[0m 1ms/step - loss: 0.6783 - val_loss: 0.6128\n",
      "Epoch 2/800\n",
      "\u001b[1m4311/4311\u001b[0m \u001b[32m━━━━━━━━━━━━━━━━━━━━\u001b[0m\u001b[37m\u001b[0m \u001b[1m4s\u001b[0m 1ms/step - loss: 0.6044 - val_loss: 0.5827\n",
      "Epoch 3/800\n",
      "\u001b[1m4311/4311\u001b[0m \u001b[32m━━━━━━━━━━━━━━━━━━━━\u001b[0m\u001b[37m\u001b[0m \u001b[1m5s\u001b[0m 1ms/step - loss: 0.5910 - val_loss: 0.5676\n",
      "Epoch 4/800\n",
      "\u001b[1m4311/4311\u001b[0m \u001b[32m━━━━━━━━━━━━━━━━━━━━\u001b[0m\u001b[37m\u001b[0m \u001b[1m4s\u001b[0m 1ms/step - loss: 0.5857 - val_loss: 0.5672\n",
      "Epoch 5/800\n",
      "\u001b[1m4311/4311\u001b[0m \u001b[32m━━━━━━━━━━━━━━━━━━━━\u001b[0m\u001b[37m\u001b[0m \u001b[1m5s\u001b[0m 1ms/step - loss: 0.5862 - val_loss: 0.5674\n",
      "Epoch 6/800\n",
      "\u001b[1m4311/4311\u001b[0m \u001b[32m━━━━━━━━━━━━━━━━━━━━\u001b[0m\u001b[37m\u001b[0m \u001b[1m5s\u001b[0m 1ms/step - loss: 0.5835 - val_loss: 0.5743\n",
      "Epoch 7/800\n",
      "\u001b[1m4311/4311\u001b[0m \u001b[32m━━━━━━━━━━━━━━━━━━━━\u001b[0m\u001b[37m\u001b[0m \u001b[1m4s\u001b[0m 1ms/step - loss: 0.5843 - val_loss: 0.5759\n",
      "Epoch 8/800\n",
      "\u001b[1m4311/4311\u001b[0m \u001b[32m━━━━━━━━━━━━━━━━━━━━\u001b[0m\u001b[37m\u001b[0m \u001b[1m4s\u001b[0m 1ms/step - loss: 0.5813 - val_loss: 0.5641\n",
      "Epoch 9/800\n",
      "\u001b[1m4311/4311\u001b[0m \u001b[32m━━━━━━━━━━━━━━━━━━━━\u001b[0m\u001b[37m\u001b[0m \u001b[1m4s\u001b[0m 1ms/step - loss: 0.5811 - val_loss: 0.5694\n",
      "Epoch 10/800\n",
      "\u001b[1m4311/4311\u001b[0m \u001b[32m━━━━━━━━━━━━━━━━━━━━\u001b[0m\u001b[37m\u001b[0m \u001b[1m5s\u001b[0m 1ms/step - loss: 0.5806 - val_loss: 0.5731\n",
      "Epoch 11/800\n",
      "\u001b[1m4311/4311\u001b[0m \u001b[32m━━━━━━━━━━━━━━━━━━━━\u001b[0m\u001b[37m\u001b[0m \u001b[1m5s\u001b[0m 1ms/step - loss: 0.5825 - val_loss: 0.5746\n",
      "Epoch 12/800\n",
      "\u001b[1m4311/4311\u001b[0m \u001b[32m━━━━━━━━━━━━━━━━━━━━\u001b[0m\u001b[37m\u001b[0m \u001b[1m5s\u001b[0m 1ms/step - loss: 0.5794 - val_loss: 0.5667\n",
      "Epoch 13/800\n",
      "\u001b[1m4311/4311\u001b[0m \u001b[32m━━━━━━━━━━━━━━━━━━━━\u001b[0m\u001b[37m\u001b[0m \u001b[1m5s\u001b[0m 1ms/step - loss: 0.5791 - val_loss: 0.5740\n",
      "Epoch 14/800\n",
      "\u001b[1m4311/4311\u001b[0m \u001b[32m━━━━━━━━━━━━━━━━━━━━\u001b[0m\u001b[37m\u001b[0m \u001b[1m4s\u001b[0m 1ms/step - loss: 0.5805 - val_loss: 0.5672\n",
      "Epoch 15/800\n",
      "\u001b[1m4311/4311\u001b[0m \u001b[32m━━━━━━━━━━━━━━━━━━━━\u001b[0m\u001b[37m\u001b[0m \u001b[1m4s\u001b[0m 1ms/step - loss: 0.5813 - val_loss: 0.5686\n",
      "Epoch 16/800\n",
      "\u001b[1m4311/4311\u001b[0m \u001b[32m━━━━━━━━━━━━━━━━━━━━\u001b[0m\u001b[37m\u001b[0m \u001b[1m5s\u001b[0m 1ms/step - loss: 0.5828 - val_loss: 0.5642\n",
      "Epoch 17/800\n",
      "\u001b[1m4311/4311\u001b[0m \u001b[32m━━━━━━━━━━━━━━━━━━━━\u001b[0m\u001b[37m\u001b[0m \u001b[1m5s\u001b[0m 1ms/step - loss: 0.5793 - val_loss: 0.5650\n",
      "Epoch 18/800\n",
      "\u001b[1m4311/4311\u001b[0m \u001b[32m━━━━━━━━━━━━━━━━━━━━\u001b[0m\u001b[37m\u001b[0m \u001b[1m5s\u001b[0m 1ms/step - loss: 0.5817 - val_loss: 0.5639\n",
      "Epoch 19/800\n",
      "\u001b[1m4311/4311\u001b[0m \u001b[32m━━━━━━━━━━━━━━━━━━━━\u001b[0m\u001b[37m\u001b[0m \u001b[1m5s\u001b[0m 1ms/step - loss: 0.5819 - val_loss: 0.5675\n",
      "Epoch 20/800\n",
      "\u001b[1m4311/4311\u001b[0m \u001b[32m━━━━━━━━━━━━━━━━━━━━\u001b[0m\u001b[37m\u001b[0m \u001b[1m5s\u001b[0m 1ms/step - loss: 0.5803 - val_loss: 0.5653\n",
      "Epoch 21/800\n",
      "\u001b[1m4311/4311\u001b[0m \u001b[32m━━━━━━━━━━━━━━━━━━━━\u001b[0m\u001b[37m\u001b[0m \u001b[1m5s\u001b[0m 1ms/step - loss: 0.5800 - val_loss: 0.5699\n",
      "Epoch 22/800\n",
      "\u001b[1m4311/4311\u001b[0m \u001b[32m━━━━━━━━━━━━━━━━━━━━\u001b[0m\u001b[37m\u001b[0m \u001b[1m5s\u001b[0m 1ms/step - loss: 0.5797 - val_loss: 0.5654\n",
      "Epoch 23/800\n",
      "\u001b[1m4311/4311\u001b[0m \u001b[32m━━━━━━━━━━━━━━━━━━━━\u001b[0m\u001b[37m\u001b[0m \u001b[1m5s\u001b[0m 1ms/step - loss: 0.5798 - val_loss: 0.5647\n",
      "Epoch 24/800\n",
      "\u001b[1m4311/4311\u001b[0m \u001b[32m━━━━━━━━━━━━━━━━━━━━\u001b[0m\u001b[37m\u001b[0m \u001b[1m5s\u001b[0m 1ms/step - loss: 0.5785 - val_loss: 0.5650\n",
      "Epoch 25/800\n",
      "\u001b[1m4311/4311\u001b[0m \u001b[32m━━━━━━━━━━━━━━━━━━━━\u001b[0m\u001b[37m\u001b[0m \u001b[1m5s\u001b[0m 1ms/step - loss: 0.5803 - val_loss: 0.5633\n",
      "Epoch 26/800\n",
      "\u001b[1m4311/4311\u001b[0m \u001b[32m━━━━━━━━━━━━━━━━━━━━\u001b[0m\u001b[37m\u001b[0m \u001b[1m7s\u001b[0m 2ms/step - loss: 0.5818 - val_loss: 0.5669\n",
      "Epoch 27/800\n",
      "\u001b[1m4311/4311\u001b[0m \u001b[32m━━━━━━━━━━━━━━━━━━━━\u001b[0m\u001b[37m\u001b[0m \u001b[1m5s\u001b[0m 1ms/step - loss: 0.5791 - val_loss: 0.5645\n",
      "Epoch 28/800\n",
      "\u001b[1m4311/4311\u001b[0m \u001b[32m━━━━━━━━━━━━━━━━━━━━\u001b[0m\u001b[37m\u001b[0m \u001b[1m6s\u001b[0m 1ms/step - loss: 0.5804 - val_loss: 0.5652\n",
      "Epoch 29/800\n",
      "\u001b[1m4311/4311\u001b[0m \u001b[32m━━━━━━━━━━━━━━━━━━━━\u001b[0m\u001b[37m\u001b[0m \u001b[1m5s\u001b[0m 1ms/step - loss: 0.5792 - val_loss: 0.5671\n",
      "Epoch 30/800\n",
      "\u001b[1m4311/4311\u001b[0m \u001b[32m━━━━━━━━━━━━━━━━━━━━\u001b[0m\u001b[37m\u001b[0m \u001b[1m5s\u001b[0m 1ms/step - loss: 0.5792 - val_loss: 0.5795\n",
      "Epoch 31/800\n",
      "\u001b[1m4311/4311\u001b[0m \u001b[32m━━━━━━━━━━━━━━━━━━━━\u001b[0m\u001b[37m\u001b[0m \u001b[1m5s\u001b[0m 1ms/step - loss: 0.5793 - val_loss: 0.5631\n",
      "Epoch 32/800\n",
      "\u001b[1m4311/4311\u001b[0m \u001b[32m━━━━━━━━━━━━━━━━━━━━\u001b[0m\u001b[37m\u001b[0m \u001b[1m5s\u001b[0m 1ms/step - loss: 0.5783 - val_loss: 0.5666\n",
      "Epoch 33/800\n",
      "\u001b[1m4311/4311\u001b[0m \u001b[32m━━━━━━━━━━━━━━━━━━━━\u001b[0m\u001b[37m\u001b[0m \u001b[1m5s\u001b[0m 1ms/step - loss: 0.5779 - val_loss: 0.5727\n",
      "Epoch 34/800\n",
      "\u001b[1m4311/4311\u001b[0m \u001b[32m━━━━━━━━━━━━━━━━━━━━\u001b[0m\u001b[37m\u001b[0m \u001b[1m5s\u001b[0m 1ms/step - loss: 0.5803 - val_loss: 0.5640\n",
      "Epoch 35/800\n",
      "\u001b[1m4311/4311\u001b[0m \u001b[32m━━━━━━━━━━━━━━━━━━━━\u001b[0m\u001b[37m\u001b[0m \u001b[1m6s\u001b[0m 1ms/step - loss: 0.5797 - val_loss: 0.5643\n",
      "Epoch 36/800\n",
      "\u001b[1m4311/4311\u001b[0m \u001b[32m━━━━━━━━━━━━━━━━━━━━\u001b[0m\u001b[37m\u001b[0m \u001b[1m5s\u001b[0m 1ms/step - loss: 0.5779 - val_loss: 0.5655\n",
      "Epoch 37/800\n",
      "\u001b[1m4311/4311\u001b[0m \u001b[32m━━━━━━━━━━━━━━━━━━━━\u001b[0m\u001b[37m\u001b[0m \u001b[1m5s\u001b[0m 1ms/step - loss: 0.5785 - val_loss: 0.5638\n",
      "Epoch 38/800\n",
      "\u001b[1m4311/4311\u001b[0m \u001b[32m━━━━━━━━━━━━━━━━━━━━\u001b[0m\u001b[37m\u001b[0m \u001b[1m5s\u001b[0m 1ms/step - loss: 0.5762 - val_loss: 0.5659\n",
      "Epoch 39/800\n",
      "\u001b[1m4311/4311\u001b[0m \u001b[32m━━━━━━━━━━━━━━━━━━━━\u001b[0m\u001b[37m\u001b[0m \u001b[1m6s\u001b[0m 1ms/step - loss: 0.5791 - val_loss: 0.5702\n",
      "Epoch 40/800\n",
      "\u001b[1m4311/4311\u001b[0m \u001b[32m━━━━━━━━━━━━━━━━━━━━\u001b[0m\u001b[37m\u001b[0m \u001b[1m6s\u001b[0m 1ms/step - loss: 0.5811 - val_loss: 0.5672\n",
      "Epoch 41/800\n",
      "\u001b[1m4311/4311\u001b[0m \u001b[32m━━━━━━━━━━━━━━━━━━━━\u001b[0m\u001b[37m\u001b[0m \u001b[1m6s\u001b[0m 1ms/step - loss: 0.5787 - val_loss: 0.5689\n",
      "Epoch 41: early stopping\n"
     ]
    },
    {
     "data": {
      "text/plain": [
       "<keras.src.callbacks.history.History at 0x7f96e869b6d0>"
      ]
     },
     "execution_count": 118,
     "metadata": {},
     "output_type": "execute_result"
    }
   ],
   "source": [
    "# Fitting model\n",
    "# Default run is using 800 epochs, and validation_data is used with early_stop to monitor test loss\n",
    "model.fit(X_train, y_train, \n",
    "          epochs = 800,\n",
    "         validation_data=(X_test, y_test),\n",
    "         verbose = 1, \n",
    "         callbacks=[early_stop])"
   ]
  },
  {
   "cell_type": "code",
   "execution_count": 119,
   "id": "56cfea54",
   "metadata": {},
   "outputs": [
    {
     "data": {
      "text/plain": [
       "<AxesSubplot:>"
      ]
     },
     "execution_count": 119,
     "metadata": {},
     "output_type": "execute_result"
    },
    {
     "data": {
      "image/png": "[encoded data removed]",
      "text/plain": [
       "<Figure size 432x288 with 1 Axes>"
      ]
     },
     "metadata": {
      "needs_background": "light"
     },
     "output_type": "display_data"
    }
   ],
   "source": [
    "# plot the loss of training and test\n",
    "model_loss = pd.DataFrame(model.history.history)\n",
    "model_loss.plot()"
   ]
  },
  {
   "cell_type": "code",
   "execution_count": 120,
   "id": "f7377b1c",
   "metadata": {},
   "outputs": [
    {
     "name": "stdout",
     "output_type": "stream",
     "text": [
      "\u001b[1m1078/1078\u001b[0m \u001b[32m━━━━━━━━━━━━━━━━━━━━\u001b[0m\u001b[37m\u001b[0m \u001b[1m1s\u001b[0m 803us/step\n"
     ]
    }
   ],
   "source": [
    "# calculate the predictions\n",
    "prediction = model.predict(X_test)"
   ]
  },
  {
   "cell_type": "markdown",
   "id": "0ae69d0a",
   "metadata": {},
   "source": [
    "#### Looking at the metrics"
   ]
  },
  {
   "cell_type": "code",
   "execution_count": 121,
   "id": "a3fdb36c",
   "metadata": {},
   "outputs": [
    {
     "name": "stdout",
     "output_type": "stream",
     "text": [
      "              precision    recall  f1-score   support\n",
      "\n",
      "           0       0.45      0.13      0.20     16962\n",
      "           1       0.50      0.85      0.63     17524\n",
      "\n",
      "    accuracy                           0.49     34486\n",
      "   macro avg       0.47      0.49      0.41     34486\n",
      "weighted avg       0.48      0.49      0.42     34486\n",
      "\n"
     ]
    }
   ],
   "source": [
    "print(classification_report(y_test, predictions))"
   ]
  },
  {
   "cell_type": "code",
   "execution_count": 122,
   "id": "180f5071",
   "metadata": {},
   "outputs": [
    {
     "name": "stdout",
     "output_type": "stream",
     "text": [
      "[[ 2142 14820]\n",
      " [ 2632 14892]]\n"
     ]
    }
   ],
   "source": [
    "print(confusion_matrix(y_test, predictions))"
   ]
  },
  {
   "cell_type": "markdown",
   "id": "f2539902-438d-48d6-863a-71bc835fc8af",
   "metadata": {},
   "source": [
    "### References\n",
    "Here are some links to learn more about some of the algorithms above:\n",
    "- __[Learn more about Different Algorithms](https://ml-cheatsheet.readthedocs.io/en/latest/)__\n",
    "- __[Learn more about Random Forest](https://ml-cheatsheet.readthedocs.io/en/latest/classification_algos.html#random-forests/)__\n",
    "- __[Learn more about Logistic Regression](https://ml-cheatsheet.readthedocs.io/en/latest/logistic_regression.html)__\n",
    "- __[Learn more about Neural Networks](https://ml-cheatsheet.readthedocs.io/en/latest/nn_concepts.html)__\n",
    "- __[Learn more about Distance Formulas](https://towardsdatascience.com/9-distance-measures-in-data-science-918109d069fa)__"
   ]
  },
  {
   "cell_type": "markdown",
   "id": "840eddae-f7c8-4113-b2be-7fc94866b984",
   "metadata": {},
   "source": [
    "## Part 4: Interpretation of Results\n",
    "As a data scientist, it is important to interpret your results, in order to communicate the significance or maybe insignificance of what you found. Regardless, you will need to report and share with your team, making the numbers make sense. For a more specific case, we would need to interpret the results in terms of the problem or question at hand. So, for this tutorial, our original question was Why and When do people in Washington D.C use electric bikes over normal bikes? *How can we use the results we found to help answer this question?*\n",
    "\n",
    "It's important to understand that sometimes, our results don't provide a clear answer. But, it will always provide us some guidance or insight into our question/answer.\n",
    "\n",
    "From our results...**SOMETHING SOMETHING SOMETHING**"
   ]
  },
  {
   "cell_type": "markdown",
   "id": "47874513-0353-442f-8889-ed5219b51631",
   "metadata": {},
   "source": [
    "<center><img src=\"https://www.jotform.com/blog/wp-content/uploads/2019/10/Top-6-data-collection-methods-700x545.png\"></center>"
   ]
  },
  {
   "cell_type": "markdown",
   "id": "6ad71403-b81f-4c6f-9c1c-59673134b03c",
   "metadata": {},
   "source": [
    "## Conclusion\n",
    "We hope you have learned a lot from this tutorial, including the individual steps of the data science lifecycle:\n",
    "\n",
    "1. Data collection\n",
    "3. Data processing\n",
    "4. Exploratory analysis and Data visualization\n",
    "5. Model analysis and testing\n",
    "6. Interpretation of results\n",
    "\n",
    "Beginning to understand the lifecycle is the beginning to learning more. As a data scientist, you aren't just processing and spitting out data. You are solving real world problems. Data science is used in politics, advertising, sports, scientific studies, and so much more. We hope that through this tutorial, we have inspired you to learn more. So, go on and make a difference!"
   ]
  },
  {
   "cell_type": "markdown",
   "id": "e52eef04-da87-437c-a0e9-8b47a84714c3",
   "metadata": {},
   "source": [
    "<center><img src=\"https://www.jotform.com/blog/wp-content/uploads/2019/10/Data-collection-and-lead-generation-700x545.png\"></center>"
   ]
  }
 ],
 "metadata": {
  "kernelspec": {
   "display_name": "Python 3 (ipykernel)",
   "language": "python",
   "name": "python3"
  },
  "language_info": {
   "codemirror_mode": {
    "name": "ipython",
    "version": 3
   },
   "file_extension": ".py",
   "mimetype": "text/x-python",
   "name": "python",
   "nbconvert_exporter": "python",
   "pygments_lexer": "ipython3",
   "version": "3.9.12"
  }
 },
 "nbformat": 4,
 "nbformat_minor": 5
}
